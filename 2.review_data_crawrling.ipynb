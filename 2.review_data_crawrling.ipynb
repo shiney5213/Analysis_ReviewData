{
 "cells": [
  {
   "cell_type": "markdown",
   "metadata": {},
   "source": [
    "# review data to dataframe"
   ]
  },
  {
   "cell_type": "code",
   "execution_count": 1,
   "metadata": {
    "ExecuteTime": {
     "end_time": "2020-03-19T02:25:29.638508Z",
     "start_time": "2020-03-19T02:25:28.635509Z"
    }
   },
   "outputs": [],
   "source": [
    "from selenium import webdriver\n",
    "from bs4 import BeautifulSoup\n",
    "import time\n",
    "from selenium.webdriver.common.keys import Keys\n",
    "import pandas as pd\n",
    "#from selenium.webdriver.support.ui import WebDriverWait\n",
    "from selenium.webdriver.support.wait import WebDriverWait\n",
    "from selenium.webdriver.support import expected_conditions as EC\n",
    "from selenium.common.exceptions import TimeoutException\n",
    "import numpy as np"
   ]
  },
  {
   "cell_type": "markdown",
   "metadata": {
    "ExecuteTime": {
     "end_time": "2020-03-09T05:03:45.861109Z",
     "start_time": "2020-03-09T05:03:45.857108Z"
    }
   },
   "source": [
    "# 1. google crawrling\n",
    "## 1.1 googl main"
   ]
  },
  {
   "cell_type": "code",
   "execution_count": 604,
   "metadata": {
    "ExecuteTime": {
     "end_time": "2020-03-10T08:24:27.629390Z",
     "start_time": "2020-03-10T08:24:04.268391Z"
    }
   },
   "outputs": [],
   "source": [
    "#https://chromedriver.storage.googleapis.com/index.html?path=80.0.3987.106/\n",
    "driver = webdriver.Chrome('chromedriver.exe')\n",
    "\n",
    "driver.get(\"http://www.google.com\")\n",
    "#assert \"Google\" in driver.title\n",
    "\n",
    "element = driver.find_element_by_name('q')\n",
    "element.clear()\n",
    "element.send_keys('google map')\n",
    "element.submit()"
   ]
  },
  {
   "cell_type": "markdown",
   "metadata": {},
   "source": [
    "#### 브라우저 닫기"
   ]
  },
  {
   "cell_type": "code",
   "execution_count": 420,
   "metadata": {
    "ExecuteTime": {
     "end_time": "2020-03-09T12:29:18.384502Z",
     "start_time": "2020-03-09T12:29:18.379500Z"
    }
   },
   "outputs": [],
   "source": [
    "#driver.close()"
   ]
  },
  {
   "cell_type": "markdown",
   "metadata": {},
   "source": [
    "## 1.2. google map site 들어가기"
   ]
  },
  {
   "cell_type": "code",
   "execution_count": 605,
   "metadata": {
    "ExecuteTime": {
     "end_time": "2020-03-10T08:24:32.452393Z",
     "start_time": "2020-03-10T08:24:30.343393Z"
    }
   },
   "outputs": [],
   "source": [
    "element = driver.find_element_by_xpath('//h3[@class=\"LC20lb DKV0Md\"]')\n",
    "element.click()"
   ]
  },
  {
   "cell_type": "markdown",
   "metadata": {},
   "source": [
    "## 1.3. 원하는 장소 클릭\n",
    "#### 검색어 입력"
   ]
  },
  {
   "cell_type": "code",
   "execution_count": 606,
   "metadata": {
    "ExecuteTime": {
     "end_time": "2020-03-10T08:24:40.596400Z",
     "start_time": "2020-03-10T08:24:40.534427Z"
    }
   },
   "outputs": [],
   "source": [
    "element = driver.find_element_by_xpath('//input[@autofocus=\"autofocus\"]')\n",
    "element.clear()"
   ]
  },
  {
   "cell_type": "code",
   "execution_count": 607,
   "metadata": {
    "ExecuteTime": {
     "end_time": "2020-03-10T08:24:41.988402Z",
     "start_time": "2020-03-10T08:24:41.841396Z"
    }
   },
   "outputs": [],
   "source": [
    "element.send_keys('타임스퀘어')\n",
    "element.submit()\n"
   ]
  },
  {
   "cell_type": "markdown",
   "metadata": {},
   "source": [
    "#### bs4로 html parser"
   ]
  },
  {
   "cell_type": "code",
   "execution_count": 608,
   "metadata": {
    "ExecuteTime": {
     "end_time": "2020-03-10T08:24:45.260432Z",
     "start_time": "2020-03-10T08:24:45.124390Z"
    }
   },
   "outputs": [
    {
     "name": "stdout",
     "output_type": "stream",
     "text": [
      "3\n"
     ]
    }
   ],
   "source": [
    "html = driver.page_source\n",
    "soup = BeautifulSoup(html, 'html.parser')\n",
    "all_address =soup.find_all('div', attrs = {'class': \"suggest-left-cell\"} )\n",
    "\n",
    "real_address = '영등포동4가'\n",
    "element_index=0\n",
    "for i,address in enumerate(all_address):\n",
    "#     print(address.contents[0], type(address.contents[0]))\n",
    "    if real_address in address.text:\n",
    "        element_index=i+1 \n",
    "        break\n",
    "        \n",
    "print(element_index)"
   ]
  },
  {
   "cell_type": "markdown",
   "metadata": {},
   "source": [
    "#### 주소 맞는 곳 클릭"
   ]
  },
  {
   "cell_type": "code",
   "execution_count": 609,
   "metadata": {
    "ExecuteTime": {
     "end_time": "2020-03-10T08:24:48.191388Z",
     "start_time": "2020-03-10T08:24:48.070390Z"
    }
   },
   "outputs": [],
   "source": [
    "# element = driver.find_element_by_xpath(\"//ul[@class='sbsb_b']/li[2]\")\n",
    "element = driver.find_element_by_xpath(f\"//ul[@class='sbsb_b']/li[{element_index}]\")\n",
    "element.click()"
   ]
  },
  {
   "cell_type": "markdown",
   "metadata": {},
   "source": [
    "## 1.4. 주소 가져오기"
   ]
  },
  {
   "cell_type": "code",
   "execution_count": 610,
   "metadata": {
    "ExecuteTime": {
     "end_time": "2020-03-10T08:24:52.303478Z",
     "start_time": "2020-03-10T08:24:52.143391Z"
    }
   },
   "outputs": [],
   "source": [
    "html = driver.page_source\n",
    "\n",
    "soup = BeautifulSoup(html, 'html.parser')"
   ]
  },
  {
   "cell_type": "code",
   "execution_count": 611,
   "metadata": {
    "ExecuteTime": {
     "end_time": "2020-03-10T08:24:53.020388Z",
     "start_time": "2020-03-10T08:24:52.999387Z"
    }
   },
   "outputs": [
    {
     "data": {
      "text/plain": [
       "'서울특별시 영등포구 영등포동 영중로 15'"
      ]
     },
     "execution_count": 611,
     "metadata": {},
     "output_type": "execute_result"
    }
   ],
   "source": [
    "address =soup.find_all('span',attrs = {'class': \"widget-pane-link\"} )\n",
    "address[2].text"
   ]
  },
  {
   "cell_type": "markdown",
   "metadata": {
    "ExecuteTime": {
     "end_time": "2020-03-09T10:20:25.858033Z",
     "start_time": "2020-03-09T10:20:25.854036Z"
    }
   },
   "source": [
    "## 1.5. review 가져오기"
   ]
  },
  {
   "cell_type": "code",
   "execution_count": 612,
   "metadata": {
    "ExecuteTime": {
     "end_time": "2020-03-10T08:24:55.885389Z",
     "start_time": "2020-03-10T08:24:55.721390Z"
    }
   },
   "outputs": [],
   "source": [
    "element = driver.find_element_by_xpath('//button[@class=\"jqnFjrOWMVU__button gm2-caption\"]')\n",
    "#element = driver.find_element_by_xpath('//span[@class=\"allxGeDnJMl__text gm2-button-alt\"]')\n",
    "\n",
    "element.click()"
   ]
  },
  {
   "cell_type": "markdown",
   "metadata": {},
   "source": [
    "#### 스크롤 다운\n",
    "- https://stackoverflow.com/questions/20986631/how-can-i-scroll-a-web-page-using-selenium-webdriver-in-python"
   ]
  },
  {
   "cell_type": "code",
   "execution_count": 616,
   "metadata": {
    "ExecuteTime": {
     "end_time": "2020-03-10T08:25:22.884649Z",
     "start_time": "2020-03-10T08:25:22.774388Z"
    }
   },
   "outputs": [],
   "source": [
    "element = driver.find_element_by_xpath('//span[@class=\"section-review-text\"]')\n",
    "element.click()"
   ]
  },
  {
   "cell_type": "code",
   "execution_count": 617,
   "metadata": {
    "ExecuteTime": {
     "end_time": "2020-03-10T08:25:23.515392Z",
     "start_time": "2020-03-10T08:25:23.510391Z"
    }
   },
   "outputs": [],
   "source": [
    "SCROLL_PAUSE_TIME = 2"
   ]
  },
  {
   "cell_type": "code",
   "execution_count": 618,
   "metadata": {
    "ExecuteTime": {
     "end_time": "2020-03-10T08:25:26.571407Z",
     "start_time": "2020-03-10T08:25:24.253390Z"
    }
   },
   "outputs": [],
   "source": [
    "while  True:\n",
    "    html = driver.find_element_by_tag_name('html')\n",
    "    text1 = html.text\n",
    "    html.send_keys(Keys.END)\n",
    "    time.sleep(SCROLL_PAUSE_TIME)\n",
    "    \n",
    "    html = driver.find_element_by_tag_name('html')\n",
    "    text2 = html.text\n",
    "\n",
    "    if text1 == text2:\n",
    "        break\n",
    "    else:\n",
    "        continue"
   ]
  },
  {
   "cell_type": "code",
   "execution_count": 171,
   "metadata": {
    "ExecuteTime": {
     "end_time": "2020-03-10T02:34:16.417106Z",
     "start_time": "2020-03-10T02:34:16.300110Z"
    }
   },
   "outputs": [],
   "source": [
    "html = driver.page_source"
   ]
  },
  {
   "cell_type": "markdown",
   "metadata": {},
   "source": [
    "#### bs4로 html parser"
   ]
  },
  {
   "cell_type": "code",
   "execution_count": 172,
   "metadata": {
    "ExecuteTime": {
     "end_time": "2020-03-10T02:34:17.548378Z",
     "start_time": "2020-03-10T02:34:17.470110Z"
    },
    "scrolled": true
   },
   "outputs": [],
   "source": [
    "soup = BeautifulSoup(html, 'html.parser')"
   ]
  },
  {
   "cell_type": "code",
   "execution_count": 173,
   "metadata": {
    "ExecuteTime": {
     "end_time": "2020-03-10T02:34:18.286108Z",
     "start_time": "2020-03-10T02:34:18.259110Z"
    }
   },
   "outputs": [
    {
     "data": {
      "text/plain": [
       "[<div class=\"gm2-display-2\" jsan=\"7.gm2-display-2\" jstcache=\"964\" style='font-family: \"Google Sans Display\", \"Google Sans\", Roboto, \"Noto Sans KR\", Arial, sans-serif;'>3.7</div>]"
      ]
     },
     "execution_count": 173,
     "metadata": {},
     "output_type": "execute_result"
    }
   ],
   "source": [
    "total_score =soup.find_all('div',attrs = {'class': \"gm2-display-2\"} )\n",
    "total_score\n",
    "\n"
   ]
  },
  {
   "cell_type": "code",
   "execution_count": 174,
   "metadata": {
    "ExecuteTime": {
     "end_time": "2020-03-10T02:34:19.886112Z",
     "start_time": "2020-03-10T02:34:19.879108Z"
    }
   },
   "outputs": [
    {
     "data": {
      "text/plain": [
       "'3.7'"
      ]
     },
     "execution_count": 174,
     "metadata": {},
     "output_type": "execute_result"
    }
   ],
   "source": [
    "total_score[0].string"
   ]
  },
  {
   "cell_type": "markdown",
   "metadata": {},
   "source": [
    "#### 개별 리뷰"
   ]
  },
  {
   "cell_type": "code",
   "execution_count": 175,
   "metadata": {
    "ExecuteTime": {
     "end_time": "2020-03-10T02:34:21.759111Z",
     "start_time": "2020-03-10T02:34:21.745110Z"
    }
   },
   "outputs": [
    {
     "name": "stdout",
     "output_type": "stream",
     "text": [
      "2\n"
     ]
    }
   ],
   "source": [
    "total_review =soup.find_all('span',attrs = {'class': \"section-review-text\"} )\n",
    "print(len(total_review))"
   ]
  },
  {
   "cell_type": "code",
   "execution_count": 176,
   "metadata": {
    "ExecuteTime": {
     "end_time": "2020-03-10T02:34:22.425112Z",
     "start_time": "2020-03-10T02:34:22.419109Z"
    }
   },
   "outputs": [
    {
     "name": "stdout",
     "output_type": "stream",
     "text": [
      "0 쾌적한 사무공간\n",
      "1 깔끔하고 주차편하고....\n",
      "2\n"
     ]
    }
   ],
   "source": [
    "review=[]\n",
    "for i, review in enumerate(total_review):\n",
    "    print(i, review.text)\n",
    "    review.append(review.text)\n",
    "print(len(review))"
   ]
  },
  {
   "cell_type": "markdown",
   "metadata": {},
   "source": [
    "#### 개별 별점"
   ]
  },
  {
   "cell_type": "code",
   "execution_count": 177,
   "metadata": {
    "ExecuteTime": {
     "end_time": "2020-03-10T02:34:24.550110Z",
     "start_time": "2020-03-10T02:34:24.535110Z"
    }
   },
   "outputs": [],
   "source": [
    "scores =soup.find_all('span',attrs = {'class': \"section-review-stars\", 'role': 'img'} )\n"
   ]
  },
  {
   "cell_type": "code",
   "execution_count": 178,
   "metadata": {
    "ExecuteTime": {
     "end_time": "2020-03-10T02:34:25.060109Z",
     "start_time": "2020-03-10T02:34:25.053113Z"
    },
    "scrolled": false
   },
   "outputs": [
    {
     "name": "stdout",
     "output_type": "stream",
     "text": [
      " 별표 4개 \n",
      " 별표 4개 \n",
      "2\n"
     ]
    }
   ],
   "source": [
    "score_list = []\n",
    "for score in scores:\n",
    "    print(score.attrs['aria-label'])\n",
    "    score_list.append(score.attrs['aria-label'])\n",
    "    \n",
    "print(len(score_list))"
   ]
  },
  {
   "cell_type": "code",
   "execution_count": null,
   "metadata": {},
   "outputs": [],
   "source": []
  },
  {
   "cell_type": "code",
   "execution_count": null,
   "metadata": {},
   "outputs": [],
   "source": []
  },
  {
   "cell_type": "code",
   "execution_count": null,
   "metadata": {},
   "outputs": [],
   "source": []
  },
  {
   "cell_type": "code",
   "execution_count": null,
   "metadata": {},
   "outputs": [],
   "source": []
  },
  {
   "cell_type": "code",
   "execution_count": null,
   "metadata": {},
   "outputs": [],
   "source": []
  },
  {
   "cell_type": "markdown",
   "metadata": {
    "ExecuteTime": {
     "end_time": "2020-03-10T06:44:50.511713Z",
     "start_time": "2020-03-10T06:44:50.504705Z"
    }
   },
   "source": [
    "> x-path 조절하기\n",
    "- http://blog.naver.com/PostView.nhn?blogId=kiddwannabe&logNo=221323738780&categoryNo=35&parentCategoryNo=0&viewDate=&currentPage=1&postListTopCurrentPage=1&from=postView\n",
    "\n",
    "> 스크롤 조절\n",
    "https://m.blog.naver.com/kiddwannabe/221310063239"
   ]
  },
  {
   "cell_type": "code",
   "execution_count": null,
   "metadata": {},
   "outputs": [],
   "source": []
  }
 ],
 "metadata": {
  "kernelspec": {
   "display_name": "Python 3",
   "language": "python",
   "name": "python3"
  },
  "language_info": {
   "codemirror_mode": {
    "name": "ipython",
    "version": 3
   },
   "file_extension": ".py",
   "mimetype": "text/x-python",
   "name": "python",
   "nbconvert_exporter": "python",
   "pygments_lexer": "ipython3",
   "version": "3.7.6"
  },
  "toc": {
   "base_numbering": 1,
   "nav_menu": {},
   "number_sections": false,
   "sideBar": true,
   "skip_h1_title": false,
   "title_cell": "Table of Contents",
   "title_sidebar": "Contents",
   "toc_cell": false,
   "toc_position": {
    "height": "calc(100% - 180px)",
    "left": "10px",
    "top": "150px",
    "width": "136.425px"
   },
   "toc_section_display": true,
   "toc_window_display": true
  }
 },
 "nbformat": 4,
 "nbformat_minor": 4
}
