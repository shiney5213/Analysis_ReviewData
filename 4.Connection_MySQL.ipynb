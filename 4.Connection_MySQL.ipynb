{
 "cells": [
  {
   "cell_type": "markdown",
   "metadata": {},
   "source": [
    "# 1. MySQL에서 table 가져오기"
   ]
  },
  {
   "cell_type": "code",
   "execution_count": 9,
   "metadata": {
    "ExecuteTime": {
     "end_time": "2020-03-16T08:29:03.004622Z",
     "start_time": "2020-03-16T08:28:51.782623Z"
    }
   },
   "outputs": [
    {
     "name": "stdout",
     "output_type": "stream",
     "text": [
      "Collecting mysql-connector-python\n",
      "  Downloading mysql_connector_python-8.0.19-cp37-cp37m-win_amd64.whl (4.3 MB)\n",
      "Collecting protobuf==3.6.1\n",
      "  Downloading protobuf-3.6.1-py2.py3-none-any.whl (390 kB)\n",
      "Collecting dnspython==1.16.0\n",
      "  Downloading dnspython-1.16.0-py2.py3-none-any.whl (188 kB)\n",
      "Requirement already satisfied: six>=1.9 in c:\\users\\shiney\\documents\\workspace\\crawling\\lib\\site-packages (from protobuf==3.6.1->mysql-connector-python) (1.14.0)\n",
      "Requirement already satisfied: setuptools in c:\\users\\shiney\\documents\\workspace\\crawling\\lib\\site-packages (from protobuf==3.6.1->mysql-connector-python) (45.2.0)\n",
      "Installing collected packages: protobuf, dnspython, mysql-connector-python\n",
      "Successfully installed dnspython-1.16.0 mysql-connector-python-8.0.19 protobuf-3.6.1\n"
     ]
    }
   ],
   "source": [
    "!pip install mysql-connector-python"
   ]
  },
  {
   "cell_type": "code",
   "execution_count": 1,
   "metadata": {
    "ExecuteTime": {
     "end_time": "2020-03-20T03:51:15.047258Z",
     "start_time": "2020-03-20T03:51:00.884988Z"
    }
   },
   "outputs": [],
   "source": [
    "import mysql.connector\n",
    "import pandas as pd\n",
    "from selenium import webdriver\n",
    "from bs4 import BeautifulSoup\n",
    "import time\n",
    "from selenium.webdriver.common.keys import Keys\n",
    "#from selenium.webdriver.support.ui import WebDriverWait\n",
    "from selenium.webdriver.support.wait import WebDriverWait\n",
    "from selenium.webdriver.support import expected_conditions as EC\n",
    "from selenium.common.exceptions import TimeoutException\n",
    "import numpy as np\n",
    "import sys"
   ]
  },
  {
   "cell_type": "code",
   "execution_count": 2,
   "metadata": {
    "ExecuteTime": {
     "end_time": "2020-03-20T03:51:23.500638Z",
     "start_time": "2020-03-20T03:51:23.428676Z"
    }
   },
   "outputs": [],
   "source": [
    "cnx = mysql.connector.connect(user = 'root', password = 'mysql',\n",
    "                             host = '127.0.0.1',\n",
    "                             database = 'loveforpet')"
   ]
  },
  {
   "cell_type": "code",
   "execution_count": 3,
   "metadata": {
    "ExecuteTime": {
     "end_time": "2020-03-20T03:51:23.605641Z",
     "start_time": "2020-03-20T03:51:23.602647Z"
    }
   },
   "outputs": [],
   "source": [
    "cursor = cnx.cursor()\n"
   ]
  },
  {
   "cell_type": "code",
   "execution_count": 4,
   "metadata": {
    "ExecuteTime": {
     "end_time": "2020-03-20T03:51:23.801638Z",
     "start_time": "2020-03-20T03:51:23.795637Z"
    }
   },
   "outputs": [],
   "source": [
    "query = (\"SELECT forpet_hash,address_name,place_name  FROM loveforpet.forpet_shop; \")"
   ]
  },
  {
   "cell_type": "code",
   "execution_count": 5,
   "metadata": {
    "ExecuteTime": {
     "end_time": "2020-03-20T03:51:23.977640Z",
     "start_time": "2020-03-20T03:51:23.961639Z"
    }
   },
   "outputs": [],
   "source": [
    "cursor.execute(query)"
   ]
  },
  {
   "cell_type": "code",
   "execution_count": 6,
   "metadata": {
    "ExecuteTime": {
     "end_time": "2020-03-20T03:51:24.141058Z",
     "start_time": "2020-03-20T03:51:24.130064Z"
    }
   },
   "outputs": [],
   "source": [
    "ordinary_table = pd.DataFrame(columns =['forpet_hash', 'address_name', 'place_name'])"
   ]
  },
  {
   "cell_type": "code",
   "execution_count": 7,
   "metadata": {
    "ExecuteTime": {
     "end_time": "2020-03-20T03:51:24.343055Z",
     "start_time": "2020-03-20T03:51:24.315055Z"
    }
   },
   "outputs": [
    {
     "data": {
      "text/html": [
       "<div>\n",
       "<style scoped>\n",
       "    .dataframe tbody tr th:only-of-type {\n",
       "        vertical-align: middle;\n",
       "    }\n",
       "\n",
       "    .dataframe tbody tr th {\n",
       "        vertical-align: top;\n",
       "    }\n",
       "\n",
       "    .dataframe thead th {\n",
       "        text-align: right;\n",
       "    }\n",
       "</style>\n",
       "<table border=\"1\" class=\"dataframe\">\n",
       "  <thead>\n",
       "    <tr style=\"text-align: right;\">\n",
       "      <th></th>\n",
       "      <th>forpet_hash</th>\n",
       "      <th>address_name</th>\n",
       "      <th>place_name</th>\n",
       "    </tr>\n",
       "  </thead>\n",
       "  <tbody>\n",
       "  </tbody>\n",
       "</table>\n",
       "</div>"
      ],
      "text/plain": [
       "Empty DataFrame\n",
       "Columns: [forpet_hash, address_name, place_name]\n",
       "Index: []"
      ]
     },
     "execution_count": 7,
     "metadata": {},
     "output_type": "execute_result"
    }
   ],
   "source": [
    "ordinary_table.head()"
   ]
  },
  {
   "cell_type": "code",
   "execution_count": 8,
   "metadata": {
    "ExecuteTime": {
     "end_time": "2020-03-20T03:51:57.458327Z",
     "start_time": "2020-03-20T03:51:24.467055Z"
    }
   },
   "outputs": [],
   "source": [
    "for i, cor in enumerate(cursor):\n",
    "    ordinary_table.loc[i] = cor"
   ]
  },
  {
   "cell_type": "code",
   "execution_count": 9,
   "metadata": {
    "ExecuteTime": {
     "end_time": "2020-03-20T03:51:57.471054Z",
     "start_time": "2020-03-20T03:51:57.461062Z"
    }
   },
   "outputs": [],
   "source": [
    "cursor.close()\n",
    "cnx.close()"
   ]
  },
  {
   "cell_type": "code",
   "execution_count": 10,
   "metadata": {
    "ExecuteTime": {
     "end_time": "2020-03-20T03:51:57.503055Z",
     "start_time": "2020-03-20T03:51:57.487057Z"
    }
   },
   "outputs": [
    {
     "data": {
      "text/plain": [
       "8582"
      ]
     },
     "execution_count": 10,
     "metadata": {},
     "output_type": "execute_result"
    }
   ],
   "source": [
    "len(ordinary_table)"
   ]
  },
  {
   "cell_type": "code",
   "execution_count": 11,
   "metadata": {
    "ExecuteTime": {
     "end_time": "2020-03-20T03:52:59.025054Z",
     "start_time": "2020-03-20T03:52:58.943055Z"
    }
   },
   "outputs": [],
   "source": [
    "ordinary_table.to_csv('mysql_forpet_shop.csv')"
   ]
  },
  {
   "cell_type": "markdown",
   "metadata": {},
   "source": [
    "# 2. table 정보 이용해서 크롤링"
   ]
  },
  {
   "cell_type": "markdown",
   "metadata": {},
   "source": [
    "### 2.1. crawrler "
   ]
  },
  {
   "cell_type": "code",
   "execution_count": 11,
   "metadata": {
    "ExecuteTime": {
     "end_time": "2020-03-19T15:00:10.118449Z",
     "start_time": "2020-03-19T14:59:50.555572Z"
    }
   },
   "outputs": [],
   "source": [
    "driver = webdriver.Chrome('chromedriver.exe')\n",
    "\n",
    "driver.get(\"http://www.google.com\")\n",
    "\n",
    "time.sleep(2)\n",
    "\n",
    "\n",
    "element = driver.find_element_by_name('q')\n",
    "\n",
    "element.clear()\n",
    "element.send_keys('google map')\n",
    "element.submit()\n",
    "\n",
    "element = driver.find_element_by_xpath('//h3[@class=\"LC20lb DKV0Md\"]')\n",
    "element.click()"
   ]
  },
  {
   "cell_type": "code",
   "execution_count": 99,
   "metadata": {
    "ExecuteTime": {
     "end_time": "2020-03-19T15:24:53.392777Z",
     "start_time": "2020-03-19T15:24:53.385812Z"
    }
   },
   "outputs": [],
   "source": [
    "# 여러개의  shop 목록에서 주소로 찾기\n",
    "def find_shop_by_address(select_shop_html, shop_address):\n",
    "    soup = BeautifulSoup(select_shop_html, 'html.parser')\n",
    "    all_address =soup.find_all('span', attrs = {'class': \"section-result-location\"} )\n",
    "    shop_index = 0\n",
    "    shop_select_dict = {}\n",
    "    for i, address in enumerate(all_address):\n",
    "        print('address list', i, address.text)\n",
    "        gu = shop_address[0] in address.text\n",
    "        dong = shop_address[1] in address.text\n",
    "        bungi = shop_address[2] in address.text\n",
    "        if (gu and dong and bungi) or (dong and bungi):\n",
    "            shop_select_dict[str(i+1)] = 'match'\n",
    "        elif gu or dong:\n",
    "            shop_select_dict[str(i+1)] = 'not match'\n",
    "        else:\n",
    "            pass\n",
    "#     print(shop_select_dict)\n",
    "    return shop_select_dict\n"
   ]
  },
  {
   "cell_type": "code",
   "execution_count": 100,
   "metadata": {
    "ExecuteTime": {
     "end_time": "2020-03-19T15:24:53.820886Z",
     "start_time": "2020-03-19T15:24:53.809790Z"
    }
   },
   "outputs": [],
   "source": [
    "# 주소와 total 별점 가져오기\n",
    "def get_totalScore(html,shop_address):\n",
    "    \n",
    "    \n",
    "    soup = BeautifulSoup(html, 'html.parser')\n",
    "\n",
    "    infos =soup.find_all('span',attrs = {'class': \"section-info-text\"} )\n",
    "#     print(infos)\n",
    "    \n",
    "    if len(infos)== 0:\n",
    "        return 'X','X','X'\n",
    "        \n",
    "    else:\n",
    "        address =infos[0].text\n",
    "        gu = shop_address[0] in address\n",
    "        dong = shop_address[1] in address\n",
    "        bungi = shop_address[2] in address\n",
    "        if (gu and dong and bungi) or (dong and bungi):\n",
    "            match = 'match'\n",
    "        else:\n",
    "            match = 'not match'\n",
    "\n",
    "    \n",
    "        total_score = soup.find_all('div',attrs = {'class': \"gm2-display-2\"} )\n",
    "\n",
    "        if len(total_score)!=0:\n",
    "            total_score = total_score[0].text\n",
    "        else:\n",
    "            total_score = 0\n",
    "    \n",
    "    return address, total_score, match"
   ]
  },
  {
   "cell_type": "code",
   "execution_count": 101,
   "metadata": {
    "ExecuteTime": {
     "end_time": "2020-03-19T15:24:54.476760Z",
     "start_time": "2020-03-19T15:24:54.458761Z"
    }
   },
   "outputs": [],
   "source": [
    "def get_info(html, shop_address):\n",
    "# shop 주소, 총 별점 갖고오기\n",
    "    address, total_score, match =get_totalScore(html,shop_address)\n",
    "    \n",
    "    if address == 'X':\n",
    "        return 'X','X','X','X','X',\n",
    "    \n",
    "    # 리뷰가 없는 경우    \n",
    "    if  total_score == 0:\n",
    "        review_list = []\n",
    "        score_list= []\n",
    "    # 리뷰가 있는 경우\n",
    "    else:\n",
    "        # 리뷰 text(버튼 )클릭\n",
    "        review_button = driver.find_element_by_xpath('//button[@class=\"jqnFjrOWMVU__button gm2-caption\"]')\n",
    "        review_button.click()\n",
    "\n",
    "        time.sleep(2)\n",
    "\n",
    "        # 스크롤 다운\n",
    "        try:\n",
    "            element = driver.find_element_by_xpath('//span[@class=\"section-review-text\"]')\n",
    "            element.click()\n",
    "\n",
    "        except Exception as err:\n",
    "            print(err)\n",
    "\n",
    "        i = 0\n",
    "        while  True:\n",
    "            i += 1\n",
    "            html = driver.find_element_by_tag_name('html')\n",
    "            time.sleep(SCROLL_PAUSE_TIME)\n",
    "\n",
    "            text1 = html.text\n",
    "            html.send_keys(Keys.END)\n",
    "            time.sleep(SCROLL_PAUSE_TIME)\n",
    "\n",
    "            html = driver.find_element_by_tag_name('html')\n",
    "            text2 = html.text\n",
    "\n",
    "            if text1 == text2:\n",
    "                break\n",
    "            else:\n",
    "                continue\n",
    "\n",
    "        review_html = driver.page_source\n",
    "\n",
    "        review_list, score_list=get_review(review_html)    \n",
    "\n",
    "    return address, total_score, review_list, score_list, match"
   ]
  },
  {
   "cell_type": "code",
   "execution_count": 102,
   "metadata": {
    "ExecuteTime": {
     "end_time": "2020-03-19T15:24:55.092217Z",
     "start_time": "2020-03-19T15:24:55.082194Z"
    }
   },
   "outputs": [],
   "source": [
    "def get_review(html):\n",
    "    soup = BeautifulSoup(html, 'html.parser')\n",
    "    # 개별 리뷰\n",
    "    total_review =soup.find_all('span',attrs = {'class': \"section-review-text\"} )\n",
    "\n",
    "    review_list=[]\n",
    "    for i, review in enumerate(total_review):\n",
    "        review_list.append(review.text)\n",
    "\n",
    "    #### 개별 별점\n",
    "    scores =soup.find_all('span',attrs = {'class': \"section-review-stars\", 'role': 'img'} )\n",
    "\n",
    "    score_list = []\n",
    "    for score in scores:\n",
    "        score_list.append(score.attrs['aria-label'])\n",
    "\n",
    "    return review_list, score_list"
   ]
  },
  {
   "cell_type": "code",
   "execution_count": 141,
   "metadata": {
    "ExecuteTime": {
     "end_time": "2020-03-19T15:35:04.464395Z",
     "start_time": "2020-03-19T15:35:04.436369Z"
    }
   },
   "outputs": [],
   "source": [
    "def start_crwarling(k, forpet_hash,shop_name, shop_address):\n",
    "    x_cnt = 0\n",
    "    match_cnt = 0\n",
    "    not_match_cnt = 0\n",
    "    print(k, shop_name, shop_address)\n",
    "\n",
    "    # shop 이름 입력\n",
    "    element = driver.find_element_by_xpath('//input[@autofocus=\"autofocus\"]')\n",
    "    element.clear()\n",
    "    \n",
    "    search_word = shop_name + ' ' +shop_address[0]\n",
    "    element.send_keys(search_word)\n",
    "    element.submit()\n",
    "    \n",
    "    search_button = driver.find_element_by_xpath('//button[@class=\"searchbox-searchbutton\"]')\n",
    "    search_button.click()\n",
    "    \n",
    "    time.sleep(SCROLL_PAUSE_TIME)\n",
    "\n",
    "    # 키워드 입력 후, dict로 인덱스와 match 여부 받아오기\n",
    "    select_shop_html = driver.page_source\n",
    "    shop_select_dict= find_shop_by_address(select_shop_html, shop_address)\n",
    "    \n",
    "    # shoh이 여러개인 경우\n",
    "    if len(shop_select_dict) != 0:\n",
    "        print(f'shop이 {len(shop_select_dict)}개입니다')\n",
    "        for index, match in shop_select_dict.items():\n",
    "            shop_index =  2 * int(index) -1\n",
    "#             print('shop_index', shop_index)\n",
    "            match = match\n",
    "\n",
    "            time.sleep(SCROLL_PAUSE_TIME)\n",
    "\n",
    "            select_shop = driver.find_element_by_xpath(f'//div[@class = \"section-layout section-scrollbox scrollable-y scrollable-show section-layout-flex-vertical\"]/div/div[{shop_index}]/div[1]/div[1]')\n",
    "            \n",
    "            select_shop.click()\n",
    "\n",
    "            time.sleep(SCROLL_PAUSE_TIME)\n",
    "\n",
    "            html = driver.page_source\n",
    "\n",
    "            address, total_score, review_list, score_list, match =get_info(html, shop_address)\n",
    "            print(address, total_score, len(review_list), len(score_list), match )\n",
    "    \n",
    "\n",
    "            if match == 'match':\n",
    "                match_cnt += 1\n",
    "                total_table_insert(match_total_table, forpet_hash, shop_name, address, total_score, match)\n",
    "                review_table_insert(match_review_table, forpet_hash, shop_name, review_list, score_list, match)\n",
    "\n",
    "            else:\n",
    "                not_match_cnt +=1\n",
    "                total_table_insert(not_match_total_table, forpet_hash, shop_name, address, total_score, match)\n",
    "                review_table_insert(not_match_review_table, forpet_hash, shop_name, review_list, score_list, match)\n",
    "\n",
    "              \n",
    "            time.sleep(SCROLL_PAUSE_TIME)\n",
    "            driver.back()  \n",
    "\n",
    "\n",
    "    # shop이 1개 인경우\n",
    "    else:\n",
    "        print('shop이 1개입니다')\n",
    "        html = driver.page_source\n",
    "\n",
    "        address, total_score, review_list, score_list, match =get_info(html, shop_address)\n",
    "\n",
    "        print(address, total_score, len(review_list), len(score_list), match )\n",
    "        \n",
    "        if match == 'X':\n",
    "            x_cnt += 1\n",
    "            x_table_insert(x_table, forpet_hash,shop_name)\n",
    "        elif match == 'match':\n",
    "            match_cnt += 1\n",
    "            total_table_insert(match_total_table, forpet_hash, shop_name, address, total_score, match)\n",
    "            review_table_insert(match_review_table, forpet_hash, shop_name, review_list, score_list, match)\n",
    "        else:\n",
    "            not_match_cnt +=1\n",
    "            total_table_insert(not_match_total_table, forpet_hash, shop_name, address, total_score, match)\n",
    "            review_table_insert(not_match_review_table, forpet_hash, shop_name, review_list, score_list, match)\n",
    "    \n",
    "#         elif match == 'match':\n",
    "#             match_total_table =total_table_insert(match_total_table, forpet_hash, shop_name, address, total_score, match)\n",
    "#             print('match_total_table', len(match_total_table))\n",
    "\n",
    "#             match_review_table =review_table_insert(match_review_table, forpet_hash, shop_name, review_list, score_list, match)\n",
    "#             print('match_review_table', len(match_review_table))\n",
    "      \n",
    "#         else:\n",
    "#             not_match_total_table=total_table_insert(not_match_total_table, forpet_hash, shop_name, address, total_score, match)\n",
    "#             print('not_match_total_table', len(not_match_total_table))\n",
    "      \n",
    "#             not_match_review_table=review_table_insert(not_match_review_table, forpet_hash, shop_name, review_list, score_list, match)\n",
    "#             print('not_match_review_table', len(not_match_review_table))\n",
    "\n",
    "\n",
    "    driver.back()  \n",
    "     \n",
    "#     try:\n",
    "#         back_button = driver.find_element_by_xpath('//button[@class=\"ozj7Vb3wnYq__action-button-clickable\"]')\n",
    "#         back_button.click()\n",
    "#     except:\n",
    "#         pass\n",
    "    return x_cnt, match_cnt, not_match_cnt    \n",
    "    "
   ]
  },
  {
   "cell_type": "markdown",
   "metadata": {},
   "source": [
    "### 2.2. table\n",
    "#### total table"
   ]
  },
  {
   "cell_type": "code",
   "execution_count": 166,
   "metadata": {
    "ExecuteTime": {
     "end_time": "2020-03-19T15:40:15.881314Z",
     "start_time": "2020-03-19T15:40:15.866335Z"
    }
   },
   "outputs": [
    {
     "data": {
      "text/html": [
       "<div>\n",
       "<style scoped>\n",
       "    .dataframe tbody tr th:only-of-type {\n",
       "        vertical-align: middle;\n",
       "    }\n",
       "\n",
       "    .dataframe tbody tr th {\n",
       "        vertical-align: top;\n",
       "    }\n",
       "\n",
       "    .dataframe thead th {\n",
       "        text-align: right;\n",
       "    }\n",
       "</style>\n",
       "<table border=\"1\" class=\"dataframe\">\n",
       "  <thead>\n",
       "    <tr style=\"text-align: right;\">\n",
       "      <th></th>\n",
       "      <th>forpet_hash</th>\n",
       "      <th>shop_name</th>\n",
       "      <th>shop_address</th>\n",
       "      <th>total_score</th>\n",
       "      <th>match</th>\n",
       "    </tr>\n",
       "  </thead>\n",
       "  <tbody>\n",
       "  </tbody>\n",
       "</table>\n",
       "</div>"
      ],
      "text/plain": [
       "Empty DataFrame\n",
       "Columns: [forpet_hash, shop_name, shop_address, total_score, match]\n",
       "Index: []"
      ]
     },
     "execution_count": 166,
     "metadata": {},
     "output_type": "execute_result"
    }
   ],
   "source": [
    "not_match_total_table= pd.DataFrame(columns = ['forpet_hash', 'shop_name', 'shop_address', 'total_score', 'match'])\n",
    "not_match_total_table"
   ]
  },
  {
   "cell_type": "code",
   "execution_count": 167,
   "metadata": {
    "ExecuteTime": {
     "end_time": "2020-03-19T15:40:16.080008Z",
     "start_time": "2020-03-19T15:40:16.067008Z"
    }
   },
   "outputs": [
    {
     "data": {
      "text/html": [
       "<div>\n",
       "<style scoped>\n",
       "    .dataframe tbody tr th:only-of-type {\n",
       "        vertical-align: middle;\n",
       "    }\n",
       "\n",
       "    .dataframe tbody tr th {\n",
       "        vertical-align: top;\n",
       "    }\n",
       "\n",
       "    .dataframe thead th {\n",
       "        text-align: right;\n",
       "    }\n",
       "</style>\n",
       "<table border=\"1\" class=\"dataframe\">\n",
       "  <thead>\n",
       "    <tr style=\"text-align: right;\">\n",
       "      <th></th>\n",
       "      <th>forpet_hash</th>\n",
       "      <th>shop_name</th>\n",
       "      <th>shop_address</th>\n",
       "      <th>total_score</th>\n",
       "      <th>match</th>\n",
       "    </tr>\n",
       "  </thead>\n",
       "  <tbody>\n",
       "  </tbody>\n",
       "</table>\n",
       "</div>"
      ],
      "text/plain": [
       "Empty DataFrame\n",
       "Columns: [forpet_hash, shop_name, shop_address, total_score, match]\n",
       "Index: []"
      ]
     },
     "execution_count": 167,
     "metadata": {},
     "output_type": "execute_result"
    }
   ],
   "source": [
    "match_total_table= pd.DataFrame(columns = ['forpet_hash', 'shop_name', 'shop_address', 'total_score', 'match'])\n",
    "match_total_table"
   ]
  },
  {
   "cell_type": "code",
   "execution_count": 168,
   "metadata": {
    "ExecuteTime": {
     "end_time": "2020-03-19T15:40:16.307909Z",
     "start_time": "2020-03-19T15:40:16.296876Z"
    }
   },
   "outputs": [],
   "source": [
    "def total_table_insert(total_table, forpet_hash, shop_name, address, total_score, match):\n",
    "    if total_score != 0:\n",
    "        total_table.loc[len(total_table)+1] = [forpet_hash, shop_name, address, total_score, match]\n",
    "    else:\n",
    "        total_table.loc[len(total_table)+1] = [forpet_hash, shop_name, address,np.nan, match]\n",
    "    return total_table"
   ]
  },
  {
   "cell_type": "markdown",
   "metadata": {
    "ExecuteTime": {
     "end_time": "2020-03-10T09:58:53.111871Z",
     "start_time": "2020-03-10T09:58:53.107873Z"
    }
   },
   "source": [
    "#### review table"
   ]
  },
  {
   "cell_type": "code",
   "execution_count": 169,
   "metadata": {
    "ExecuteTime": {
     "end_time": "2020-03-19T15:40:16.703246Z",
     "start_time": "2020-03-19T15:40:16.682246Z"
    }
   },
   "outputs": [
    {
     "data": {
      "text/html": [
       "<div>\n",
       "<style scoped>\n",
       "    .dataframe tbody tr th:only-of-type {\n",
       "        vertical-align: middle;\n",
       "    }\n",
       "\n",
       "    .dataframe tbody tr th {\n",
       "        vertical-align: top;\n",
       "    }\n",
       "\n",
       "    .dataframe thead th {\n",
       "        text-align: right;\n",
       "    }\n",
       "</style>\n",
       "<table border=\"1\" class=\"dataframe\">\n",
       "  <thead>\n",
       "    <tr style=\"text-align: right;\">\n",
       "      <th></th>\n",
       "      <th>forpet_hash</th>\n",
       "      <th>num</th>\n",
       "      <th>review</th>\n",
       "      <th>score</th>\n",
       "      <th>match</th>\n",
       "    </tr>\n",
       "  </thead>\n",
       "  <tbody>\n",
       "  </tbody>\n",
       "</table>\n",
       "</div>"
      ],
      "text/plain": [
       "Empty DataFrame\n",
       "Columns: [forpet_hash, num, review, score, match]\n",
       "Index: []"
      ]
     },
     "execution_count": 169,
     "metadata": {},
     "output_type": "execute_result"
    }
   ],
   "source": [
    "not_match_review_table= pd.DataFrame(columns = ['forpet_hash', 'num', 'review', 'score', 'match'])\n",
    "not_match_review_table"
   ]
  },
  {
   "cell_type": "code",
   "execution_count": 170,
   "metadata": {
    "ExecuteTime": {
     "end_time": "2020-03-19T15:40:16.884244Z",
     "start_time": "2020-03-19T15:40:16.862242Z"
    }
   },
   "outputs": [
    {
     "data": {
      "text/html": [
       "<div>\n",
       "<style scoped>\n",
       "    .dataframe tbody tr th:only-of-type {\n",
       "        vertical-align: middle;\n",
       "    }\n",
       "\n",
       "    .dataframe tbody tr th {\n",
       "        vertical-align: top;\n",
       "    }\n",
       "\n",
       "    .dataframe thead th {\n",
       "        text-align: right;\n",
       "    }\n",
       "</style>\n",
       "<table border=\"1\" class=\"dataframe\">\n",
       "  <thead>\n",
       "    <tr style=\"text-align: right;\">\n",
       "      <th></th>\n",
       "      <th>forpet_hash</th>\n",
       "      <th>num</th>\n",
       "      <th>review</th>\n",
       "      <th>score</th>\n",
       "      <th>match</th>\n",
       "    </tr>\n",
       "  </thead>\n",
       "  <tbody>\n",
       "  </tbody>\n",
       "</table>\n",
       "</div>"
      ],
      "text/plain": [
       "Empty DataFrame\n",
       "Columns: [forpet_hash, num, review, score, match]\n",
       "Index: []"
      ]
     },
     "execution_count": 170,
     "metadata": {},
     "output_type": "execute_result"
    }
   ],
   "source": [
    "match_review_table= pd.DataFrame(columns = ['forpet_hash', 'num', 'review', 'score', 'match'])\n",
    "match_review_table"
   ]
  },
  {
   "cell_type": "code",
   "execution_count": 171,
   "metadata": {
    "ExecuteTime": {
     "end_time": "2020-03-19T15:40:17.041243Z",
     "start_time": "2020-03-19T15:40:17.028246Z"
    }
   },
   "outputs": [],
   "source": [
    "def review_table_insert(review_table, forpet_hash, shop_name, review_list, score_list, match):\n",
    "    if len(review_list) != 0:\n",
    "        for i, (review, score, match) in enumerate(zip(review_list, score_list, match)):\n",
    "            review_table.loc[i+1+len(review_table)] = [forpet_hash, i, review, score, match]\n",
    "       \n",
    "    else:\n",
    "        review_table.loc[1+len(review_table)] = [forpet_hash, 1, np.nan, np.nan , match]    \n",
    "    \n",
    "    return review_table"
   ]
  },
  {
   "cell_type": "code",
   "execution_count": 172,
   "metadata": {
    "ExecuteTime": {
     "end_time": "2020-03-19T15:40:17.202235Z",
     "start_time": "2020-03-19T15:40:17.187275Z"
    }
   },
   "outputs": [
    {
     "data": {
      "text/html": [
       "<div>\n",
       "<style scoped>\n",
       "    .dataframe tbody tr th:only-of-type {\n",
       "        vertical-align: middle;\n",
       "    }\n",
       "\n",
       "    .dataframe tbody tr th {\n",
       "        vertical-align: top;\n",
       "    }\n",
       "\n",
       "    .dataframe thead th {\n",
       "        text-align: right;\n",
       "    }\n",
       "</style>\n",
       "<table border=\"1\" class=\"dataframe\">\n",
       "  <thead>\n",
       "    <tr style=\"text-align: right;\">\n",
       "      <th></th>\n",
       "      <th>forpet_hash</th>\n",
       "      <th>shop_name</th>\n",
       "    </tr>\n",
       "  </thead>\n",
       "  <tbody>\n",
       "  </tbody>\n",
       "</table>\n",
       "</div>"
      ],
      "text/plain": [
       "Empty DataFrame\n",
       "Columns: [forpet_hash, shop_name]\n",
       "Index: []"
      ]
     },
     "execution_count": 172,
     "metadata": {},
     "output_type": "execute_result"
    }
   ],
   "source": [
    "x_table = pd.DataFrame(columns = ['forpet_hash', 'shop_name'])\n",
    "x_table"
   ]
  },
  {
   "cell_type": "code",
   "execution_count": 173,
   "metadata": {
    "ExecuteTime": {
     "end_time": "2020-03-19T15:40:17.346613Z",
     "start_time": "2020-03-19T15:40:17.341611Z"
    }
   },
   "outputs": [],
   "source": [
    "def x_table_insert(x_table, forpet_hash, shop_name):\n",
    "    x_table.loc[1+len(x_table)] = [forpet_hash, shop_name]\n",
    "    return x_table"
   ]
  },
  {
   "cell_type": "markdown",
   "metadata": {},
   "source": [
    "### 2.3. 일부로 연습"
   ]
  },
  {
   "cell_type": "code",
   "execution_count": 174,
   "metadata": {
    "ExecuteTime": {
     "end_time": "2020-03-19T15:40:18.109625Z",
     "start_time": "2020-03-19T15:40:18.105628Z"
    }
   },
   "outputs": [],
   "source": [
    "first_shop =ordinary_table.head(20)"
   ]
  },
  {
   "cell_type": "code",
   "execution_count": 175,
   "metadata": {
    "ExecuteTime": {
     "end_time": "2020-03-19T15:40:18.307022Z",
     "start_time": "2020-03-19T15:40:18.292009Z"
    }
   },
   "outputs": [
    {
     "data": {
      "text/html": [
       "<div>\n",
       "<style scoped>\n",
       "    .dataframe tbody tr th:only-of-type {\n",
       "        vertical-align: middle;\n",
       "    }\n",
       "\n",
       "    .dataframe tbody tr th {\n",
       "        vertical-align: top;\n",
       "    }\n",
       "\n",
       "    .dataframe thead th {\n",
       "        text-align: right;\n",
       "    }\n",
       "</style>\n",
       "<table border=\"1\" class=\"dataframe\">\n",
       "  <thead>\n",
       "    <tr style=\"text-align: right;\">\n",
       "      <th></th>\n",
       "      <th>forpet_hash</th>\n",
       "      <th>address_name</th>\n",
       "      <th>place_name</th>\n",
       "    </tr>\n",
       "  </thead>\n",
       "  <tbody>\n",
       "    <tr>\n",
       "      <th>0</th>\n",
       "      <td>4b793eb834462b029e435eaeb49433efc61755c9e15a24...</td>\n",
       "      <td>서울 종로구 평창동 530-8</td>\n",
       "      <td>쿠나이앤티</td>\n",
       "    </tr>\n",
       "    <tr>\n",
       "      <th>1</th>\n",
       "      <td>f5169c15a126e4059f0a89bb80fccd236693d5056d24ae...</td>\n",
       "      <td>서울 종로구 창신동 468-1</td>\n",
       "      <td>애견용품할인매장</td>\n",
       "    </tr>\n",
       "    <tr>\n",
       "      <th>2</th>\n",
       "      <td>aa26d23f20a9b5642a6689f2a2761ca470703ebbd514eb...</td>\n",
       "      <td>서울 종로구 창신동 436-64</td>\n",
       "      <td>펫클럽 청계점</td>\n",
       "    </tr>\n",
       "    <tr>\n",
       "      <th>3</th>\n",
       "      <td>2806f173e3a783ed14d74c9a83da2f62c34f45d470e893...</td>\n",
       "      <td>서울 종로구 홍지동 103-24</td>\n",
       "      <td>나니스펫푸드</td>\n",
       "    </tr>\n",
       "    <tr>\n",
       "      <th>4</th>\n",
       "      <td>aa18fd6e2328f00ac2567b7a37a4db308ceee03a01924c...</td>\n",
       "      <td>서울 종로구 필운동 137-5</td>\n",
       "      <td>서촌양품</td>\n",
       "    </tr>\n",
       "    <tr>\n",
       "      <th>5</th>\n",
       "      <td>8aa63cf25e3842284a45ab5d4f603e816dba32c9406b88...</td>\n",
       "      <td>서울 종로구 이화동 191-2</td>\n",
       "      <td>푸드마스터그룹</td>\n",
       "    </tr>\n",
       "    <tr>\n",
       "      <th>6</th>\n",
       "      <td>c923e036035e04fc590dfe181702bdff963f7fe6e0d442...</td>\n",
       "      <td>서울 종로구 창신동 142-35</td>\n",
       "      <td>스프링펫 창신점</td>\n",
       "    </tr>\n",
       "    <tr>\n",
       "      <th>7</th>\n",
       "      <td>275c9b2f484f215bf7da6e27c0f2ea8696469033657186...</td>\n",
       "      <td>서울 종로구 창신동 327-2</td>\n",
       "      <td>다이렉트 펫</td>\n",
       "    </tr>\n",
       "    <tr>\n",
       "      <th>8</th>\n",
       "      <td>52f7350baf9645ba80f749b3d86f5e746cf46aaf1265ba...</td>\n",
       "      <td>서울 종로구 인사동 15</td>\n",
       "      <td>스투키펫</td>\n",
       "    </tr>\n",
       "    <tr>\n",
       "      <th>9</th>\n",
       "      <td>8e35f7a0a73e558271ae3dbec0ad40322ed25b73045eb6...</td>\n",
       "      <td>서울 서대문구 홍제동 279-27</td>\n",
       "      <td>반려동물용품사료 할인마트</td>\n",
       "    </tr>\n",
       "    <tr>\n",
       "      <th>10</th>\n",
       "      <td>d2f048b9ea45480dfefa2473a1c675f7be19c528c67b77...</td>\n",
       "      <td>서울 서대문구 홍은동 9-52</td>\n",
       "      <td>강아지세상</td>\n",
       "    </tr>\n",
       "    <tr>\n",
       "      <th>11</th>\n",
       "      <td>26245c78c1cbed4eb1cc0fd1700e18be45314057179f72...</td>\n",
       "      <td>서울 서대문구 홍제동 469</td>\n",
       "      <td>홈독애견마트 홍제점</td>\n",
       "    </tr>\n",
       "    <tr>\n",
       "      <th>12</th>\n",
       "      <td>bd8ce4fe5ec9031f0d986ac8e3091594a104e02d9e1d71...</td>\n",
       "      <td>서울 서대문구 홍은동 36-71</td>\n",
       "      <td>도그스푼</td>\n",
       "    </tr>\n",
       "    <tr>\n",
       "      <th>13</th>\n",
       "      <td>ad85ca27faea5e1533bdd8873a5a366d237ffd1311f510...</td>\n",
       "      <td>서울 서대문구 영천동 330</td>\n",
       "      <td>스프링펫 서대문점</td>\n",
       "    </tr>\n",
       "    <tr>\n",
       "      <th>14</th>\n",
       "      <td>d8d772d31c2687401796f0768d35a295a22569860ee710...</td>\n",
       "      <td>서울 서대문구 홍제동 155-6</td>\n",
       "      <td>루미앤비비</td>\n",
       "    </tr>\n",
       "    <tr>\n",
       "      <th>15</th>\n",
       "      <td>57eed23d445ca204e0ab28da0f58b1ef85121c92f469b3...</td>\n",
       "      <td>서울 성북구 삼선동5가 299</td>\n",
       "      <td>야옹아멍멍해봐 성북점</td>\n",
       "    </tr>\n",
       "    <tr>\n",
       "      <th>16</th>\n",
       "      <td>f53e28a28e233499899f56f7c2323b51b13b4745aae71a...</td>\n",
       "      <td>서울 중구 장교동 73</td>\n",
       "      <td>퍼플네스트</td>\n",
       "    </tr>\n",
       "    <tr>\n",
       "      <th>17</th>\n",
       "      <td>fb83c79c4e90759c7c48970c543e2f8671e1e39d3eb76d...</td>\n",
       "      <td>서울 성북구 동소문동3가 3</td>\n",
       "      <td>뚜리까까</td>\n",
       "    </tr>\n",
       "    <tr>\n",
       "      <th>18</th>\n",
       "      <td>194e0e4587a9e9c80309199fdc774e55d719bc5b66e1ac...</td>\n",
       "      <td>서울 성북구 정릉동 109-2</td>\n",
       "      <td>도기랑냥이랑 정릉점</td>\n",
       "    </tr>\n",
       "    <tr>\n",
       "      <th>19</th>\n",
       "      <td>bc5f725f3407b772ac23717515c498d34c6e2ecdfd2e34...</td>\n",
       "      <td>서울 중구 묵정동 32-3</td>\n",
       "      <td>중앙애견</td>\n",
       "    </tr>\n",
       "  </tbody>\n",
       "</table>\n",
       "</div>"
      ],
      "text/plain": [
       "                                          forpet_hash        address_name  \\\n",
       "0   4b793eb834462b029e435eaeb49433efc61755c9e15a24...    서울 종로구 평창동 530-8   \n",
       "1   f5169c15a126e4059f0a89bb80fccd236693d5056d24ae...    서울 종로구 창신동 468-1   \n",
       "2   aa26d23f20a9b5642a6689f2a2761ca470703ebbd514eb...   서울 종로구 창신동 436-64   \n",
       "3   2806f173e3a783ed14d74c9a83da2f62c34f45d470e893...   서울 종로구 홍지동 103-24   \n",
       "4   aa18fd6e2328f00ac2567b7a37a4db308ceee03a01924c...    서울 종로구 필운동 137-5   \n",
       "5   8aa63cf25e3842284a45ab5d4f603e816dba32c9406b88...    서울 종로구 이화동 191-2   \n",
       "6   c923e036035e04fc590dfe181702bdff963f7fe6e0d442...   서울 종로구 창신동 142-35   \n",
       "7   275c9b2f484f215bf7da6e27c0f2ea8696469033657186...    서울 종로구 창신동 327-2   \n",
       "8   52f7350baf9645ba80f749b3d86f5e746cf46aaf1265ba...       서울 종로구 인사동 15   \n",
       "9   8e35f7a0a73e558271ae3dbec0ad40322ed25b73045eb6...  서울 서대문구 홍제동 279-27   \n",
       "10  d2f048b9ea45480dfefa2473a1c675f7be19c528c67b77...    서울 서대문구 홍은동 9-52   \n",
       "11  26245c78c1cbed4eb1cc0fd1700e18be45314057179f72...     서울 서대문구 홍제동 469   \n",
       "12  bd8ce4fe5ec9031f0d986ac8e3091594a104e02d9e1d71...   서울 서대문구 홍은동 36-71   \n",
       "13  ad85ca27faea5e1533bdd8873a5a366d237ffd1311f510...     서울 서대문구 영천동 330   \n",
       "14  d8d772d31c2687401796f0768d35a295a22569860ee710...   서울 서대문구 홍제동 155-6   \n",
       "15  57eed23d445ca204e0ab28da0f58b1ef85121c92f469b3...    서울 성북구 삼선동5가 299   \n",
       "16  f53e28a28e233499899f56f7c2323b51b13b4745aae71a...        서울 중구 장교동 73   \n",
       "17  fb83c79c4e90759c7c48970c543e2f8671e1e39d3eb76d...     서울 성북구 동소문동3가 3   \n",
       "18  194e0e4587a9e9c80309199fdc774e55d719bc5b66e1ac...    서울 성북구 정릉동 109-2   \n",
       "19  bc5f725f3407b772ac23717515c498d34c6e2ecdfd2e34...      서울 중구 묵정동 32-3   \n",
       "\n",
       "       place_name  \n",
       "0           쿠나이앤티  \n",
       "1        애견용품할인매장  \n",
       "2         펫클럽 청계점  \n",
       "3          나니스펫푸드  \n",
       "4            서촌양품  \n",
       "5         푸드마스터그룹  \n",
       "6        스프링펫 창신점  \n",
       "7          다이렉트 펫  \n",
       "8            스투키펫  \n",
       "9   반려동물용품사료 할인마트  \n",
       "10          강아지세상  \n",
       "11     홈독애견마트 홍제점  \n",
       "12           도그스푼  \n",
       "13      스프링펫 서대문점  \n",
       "14          루미앤비비  \n",
       "15    야옹아멍멍해봐 성북점  \n",
       "16          퍼플네스트  \n",
       "17           뚜리까까  \n",
       "18     도기랑냥이랑 정릉점  \n",
       "19           중앙애견  "
      ]
     },
     "execution_count": 175,
     "metadata": {},
     "output_type": "execute_result"
    }
   ],
   "source": [
    "first_shop"
   ]
  },
  {
   "cell_type": "code",
   "execution_count": 176,
   "metadata": {
    "ExecuteTime": {
     "end_time": "2020-03-19T15:42:24.110958Z",
     "start_time": "2020-03-19T15:40:18.498832Z"
    }
   },
   "outputs": [
    {
     "name": "stdout",
     "output_type": "stream",
     "text": [
      "0 쿠나이앤티 ['종로구', '평창동', '530-8']\n",
      "shop이 1개입니다\n",
      "서울특별시 종로구 평창동 0 0 0 not match\n",
      "cur_cnt 1\n",
      "k+1: 1 all_cnt: 1\n",
      "match_total_table: 0\n",
      "not_match_total_table: 1\n",
      "x_table: 0\n",
      "match_review_table: 0\n",
      "not_match_review_table: 1\n",
      "\n",
      "\n",
      "1 애견용품할인매장 ['종로구', '창신동', '468-1']\n",
      "address list 0 창신동 315-1번지 1층 종로구 서울특별시 KR\n",
      "address list 1 창신동 436-64번지\n",
      "address list 2 금호동1가 513번지 성동구 서울특별시 KR\n",
      "shop이 2개입니다\n",
      "창신동 315-1번지 1층 종로구 서울특별시 KR 0 0 0 not match\n",
      "서울특별시 종로구 창신동 436-64번지 0 0 0 not match\n",
      "cur_cnt 2\n",
      "k+1: 2 all_cnt: 3\n",
      "match_total_table: 0\n",
      "not_match_total_table: 3\n",
      "x_table: 0\n",
      "match_review_table: 0\n",
      "not_match_review_table: 3\n",
      "\n",
      "\n",
      "2 펫클럽 청계점 ['종로구', '창신동', '436-64']\n",
      "shop이 1개입니다\n",
      "서울특별시 종로구 창신동 436-64번지 일신파워빌딩 0 0 0 match\n",
      "cur_cnt 1\n",
      "k+1: 3 all_cnt: 4\n",
      "match_total_table: 1\n",
      "not_match_total_table: 3\n",
      "x_table: 0\n",
      "match_review_table: 1\n",
      "not_match_review_table: 3\n",
      "\n",
      "\n",
      "3 나니스펫푸드 ['종로구', '홍지동', '103-24']\n",
      "shop이 1개입니다\n",
      "홍지동 103-24번지 1층 종로구 서울특별시 KR 0 0 0 match\n",
      "cur_cnt 1\n",
      "k+1: 4 all_cnt: 5\n",
      "match_total_table: 2\n",
      "not_match_total_table: 3\n",
      "x_table: 0\n",
      "match_review_table: 2\n",
      "not_match_review_table: 3\n",
      "\n",
      "\n",
      "4 서촌양품 ['종로구', '필운동', '137-5']\n",
      "shop이 1개입니다\n",
      "서울특별시 종로구 필운동 137-5 0 0 0 match\n",
      "cur_cnt 1\n",
      "k+1: 5 all_cnt: 6\n",
      "match_total_table: 3\n",
      "not_match_total_table: 3\n",
      "x_table: 0\n",
      "match_review_table: 3\n",
      "not_match_review_table: 3\n",
      "\n",
      "\n",
      "5 푸드마스터그룹 ['종로구', '이화동', '191-2']\n",
      "shop이 1개입니다\n",
      "서울특별시 종로구 이화동 191 0 0 0 not match\n",
      "cur_cnt 1\n",
      "k+1: 6 all_cnt: 7\n",
      "match_total_table: 3\n",
      "not_match_total_table: 4\n",
      "x_table: 0\n",
      "match_review_table: 3\n",
      "not_match_review_table: 4\n",
      "\n",
      "\n",
      "6 스프링펫 창신점 ['종로구', '창신동', '142-35']\n",
      "address list 0 \n",
      "shop이 1개입니다\n",
      "X X 1 1 X\n",
      "cur_cnt 1\n",
      "k+1: 7 all_cnt: 8\n",
      "match_total_table: 3\n",
      "not_match_total_table: 4\n",
      "x_table: 1\n",
      "match_review_table: 3\n",
      "not_match_review_table: 4\n",
      "\n",
      "\n",
      "7 다이렉트 펫 ['종로구', '창신동', '327-2']\n",
      "address list 0 \n",
      "shop이 1개입니다\n",
      "X X 1 1 X\n",
      "cur_cnt 1\n",
      "k+1: 8 all_cnt: 9\n",
      "match_total_table: 3\n",
      "not_match_total_table: 4\n",
      "x_table: 2\n",
      "match_review_table: 3\n",
      "not_match_review_table: 4\n",
      "\n",
      "\n",
      "8 스투키펫 ['종로구', '인사동', '15']\n",
      "address list 0 \n",
      "shop이 1개입니다\n",
      "X X 1 1 X\n",
      "cur_cnt 1\n",
      "k+1: 9 all_cnt: 10\n",
      "match_total_table: 3\n",
      "not_match_total_table: 4\n",
      "x_table: 3\n",
      "match_review_table: 3\n",
      "not_match_review_table: 4\n",
      "\n",
      "\n",
      "9 반려동물용품사료 할인마트 ['서대문구', '홍제동', '279-27']\n",
      "address list 0 홍은동 368-7\n",
      "address list 1 교문동 270-2\n",
      "address list 2 산본1동 79-69\n",
      "address list 3 송산1동\n",
      "address list 4 대현동 신촌로 157\n",
      "shop이 1개입니다\n",
      "X X 1 1 X\n",
      "cur_cnt 1\n",
      "k+1: 10 all_cnt: 11\n",
      "match_total_table: 3\n",
      "not_match_total_table: 4\n",
      "x_table: 4\n",
      "match_review_table: 3\n",
      "not_match_review_table: 4\n",
      "\n",
      "\n",
      "10 강아지세상 ['서대문구', '홍은동', '9-52']\n",
      "shop이 1개입니다\n",
      "X X 1 1 X\n",
      "cur_cnt 1\n",
      "k+1: 11 all_cnt: 12\n",
      "match_total_table: 3\n",
      "not_match_total_table: 4\n",
      "x_table: 5\n",
      "match_review_table: 3\n",
      "not_match_review_table: 4\n",
      "\n",
      "\n",
      "11 홈독애견마트 홍제점 ['서대문구', '홍제동', '469']\n",
      "address list 0 홍제동 469번지 지하4층 B동 410호 인왕산한신휴플러스상가 서대문구 서울특별시 KR\n",
      "address list 1 역촌동 29-26번지 101동 1층 101호 은평구 서울특별시 KR\n",
      "shop이 1개입니다\n",
      "홍제동 469번지 지하4층 B동 410호 인왕산한신휴플러스상가 서대문구 서울특별시 KR 0 0 0 match\n",
      "cur_cnt 1\n",
      "k+1: 12 all_cnt: 13\n",
      "match_total_table: 4\n",
      "not_match_total_table: 4\n",
      "x_table: 5\n",
      "match_review_table: 4\n",
      "not_match_review_table: 4\n",
      "\n",
      "\n",
      "12 도그스푼 ['서대문구', '홍은동', '36-71']\n",
      "shop이 1개입니다\n",
      "홍은동 36-70번지 1층 서대문구 서울특별시 KR 0 0 0 not match\n",
      "cur_cnt 1\n",
      "k+1: 13 all_cnt: 14\n",
      "match_total_table: 4\n",
      "not_match_total_table: 5\n",
      "x_table: 5\n",
      "match_review_table: 4\n",
      "not_match_review_table: 5\n",
      "\n",
      "\n",
      "13 스프링펫 서대문점 ['서대문구', '영천동', '330']\n",
      "shop이 1개입니다\n",
      "서울특별시 마포구 서교동 양화로 189 0 0 0 not match\n",
      "cur_cnt 1\n",
      "k+1: 14 all_cnt: 15\n",
      "match_total_table: 4\n",
      "not_match_total_table: 6\n",
      "x_table: 5\n",
      "match_review_table: 4\n",
      "not_match_review_table: 6\n",
      "\n",
      "\n",
      "14 루미앤비비 ['서대문구', '홍제동', '155-6']\n",
      "address list 0 \n",
      "shop이 1개입니다\n",
      "X X 1 1 X\n",
      "cur_cnt 1\n",
      "k+1: 15 all_cnt: 16\n",
      "match_total_table: 4\n",
      "not_match_total_table: 6\n",
      "x_table: 6\n",
      "match_review_table: 4\n",
      "not_match_review_table: 6\n",
      "\n",
      "\n",
      "15 야옹아멍멍해봐 성북점 ['성북구', '삼선동5가', '299']\n",
      "shop이 1개입니다\n",
      "서울특별시 성북구 삼선교로24길 3 4.2 35 35 not match\n",
      "cur_cnt 1\n",
      "k+1: 16 all_cnt: 17\n",
      "match_total_table: 4\n",
      "not_match_total_table: 7\n",
      "x_table: 6\n",
      "match_review_table: 4\n",
      "not_match_review_table: 15\n",
      "\n",
      "\n",
      "16 퍼플네스트 ['중구', '장교동', '73']\n",
      "shop이 1개입니다\n",
      "더케이트윈타워 2층 퍼플네스트 종로구 서울특별시 KR 4.0 3 3 not match\n",
      "cur_cnt 1\n",
      "k+1: 17 all_cnt: 18\n",
      "match_total_table: 4\n",
      "not_match_total_table: 8\n",
      "x_table: 6\n",
      "match_review_table: 4\n",
      "not_match_review_table: 18\n",
      "\n",
      "\n",
      "17 뚜리까까 ['성북구', '동소문동3가', '3']\n",
      "shop이 1개입니다\n",
      "서울특별시 성북구 동소문동3가 동소문로2길 79 0 0 0 match\n",
      "cur_cnt 1\n",
      "k+1: 18 all_cnt: 19\n",
      "match_total_table: 5\n",
      "not_match_total_table: 8\n",
      "x_table: 6\n",
      "match_review_table: 5\n",
      "not_match_review_table: 18\n",
      "\n",
      "\n",
      "18 도기랑냥이랑 정릉점 ['성북구', '정릉동', '109-2']\n",
      "shop이 1개입니다\n",
      "서울특별시 성북구 정릉동 아리랑로 115 5.0 2 2 not match\n",
      "cur_cnt 1\n",
      "k+1: 19 all_cnt: 20\n",
      "match_total_table: 5\n",
      "not_match_total_table: 9\n",
      "x_table: 6\n",
      "match_review_table: 5\n",
      "not_match_review_table: 18\n",
      "\n",
      "\n",
      "19 중앙애견 ['중구', '묵정동', '32-3']\n",
      "address list 0 장충동 32-14\n",
      "address list 1 충무로5가 88-3\n",
      "shop이 1개입니다\n",
      "X X 1 1 X\n",
      "cur_cnt 1\n",
      "k+1: 20 all_cnt: 21\n",
      "match_total_table: 5\n",
      "not_match_total_table: 9\n",
      "x_table: 7\n",
      "match_review_table: 5\n",
      "not_match_review_table: 18\n",
      "\n",
      "\n"
     ]
    }
   ],
   "source": [
    "SCROLL_PAUSE_TIME = 2\n",
    "all_cnt = 0\n",
    "for k in range(len(first_shop)):\n",
    "    forpet_hash, address_name, place_name= first_shop.loc[k] \n",
    "  \n",
    "    shop_address =address_name.split(' ')[1:]\n",
    "    x_cnt, match_cnt, not_match_cnt =  start_crwarling(k, forpet_hash, place_name, shop_address)\n",
    "    cur_cnt = x_cnt + match_cnt + not_match_cnt\n",
    "    print('cur_cnt',cur_cnt)\n",
    "    all_cnt += cur_cnt\n",
    "    print('k+1:', k+1, 'all_cnt:',all_cnt)\n",
    "    print('match_total_table:',len(match_total_table))\n",
    "    print('not_match_total_table:',len(not_match_total_table))\n",
    "    print('x_table:', len(x_table))\n",
    "    print('match_review_table:',len(match_review_table))\n",
    "    print('not_match_review_table:',len(not_match_review_table))\n",
    "    print('\\n')\n",
    "    \n",
    "    try:\n",
    "        back_button = driver.find_element_by_xpath('//button[@class=\"ozj7Vb3wnYq__action-button-clickable\"]')\n",
    "        back_button.click()\n",
    "    except:\n",
    "        pass"
   ]
  },
  {
   "cell_type": "code",
   "execution_count": null,
   "metadata": {
    "ExecuteTime": {
     "end_time": "2020-03-19T15:40:09.785568Z",
     "start_time": "2020-03-19T15:38:10.441Z"
    }
   },
   "outputs": [],
   "source": [
    "print('match_total_table\\n',match_total_table)\n",
    "print('not_match_total_table\\n',not_match_total_table)\n",
    "print('match_review_table\\n',match_review_table)\n",
    "print('not_match_review_table\\n',not_match_review_table)\n",
    "print('x_table\\n', x_table)"
   ]
  },
  {
   "cell_type": "code",
   "execution_count": null,
   "metadata": {},
   "outputs": [],
   "source": []
  },
  {
   "cell_type": "code",
   "execution_count": null,
   "metadata": {},
   "outputs": [],
   "source": []
  },
  {
   "cell_type": "code",
   "execution_count": null,
   "metadata": {},
   "outputs": [],
   "source": []
  }
 ],
 "metadata": {
  "kernelspec": {
   "display_name": "Python 3",
   "language": "python",
   "name": "python3"
  },
  "language_info": {
   "codemirror_mode": {
    "name": "ipython",
    "version": 3
   },
   "file_extension": ".py",
   "mimetype": "text/x-python",
   "name": "python",
   "nbconvert_exporter": "python",
   "pygments_lexer": "ipython3",
   "version": "3.7.6"
  },
  "toc": {
   "base_numbering": 1,
   "nav_menu": {},
   "number_sections": false,
   "sideBar": true,
   "skip_h1_title": false,
   "title_cell": "Table of Contents",
   "title_sidebar": "Contents",
   "toc_cell": false,
   "toc_position": {
    "height": "calc(100% - 180px)",
    "left": "10px",
    "top": "150px",
    "width": "167.594px"
   },
   "toc_section_display": true,
   "toc_window_display": true
  }
 },
 "nbformat": 4,
 "nbformat_minor": 4
}
