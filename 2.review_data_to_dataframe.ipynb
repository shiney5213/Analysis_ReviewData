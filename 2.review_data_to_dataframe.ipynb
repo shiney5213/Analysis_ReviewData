{
 "cells": [
  {
   "cell_type": "markdown",
   "metadata": {},
   "source": [
    "# review data to dataframe"
   ]
  },
  {
   "cell_type": "code",
   "execution_count": 716,
   "metadata": {
    "ExecuteTime": {
     "end_time": "2020-03-10T09:53:36.072592Z",
     "start_time": "2020-03-10T09:53:36.065592Z"
    }
   },
   "outputs": [],
   "source": [
    "from selenium import webdriver\n",
    "from bs4 import BeautifulSoup\n",
    "import time\n",
    "from selenium.webdriver.common.keys import Keys\n",
    "import pandas as pd\n",
    "#from selenium.webdriver.support.ui import WebDriverWait\n",
    "from selenium.webdriver.support.wait import WebDriverWait\n",
    "from selenium.webdriver.support import expected_conditions as EC\n",
    "from selenium.common.exceptions import TimeoutException\n",
    "import numpy as np"
   ]
  },
  {
   "cell_type": "markdown",
   "metadata": {
    "ExecuteTime": {
     "end_time": "2020-03-09T05:03:45.861109Z",
     "start_time": "2020-03-09T05:03:45.857108Z"
    }
   },
   "source": [
    "# 1. google crawrling\n",
    "## 1.1 googl main"
   ]
  },
  {
   "cell_type": "code",
   "execution_count": 604,
   "metadata": {
    "ExecuteTime": {
     "end_time": "2020-03-10T08:24:27.629390Z",
     "start_time": "2020-03-10T08:24:04.268391Z"
    }
   },
   "outputs": [],
   "source": [
    "#https://chromedriver.storage.googleapis.com/index.html?path=80.0.3987.106/\n",
    "driver = webdriver.Chrome('chromedriver.exe')\n",
    "\n",
    "driver.get(\"http://www.google.com\")\n",
    "#assert \"Google\" in driver.title\n",
    "\n",
    "element = driver.find_element_by_name('q')\n",
    "element.clear()\n",
    "element.send_keys('google map')\n",
    "element.submit()"
   ]
  },
  {
   "cell_type": "markdown",
   "metadata": {},
   "source": [
    "#### 브라우저 닫기"
   ]
  },
  {
   "cell_type": "code",
   "execution_count": 420,
   "metadata": {
    "ExecuteTime": {
     "end_time": "2020-03-09T12:29:18.384502Z",
     "start_time": "2020-03-09T12:29:18.379500Z"
    }
   },
   "outputs": [],
   "source": [
    "#driver.close()"
   ]
  },
  {
   "cell_type": "markdown",
   "metadata": {},
   "source": [
    "## 1.2. google map site 들어가기"
   ]
  },
  {
   "cell_type": "code",
   "execution_count": 605,
   "metadata": {
    "ExecuteTime": {
     "end_time": "2020-03-10T08:24:32.452393Z",
     "start_time": "2020-03-10T08:24:30.343393Z"
    }
   },
   "outputs": [],
   "source": [
    "element = driver.find_element_by_xpath('//h3[@class=\"LC20lb DKV0Md\"]')\n",
    "element.click()"
   ]
  },
  {
   "cell_type": "markdown",
   "metadata": {},
   "source": [
    "## 1.3. 원하는 장소 클릭\n",
    "#### 검색어 입력"
   ]
  },
  {
   "cell_type": "code",
   "execution_count": 606,
   "metadata": {
    "ExecuteTime": {
     "end_time": "2020-03-10T08:24:40.596400Z",
     "start_time": "2020-03-10T08:24:40.534427Z"
    }
   },
   "outputs": [],
   "source": [
    "element = driver.find_element_by_xpath('//input[@autofocus=\"autofocus\"]')\n",
    "element.clear()"
   ]
  },
  {
   "cell_type": "code",
   "execution_count": 607,
   "metadata": {
    "ExecuteTime": {
     "end_time": "2020-03-10T08:24:41.988402Z",
     "start_time": "2020-03-10T08:24:41.841396Z"
    }
   },
   "outputs": [],
   "source": [
    "element.send_keys('타임스퀘어')\n",
    "element.submit()\n"
   ]
  },
  {
   "cell_type": "markdown",
   "metadata": {},
   "source": [
    "#### bs4로 html parser"
   ]
  },
  {
   "cell_type": "code",
   "execution_count": 608,
   "metadata": {
    "ExecuteTime": {
     "end_time": "2020-03-10T08:24:45.260432Z",
     "start_time": "2020-03-10T08:24:45.124390Z"
    }
   },
   "outputs": [
    {
     "name": "stdout",
     "output_type": "stream",
     "text": [
      "3\n"
     ]
    }
   ],
   "source": [
    "html = driver.page_source\n",
    "soup = BeautifulSoup(html, 'html.parser')\n",
    "all_address =soup.find_all('div', attrs = {'class': \"suggest-left-cell\"} )\n",
    "\n",
    "real_address = '영등포동4가'\n",
    "element_index=0\n",
    "for i,address in enumerate(all_address):\n",
    "#     print(address.contents[0], type(address.contents[0]))\n",
    "    if real_address in address.text:\n",
    "        element_index=i+1 \n",
    "        break\n",
    "        \n",
    "print(element_index)"
   ]
  },
  {
   "cell_type": "markdown",
   "metadata": {},
   "source": [
    "#### 주소 맞는 곳 클릭"
   ]
  },
  {
   "cell_type": "code",
   "execution_count": 609,
   "metadata": {
    "ExecuteTime": {
     "end_time": "2020-03-10T08:24:48.191388Z",
     "start_time": "2020-03-10T08:24:48.070390Z"
    }
   },
   "outputs": [],
   "source": [
    "# element = driver.find_element_by_xpath(\"//ul[@class='sbsb_b']/li[2]\")\n",
    "element = driver.find_element_by_xpath(f\"//ul[@class='sbsb_b']/li[{element_index}]\")\n",
    "element.click()"
   ]
  },
  {
   "cell_type": "markdown",
   "metadata": {},
   "source": [
    "## 1.4. 주소 가져오기"
   ]
  },
  {
   "cell_type": "code",
   "execution_count": 610,
   "metadata": {
    "ExecuteTime": {
     "end_time": "2020-03-10T08:24:52.303478Z",
     "start_time": "2020-03-10T08:24:52.143391Z"
    }
   },
   "outputs": [],
   "source": [
    "html = driver.page_source\n",
    "\n",
    "soup = BeautifulSoup(html, 'html.parser')"
   ]
  },
  {
   "cell_type": "code",
   "execution_count": 611,
   "metadata": {
    "ExecuteTime": {
     "end_time": "2020-03-10T08:24:53.020388Z",
     "start_time": "2020-03-10T08:24:52.999387Z"
    }
   },
   "outputs": [
    {
     "data": {
      "text/plain": [
       "'서울특별시 영등포구 영등포동 영중로 15'"
      ]
     },
     "execution_count": 611,
     "metadata": {},
     "output_type": "execute_result"
    }
   ],
   "source": [
    "address =soup.find_all('span',attrs = {'class': \"widget-pane-link\"} )\n",
    "address[2].text"
   ]
  },
  {
   "cell_type": "markdown",
   "metadata": {
    "ExecuteTime": {
     "end_time": "2020-03-09T10:20:25.858033Z",
     "start_time": "2020-03-09T10:20:25.854036Z"
    }
   },
   "source": [
    "## 1.5. review 가져오기"
   ]
  },
  {
   "cell_type": "code",
   "execution_count": 612,
   "metadata": {
    "ExecuteTime": {
     "end_time": "2020-03-10T08:24:55.885389Z",
     "start_time": "2020-03-10T08:24:55.721390Z"
    }
   },
   "outputs": [],
   "source": [
    "element = driver.find_element_by_xpath('//button[@class=\"jqnFjrOWMVU__button gm2-caption\"]')\n",
    "#element = driver.find_element_by_xpath('//span[@class=\"allxGeDnJMl__text gm2-button-alt\"]')\n",
    "\n",
    "element.click()"
   ]
  },
  {
   "cell_type": "markdown",
   "metadata": {},
   "source": [
    "#### 스크롤 다운\n",
    "- https://stackoverflow.com/questions/20986631/how-can-i-scroll-a-web-page-using-selenium-webdriver-in-python"
   ]
  },
  {
   "cell_type": "code",
   "execution_count": 616,
   "metadata": {
    "ExecuteTime": {
     "end_time": "2020-03-10T08:25:22.884649Z",
     "start_time": "2020-03-10T08:25:22.774388Z"
    }
   },
   "outputs": [],
   "source": [
    "element = driver.find_element_by_xpath('//span[@class=\"section-review-text\"]')\n",
    "element.click()"
   ]
  },
  {
   "cell_type": "code",
   "execution_count": 617,
   "metadata": {
    "ExecuteTime": {
     "end_time": "2020-03-10T08:25:23.515392Z",
     "start_time": "2020-03-10T08:25:23.510391Z"
    }
   },
   "outputs": [],
   "source": [
    "SCROLL_PAUSE_TIME = 2"
   ]
  },
  {
   "cell_type": "code",
   "execution_count": 618,
   "metadata": {
    "ExecuteTime": {
     "end_time": "2020-03-10T08:25:26.571407Z",
     "start_time": "2020-03-10T08:25:24.253390Z"
    }
   },
   "outputs": [],
   "source": [
    "while  True:\n",
    "    html = driver.find_element_by_tag_name('html')\n",
    "    text1 = html.text\n",
    "    html.send_keys(Keys.END)\n",
    "    time.sleep(SCROLL_PAUSE_TIME)\n",
    "    \n",
    "    html = driver.find_element_by_tag_name('html')\n",
    "    text2 = html.text\n",
    "\n",
    "    if text1 == text2:\n",
    "        break\n",
    "    else:\n",
    "        continue"
   ]
  },
  {
   "cell_type": "code",
   "execution_count": 171,
   "metadata": {
    "ExecuteTime": {
     "end_time": "2020-03-10T02:34:16.417106Z",
     "start_time": "2020-03-10T02:34:16.300110Z"
    }
   },
   "outputs": [],
   "source": [
    "html = driver.page_source"
   ]
  },
  {
   "cell_type": "markdown",
   "metadata": {},
   "source": [
    "#### bs4로 html parser"
   ]
  },
  {
   "cell_type": "code",
   "execution_count": 172,
   "metadata": {
    "ExecuteTime": {
     "end_time": "2020-03-10T02:34:17.548378Z",
     "start_time": "2020-03-10T02:34:17.470110Z"
    },
    "scrolled": true
   },
   "outputs": [],
   "source": [
    "soup = BeautifulSoup(html, 'html.parser')"
   ]
  },
  {
   "cell_type": "code",
   "execution_count": 173,
   "metadata": {
    "ExecuteTime": {
     "end_time": "2020-03-10T02:34:18.286108Z",
     "start_time": "2020-03-10T02:34:18.259110Z"
    }
   },
   "outputs": [
    {
     "data": {
      "text/plain": [
       "[<div class=\"gm2-display-2\" jsan=\"7.gm2-display-2\" jstcache=\"964\" style='font-family: \"Google Sans Display\", \"Google Sans\", Roboto, \"Noto Sans KR\", Arial, sans-serif;'>3.7</div>]"
      ]
     },
     "execution_count": 173,
     "metadata": {},
     "output_type": "execute_result"
    }
   ],
   "source": [
    "total_score =soup.find_all('div',attrs = {'class': \"gm2-display-2\"} )\n",
    "total_score\n",
    "\n"
   ]
  },
  {
   "cell_type": "code",
   "execution_count": 174,
   "metadata": {
    "ExecuteTime": {
     "end_time": "2020-03-10T02:34:19.886112Z",
     "start_time": "2020-03-10T02:34:19.879108Z"
    }
   },
   "outputs": [
    {
     "data": {
      "text/plain": [
       "'3.7'"
      ]
     },
     "execution_count": 174,
     "metadata": {},
     "output_type": "execute_result"
    }
   ],
   "source": [
    "total_score[0].string"
   ]
  },
  {
   "cell_type": "markdown",
   "metadata": {},
   "source": [
    "#### 개별 리뷰"
   ]
  },
  {
   "cell_type": "code",
   "execution_count": 175,
   "metadata": {
    "ExecuteTime": {
     "end_time": "2020-03-10T02:34:21.759111Z",
     "start_time": "2020-03-10T02:34:21.745110Z"
    }
   },
   "outputs": [
    {
     "name": "stdout",
     "output_type": "stream",
     "text": [
      "2\n"
     ]
    }
   ],
   "source": [
    "total_review =soup.find_all('span',attrs = {'class': \"section-review-text\"} )\n",
    "print(len(total_review))"
   ]
  },
  {
   "cell_type": "code",
   "execution_count": 176,
   "metadata": {
    "ExecuteTime": {
     "end_time": "2020-03-10T02:34:22.425112Z",
     "start_time": "2020-03-10T02:34:22.419109Z"
    }
   },
   "outputs": [
    {
     "name": "stdout",
     "output_type": "stream",
     "text": [
      "0 쾌적한 사무공간\n",
      "1 깔끔하고 주차편하고....\n",
      "2\n"
     ]
    }
   ],
   "source": [
    "review=[]\n",
    "for i, review in enumerate(total_review):\n",
    "    print(i, review.text)\n",
    "    review.append(review.text)\n",
    "print(len(review))"
   ]
  },
  {
   "cell_type": "markdown",
   "metadata": {},
   "source": [
    "#### 개별 별점"
   ]
  },
  {
   "cell_type": "code",
   "execution_count": 177,
   "metadata": {
    "ExecuteTime": {
     "end_time": "2020-03-10T02:34:24.550110Z",
     "start_time": "2020-03-10T02:34:24.535110Z"
    }
   },
   "outputs": [],
   "source": [
    "scores =soup.find_all('span',attrs = {'class': \"section-review-stars\", 'role': 'img'} )\n"
   ]
  },
  {
   "cell_type": "code",
   "execution_count": 178,
   "metadata": {
    "ExecuteTime": {
     "end_time": "2020-03-10T02:34:25.060109Z",
     "start_time": "2020-03-10T02:34:25.053113Z"
    },
    "scrolled": false
   },
   "outputs": [
    {
     "name": "stdout",
     "output_type": "stream",
     "text": [
      " 별표 4개 \n",
      " 별표 4개 \n",
      "2\n"
     ]
    }
   ],
   "source": [
    "score_list = []\n",
    "for score in scores:\n",
    "    print(score.attrs['aria-label'])\n",
    "    score_list.append(score.attrs['aria-label'])\n",
    "    \n",
    "print(len(score_list))"
   ]
  },
  {
   "cell_type": "markdown",
   "metadata": {
    "ExecuteTime": {
     "end_time": "2020-03-10T02:36:05.434110Z",
     "start_time": "2020-03-10T02:36:05.430149Z"
    }
   },
   "source": [
    "# 2. 함수로 만들기"
   ]
  },
  {
   "cell_type": "markdown",
   "metadata": {},
   "source": [
    "## 2.1. chrome 브라우저 열기"
   ]
  },
  {
   "cell_type": "code",
   "execution_count": 448,
   "metadata": {
    "ExecuteTime": {
     "end_time": "2020-03-10T06:00:09.490604Z",
     "start_time": "2020-03-10T05:59:42.930603Z"
    }
   },
   "outputs": [],
   "source": [
    "driver = webdriver.Chrome('chromedriver.exe')\n",
    "\n",
    "driver.get(\"http://www.google.com\")\n",
    "#assert \"Google\" in driver.title\n",
    "\n",
    "\n",
    "time.sleep(2)\n",
    "\n",
    "\n",
    "element = driver.find_element_by_name('q')\n",
    "\n",
    "\n",
    "#element = WebDriverWait(driver, 10).until(lambda x: x.driver.find_element_by_name('q'))\n",
    "        \n",
    "\n",
    "#delay = 10\n",
    "#try:\n",
    "#    element=WebDriverWait(driver, delay).until(EC.presence_of_element_located(driver.find_element_by_name('q')))\n",
    "#except TimeoutException:\n",
    "#    print (\"Loading took too much time!-Try again\")\n",
    "\n",
    "\n",
    "element.clear()\n",
    "element.send_keys('google map')\n",
    "element.submit()\n",
    "\n",
    "\n",
    "#google map site 들어가기\n",
    "element = driver.find_element_by_xpath('//h3[@class=\"LC20lb DKV0Md\"]')\n",
    "element.click()"
   ]
  },
  {
   "cell_type": "markdown",
   "metadata": {},
   "source": [
    "## 2.2. 샵 선택"
   ]
  },
  {
   "cell_type": "code",
   "execution_count": 674,
   "metadata": {
    "ExecuteTime": {
     "end_time": "2020-03-10T09:19:37.272103Z",
     "start_time": "2020-03-10T09:19:37.265105Z"
    }
   },
   "outputs": [],
   "source": [
    "def get_addScore(html,shop_address):\n",
    "\n",
    "    soup = BeautifulSoup(html, 'html.parser')\n",
    "\n",
    "    infos =soup.find_all('span',attrs = {'class': \"section-info-text\"} )\n",
    "    for i, info in enumerate(infos):\n",
    "        if shop_address in info:\n",
    "            address = info.text\n",
    "    address =infos[0].text\n",
    "    \n",
    "    total_score = soup.find_all('div',attrs = {'class': \"gm2-display-2\"} )\n",
    "\n",
    "    if len(total_score)!=0:\n",
    "        total_score = total_score[0].text\n",
    "    else:\n",
    "        total_score = None\n",
    "    \n",
    "    return address, total_score\n",
    "    "
   ]
  },
  {
   "cell_type": "code",
   "execution_count": 700,
   "metadata": {
    "ExecuteTime": {
     "end_time": "2020-03-10T09:32:34.295245Z",
     "start_time": "2020-03-10T09:32:34.280247Z"
    }
   },
   "outputs": [],
   "source": [
    "def search_shop(shop_name, shop_address):\n",
    "    SCROLL_PAUSE_TIME = 2\n",
    "\n",
    "    # shop 이름 검색\n",
    "    element = driver.find_element_by_xpath('//input[@autofocus=\"autofocus\"]')\n",
    "    element.clear()\n",
    "\n",
    "    element.send_keys(shop_name)\n",
    "    element.submit()\n",
    "\n",
    "    time.sleep(2)\n",
    "    \n",
    "    # 일치하는 shop 주소 찾기\n",
    "    html = driver.page_source\n",
    "    soup = BeautifulSoup(html, 'html.parser')\n",
    "    all_address =soup.find_all('div', attrs = {'class': \"suggest\"} )\n",
    "\n",
    "    element_index=1\n",
    "    for i,address in enumerate(all_address):\n",
    "    #     print(address.contents[0], type(address.contents[0]))\n",
    "        if shop_address in address.text:\n",
    "            element_index=i+1 \n",
    "            break\n",
    "\n",
    "    print('element_index',element_index)\n",
    "    \n",
    "    try:\n",
    "        select_shop = driver.find_element_by_xpath(f\"//ul[@class='sbsb_b']/li[{element_index}]\")\n",
    "    except: \n",
    "        select_shop = driver.find_element_by_xpath(f\"//div[@class='suggestions']/div[@class='sbsb_b']/div[{element_index}]\")    \n",
    "    finally:\n",
    "        select_shop.click()\n",
    "    \n",
    "    \n",
    "    time.sleep(2)\n",
    "    \n",
    "    # shop 주소, 총 별점 갖고오기\n",
    "    html = driver.page_source\n",
    "    address, total_score =get_addScore(html,shop_address)\n",
    "    \n",
    "    if total_score == None:\n",
    "        review_list = None\n",
    "        score_list= None\n",
    "    else:\n",
    "        time.sleep(2)\n",
    "\n",
    "        # 전체 리뷰 페이지 보기 : https://m.blog.naver.com/kiddwannabe/221310063239\n",
    "        # 스크롤 조절\n",
    "        review_text = driver.find_element_by_xpath('//div[@class=\"jqnFjrOWMVU__right\"]')\n",
    "        driver.execute_script(\"arguments[0].scrollIntoView(true);\", review_text);\n",
    "\n",
    "\n",
    "        # 버튼 클릭\n",
    "        review_button = driver.find_element_by_xpath('//button[@class=\"jqnFjrOWMVU__button gm2-caption\"]')\n",
    "        review_button.click()\n",
    "\n",
    "\n",
    "        time.sleep(SCROLL_PAUSE_TIME)\n",
    "\n",
    "        # 스크롤 다운\n",
    "        try:\n",
    "            element = driver.find_element_by_xpath('//span[@class=\"section-review-text\"]')\n",
    "            element.click()\n",
    "\n",
    "        except Exception as err:\n",
    "            print(err)\n",
    "       \n",
    "        i = 0\n",
    "        while  True:\n",
    "            i += 1\n",
    "            html = driver.find_element_by_tag_name('html')\n",
    "            time.sleep(SCROLL_PAUSE_TIME)\n",
    "\n",
    "            text1 = html.text\n",
    "            html.send_keys(Keys.END)\n",
    "            time.sleep(SCROLL_PAUSE_TIME)\n",
    "\n",
    "            html = driver.find_element_by_tag_name('html')\n",
    "            text2 = html.text\n",
    "\n",
    "            if text1 == text2:\n",
    "                break\n",
    "            else:\n",
    "                continue\n",
    "\n",
    "        # ELEMENT 가 화면에 보이도록 스크롤 조정 --> 아래 부분 추가로 확장됨\n",
    "\n",
    "\n",
    "        # 개별 리뷰, 별점 갖고오기\n",
    "        html = driver.page_source\n",
    "\n",
    "        review_list, score_list=get_review(html)\n",
    "\n",
    "    return address, total_score,review_list, score_list\n",
    "    \n",
    " "
   ]
  },
  {
   "cell_type": "code",
   "execution_count": 701,
   "metadata": {
    "ExecuteTime": {
     "end_time": "2020-03-10T09:32:34.901298Z",
     "start_time": "2020-03-10T09:32:34.894297Z"
    },
    "scrolled": true
   },
   "outputs": [],
   "source": [
    "def get_review(html):\n",
    "    soup = BeautifulSoup(html, 'html.parser')\n",
    "    # 개별 리뷰\n",
    "    total_review =soup.find_all('span',attrs = {'class': \"section-review-text\"} )\n",
    "\n",
    "    review_list=[]\n",
    "    for i, review in enumerate(total_review):\n",
    "        review_list.append(review.text)\n",
    "\n",
    "    #### 개별 별점\n",
    "    scores =soup.find_all('span',attrs = {'class': \"section-review-stars\", 'role': 'img'} )\n",
    "\n",
    "    score_list = []\n",
    "    for score in scores:\n",
    "        score_list.append(score.attrs['aria-label'])\n",
    "\n",
    "    return review_list, score_list"
   ]
  },
  {
   "cell_type": "markdown",
   "metadata": {},
   "source": [
    "# 3. dataframe"
   ]
  },
  {
   "cell_type": "markdown",
   "metadata": {
    "ExecuteTime": {
     "end_time": "2020-03-10T09:57:24.769380Z",
     "start_time": "2020-03-10T09:57:24.766382Z"
    }
   },
   "source": [
    "## 2.1 total_table"
   ]
  },
  {
   "cell_type": "code",
   "execution_count": 734,
   "metadata": {
    "ExecuteTime": {
     "end_time": "2020-03-10T10:07:53.627224Z",
     "start_time": "2020-03-10T10:07:53.613258Z"
    }
   },
   "outputs": [
    {
     "data": {
      "text/html": [
       "<div>\n",
       "<style scoped>\n",
       "    .dataframe tbody tr th:only-of-type {\n",
       "        vertical-align: middle;\n",
       "    }\n",
       "\n",
       "    .dataframe tbody tr th {\n",
       "        vertical-align: top;\n",
       "    }\n",
       "\n",
       "    .dataframe thead th {\n",
       "        text-align: right;\n",
       "    }\n",
       "</style>\n",
       "<table border=\"1\" class=\"dataframe\">\n",
       "  <thead>\n",
       "    <tr style=\"text-align: right;\">\n",
       "      <th></th>\n",
       "      <th>ID</th>\n",
       "      <th>이름</th>\n",
       "      <th>주소</th>\n",
       "      <th>total_score</th>\n",
       "    </tr>\n",
       "  </thead>\n",
       "  <tbody>\n",
       "  </tbody>\n",
       "</table>\n",
       "</div>"
      ],
      "text/plain": [
       "Empty DataFrame\n",
       "Columns: [ID, 이름, 주소, total_score]\n",
       "Index: []"
      ]
     },
     "execution_count": 734,
     "metadata": {},
     "output_type": "execute_result"
    }
   ],
   "source": [
    "total_table= pd.DataFrame(columns = ['ID', '이름', '주소', 'total_score'])\n",
    "total_table"
   ]
  },
  {
   "cell_type": "code",
   "execution_count": 735,
   "metadata": {
    "ExecuteTime": {
     "end_time": "2020-03-10T10:07:54.439253Z",
     "start_time": "2020-03-10T10:07:54.436253Z"
    }
   },
   "outputs": [],
   "source": [
    "ID = '123'"
   ]
  },
  {
   "cell_type": "code",
   "execution_count": 736,
   "metadata": {
    "ExecuteTime": {
     "end_time": "2020-03-10T10:07:54.690299Z",
     "start_time": "2020-03-10T10:07:54.681260Z"
    }
   },
   "outputs": [],
   "source": [
    "total_table.loc[1]=[ID, shop_name, address, total_score]"
   ]
  },
  {
   "cell_type": "code",
   "execution_count": 737,
   "metadata": {
    "ExecuteTime": {
     "end_time": "2020-03-10T10:07:54.876272Z",
     "start_time": "2020-03-10T10:07:54.863308Z"
    }
   },
   "outputs": [
    {
     "data": {
      "text/html": [
       "<div>\n",
       "<style scoped>\n",
       "    .dataframe tbody tr th:only-of-type {\n",
       "        vertical-align: middle;\n",
       "    }\n",
       "\n",
       "    .dataframe tbody tr th {\n",
       "        vertical-align: top;\n",
       "    }\n",
       "\n",
       "    .dataframe thead th {\n",
       "        text-align: right;\n",
       "    }\n",
       "</style>\n",
       "<table border=\"1\" class=\"dataframe\">\n",
       "  <thead>\n",
       "    <tr style=\"text-align: right;\">\n",
       "      <th></th>\n",
       "      <th>ID</th>\n",
       "      <th>이름</th>\n",
       "      <th>주소</th>\n",
       "      <th>total_score</th>\n",
       "    </tr>\n",
       "  </thead>\n",
       "  <tbody>\n",
       "    <tr>\n",
       "      <th>1</th>\n",
       "      <td>123</td>\n",
       "      <td>우리들 동물병원</td>\n",
       "      <td>서울특별시 노원구 중계2.3동</td>\n",
       "      <td>4.0</td>\n",
       "    </tr>\n",
       "  </tbody>\n",
       "</table>\n",
       "</div>"
      ],
      "text/plain": [
       "    ID        이름                주소 total_score\n",
       "1  123  우리들 동물병원  서울특별시 노원구 중계2.3동         4.0"
      ]
     },
     "execution_count": 737,
     "metadata": {},
     "output_type": "execute_result"
    }
   ],
   "source": [
    "total_table"
   ]
  },
  {
   "cell_type": "code",
   "execution_count": 772,
   "metadata": {
    "ExecuteTime": {
     "end_time": "2020-03-10T10:22:39.294362Z",
     "start_time": "2020-03-10T10:22:39.288355Z"
    }
   },
   "outputs": [],
   "source": [
    "def total_table_insert(total_table, ID, shop_name, address, total_score):\n",
    "    print(len(total_table))\n",
    "    if total_score != None:\n",
    "        total_table.loc[len(total_table)+1] = [ID, shop_name, address, total_score]\n",
    "    else:\n",
    "        total_table.loc[len(total_table)+1] = [ID, shop_name, address,np.nan]\n",
    "    return total_table"
   ]
  },
  {
   "cell_type": "code",
   "execution_count": 773,
   "metadata": {
    "ExecuteTime": {
     "end_time": "2020-03-10T10:22:39.788375Z",
     "start_time": "2020-03-10T10:22:39.761375Z"
    }
   },
   "outputs": [
    {
     "name": "stdout",
     "output_type": "stream",
     "text": [
      "7\n"
     ]
    },
    {
     "data": {
      "text/html": [
       "<div>\n",
       "<style scoped>\n",
       "    .dataframe tbody tr th:only-of-type {\n",
       "        vertical-align: middle;\n",
       "    }\n",
       "\n",
       "    .dataframe tbody tr th {\n",
       "        vertical-align: top;\n",
       "    }\n",
       "\n",
       "    .dataframe thead th {\n",
       "        text-align: right;\n",
       "    }\n",
       "</style>\n",
       "<table border=\"1\" class=\"dataframe\">\n",
       "  <thead>\n",
       "    <tr style=\"text-align: right;\">\n",
       "      <th></th>\n",
       "      <th>ID</th>\n",
       "      <th>이름</th>\n",
       "      <th>주소</th>\n",
       "      <th>total_score</th>\n",
       "    </tr>\n",
       "  </thead>\n",
       "  <tbody>\n",
       "    <tr>\n",
       "      <th>1</th>\n",
       "      <td>123</td>\n",
       "      <td>우리들 동물병원</td>\n",
       "      <td>서울특별시 노원구 중계2.3동</td>\n",
       "      <td>4.0</td>\n",
       "    </tr>\n",
       "    <tr>\n",
       "      <th>2</th>\n",
       "      <td>123</td>\n",
       "      <td>우리들 동물병원</td>\n",
       "      <td>서울특별시 노원구 중계2.3동</td>\n",
       "      <td>4.0</td>\n",
       "    </tr>\n",
       "    <tr>\n",
       "      <th>3</th>\n",
       "      <td>123</td>\n",
       "      <td>우리들 동물병원</td>\n",
       "      <td>서울특별시 노원구 중계2.3동</td>\n",
       "      <td>4.0</td>\n",
       "    </tr>\n",
       "    <tr>\n",
       "      <th>4</th>\n",
       "      <td>123</td>\n",
       "      <td>우리들 동물병원</td>\n",
       "      <td>서울특별시 노원구 중계2.3동</td>\n",
       "      <td>4.0</td>\n",
       "    </tr>\n",
       "    <tr>\n",
       "      <th>5</th>\n",
       "      <td>123</td>\n",
       "      <td>우리들 동물병원</td>\n",
       "      <td>서울특별시 노원구 중계2.3동</td>\n",
       "      <td>4.0</td>\n",
       "    </tr>\n",
       "    <tr>\n",
       "      <th>6</th>\n",
       "      <td>123</td>\n",
       "      <td>우리들 동물병원</td>\n",
       "      <td>서울특별시 노원구 중계2.3동</td>\n",
       "      <td>4.0</td>\n",
       "    </tr>\n",
       "    <tr>\n",
       "      <th>7</th>\n",
       "      <td>123</td>\n",
       "      <td>사랑 동물병원</td>\n",
       "      <td>서울특별시 강북구 우이동 319-12</td>\n",
       "      <td>None</td>\n",
       "    </tr>\n",
       "    <tr>\n",
       "      <th>8</th>\n",
       "      <td>123</td>\n",
       "      <td>사랑 동물병원</td>\n",
       "      <td>서울특별시 강북구 우이동 319-12</td>\n",
       "      <td>NaN</td>\n",
       "    </tr>\n",
       "  </tbody>\n",
       "</table>\n",
       "</div>"
      ],
      "text/plain": [
       "    ID        이름                    주소 total_score\n",
       "1  123  우리들 동물병원      서울특별시 노원구 중계2.3동         4.0\n",
       "2  123  우리들 동물병원      서울특별시 노원구 중계2.3동         4.0\n",
       "3  123  우리들 동물병원      서울특별시 노원구 중계2.3동         4.0\n",
       "4  123  우리들 동물병원      서울특별시 노원구 중계2.3동         4.0\n",
       "5  123  우리들 동물병원      서울특별시 노원구 중계2.3동         4.0\n",
       "6  123  우리들 동물병원      서울특별시 노원구 중계2.3동         4.0\n",
       "7  123   사랑 동물병원  서울특별시 강북구 우이동 319-12        None\n",
       "8  123   사랑 동물병원  서울특별시 강북구 우이동 319-12         NaN"
      ]
     },
     "execution_count": 773,
     "metadata": {},
     "output_type": "execute_result"
    }
   ],
   "source": [
    "total_table_insert(total_table,ID, shop_name, address, total_score)"
   ]
  },
  {
   "cell_type": "markdown",
   "metadata": {
    "ExecuteTime": {
     "end_time": "2020-03-10T09:58:53.111871Z",
     "start_time": "2020-03-10T09:58:53.107873Z"
    }
   },
   "source": [
    "## 2.2. review table"
   ]
  },
  {
   "cell_type": "code",
   "execution_count": 722,
   "metadata": {
    "ExecuteTime": {
     "end_time": "2020-03-10T09:59:31.121371Z",
     "start_time": "2020-03-10T09:59:31.111373Z"
    }
   },
   "outputs": [],
   "source": [
    "review_table= pd.DataFrame(columns = ['ID', 'num', 'review', 'score'])\n"
   ]
  },
  {
   "cell_type": "code",
   "execution_count": 726,
   "metadata": {
    "ExecuteTime": {
     "end_time": "2020-03-10T10:02:50.691256Z",
     "start_time": "2020-03-10T10:02:50.650254Z"
    }
   },
   "outputs": [],
   "source": [
    "for i, (review, score) in enumerate(zip(review_list, score_list)):\n",
    "    review_table.loc[i]=[ID, i, review, score]"
   ]
  },
  {
   "cell_type": "code",
   "execution_count": 727,
   "metadata": {
    "ExecuteTime": {
     "end_time": "2020-03-10T10:02:56.132466Z",
     "start_time": "2020-03-10T10:02:56.115468Z"
    }
   },
   "outputs": [
    {
     "data": {
      "text/html": [
       "<div>\n",
       "<style scoped>\n",
       "    .dataframe tbody tr th:only-of-type {\n",
       "        vertical-align: middle;\n",
       "    }\n",
       "\n",
       "    .dataframe tbody tr th {\n",
       "        vertical-align: top;\n",
       "    }\n",
       "\n",
       "    .dataframe thead th {\n",
       "        text-align: right;\n",
       "    }\n",
       "</style>\n",
       "<table border=\"1\" class=\"dataframe\">\n",
       "  <thead>\n",
       "    <tr style=\"text-align: right;\">\n",
       "      <th></th>\n",
       "      <th>ID</th>\n",
       "      <th>num</th>\n",
       "      <th>riview</th>\n",
       "      <th>score</th>\n",
       "    </tr>\n",
       "  </thead>\n",
       "  <tbody>\n",
       "    <tr>\n",
       "      <th>0</th>\n",
       "      <td>123</td>\n",
       "      <td>0</td>\n",
       "      <td>친절함 비용도 저렴한거같음!!\\n단점은 여선생님은 정말 친절하시고 좋은데\\n남성분은...</td>\n",
       "      <td>별표 5개</td>\n",
       "    </tr>\n",
       "    <tr>\n",
       "      <th>1</th>\n",
       "      <td>123</td>\n",
       "      <td>1</td>\n",
       "      <td>수술을 잘하시고...왠만한 검사는 안하심..ㅋ\\n그게 과하지 않아 좋을수도 있으나 ...</td>\n",
       "      <td>별표 4개</td>\n",
       "    </tr>\n",
       "    <tr>\n",
       "      <th>2</th>\n",
       "      <td>123</td>\n",
       "      <td>2</td>\n",
       "      <td>여러 병원 다니다 주변분 소개로 갔는데 정말 친절하신 설명 감사하네요. 단 주차가 ...</td>\n",
       "      <td>별표 5개</td>\n",
       "    </tr>\n",
       "    <tr>\n",
       "      <th>3</th>\n",
       "      <td>123</td>\n",
       "      <td>3</td>\n",
       "      <td>불 친절하고 너무 성의가 없어요.\\n\\n《수술비도... 카드로 할 경우 \\n현금보다...</td>\n",
       "      <td>별표 1개</td>\n",
       "    </tr>\n",
       "    <tr>\n",
       "      <th>4</th>\n",
       "      <td>123</td>\n",
       "      <td>4</td>\n",
       "      <td>완전 최고 의사선생님이 과잉진료없이 진료비 과대청구없이 성실히 진료해주세요 구로구에...</td>\n",
       "      <td>별표 5개</td>\n",
       "    </tr>\n",
       "  </tbody>\n",
       "</table>\n",
       "</div>"
      ],
      "text/plain": [
       "    ID num                                             riview    score\n",
       "0  123   0  친절함 비용도 저렴한거같음!!\\n단점은 여선생님은 정말 친절하시고 좋은데\\n남성분은...   별표 5개 \n",
       "1  123   1  수술을 잘하시고...왠만한 검사는 안하심..ㅋ\\n그게 과하지 않아 좋을수도 있으나 ...   별표 4개 \n",
       "2  123   2  여러 병원 다니다 주변분 소개로 갔는데 정말 친절하신 설명 감사하네요. 단 주차가 ...   별표 5개 \n",
       "3  123   3  불 친절하고 너무 성의가 없어요.\\n\\n《수술비도... 카드로 할 경우 \\n현금보다...   별표 1개 \n",
       "4  123   4  완전 최고 의사선생님이 과잉진료없이 진료비 과대청구없이 성실히 진료해주세요 구로구에...   별표 5개 "
      ]
     },
     "execution_count": 727,
     "metadata": {},
     "output_type": "execute_result"
    }
   ],
   "source": [
    "review_table"
   ]
  },
  {
   "cell_type": "code",
   "execution_count": 815,
   "metadata": {
    "ExecuteTime": {
     "end_time": "2020-03-10T10:37:55.078875Z",
     "start_time": "2020-03-10T10:37:55.072875Z"
    }
   },
   "outputs": [],
   "source": [
    "def review_table_insert(review_table, ID, shop_name, review_list, score_list):\n",
    "    print(len(review_table))\n",
    "    if review_list == None:\n",
    "        review_table.loc[1+len(review_table)] = [ID, 1, np.nan, np.nan ]\n",
    "    else:\n",
    "        for i, (review, score) in enumerate(zip(review_list, score_list)):\n",
    "            review_table.loc[i+1+len(review_table)] = [ID, i, review, score]   \n",
    "    \n",
    "    return review_table"
   ]
  },
  {
   "cell_type": "code",
   "execution_count": 811,
   "metadata": {
    "ExecuteTime": {
     "end_time": "2020-03-10T10:36:15.462168Z",
     "start_time": "2020-03-10T10:36:15.440169Z"
    }
   },
   "outputs": [
    {
     "name": "stdout",
     "output_type": "stream",
     "text": [
      "21\n"
     ]
    },
    {
     "data": {
      "text/html": [
       "<div>\n",
       "<style scoped>\n",
       "    .dataframe tbody tr th:only-of-type {\n",
       "        vertical-align: middle;\n",
       "    }\n",
       "\n",
       "    .dataframe tbody tr th {\n",
       "        vertical-align: top;\n",
       "    }\n",
       "\n",
       "    .dataframe thead th {\n",
       "        text-align: right;\n",
       "    }\n",
       "</style>\n",
       "<table border=\"1\" class=\"dataframe\">\n",
       "  <thead>\n",
       "    <tr style=\"text-align: right;\">\n",
       "      <th></th>\n",
       "      <th>ID</th>\n",
       "      <th>num</th>\n",
       "      <th>riview</th>\n",
       "      <th>score</th>\n",
       "    </tr>\n",
       "  </thead>\n",
       "  <tbody>\n",
       "    <tr>\n",
       "      <th>0</th>\n",
       "      <td>123</td>\n",
       "      <td>0</td>\n",
       "      <td>친절함 비용도 저렴한거같음!!\\n단점은 여선생님은 정말 친절하시고 좋은데\\n남성분은...</td>\n",
       "      <td>별표 5개</td>\n",
       "    </tr>\n",
       "    <tr>\n",
       "      <th>1</th>\n",
       "      <td>123</td>\n",
       "      <td>1</td>\n",
       "      <td>수술을 잘하시고...왠만한 검사는 안하심..ㅋ\\n그게 과하지 않아 좋을수도 있으나 ...</td>\n",
       "      <td>별표 4개</td>\n",
       "    </tr>\n",
       "    <tr>\n",
       "      <th>2</th>\n",
       "      <td>123</td>\n",
       "      <td>2</td>\n",
       "      <td>여러 병원 다니다 주변분 소개로 갔는데 정말 친절하신 설명 감사하네요. 단 주차가 ...</td>\n",
       "      <td>별표 5개</td>\n",
       "    </tr>\n",
       "    <tr>\n",
       "      <th>3</th>\n",
       "      <td>123</td>\n",
       "      <td>3</td>\n",
       "      <td>불 친절하고 너무 성의가 없어요.\\n\\n《수술비도... 카드로 할 경우 \\n현금보다...</td>\n",
       "      <td>별표 1개</td>\n",
       "    </tr>\n",
       "    <tr>\n",
       "      <th>4</th>\n",
       "      <td>123</td>\n",
       "      <td>4</td>\n",
       "      <td>완전 최고 의사선생님이 과잉진료없이 진료비 과대청구없이 성실히 진료해주세요 구로구에...</td>\n",
       "      <td>별표 5개</td>\n",
       "    </tr>\n",
       "    <tr>\n",
       "      <th>5</th>\n",
       "      <td>123</td>\n",
       "      <td>0</td>\n",
       "      <td>친절함 비용도 저렴한거같음!!\\n단점은 여선생님은 정말 친절하시고 좋은데\\n남성분은...</td>\n",
       "      <td>별표 5개</td>\n",
       "    </tr>\n",
       "    <tr>\n",
       "      <th>7</th>\n",
       "      <td>123</td>\n",
       "      <td>1</td>\n",
       "      <td>수술을 잘하시고...왠만한 검사는 안하심..ㅋ\\n그게 과하지 않아 좋을수도 있으나 ...</td>\n",
       "      <td>별표 4개</td>\n",
       "    </tr>\n",
       "    <tr>\n",
       "      <th>9</th>\n",
       "      <td>123</td>\n",
       "      <td>2</td>\n",
       "      <td>여러 병원 다니다 주변분 소개로 갔는데 정말 친절하신 설명 감사하네요. 단 주차가 ...</td>\n",
       "      <td>별표 5개</td>\n",
       "    </tr>\n",
       "    <tr>\n",
       "      <th>11</th>\n",
       "      <td>123</td>\n",
       "      <td>3</td>\n",
       "      <td>불 친절하고 너무 성의가 없어요.\\n\\n《수술비도... 카드로 할 경우 \\n현금보다...</td>\n",
       "      <td>별표 1개</td>\n",
       "    </tr>\n",
       "    <tr>\n",
       "      <th>13</th>\n",
       "      <td>123</td>\n",
       "      <td>4</td>\n",
       "      <td>완전 최고 의사선생님이 과잉진료없이 진료비 과대청구없이 성실히 진료해주세요 구로구에...</td>\n",
       "      <td>별표 5개</td>\n",
       "    </tr>\n",
       "    <tr>\n",
       "      <th>10</th>\n",
       "      <td>123</td>\n",
       "      <td>0</td>\n",
       "      <td>친절함 비용도 저렴한거같음!!\\n단점은 여선생님은 정말 친절하시고 좋은데\\n남성분은...</td>\n",
       "      <td>별표 5개</td>\n",
       "    </tr>\n",
       "    <tr>\n",
       "      <th>12</th>\n",
       "      <td>123</td>\n",
       "      <td>1</td>\n",
       "      <td>수술을 잘하시고...왠만한 검사는 안하심..ㅋ\\n그게 과하지 않아 좋을수도 있으나 ...</td>\n",
       "      <td>별표 4개</td>\n",
       "    </tr>\n",
       "    <tr>\n",
       "      <th>14</th>\n",
       "      <td>123</td>\n",
       "      <td>2</td>\n",
       "      <td>여러 병원 다니다 주변분 소개로 갔는데 정말 친절하신 설명 감사하네요. 단 주차가 ...</td>\n",
       "      <td>별표 5개</td>\n",
       "    </tr>\n",
       "    <tr>\n",
       "      <th>16</th>\n",
       "      <td>123</td>\n",
       "      <td>3</td>\n",
       "      <td>불 친절하고 너무 성의가 없어요.\\n\\n《수술비도... 카드로 할 경우 \\n현금보다...</td>\n",
       "      <td>별표 1개</td>\n",
       "    </tr>\n",
       "    <tr>\n",
       "      <th>18</th>\n",
       "      <td>123</td>\n",
       "      <td>4</td>\n",
       "      <td>완전 최고 의사선생님이 과잉진료없이 진료비 과대청구없이 성실히 진료해주세요 구로구에...</td>\n",
       "      <td>별표 5개</td>\n",
       "    </tr>\n",
       "    <tr>\n",
       "      <th>15</th>\n",
       "      <td>123</td>\n",
       "      <td>0</td>\n",
       "      <td>친절함 비용도 저렴한거같음!!\\n단점은 여선생님은 정말 친절하시고 좋은데\\n남성분은...</td>\n",
       "      <td>별표 5개</td>\n",
       "    </tr>\n",
       "    <tr>\n",
       "      <th>17</th>\n",
       "      <td>123</td>\n",
       "      <td>1</td>\n",
       "      <td>수술을 잘하시고...왠만한 검사는 안하심..ㅋ\\n그게 과하지 않아 좋을수도 있으나 ...</td>\n",
       "      <td>별표 4개</td>\n",
       "    </tr>\n",
       "    <tr>\n",
       "      <th>19</th>\n",
       "      <td>123</td>\n",
       "      <td>2</td>\n",
       "      <td>여러 병원 다니다 주변분 소개로 갔는데 정말 친절하신 설명 감사하네요. 단 주차가 ...</td>\n",
       "      <td>별표 5개</td>\n",
       "    </tr>\n",
       "    <tr>\n",
       "      <th>21</th>\n",
       "      <td>123</td>\n",
       "      <td>0</td>\n",
       "      <td>집가까이 있어서 좋아요</td>\n",
       "      <td>별표 3개</td>\n",
       "    </tr>\n",
       "    <tr>\n",
       "      <th>23</th>\n",
       "      <td>123</td>\n",
       "      <td>4</td>\n",
       "      <td>완전 최고 의사선생님이 과잉진료없이 진료비 과대청구없이 성실히 진료해주세요 구로구에...</td>\n",
       "      <td>별표 5개</td>\n",
       "    </tr>\n",
       "    <tr>\n",
       "      <th>20</th>\n",
       "      <td>123</td>\n",
       "      <td>0</td>\n",
       "      <td>오랜 경험을 갖춘 진료와수술 전문의 수의사가있고 미용사도있고 최신식 의료기기및 수술...</td>\n",
       "      <td>별표 4개</td>\n",
       "    </tr>\n",
       "  </tbody>\n",
       "</table>\n",
       "</div>"
      ],
      "text/plain": [
       "     ID num                                             riview    score\n",
       "0   123   0  친절함 비용도 저렴한거같음!!\\n단점은 여선생님은 정말 친절하시고 좋은데\\n남성분은...   별표 5개 \n",
       "1   123   1  수술을 잘하시고...왠만한 검사는 안하심..ㅋ\\n그게 과하지 않아 좋을수도 있으나 ...   별표 4개 \n",
       "2   123   2  여러 병원 다니다 주변분 소개로 갔는데 정말 친절하신 설명 감사하네요. 단 주차가 ...   별표 5개 \n",
       "3   123   3  불 친절하고 너무 성의가 없어요.\\n\\n《수술비도... 카드로 할 경우 \\n현금보다...   별표 1개 \n",
       "4   123   4  완전 최고 의사선생님이 과잉진료없이 진료비 과대청구없이 성실히 진료해주세요 구로구에...   별표 5개 \n",
       "5   123   0  친절함 비용도 저렴한거같음!!\\n단점은 여선생님은 정말 친절하시고 좋은데\\n남성분은...   별표 5개 \n",
       "7   123   1  수술을 잘하시고...왠만한 검사는 안하심..ㅋ\\n그게 과하지 않아 좋을수도 있으나 ...   별표 4개 \n",
       "9   123   2  여러 병원 다니다 주변분 소개로 갔는데 정말 친절하신 설명 감사하네요. 단 주차가 ...   별표 5개 \n",
       "11  123   3  불 친절하고 너무 성의가 없어요.\\n\\n《수술비도... 카드로 할 경우 \\n현금보다...   별표 1개 \n",
       "13  123   4  완전 최고 의사선생님이 과잉진료없이 진료비 과대청구없이 성실히 진료해주세요 구로구에...   별표 5개 \n",
       "10  123   0  친절함 비용도 저렴한거같음!!\\n단점은 여선생님은 정말 친절하시고 좋은데\\n남성분은...   별표 5개 \n",
       "12  123   1  수술을 잘하시고...왠만한 검사는 안하심..ㅋ\\n그게 과하지 않아 좋을수도 있으나 ...   별표 4개 \n",
       "14  123   2  여러 병원 다니다 주변분 소개로 갔는데 정말 친절하신 설명 감사하네요. 단 주차가 ...   별표 5개 \n",
       "16  123   3  불 친절하고 너무 성의가 없어요.\\n\\n《수술비도... 카드로 할 경우 \\n현금보다...   별표 1개 \n",
       "18  123   4  완전 최고 의사선생님이 과잉진료없이 진료비 과대청구없이 성실히 진료해주세요 구로구에...   별표 5개 \n",
       "15  123   0  친절함 비용도 저렴한거같음!!\\n단점은 여선생님은 정말 친절하시고 좋은데\\n남성분은...   별표 5개 \n",
       "17  123   1  수술을 잘하시고...왠만한 검사는 안하심..ㅋ\\n그게 과하지 않아 좋을수도 있으나 ...   별표 4개 \n",
       "19  123   2  여러 병원 다니다 주변분 소개로 갔는데 정말 친절하신 설명 감사하네요. 단 주차가 ...   별표 5개 \n",
       "21  123   0                                       집가까이 있어서 좋아요   별표 3개 \n",
       "23  123   4  완전 최고 의사선생님이 과잉진료없이 진료비 과대청구없이 성실히 진료해주세요 구로구에...   별표 5개 \n",
       "20  123   0  오랜 경험을 갖춘 진료와수술 전문의 수의사가있고 미용사도있고 최신식 의료기기및 수술...   별표 4개 "
      ]
     },
     "execution_count": 811,
     "metadata": {},
     "output_type": "execute_result"
    }
   ],
   "source": [
    "review_table_insert(review_table, ID, shop_name, review_list, score_list)"
   ]
  },
  {
   "cell_type": "markdown",
   "metadata": {},
   "source": [
    "# 4.실행"
   ]
  },
  {
   "cell_type": "code",
   "execution_count": 816,
   "metadata": {
    "ExecuteTime": {
     "end_time": "2020-03-10T10:38:10.601139Z",
     "start_time": "2020-03-10T10:38:05.651058Z"
    }
   },
   "outputs": [
    {
     "name": "stdout",
     "output_type": "stream",
     "text": [
      "element_index 1\n",
      "address 서울특별시 강북구 우이동 319-12\n",
      "total_score None\n",
      "review_list None\n",
      "score_list None\n",
      "17\n",
      "21\n",
      "18 22\n"
     ]
    }
   ],
   "source": [
    "shop_name = '사랑 동물병원'\n",
    "shop_address = '당산'\n",
    "ID = '123'\n",
    "\n",
    "address, total_score,review_list, score_list=search_shop(shop_name,shop_address)\n",
    "print('address',address)\n",
    "print('total_score',total_score)\n",
    "try:\n",
    "    print(len(review_list), len(score_list))\n",
    "except:\n",
    "    pass\n",
    "print('review_list',review_list)\n",
    "print('score_list',score_list)\n",
    "\n",
    "try:\n",
    "    back_button = driver.find_element_by_xpath('//button[@class=\"ozj7Vb3wnYq__action-button-clickable\"]')\n",
    "    back_button.click()\n",
    "except:\n",
    "    pass\n",
    "\n",
    "total_table_insert(total_table,ID, shop_name, address, total_score)\n",
    "review_table_insert(review_table, ID, shop_name, review_list, score_list)\n",
    "print(len(total_table), len(review_table))"
   ]
  },
  {
   "cell_type": "code",
   "execution_count": 817,
   "metadata": {
    "ExecuteTime": {
     "end_time": "2020-03-10T10:38:10.616143Z",
     "start_time": "2020-03-10T10:38:10.604144Z"
    }
   },
   "outputs": [
    {
     "data": {
      "text/html": [
       "<div>\n",
       "<style scoped>\n",
       "    .dataframe tbody tr th:only-of-type {\n",
       "        vertical-align: middle;\n",
       "    }\n",
       "\n",
       "    .dataframe tbody tr th {\n",
       "        vertical-align: top;\n",
       "    }\n",
       "\n",
       "    .dataframe thead th {\n",
       "        text-align: right;\n",
       "    }\n",
       "</style>\n",
       "<table border=\"1\" class=\"dataframe\">\n",
       "  <thead>\n",
       "    <tr style=\"text-align: right;\">\n",
       "      <th></th>\n",
       "      <th>ID</th>\n",
       "      <th>이름</th>\n",
       "      <th>주소</th>\n",
       "      <th>total_score</th>\n",
       "    </tr>\n",
       "  </thead>\n",
       "  <tbody>\n",
       "    <tr>\n",
       "      <th>14</th>\n",
       "      <td>123</td>\n",
       "      <td>행복 동물병원</td>\n",
       "      <td>경기도 광주시 곤지암읍 삼리 6-1</td>\n",
       "      <td>4.0</td>\n",
       "    </tr>\n",
       "    <tr>\n",
       "      <th>15</th>\n",
       "      <td>123</td>\n",
       "      <td>해피 동물병원</td>\n",
       "      <td>경기도 용인시 기흥구 보정동 700-6</td>\n",
       "      <td>3.0</td>\n",
       "    </tr>\n",
       "    <tr>\n",
       "      <th>16</th>\n",
       "      <td>123</td>\n",
       "      <td>행복한 동물병원</td>\n",
       "      <td>경기도 성남시 분당구 삼평동 722</td>\n",
       "      <td>3.0</td>\n",
       "    </tr>\n",
       "    <tr>\n",
       "      <th>17</th>\n",
       "      <td>123</td>\n",
       "      <td>행복한 동물병원</td>\n",
       "      <td>경기도 성남시 분당구 삼평동 722</td>\n",
       "      <td>3.0</td>\n",
       "    </tr>\n",
       "    <tr>\n",
       "      <th>18</th>\n",
       "      <td>123</td>\n",
       "      <td>사랑 동물병원</td>\n",
       "      <td>서울특별시 강북구 우이동 319-12</td>\n",
       "      <td>NaN</td>\n",
       "    </tr>\n",
       "  </tbody>\n",
       "</table>\n",
       "</div>"
      ],
      "text/plain": [
       "     ID        이름                     주소 total_score\n",
       "14  123   행복 동물병원    경기도 광주시 곤지암읍 삼리 6-1         4.0\n",
       "15  123   해피 동물병원  경기도 용인시 기흥구 보정동 700-6         3.0\n",
       "16  123  행복한 동물병원    경기도 성남시 분당구 삼평동 722         3.0\n",
       "17  123  행복한 동물병원    경기도 성남시 분당구 삼평동 722         3.0\n",
       "18  123   사랑 동물병원   서울특별시 강북구 우이동 319-12         NaN"
      ]
     },
     "execution_count": 817,
     "metadata": {},
     "output_type": "execute_result"
    }
   ],
   "source": [
    "total_table.tail()"
   ]
  },
  {
   "cell_type": "code",
   "execution_count": 819,
   "metadata": {
    "ExecuteTime": {
     "end_time": "2020-03-10T10:38:17.876270Z",
     "start_time": "2020-03-10T10:38:17.864264Z"
    }
   },
   "outputs": [
    {
     "data": {
      "text/html": [
       "<div>\n",
       "<style scoped>\n",
       "    .dataframe tbody tr th:only-of-type {\n",
       "        vertical-align: middle;\n",
       "    }\n",
       "\n",
       "    .dataframe tbody tr th {\n",
       "        vertical-align: top;\n",
       "    }\n",
       "\n",
       "    .dataframe thead th {\n",
       "        text-align: right;\n",
       "    }\n",
       "</style>\n",
       "<table border=\"1\" class=\"dataframe\">\n",
       "  <thead>\n",
       "    <tr style=\"text-align: right;\">\n",
       "      <th></th>\n",
       "      <th>ID</th>\n",
       "      <th>num</th>\n",
       "      <th>riview</th>\n",
       "      <th>score</th>\n",
       "    </tr>\n",
       "  </thead>\n",
       "  <tbody>\n",
       "    <tr>\n",
       "      <th>19</th>\n",
       "      <td>123</td>\n",
       "      <td>2</td>\n",
       "      <td>여러 병원 다니다 주변분 소개로 갔는데 정말 친절하신 설명 감사하네요. 단 주차가 ...</td>\n",
       "      <td>별표 5개</td>\n",
       "    </tr>\n",
       "    <tr>\n",
       "      <th>21</th>\n",
       "      <td>123</td>\n",
       "      <td>0</td>\n",
       "      <td>집가까이 있어서 좋아요</td>\n",
       "      <td>별표 3개</td>\n",
       "    </tr>\n",
       "    <tr>\n",
       "      <th>23</th>\n",
       "      <td>123</td>\n",
       "      <td>4</td>\n",
       "      <td>완전 최고 의사선생님이 과잉진료없이 진료비 과대청구없이 성실히 진료해주세요 구로구에...</td>\n",
       "      <td>별표 5개</td>\n",
       "    </tr>\n",
       "    <tr>\n",
       "      <th>20</th>\n",
       "      <td>123</td>\n",
       "      <td>0</td>\n",
       "      <td>오랜 경험을 갖춘 진료와수술 전문의 수의사가있고 미용사도있고 최신식 의료기기및 수술...</td>\n",
       "      <td>별표 4개</td>\n",
       "    </tr>\n",
       "    <tr>\n",
       "      <th>22</th>\n",
       "      <td>123</td>\n",
       "      <td>1</td>\n",
       "      <td>NaN</td>\n",
       "      <td>NaN</td>\n",
       "    </tr>\n",
       "  </tbody>\n",
       "</table>\n",
       "</div>"
      ],
      "text/plain": [
       "     ID num                                             riview    score\n",
       "19  123   2  여러 병원 다니다 주변분 소개로 갔는데 정말 친절하신 설명 감사하네요. 단 주차가 ...   별표 5개 \n",
       "21  123   0                                       집가까이 있어서 좋아요   별표 3개 \n",
       "23  123   4  완전 최고 의사선생님이 과잉진료없이 진료비 과대청구없이 성실히 진료해주세요 구로구에...   별표 5개 \n",
       "20  123   0  오랜 경험을 갖춘 진료와수술 전문의 수의사가있고 미용사도있고 최신식 의료기기및 수술...   별표 4개 \n",
       "22  123   1                                                NaN      NaN"
      ]
     },
     "execution_count": 819,
     "metadata": {},
     "output_type": "execute_result"
    }
   ],
   "source": [
    "review_table.tail()"
   ]
  },
  {
   "cell_type": "code",
   "execution_count": null,
   "metadata": {},
   "outputs": [],
   "source": []
  },
  {
   "cell_type": "code",
   "execution_count": null,
   "metadata": {},
   "outputs": [],
   "source": []
  },
  {
   "cell_type": "code",
   "execution_count": null,
   "metadata": {},
   "outputs": [],
   "source": []
  },
  {
   "cell_type": "code",
   "execution_count": null,
   "metadata": {},
   "outputs": [],
   "source": []
  },
  {
   "cell_type": "code",
   "execution_count": null,
   "metadata": {},
   "outputs": [],
   "source": []
  },
  {
   "cell_type": "markdown",
   "metadata": {
    "ExecuteTime": {
     "end_time": "2020-03-10T06:44:50.511713Z",
     "start_time": "2020-03-10T06:44:50.504705Z"
    }
   },
   "source": [
    "> x-path 조절하기\n",
    "- http://blog.naver.com/PostView.nhn?blogId=kiddwannabe&logNo=221323738780&categoryNo=35&parentCategoryNo=0&viewDate=&currentPage=1&postListTopCurrentPage=1&from=postView\n",
    "\n",
    "> 스크롤 조절\n",
    "https://m.blog.naver.com/kiddwannabe/221310063239"
   ]
  },
  {
   "cell_type": "code",
   "execution_count": null,
   "metadata": {},
   "outputs": [],
   "source": []
  }
 ],
 "metadata": {
  "kernelspec": {
   "display_name": "Python 3",
   "language": "python",
   "name": "python3"
  },
  "language_info": {
   "codemirror_mode": {
    "name": "ipython",
    "version": 3
   },
   "file_extension": ".py",
   "mimetype": "text/x-python",
   "name": "python",
   "nbconvert_exporter": "python",
   "pygments_lexer": "ipython3",
   "version": "3.7.6"
  },
  "toc": {
   "base_numbering": 1,
   "nav_menu": {},
   "number_sections": false,
   "sideBar": true,
   "skip_h1_title": false,
   "title_cell": "Table of Contents",
   "title_sidebar": "Contents",
   "toc_cell": false,
   "toc_position": {
    "height": "calc(100% - 180px)",
    "left": "10px",
    "top": "150px",
    "width": "136.425px"
   },
   "toc_section_display": true,
   "toc_window_display": false
  }
 },
 "nbformat": 4,
 "nbformat_minor": 4
}
