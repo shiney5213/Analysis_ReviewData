{
 "cells": [
  {
   "cell_type": "markdown",
   "metadata": {},
   "source": [
    "# table\n",
    "###  병원 이름으로 검색\n",
    "#### match_table: 주소가 정확히 일치\n",
    "#### not_match_table: 구나 동이 일치\n",
    "#### x_table: 주소가 불일치"
   ]
  },
  {
   "cell_type": "code",
   "execution_count": 2,
   "metadata": {
    "ExecuteTime": {
     "end_time": "2020-03-20T03:51:15.047258Z",
     "start_time": "2020-03-20T03:51:00.884988Z"
    }
   },
   "outputs": [],
   "source": [
    "# import mysql.connector\n",
    "import pandas as pd\n",
    "from selenium import webdriver\n",
    "from bs4 import BeautifulSoup\n",
    "import time\n",
    "from selenium.webdriver.common.keys import Keys\n",
    "#from selenium.webdriver.support.ui import WebDriverWait\n",
    "from selenium.webdriver.support.wait import WebDriverWait\n",
    "from selenium.webdriver.support import expected_conditions as EC\n",
    "from selenium.common.exceptions import TimeoutException\n",
    "import numpy as np\n",
    "import sys"
   ]
  },
  {
   "cell_type": "markdown",
   "metadata": {},
   "source": [
    "### 1. crawrler "
   ]
  },
  {
   "cell_type": "code",
   "execution_count": 323,
   "metadata": {
    "ExecuteTime": {
     "end_time": "2020-03-19T15:00:10.118449Z",
     "start_time": "2020-03-19T14:59:50.555572Z"
    }
   },
   "outputs": [],
   "source": [
    "driver = webdriver.Chrome('chromedriver.exe')\n",
    "\n",
    "driver.get(\"http://www.google.com\")\n",
    "\n",
    "time.sleep(2)\n",
    "\n",
    "\n",
    "element = driver.find_element_by_name('q')\n",
    "\n",
    "element.clear()\n",
    "element.send_keys('google map')\n",
    "element.submit()\n",
    "\n",
    "element = driver.find_element_by_xpath('//h3[@class=\"LC20lb DKV0Md\"]')\n",
    "element.click()"
   ]
  },
  {
   "cell_type": "code",
   "execution_count": 308,
   "metadata": {
    "ExecuteTime": {
     "end_time": "2020-03-19T15:24:53.820886Z",
     "start_time": "2020-03-19T15:24:53.809790Z"
    }
   },
   "outputs": [],
   "source": [
    "# 주소와 total 별점 가져오기\n",
    "def get_totalScore(html,shop_address):\n",
    "    \n",
    "    \n",
    "    soup = BeautifulSoup(html, 'html.parser')\n",
    "\n",
    "    infos =soup.find_all('span',attrs = {'class': \"section-info-text\"} )\n",
    "#     print(infos)\n",
    "    \n",
    "    # shop 정보가 없는 경우\n",
    "    if len(infos)== 0:\n",
    "        total_score = ''\n",
    "        match = ''\n",
    "        address = ''\n",
    "        \n",
    "        return address, total_score\n",
    "    \n",
    "    # shop 정보가 있는 경우    \n",
    "    else:\n",
    "        address =infos[0].text\n",
    "        gu = shop_address[0] in address\n",
    "        dong = shop_address[1] in address\n",
    "        bungi = shop_address[2] in address\n",
    "        \n",
    "        \n",
    "        if (gu and dong and bungi) or (dong and bungi):\n",
    "            match = 'match_all'\n",
    "        elif gu :\n",
    "            match = 'match_gu'\n",
    "        elif dong:\n",
    "            match = 'match_dong'\n",
    "        else:\n",
    "            match = 'not_match' \n",
    "       \n",
    "        \n",
    "        total_score = soup.find_all('div',attrs = {'class': \"gm2-display-2\"} )\n",
    "\n",
    "        if len(total_score)!=0:\n",
    "            total_score = total_score[0].text\n",
    "        else:\n",
    "            total_score = 0\n",
    "    \n",
    "    return address, total_score, match"
   ]
  },
  {
   "cell_type": "code",
   "execution_count": 309,
   "metadata": {
    "ExecuteTime": {
     "end_time": "2020-03-19T15:24:54.476760Z",
     "start_time": "2020-03-19T15:24:54.458761Z"
    }
   },
   "outputs": [],
   "source": [
    "def get_info(html, shop_address):\n",
    "# shop 주소, 총 별점 갖고오기\n",
    "    address, total_score, match=get_totalScore(html,shop_address)\n",
    "    \n",
    "    # shop info가 있는가(addrsss로 확인)\n",
    "    if address = '':\n",
    "        review_list = ''\n",
    "        score_list = ''\n",
    "        return address, total_score, review_list, score_list, match \n",
    "\n",
    "    # 리뷰가 없는 경우    \n",
    "    if  total_score == 0:\n",
    "        review_list = 0\n",
    "        score_list= 0\n",
    "        \n",
    "    # 리뷰가 있는 경우\n",
    "    else:\n",
    "        # 리뷰 text(버튼 )클릭\n",
    "        review_button = driver.find_element_by_xpath('//button[@class=\"jqnFjrOWMVU__button gm2-caption\"]')\n",
    "        review_button.click()\n",
    "\n",
    "        time.sleep(2)\n",
    "\n",
    "        # 스크롤 다운\n",
    "        try:\n",
    "            element = driver.find_element_by_xpath('//span[@class=\"section-review-text\"]')\n",
    "            element.click()\n",
    "\n",
    "        except Exception as err:\n",
    "            print(err)\n",
    "\n",
    "        i = 0\n",
    "        while  True:\n",
    "            i += 1\n",
    "            html = driver.find_element_by_tag_name('html')\n",
    "            time.sleep(SCROLL_PAUSE_TIME)\n",
    "\n",
    "            text1 = html.text\n",
    "            html.send_keys(Keys.END)\n",
    "            time.sleep(SCROLL_PAUSE_TIME)\n",
    "\n",
    "            html = driver.find_element_by_tag_name('html')\n",
    "            text2 = html.text\n",
    "\n",
    "            if text1 == text2:\n",
    "                break\n",
    "            else:\n",
    "                continue\n",
    "    \n",
    "        review_html = driver.page_source\n",
    "\n",
    "        review_list, score_list=get_review(review_html) \n",
    "        driver.back()\n",
    "\n",
    "    return address, total_score, review_list, score_list, match"
   ]
  },
  {
   "cell_type": "code",
   "execution_count": 310,
   "metadata": {
    "ExecuteTime": {
     "end_time": "2020-03-19T15:24:55.092217Z",
     "start_time": "2020-03-19T15:24:55.082194Z"
    }
   },
   "outputs": [],
   "source": [
    "def get_review(html):\n",
    "    soup = BeautifulSoup(html, 'html.parser')\n",
    "    # 개별 리뷰\n",
    "    total_review =soup.find_all('span',attrs = {'class': \"section-review-text\"} )\n",
    "\n",
    "    review_list=[]\n",
    "    for i, review in enumerate(total_review):\n",
    "        review_list.append(review.text)\n",
    "\n",
    "    #### 개별 별점\n",
    "    scores =soup.find_all('span',attrs = {'class': \"section-review-stars\", 'role': 'img'} )\n",
    "\n",
    "    score_list = []\n",
    "    for score in scores:\n",
    "        score_list.append(score.attrs['aria-label'])\n",
    "\n",
    "    return review_list, score_list"
   ]
  },
  {
   "cell_type": "code",
   "execution_count": 311,
   "metadata": {
    "ExecuteTime": {
     "end_time": "2020-03-19T15:35:04.464395Z",
     "start_time": "2020-03-19T15:35:04.436369Z"
    }
   },
   "outputs": [],
   "source": [
    "def start_crwarling(k, forpet_hash,shop_name, shop_address):\n",
    "    print(k, shop_name, shop_address)\n",
    "\n",
    "    # shop 이름 입력\n",
    "    element = driver.find_element_by_xpath('//input[@autofocus=\"autofocus\"]')\n",
    "    element.clear()\n",
    "    \n",
    "#     search_word = shop_name + ' ' +shop_address[0]\n",
    "    search_word = shop_name\n",
    "    element.send_keys(search_word)\n",
    "    element.submit()\n",
    "    \n",
    "    search_button = driver.find_element_by_xpath('//button[@class=\"searchbox-searchbutton\"]')\n",
    "    search_button.click()\n",
    "    \n",
    "    time.sleep(SCROLL_PAUSE_TIME)\n",
    "\n",
    "    # 키워드 입력 후, dict로 인덱스와 match 여부 받아오기\n",
    "    select_shop_html = driver.page_source\n",
    "    shop_select_dict= find_shop_by_address(select_shop_html, shop_name, shop_address)\n",
    "    \n",
    "    # shoh이 여러개인 경우\n",
    "    if len(shop_select_dict) != 0:\n",
    "        print(f'shop이 {len(shop_select_dict)}개입니다')\n",
    "        for index, (address, match) in shop_select_dict.items():\n",
    "            shop_index =  2 * int(index) -1\n",
    "#             print('shop_index', shop_index)\n",
    "            match = match\n",
    "\n",
    "            time.sleep(5)\n",
    "\n",
    "            select_shop = driver.find_element_by_xpath(f'//div[@class = \"section-layout section-scrollbox scrollable-y scrollable-show section-layout-flex-vertical\"]/div/div[{shop_index}]/div[1]/div[1]')\n",
    "            \n",
    "            select_shop.click()\n",
    "\n",
    "            time.sleep(SCROLL_PAUSE_TIME)\n",
    "\n",
    "            html = driver.page_source\n",
    "\n",
    "            address, total_score, review_list, score_list, match =get_info(html, shop_address, match)\n",
    "            print(f'{index}번째 shop:', address, total_score, match )\n",
    "    \n",
    "            save_dataframe(forpet_hash, shop_name, shop_address, address, total_score, review_list, score_list, match)\n",
    "        \n",
    "            time.sleep(SCROLL_PAUSE_TIME)\n",
    "            driver.back()  \n",
    "     \n",
    "    # shop이 1개 인경우\n",
    "    else:\n",
    "        print('shop이 1개입니다')\n",
    "        html = driver.page_source\n",
    "        address, total_score, review_list, score_list, match =get_info(html, shop_address, match= '')\n",
    "        print(f'shop 1개, {shop_name}, {address}, {match} ')\n",
    "        \n",
    "        save_dataframe(forpet_hash, shop_name, shop_address, address, total_score, review_list, score_list, match)\n",
    "    driver.back()  \n",
    "\n",
    "    return x_cnt, match_cnt, not_match_cnt    \n",
    "    "
   ]
  },
  {
   "cell_type": "code",
   "execution_count": 322,
   "metadata": {},
   "outputs": [],
   "source": [
    "def save_dataframe(forpet_hash, shop_name, shop_address, address, total_score, review_list, score_list, match):\n",
    "    \n",
    "    # shop 정보가 없는 경우\n",
    "    if address == '':\n",
    "        not_info_table_insert(not_info_table, forpet_hash, shop_name)\n",
    "    \n",
    "    # shop 정보가 있는 경우\n",
    "    else:\n",
    "        # match 여부에 따라\n",
    "        if 'all' in match:\n",
    "            table_total = match_total_table\n",
    "            table_review = match_review_table\n",
    "\n",
    "        elif match == 'X':\n",
    "            table_total = x_total_table\n",
    "            table_review = x_review_table\n",
    "\n",
    "        else:    \n",
    "            table_total = not_match_total_table\n",
    "            table_review = not_match_review_table\n",
    "\n",
    "        total_table_insert(table_total, forpet_hash, shop_name, shop_address, address, total_score, review_list, match)\n",
    "        review_table_insert(table_review, forpet_hash, shop_name, shop_address, address, review_list, score_list, match)   \n"
   ]
  },
  {
   "cell_type": "code",
   "execution_count": 320,
   "metadata": {
    "ExecuteTime": {
     "end_time": "2020-03-19T15:24:53.392777Z",
     "start_time": "2020-03-19T15:24:53.385812Z"
    }
   },
   "outputs": [],
   "source": [
    "# 여러개의  shop 목록에서 주소로 찾기\n",
    "def find_shop_by_address(select_shop_html, shop_name, shop_address):\n",
    "    soup = BeautifulSoup(select_shop_html, 'html.parser')\n",
    "#     print(select_shop_html)\n",
    "    all_shop_name = soup.find_all('div', attrs = {'class': \"section-result-title-container\"} )\n",
    "    all_address =soup.find_all('span', attrs = {'class': \"section-result-location\"} )\n",
    "    \n",
    "    shop_index = 0\n",
    "    shop_select_dict = {}\n",
    "    for i, (shop,address) in enumerate(zip(all_shop_name, all_address)):\n",
    "        print('address_list', i, shop.text, address.text)\n",
    "        include_word = ['동물', '펫', '애견', 'dot','cat','도그','캣','pet']\n",
    "        name_include_word = sum([ word in shop.text  for word in include_word]) \n",
    "        \n",
    "        gu = shop_address[0] in address.text\n",
    "        dong = shop_address[1] in address.text\n",
    "        bungi = shop_address[2] in address.text\n",
    "        \n",
    "        # 이름이 같은 경우\n",
    "        if shop_name == shop.text :\n",
    "            if (gu and dong and bungi) or (dong and bungi):\n",
    "                shop_select_dict[str(i+1)] = [shop_name, address.text, 'match_all']\n",
    "            elif gu :\n",
    "                shop_select_dict[str(i+1)] = [shop_name, address.text, 'match_gu']\n",
    "            elif dong:\n",
    "                shop_select_dict[str(i+1)] = [shop_name, address.text, 'match_dong']\n",
    "            else:\n",
    "                shop_select_dict[str(i+1)] = [shop_name, address.text, 'not_match']    \n",
    "        # 이름이 비슷한 경우\n",
    "        elif name_include_word >= 1:\n",
    "            shop_select_dict[str(i+1)] = [shop.text, address.text, 'X']\n",
    "        else:\n",
    "            pass\n",
    "    print(shop_select_dict)\n",
    "    return shop_select_dict\n"
   ]
  },
  {
   "cell_type": "code",
   "execution_count": 314,
   "metadata": {
    "scrolled": true
   },
   "outputs": [
    {
     "data": {
      "text/html": [
       "<div>\n",
       "<style scoped>\n",
       "    .dataframe tbody tr th:only-of-type {\n",
       "        vertical-align: middle;\n",
       "    }\n",
       "\n",
       "    .dataframe tbody tr th {\n",
       "        vertical-align: top;\n",
       "    }\n",
       "\n",
       "    .dataframe thead th {\n",
       "        text-align: right;\n",
       "    }\n",
       "</style>\n",
       "<table border=\"1\" class=\"dataframe\">\n",
       "  <thead>\n",
       "    <tr style=\"text-align: right;\">\n",
       "      <th></th>\n",
       "      <th>forpet_hash</th>\n",
       "      <th>address_name</th>\n",
       "      <th>place_name</th>\n",
       "    </tr>\n",
       "  </thead>\n",
       "  <tbody>\n",
       "    <tr>\n",
       "      <th>6178</th>\n",
       "      <td>7c6e1b90cbc5f712619cac8a94ce05f759df90bac2571a...</td>\n",
       "      <td>광주 북구 삼각동 780-1</td>\n",
       "      <td>이든동물병원</td>\n",
       "    </tr>\n",
       "    <tr>\n",
       "      <th>6432</th>\n",
       "      <td>3f0be225036eb3a9b0c713e6980bf983e43ea61b22d9d6...</td>\n",
       "      <td>경기 수원시 팔달구 화서동 743</td>\n",
       "      <td>이든동물병원</td>\n",
       "    </tr>\n",
       "  </tbody>\n",
       "</table>\n",
       "</div>"
      ],
      "text/plain": [
       "                                            forpet_hash        address_name  \\\n",
       "6178  7c6e1b90cbc5f712619cac8a94ce05f759df90bac2571a...     광주 북구 삼각동 780-1   \n",
       "6432  3f0be225036eb3a9b0c713e6980bf983e43ea61b22d9d6...  경기 수원시 팔달구 화서동 743   \n",
       "\n",
       "     place_name  \n",
       "6178     이든동물병원  \n",
       "6432     이든동물병원  "
      ]
     },
     "execution_count": 314,
     "metadata": {},
     "output_type": "execute_result"
    }
   ],
   "source": [
    "practice_table =ordinary_table[ordinary_table['place_name']=='이든동물병원']\n",
    "practice_table"
   ]
  },
  {
   "cell_type": "code",
   "execution_count": 315,
   "metadata": {},
   "outputs": [
    {
     "name": "stdout",
     "output_type": "stream",
     "text": [
      "0 이든동물병원 ['북구', '삼각동', '780-1']\n",
      "{}\n",
      "shop이 1개입니다\n"
     ]
    },
    {
     "ename": "ValueError",
     "evalue": "too many values to unpack (expected 2)",
     "output_type": "error",
     "traceback": [
      "\u001b[1;31m---------------------------------------------------------------------------\u001b[0m",
      "\u001b[1;31mValueError\u001b[0m                                Traceback (most recent call last)",
      "\u001b[1;32m<ipython-input-315-86fc1823dc41>\u001b[0m in \u001b[0;36m<module>\u001b[1;34m\u001b[0m\n\u001b[0;32m      5\u001b[0m \u001b[1;33m\u001b[0m\u001b[0m\n\u001b[0;32m      6\u001b[0m     \u001b[0mshop_address\u001b[0m \u001b[1;33m=\u001b[0m\u001b[0maddress_name\u001b[0m\u001b[1;33m.\u001b[0m\u001b[0msplit\u001b[0m\u001b[1;33m(\u001b[0m\u001b[1;34m' '\u001b[0m\u001b[1;33m)\u001b[0m\u001b[1;33m[\u001b[0m\u001b[1;36m1\u001b[0m\u001b[1;33m:\u001b[0m\u001b[1;33m]\u001b[0m\u001b[1;33m\u001b[0m\u001b[1;33m\u001b[0m\u001b[0m\n\u001b[1;32m----> 7\u001b[1;33m     \u001b[0mx_cnt\u001b[0m\u001b[1;33m,\u001b[0m \u001b[0mmatch_cnt\u001b[0m\u001b[1;33m,\u001b[0m \u001b[0mnot_match_cnt\u001b[0m \u001b[1;33m=\u001b[0m  \u001b[0mstart_crwarling\u001b[0m\u001b[1;33m(\u001b[0m\u001b[0mk\u001b[0m\u001b[1;33m,\u001b[0m \u001b[0mforpet_hash\u001b[0m\u001b[1;33m,\u001b[0m \u001b[0mplace_name\u001b[0m\u001b[1;33m,\u001b[0m \u001b[0mshop_address\u001b[0m\u001b[1;33m)\u001b[0m\u001b[1;33m\u001b[0m\u001b[1;33m\u001b[0m\u001b[0m\n\u001b[0m\u001b[0;32m      8\u001b[0m \u001b[1;33m\u001b[0m\u001b[0m\n\u001b[0;32m      9\u001b[0m     \u001b[1;32mtry\u001b[0m\u001b[1;33m:\u001b[0m\u001b[1;33m\u001b[0m\u001b[1;33m\u001b[0m\u001b[0m\n",
      "\u001b[1;32m<ipython-input-311-734f7af0dda3>\u001b[0m in \u001b[0;36mstart_crwarling\u001b[1;34m(k, forpet_hash, shop_name, shop_address)\u001b[0m\n\u001b[0;32m     50\u001b[0m         \u001b[0mprint\u001b[0m\u001b[1;33m(\u001b[0m\u001b[1;34m'shop이 1개입니다'\u001b[0m\u001b[1;33m)\u001b[0m\u001b[1;33m\u001b[0m\u001b[1;33m\u001b[0m\u001b[0m\n\u001b[0;32m     51\u001b[0m         \u001b[0mhtml\u001b[0m \u001b[1;33m=\u001b[0m \u001b[0mdriver\u001b[0m\u001b[1;33m.\u001b[0m\u001b[0mpage_source\u001b[0m\u001b[1;33m\u001b[0m\u001b[1;33m\u001b[0m\u001b[0m\n\u001b[1;32m---> 52\u001b[1;33m         \u001b[0maddress\u001b[0m\u001b[1;33m,\u001b[0m \u001b[0mtotal_score\u001b[0m\u001b[1;33m,\u001b[0m \u001b[0mreview_list\u001b[0m\u001b[1;33m,\u001b[0m \u001b[0mscore_list\u001b[0m\u001b[1;33m,\u001b[0m \u001b[0mmatch\u001b[0m \u001b[1;33m=\u001b[0m\u001b[0mget_info\u001b[0m\u001b[1;33m(\u001b[0m\u001b[0mhtml\u001b[0m\u001b[1;33m,\u001b[0m \u001b[0mshop_address\u001b[0m\u001b[1;33m,\u001b[0m \u001b[0mmatch\u001b[0m\u001b[1;33m=\u001b[0m \u001b[1;34m''\u001b[0m\u001b[1;33m)\u001b[0m\u001b[1;33m\u001b[0m\u001b[1;33m\u001b[0m\u001b[0m\n\u001b[0m\u001b[0;32m     53\u001b[0m         \u001b[0mprint\u001b[0m\u001b[1;33m(\u001b[0m\u001b[1;34mf'shop 1개, {shop_name}, {address}, {match} '\u001b[0m\u001b[1;33m)\u001b[0m\u001b[1;33m\u001b[0m\u001b[1;33m\u001b[0m\u001b[0m\n\u001b[0;32m     54\u001b[0m \u001b[1;33m\u001b[0m\u001b[0m\n",
      "\u001b[1;32m<ipython-input-309-d0a06413ae43>\u001b[0m in \u001b[0;36mget_info\u001b[1;34m(html, shop_address, match)\u001b[0m\n\u001b[0;32m      1\u001b[0m \u001b[1;32mdef\u001b[0m \u001b[0mget_info\u001b[0m\u001b[1;33m(\u001b[0m\u001b[0mhtml\u001b[0m\u001b[1;33m,\u001b[0m \u001b[0mshop_address\u001b[0m\u001b[1;33m,\u001b[0m \u001b[0mmatch\u001b[0m\u001b[1;33m)\u001b[0m\u001b[1;33m:\u001b[0m\u001b[1;33m\u001b[0m\u001b[1;33m\u001b[0m\u001b[0m\n\u001b[0;32m      2\u001b[0m \u001b[1;31m# shop 주소, 총 별점 갖고오기\u001b[0m\u001b[1;33m\u001b[0m\u001b[1;33m\u001b[0m\u001b[1;33m\u001b[0m\u001b[0m\n\u001b[1;32m----> 3\u001b[1;33m     \u001b[0maddress\u001b[0m\u001b[1;33m,\u001b[0m \u001b[0mtotal_score\u001b[0m\u001b[1;33m=\u001b[0m\u001b[0mget_totalScore\u001b[0m\u001b[1;33m(\u001b[0m\u001b[0mhtml\u001b[0m\u001b[1;33m,\u001b[0m\u001b[0mshop_address\u001b[0m\u001b[1;33m)\u001b[0m\u001b[1;33m\u001b[0m\u001b[1;33m\u001b[0m\u001b[0m\n\u001b[0m\u001b[0;32m      4\u001b[0m \u001b[1;33m\u001b[0m\u001b[0m\n\u001b[0;32m      5\u001b[0m     \u001b[1;31m# shop 정보가 없는 경우\u001b[0m\u001b[1;33m\u001b[0m\u001b[1;33m\u001b[0m\u001b[1;33m\u001b[0m\u001b[0m\n",
      "\u001b[1;31mValueError\u001b[0m: too many values to unpack (expected 2)"
     ]
    }
   ],
   "source": [
    "SCROLL_PAUSE_TIME = 2\n",
    "all_cnt = 0\n",
    "for k in range(len(practice_table)):\n",
    "    forpet_hash, address_name, place_name= practice_table.iloc[k] \n",
    "  \n",
    "    shop_address =address_name.split(' ')[1:]\n",
    "    x_cnt, match_cnt, not_match_cnt =  start_crwarling(k, forpet_hash, place_name, shop_address)\n",
    " \n",
    "    try:\n",
    "        back_button = driver.find_element_by_xpath('//button[@class=\"ozj7Vb3wnYq__action-button-clickable\"]')\n",
    "        back_button.click()\n",
    "    except:\n",
    "        pass"
   ]
  },
  {
   "cell_type": "code",
   "execution_count": 305,
   "metadata": {},
   "outputs": [
    {
     "name": "stdout",
     "output_type": "stream",
     "text": [
      "match_total_table 0\n",
      "match_review_table 0\n",
      "not_match_total_table 1\n",
      "not_match_review_table 0\n",
      "x_total_table 0\n",
      "x_review_table 0\n"
     ]
    }
   ],
   "source": [
    "print('match_total_table',len(match_total_table))\n",
    "print('match_review_table',len(match_review_table))\n",
    "\n",
    "print('not_match_total_table',len(not_match_total_table))\n",
    "print('not_match_review_table',len(not_match_review_table))\n",
    "\n",
    "print('x_total_table', len(x_total_table))\n",
    "print('x_review_table', len(x_review_table))"
   ]
  },
  {
   "cell_type": "code",
   "execution_count": 306,
   "metadata": {},
   "outputs": [
    {
     "data": {
      "text/html": [
       "<div>\n",
       "<style scoped>\n",
       "    .dataframe tbody tr th:only-of-type {\n",
       "        vertical-align: middle;\n",
       "    }\n",
       "\n",
       "    .dataframe tbody tr th {\n",
       "        vertical-align: top;\n",
       "    }\n",
       "\n",
       "    .dataframe thead th {\n",
       "        text-align: right;\n",
       "    }\n",
       "</style>\n",
       "<table border=\"1\" class=\"dataframe\">\n",
       "  <thead>\n",
       "    <tr style=\"text-align: right;\">\n",
       "      <th></th>\n",
       "      <th>forpet_hash</th>\n",
       "      <th>shop_name</th>\n",
       "      <th>shop_address</th>\n",
       "      <th>address</th>\n",
       "      <th>num</th>\n",
       "      <th>review</th>\n",
       "      <th>score</th>\n",
       "      <th>match</th>\n",
       "    </tr>\n",
       "  </thead>\n",
       "  <tbody>\n",
       "  </tbody>\n",
       "</table>\n",
       "</div>"
      ],
      "text/plain": [
       "Empty DataFrame\n",
       "Columns: [forpet_hash, shop_name, shop_address, address, num, review, score, match]\n",
       "Index: []"
      ]
     },
     "execution_count": 306,
     "metadata": {},
     "output_type": "execute_result"
    }
   ],
   "source": [
    "not_match_review_table"
   ]
  },
  {
   "cell_type": "code",
   "execution_count": null,
   "metadata": {},
   "outputs": [],
   "source": []
  },
  {
   "cell_type": "code",
   "execution_count": null,
   "metadata": {},
   "outputs": [],
   "source": []
  },
  {
   "cell_type": "code",
   "execution_count": null,
   "metadata": {},
   "outputs": [],
   "source": []
  },
  {
   "cell_type": "code",
   "execution_count": null,
   "metadata": {},
   "outputs": [],
   "source": []
  },
  {
   "cell_type": "code",
   "execution_count": null,
   "metadata": {},
   "outputs": [],
   "source": []
  },
  {
   "cell_type": "code",
   "execution_count": null,
   "metadata": {},
   "outputs": [],
   "source": []
  },
  {
   "cell_type": "markdown",
   "metadata": {},
   "source": [
    "### 2. table\n",
    "#### 1. total table"
   ]
  },
  {
   "cell_type": "code",
   "execution_count": 294,
   "metadata": {
    "ExecuteTime": {
     "end_time": "2020-03-19T15:40:15.881314Z",
     "start_time": "2020-03-19T15:40:15.866335Z"
    }
   },
   "outputs": [
    {
     "data": {
      "text/html": [
       "<div>\n",
       "<style scoped>\n",
       "    .dataframe tbody tr th:only-of-type {\n",
       "        vertical-align: middle;\n",
       "    }\n",
       "\n",
       "    .dataframe tbody tr th {\n",
       "        vertical-align: top;\n",
       "    }\n",
       "\n",
       "    .dataframe thead th {\n",
       "        text-align: right;\n",
       "    }\n",
       "</style>\n",
       "<table border=\"1\" class=\"dataframe\">\n",
       "  <thead>\n",
       "    <tr style=\"text-align: right;\">\n",
       "      <th></th>\n",
       "      <th>forpet_hash</th>\n",
       "      <th>shop_name</th>\n",
       "      <th>shop_address</th>\n",
       "      <th>address</th>\n",
       "      <th>total_score</th>\n",
       "      <th>review_num</th>\n",
       "      <th>match</th>\n",
       "    </tr>\n",
       "  </thead>\n",
       "  <tbody>\n",
       "  </tbody>\n",
       "</table>\n",
       "</div>"
      ],
      "text/plain": [
       "Empty DataFrame\n",
       "Columns: [forpet_hash, shop_name, shop_address, address, total_score, review_num, match]\n",
       "Index: []"
      ]
     },
     "execution_count": 294,
     "metadata": {},
     "output_type": "execute_result"
    }
   ],
   "source": [
    "not_match_total_table= pd.DataFrame(columns = ['forpet_hash', 'shop_name', 'shop_address', 'address','total_score', 'review_num','match'])\n",
    "not_match_total_table"
   ]
  },
  {
   "cell_type": "code",
   "execution_count": 295,
   "metadata": {
    "ExecuteTime": {
     "end_time": "2020-03-19T15:40:16.080008Z",
     "start_time": "2020-03-19T15:40:16.067008Z"
    }
   },
   "outputs": [
    {
     "data": {
      "text/html": [
       "<div>\n",
       "<style scoped>\n",
       "    .dataframe tbody tr th:only-of-type {\n",
       "        vertical-align: middle;\n",
       "    }\n",
       "\n",
       "    .dataframe tbody tr th {\n",
       "        vertical-align: top;\n",
       "    }\n",
       "\n",
       "    .dataframe thead th {\n",
       "        text-align: right;\n",
       "    }\n",
       "</style>\n",
       "<table border=\"1\" class=\"dataframe\">\n",
       "  <thead>\n",
       "    <tr style=\"text-align: right;\">\n",
       "      <th></th>\n",
       "      <th>forpet_hash</th>\n",
       "      <th>shop_name</th>\n",
       "      <th>shop_address</th>\n",
       "      <th>address</th>\n",
       "      <th>total_score</th>\n",
       "      <th>review_num</th>\n",
       "      <th>match</th>\n",
       "    </tr>\n",
       "  </thead>\n",
       "  <tbody>\n",
       "  </tbody>\n",
       "</table>\n",
       "</div>"
      ],
      "text/plain": [
       "Empty DataFrame\n",
       "Columns: [forpet_hash, shop_name, shop_address, address, total_score, review_num, match]\n",
       "Index: []"
      ]
     },
     "execution_count": 295,
     "metadata": {},
     "output_type": "execute_result"
    }
   ],
   "source": [
    "match_total_table= pd.DataFrame(columns = ['forpet_hash', 'shop_name', 'shop_address', 'address','total_score', 'review_num','match'])\n",
    "match_total_table"
   ]
  },
  {
   "cell_type": "code",
   "execution_count": 296,
   "metadata": {},
   "outputs": [
    {
     "data": {
      "text/html": [
       "<div>\n",
       "<style scoped>\n",
       "    .dataframe tbody tr th:only-of-type {\n",
       "        vertical-align: middle;\n",
       "    }\n",
       "\n",
       "    .dataframe tbody tr th {\n",
       "        vertical-align: top;\n",
       "    }\n",
       "\n",
       "    .dataframe thead th {\n",
       "        text-align: right;\n",
       "    }\n",
       "</style>\n",
       "<table border=\"1\" class=\"dataframe\">\n",
       "  <thead>\n",
       "    <tr style=\"text-align: right;\">\n",
       "      <th></th>\n",
       "      <th>forpet_hash</th>\n",
       "      <th>shop_name</th>\n",
       "      <th>shop_address</th>\n",
       "      <th>address</th>\n",
       "      <th>total_score</th>\n",
       "      <th>review_num</th>\n",
       "      <th>match</th>\n",
       "    </tr>\n",
       "  </thead>\n",
       "  <tbody>\n",
       "  </tbody>\n",
       "</table>\n",
       "</div>"
      ],
      "text/plain": [
       "Empty DataFrame\n",
       "Columns: [forpet_hash, shop_name, shop_address, address, total_score, review_num, match]\n",
       "Index: []"
      ]
     },
     "execution_count": 296,
     "metadata": {},
     "output_type": "execute_result"
    }
   ],
   "source": [
    "x_total_table= pd.DataFrame(columns = ['forpet_hash', 'shop_name', 'shop_address', 'address','total_score', 'review_num','match'])\n",
    "x_total_table"
   ]
  },
  {
   "cell_type": "code",
   "execution_count": 297,
   "metadata": {
    "ExecuteTime": {
     "end_time": "2020-03-19T15:40:16.307909Z",
     "start_time": "2020-03-19T15:40:16.296876Z"
    }
   },
   "outputs": [],
   "source": [
    "def total_table_insert(total_table, forpet_hash, shop_name, shop_address, address, total_score, review_list, match):\n",
    "    if len(total_table[total_table['address']== address]) == 0:\n",
    "        # shop 정보가 없고, total_sclre가 없는 경우\n",
    "        if total_score == '':\n",
    "            total_table.loc[len(total_table)+1] = [forpet_hash, shop_name, shop_address,  address, np.nan, np.nan, match]\n",
    "        # shop 정보가 있고, total_score가 있는 경우\n",
    "        elif total_score == 0:\n",
    "            total_table.loc[len(total_table)+1] = [forpet_hash, shop_name, shop_address, address, 0, 0, match]\n",
    "\n",
    "        #total score이 없는 경우\n",
    "        else:\n",
    "            total_table.loc[len(total_table)+1] = [forpet_hash, shop_name, shop_address, address,total_score, len(review_list), match]\n",
    "        print(f'total_table: {shop_name}, {address} 등록완료')\n",
    "    else:\n",
    "        print(f'total_table: {shop_name}, {address} 이미 있음')\n",
    "    return total_table"
   ]
  },
  {
   "cell_type": "markdown",
   "metadata": {
    "ExecuteTime": {
     "end_time": "2020-03-10T09:58:53.111871Z",
     "start_time": "2020-03-10T09:58:53.107873Z"
    }
   },
   "source": [
    "#### 2. review table"
   ]
  },
  {
   "cell_type": "code",
   "execution_count": 298,
   "metadata": {
    "ExecuteTime": {
     "end_time": "2020-03-19T15:40:16.703246Z",
     "start_time": "2020-03-19T15:40:16.682246Z"
    }
   },
   "outputs": [
    {
     "data": {
      "text/html": [
       "<div>\n",
       "<style scoped>\n",
       "    .dataframe tbody tr th:only-of-type {\n",
       "        vertical-align: middle;\n",
       "    }\n",
       "\n",
       "    .dataframe tbody tr th {\n",
       "        vertical-align: top;\n",
       "    }\n",
       "\n",
       "    .dataframe thead th {\n",
       "        text-align: right;\n",
       "    }\n",
       "</style>\n",
       "<table border=\"1\" class=\"dataframe\">\n",
       "  <thead>\n",
       "    <tr style=\"text-align: right;\">\n",
       "      <th></th>\n",
       "      <th>forpet_hash</th>\n",
       "      <th>shop_name</th>\n",
       "      <th>shop_address</th>\n",
       "      <th>address</th>\n",
       "      <th>num</th>\n",
       "      <th>review</th>\n",
       "      <th>score</th>\n",
       "      <th>match</th>\n",
       "    </tr>\n",
       "  </thead>\n",
       "  <tbody>\n",
       "  </tbody>\n",
       "</table>\n",
       "</div>"
      ],
      "text/plain": [
       "Empty DataFrame\n",
       "Columns: [forpet_hash, shop_name, shop_address, address, num, review, score, match]\n",
       "Index: []"
      ]
     },
     "execution_count": 298,
     "metadata": {},
     "output_type": "execute_result"
    }
   ],
   "source": [
    "not_match_review_table= pd.DataFrame(columns = ['forpet_hash', 'shop_name','shop_address','address', 'num', 'review', 'score', 'match'])\n",
    "not_match_review_table"
   ]
  },
  {
   "cell_type": "code",
   "execution_count": 299,
   "metadata": {
    "ExecuteTime": {
     "end_time": "2020-03-19T15:40:16.884244Z",
     "start_time": "2020-03-19T15:40:16.862242Z"
    }
   },
   "outputs": [
    {
     "data": {
      "text/html": [
       "<div>\n",
       "<style scoped>\n",
       "    .dataframe tbody tr th:only-of-type {\n",
       "        vertical-align: middle;\n",
       "    }\n",
       "\n",
       "    .dataframe tbody tr th {\n",
       "        vertical-align: top;\n",
       "    }\n",
       "\n",
       "    .dataframe thead th {\n",
       "        text-align: right;\n",
       "    }\n",
       "</style>\n",
       "<table border=\"1\" class=\"dataframe\">\n",
       "  <thead>\n",
       "    <tr style=\"text-align: right;\">\n",
       "      <th></th>\n",
       "      <th>forpet_hash</th>\n",
       "      <th>shop_name</th>\n",
       "      <th>shop_address</th>\n",
       "      <th>address</th>\n",
       "      <th>num</th>\n",
       "      <th>review</th>\n",
       "      <th>score</th>\n",
       "      <th>match</th>\n",
       "    </tr>\n",
       "  </thead>\n",
       "  <tbody>\n",
       "  </tbody>\n",
       "</table>\n",
       "</div>"
      ],
      "text/plain": [
       "Empty DataFrame\n",
       "Columns: [forpet_hash, shop_name, shop_address, address, num, review, score, match]\n",
       "Index: []"
      ]
     },
     "execution_count": 299,
     "metadata": {},
     "output_type": "execute_result"
    }
   ],
   "source": [
    "match_review_table= pd.DataFrame(columns = ['forpet_hash','shop_name','shop_address','address', 'num', 'review', 'score', 'match'])\n",
    "match_review_table"
   ]
  },
  {
   "cell_type": "code",
   "execution_count": 300,
   "metadata": {},
   "outputs": [
    {
     "data": {
      "text/html": [
       "<div>\n",
       "<style scoped>\n",
       "    .dataframe tbody tr th:only-of-type {\n",
       "        vertical-align: middle;\n",
       "    }\n",
       "\n",
       "    .dataframe tbody tr th {\n",
       "        vertical-align: top;\n",
       "    }\n",
       "\n",
       "    .dataframe thead th {\n",
       "        text-align: right;\n",
       "    }\n",
       "</style>\n",
       "<table border=\"1\" class=\"dataframe\">\n",
       "  <thead>\n",
       "    <tr style=\"text-align: right;\">\n",
       "      <th></th>\n",
       "      <th>forpet_hash</th>\n",
       "      <th>shop_name</th>\n",
       "      <th>shop_address</th>\n",
       "      <th>address</th>\n",
       "      <th>num</th>\n",
       "      <th>review</th>\n",
       "      <th>score</th>\n",
       "      <th>match</th>\n",
       "    </tr>\n",
       "  </thead>\n",
       "  <tbody>\n",
       "  </tbody>\n",
       "</table>\n",
       "</div>"
      ],
      "text/plain": [
       "Empty DataFrame\n",
       "Columns: [forpet_hash, shop_name, shop_address, address, num, review, score, match]\n",
       "Index: []"
      ]
     },
     "execution_count": 300,
     "metadata": {},
     "output_type": "execute_result"
    }
   ],
   "source": [
    "x_review_table= pd.DataFrame(columns = ['forpet_hash', 'shop_name','shop_address','address', 'num', 'review', 'score', 'match'])\n",
    "x_review_table"
   ]
  },
  {
   "cell_type": "code",
   "execution_count": 301,
   "metadata": {
    "ExecuteTime": {
     "end_time": "2020-03-19T15:40:17.041243Z",
     "start_time": "2020-03-19T15:40:17.028246Z"
    }
   },
   "outputs": [],
   "source": [
    "def review_table_insert(review_table, forpet_hash, shop_name, shop_address, address, review_list, score_list, match):\n",
    "    if len(review_table[review_table['address']== address]) == 0:\n",
    "        # shop 정보가 없고, total_sclre가 없는 경우\n",
    "        if review_list == '':\n",
    "            review_table.loc[len(review_table)+1] = [forpet_hash, shop_name, shop_address, address, 1,  np.nan, np.nan, match]\n",
    "            print(f'review_table: {shop_name}, {address} 등록완료')\n",
    "\n",
    "        # shop 정보가 있고, total_score가 있는 경우\n",
    "        elif review_list == 0:\n",
    "            review_table.loc[len(review_table)+1] = [forpet_hash, shop_name, shop_address, address, 1, 0, 0, match]\n",
    "            print(f'review_table: {shop_name}, {address} 등록완료')\n",
    "\n",
    "        #total score이 없는 경우\n",
    "        else:\n",
    "            for i, (review, score, match) in enumerate(zip(review_list, score_list, match)):\n",
    "                review_table.loc[i+1+len(review_table)] = [forpet_hash, shop_name, shop_address, address, i, review, score, match]\n",
    "            print(f'review_table: {shop_name}, {address}, {len(review_list)} 등록완료')\n",
    "    else:\n",
    "        print(f'review_table: {shop_name}, {address} 이미 있음')\n",
    "\n",
    "    return review_table"
   ]
  },
  {
   "cell_type": "markdown",
   "metadata": {},
   "source": [
    "#### 3.not_info_table"
   ]
  },
  {
   "cell_type": "code",
   "execution_count": 318,
   "metadata": {
    "ExecuteTime": {
     "end_time": "2020-03-19T15:40:17.202235Z",
     "start_time": "2020-03-19T15:40:17.187275Z"
    }
   },
   "outputs": [
    {
     "data": {
      "text/html": [
       "<div>\n",
       "<style scoped>\n",
       "    .dataframe tbody tr th:only-of-type {\n",
       "        vertical-align: middle;\n",
       "    }\n",
       "\n",
       "    .dataframe tbody tr th {\n",
       "        vertical-align: top;\n",
       "    }\n",
       "\n",
       "    .dataframe thead th {\n",
       "        text-align: right;\n",
       "    }\n",
       "</style>\n",
       "<table border=\"1\" class=\"dataframe\">\n",
       "  <thead>\n",
       "    <tr style=\"text-align: right;\">\n",
       "      <th></th>\n",
       "      <th>forpet_hash</th>\n",
       "      <th>shop_name</th>\n",
       "    </tr>\n",
       "  </thead>\n",
       "  <tbody>\n",
       "  </tbody>\n",
       "</table>\n",
       "</div>"
      ],
      "text/plain": [
       "Empty DataFrame\n",
       "Columns: [forpet_hash, shop_name]\n",
       "Index: []"
      ]
     },
     "execution_count": 318,
     "metadata": {},
     "output_type": "execute_result"
    }
   ],
   "source": [
    "not_info_table = pd.DataFrame(columns = ['forpet_hash', 'shop_name'])\n",
    "not_info_table"
   ]
  },
  {
   "cell_type": "code",
   "execution_count": 319,
   "metadata": {
    "ExecuteTime": {
     "end_time": "2020-03-19T15:40:17.346613Z",
     "start_time": "2020-03-19T15:40:17.341611Z"
    }
   },
   "outputs": [],
   "source": [
    "def not_info_table_insert(not_info_table, forpet_hash, shop_name):\n",
    "    not_info_table.loc[1+len(not_info_table)] = [forpet_hash, shop_name]\n",
    "    return not_info_table"
   ]
  },
  {
   "cell_type": "markdown",
   "metadata": {},
   "source": [
    "### 3. ordinary table"
   ]
  },
  {
   "cell_type": "code",
   "execution_count": 35,
   "metadata": {},
   "outputs": [
    {
     "data": {
      "text/html": [
       "<div>\n",
       "<style scoped>\n",
       "    .dataframe tbody tr th:only-of-type {\n",
       "        vertical-align: middle;\n",
       "    }\n",
       "\n",
       "    .dataframe tbody tr th {\n",
       "        vertical-align: top;\n",
       "    }\n",
       "\n",
       "    .dataframe thead th {\n",
       "        text-align: right;\n",
       "    }\n",
       "</style>\n",
       "<table border=\"1\" class=\"dataframe\">\n",
       "  <thead>\n",
       "    <tr style=\"text-align: right;\">\n",
       "      <th></th>\n",
       "      <th>forpet_hash</th>\n",
       "      <th>address_name</th>\n",
       "      <th>place_name</th>\n",
       "    </tr>\n",
       "  </thead>\n",
       "  <tbody>\n",
       "    <tr>\n",
       "      <th>0</th>\n",
       "      <td>4b793eb834462b029e435eaeb49433efc61755c9e15a24...</td>\n",
       "      <td>서울 종로구 평창동 530-8</td>\n",
       "      <td>쿠나이앤티</td>\n",
       "    </tr>\n",
       "    <tr>\n",
       "      <th>1</th>\n",
       "      <td>f5169c15a126e4059f0a89bb80fccd236693d5056d24ae...</td>\n",
       "      <td>서울 종로구 창신동 468-1</td>\n",
       "      <td>애견용품할인매장</td>\n",
       "    </tr>\n",
       "    <tr>\n",
       "      <th>2</th>\n",
       "      <td>aa26d23f20a9b5642a6689f2a2761ca470703ebbd514eb...</td>\n",
       "      <td>서울 종로구 창신동 436-64</td>\n",
       "      <td>펫클럽 청계점</td>\n",
       "    </tr>\n",
       "    <tr>\n",
       "      <th>3</th>\n",
       "      <td>2806f173e3a783ed14d74c9a83da2f62c34f45d470e893...</td>\n",
       "      <td>서울 종로구 홍지동 103-24</td>\n",
       "      <td>나니스펫푸드</td>\n",
       "    </tr>\n",
       "    <tr>\n",
       "      <th>4</th>\n",
       "      <td>aa18fd6e2328f00ac2567b7a37a4db308ceee03a01924c...</td>\n",
       "      <td>서울 종로구 필운동 137-5</td>\n",
       "      <td>서촌양품</td>\n",
       "    </tr>\n",
       "  </tbody>\n",
       "</table>\n",
       "</div>"
      ],
      "text/plain": [
       "                                         forpet_hash       address_name  \\\n",
       "0  4b793eb834462b029e435eaeb49433efc61755c9e15a24...   서울 종로구 평창동 530-8   \n",
       "1  f5169c15a126e4059f0a89bb80fccd236693d5056d24ae...   서울 종로구 창신동 468-1   \n",
       "2  aa26d23f20a9b5642a6689f2a2761ca470703ebbd514eb...  서울 종로구 창신동 436-64   \n",
       "3  2806f173e3a783ed14d74c9a83da2f62c34f45d470e893...  서울 종로구 홍지동 103-24   \n",
       "4  aa18fd6e2328f00ac2567b7a37a4db308ceee03a01924c...   서울 종로구 필운동 137-5   \n",
       "\n",
       "  place_name  \n",
       "0      쿠나이앤티  \n",
       "1   애견용품할인매장  \n",
       "2    펫클럽 청계점  \n",
       "3     나니스펫푸드  \n",
       "4       서촌양품  "
      ]
     },
     "execution_count": 35,
     "metadata": {},
     "output_type": "execute_result"
    }
   ],
   "source": [
    "ordinary_table = pd.read_csv('mysql_forpet_shop.csv', index_col = 0)\n",
    "ordinary_table.head()"
   ]
  },
  {
   "cell_type": "code",
   "execution_count": 88,
   "metadata": {},
   "outputs": [
    {
     "data": {
      "text/plain": [
       "8582"
      ]
     },
     "execution_count": 88,
     "metadata": {},
     "output_type": "execute_result"
    }
   ],
   "source": [
    "len(ordinary_table)"
   ]
  },
  {
   "cell_type": "code",
   "execution_count": 52,
   "metadata": {},
   "outputs": [],
   "source": [
    "ordinary_table2 = ordinary_table.head(20)"
   ]
  },
  {
   "cell_type": "code",
   "execution_count": 53,
   "metadata": {
    "ExecuteTime": {
     "end_time": "2020-03-19T15:42:24.110958Z",
     "start_time": "2020-03-19T15:40:18.498832Z"
    }
   },
   "outputs": [
    {
     "name": "stdout",
     "output_type": "stream",
     "text": [
      "0 쿠나이앤티 ['종로구', '평창동', '530-8']\n",
      "{}\n",
      "shop이 1개입니다\n",
      "X X 1 1 X\n",
      "cur_cnt 1\n",
      "k+1: 1 all_cnt: 1\n",
      "match_total_table: 0\n",
      "not_match_total_table: 0\n",
      "x_table: 0\n",
      "match_review_table: 0\n",
      "not_match_review_table: 0\n",
      "\n",
      "\n",
      "1 애견용품할인매장 ['종로구', '창신동', '468-1']\n",
      "address_list 0 애견용품할인매장광고광고 창신동 315-1번지 1층 종로구 서울특별시 KR\n",
      "address_list 1 애견용품할인마트광고광고 창신동 436-64번지\n",
      "address_list 2 애견용품할인매장광고광고 금호동1가 513번지 성동구 서울특별시 KR\n",
      "{'1': ['창신동 315-1번지 1층 종로구 서울특별시 KR', 'not_match']}\n",
      "shop이 1개입니다\n",
      "창신동 315-1번지 1층 종로구 서울특별시 KR 0 0 0 not match\n",
      "cur_cnt 1\n",
      "k+1: 2 all_cnt: 2\n",
      "match_total_table: 0\n",
      "not_match_total_table: 1\n",
      "x_table: 0\n",
      "match_review_table: 0\n",
      "not_match_review_table: 1\n",
      "\n",
      "\n",
      "2 펫클럽 청계점 ['종로구', '창신동', '436-64']\n",
      "{}\n",
      "shop이 1개입니다\n",
      "서울특별시 종로구 창신동 436-64번지 일신파워빌딩 0 0 0 match\n",
      "cur_cnt 1\n",
      "k+1: 3 all_cnt: 3\n",
      "match_total_table: 1\n",
      "not_match_total_table: 1\n",
      "x_table: 0\n",
      "match_review_table: 1\n",
      "not_match_review_table: 1\n",
      "\n",
      "\n",
      "3 나니스펫푸드 ['종로구', '홍지동', '103-24']\n",
      "{}\n",
      "shop이 1개입니다\n",
      "홍지동 103-24번지 1층 종로구 서울특별시 KR 0 0 0 match\n",
      "cur_cnt 1\n",
      "k+1: 4 all_cnt: 4\n",
      "match_total_table: 2\n",
      "not_match_total_table: 1\n",
      "x_table: 0\n",
      "match_review_table: 2\n",
      "not_match_review_table: 1\n",
      "\n",
      "\n",
      "4 서촌양품 ['종로구', '필운동', '137-5']\n",
      "{}\n",
      "shop이 1개입니다\n",
      "서울특별시 종로구 필운동 137-5 0 0 0 match\n",
      "cur_cnt 1\n",
      "k+1: 5 all_cnt: 5\n",
      "match_total_table: 3\n",
      "not_match_total_table: 1\n",
      "x_table: 0\n",
      "match_review_table: 3\n",
      "not_match_review_table: 1\n",
      "\n",
      "\n",
      "5 푸드마스터그룹 ['종로구', '이화동', '191-2']\n",
      "{}\n",
      "shop이 1개입니다\n",
      "서울특별시 종로구 이화동 191 0 0 0 not match\n",
      "cur_cnt 1\n",
      "k+1: 6 all_cnt: 6\n",
      "match_total_table: 3\n",
      "not_match_total_table: 2\n",
      "x_table: 0\n",
      "match_review_table: 3\n",
      "not_match_review_table: 2\n",
      "\n",
      "\n",
      "6 스프링펫 창신점 ['종로구', '창신동', '142-35']\n",
      "address_list 0 창신동광고광고 \n",
      "{}\n",
      "shop이 1개입니다\n",
      "X X 1 1 X\n",
      "cur_cnt 1\n",
      "k+1: 7 all_cnt: 7\n",
      "match_total_table: 3\n",
      "not_match_total_table: 2\n",
      "x_table: 0\n",
      "match_review_table: 3\n",
      "not_match_review_table: 2\n",
      "\n",
      "\n",
      "7 다이렉트 펫 ['종로구', '창신동', '327-2']\n",
      "address_list 0 종로구광고광고 \n",
      "{}\n",
      "shop이 1개입니다\n",
      "X X 1 1 X\n",
      "cur_cnt 1\n",
      "k+1: 8 all_cnt: 8\n",
      "match_total_table: 3\n",
      "not_match_total_table: 2\n",
      "x_table: 0\n",
      "match_review_table: 3\n",
      "not_match_review_table: 2\n",
      "\n",
      "\n",
      "8 스투키펫 ['종로구', '인사동', '15']\n",
      "address_list 0 종로구광고광고 \n",
      "{}\n",
      "shop이 1개입니다\n",
      "X X 1 1 X\n",
      "cur_cnt 1\n",
      "k+1: 9 all_cnt: 9\n",
      "match_total_table: 3\n",
      "not_match_total_table: 2\n",
      "x_table: 0\n",
      "match_review_table: 3\n",
      "not_match_review_table: 2\n",
      "\n",
      "\n",
      "9 반려동물용품사료 할인마트 ['서대문구', '홍제동', '279-27']\n",
      "address_list 0 펫마트 홍은점광고광고 홍은동 368-7\n",
      "address_list 1 아마존애견용품할인마트광고광고3.7(3) 교문동 270-2\n",
      "address_list 2 산본팻애견용품할인마트광고광고2.0(1) 산본1동 79-69\n",
      "address_list 3 반려동물 용품사료 할인마트광고광고 송산1동\n",
      "address_list 4 롯데마트999 대현점광고광고3.8(116) 대현동 신촌로 157\n",
      "{}\n",
      "shop이 1개입니다\n",
      "X X 1 1 X\n",
      "cur_cnt 1\n",
      "k+1: 10 all_cnt: 10\n",
      "match_total_table: 3\n",
      "not_match_total_table: 2\n",
      "x_table: 0\n",
      "match_review_table: 3\n",
      "not_match_review_table: 2\n",
      "\n",
      "\n",
      "10 강아지세상 ['서대문구', '홍은동', '9-52']\n",
      "address_list 0 서대문구광고광고 \n",
      "{}\n",
      "shop이 1개입니다\n",
      "X X 1 1 X\n",
      "cur_cnt 1\n",
      "k+1: 11 all_cnt: 11\n",
      "match_total_table: 3\n",
      "not_match_total_table: 2\n",
      "x_table: 0\n",
      "match_review_table: 3\n",
      "not_match_review_table: 2\n",
      "\n",
      "\n",
      "11 홈독애견마트 홍제점 ['서대문구', '홍제동', '469']\n",
      "address_list 0 홈독광고광고 홍제동 469번지 지하4층 B동 410호 인왕산한신휴플러스상가 서대문구 서울특별시 KR\n",
      "address_list 1 애견마트광고광고 역촌동 29-26번지 101동 1층 101호 은평구 서울특별시 KR\n",
      "{}\n",
      "shop이 1개입니다\n",
      "X X 1 1 X\n",
      "cur_cnt 1\n",
      "k+1: 12 all_cnt: 12\n",
      "match_total_table: 3\n",
      "not_match_total_table: 2\n",
      "x_table: 0\n",
      "match_review_table: 3\n",
      "not_match_review_table: 2\n",
      "\n",
      "\n",
      "12 도그스푼 ['서대문구', '홍은동', '36-71']\n",
      "{}\n",
      "shop이 1개입니다\n",
      "홍은동 36-70번지 1층 서대문구 서울특별시 KR 0 0 0 not match\n",
      "cur_cnt 1\n",
      "k+1: 13 all_cnt: 13\n",
      "match_total_table: 3\n",
      "not_match_total_table: 3\n",
      "x_table: 0\n",
      "match_review_table: 3\n",
      "not_match_review_table: 3\n",
      "\n",
      "\n",
      "13 스프링펫 서대문점 ['서대문구', '영천동', '330']\n",
      "{}\n",
      "shop이 1개입니다\n",
      "서울특별시 마포구 서교동 양화로 189 0 0 0 not match\n",
      "cur_cnt 1\n",
      "k+1: 14 all_cnt: 14\n",
      "match_total_table: 3\n",
      "not_match_total_table: 4\n",
      "x_table: 0\n",
      "match_review_table: 3\n",
      "not_match_review_table: 4\n",
      "\n",
      "\n",
      "14 루미앤비비 ['서대문구', '홍제동', '155-6']\n",
      "address_list 0 서대문구광고광고 \n",
      "{}\n",
      "shop이 1개입니다\n",
      "X X 1 1 X\n",
      "cur_cnt 1\n",
      "k+1: 15 all_cnt: 15\n",
      "match_total_table: 3\n",
      "not_match_total_table: 4\n",
      "x_table: 0\n",
      "match_review_table: 3\n",
      "not_match_review_table: 4\n",
      "\n",
      "\n",
      "15 야옹아멍멍해봐 성북점 ['성북구', '삼선동5가', '299']\n",
      "{}\n",
      "shop이 1개입니다\n",
      "서울특별시 성북구 삼선교로24길 3 4.2 35 35 not match\n",
      "cur_cnt 1\n",
      "k+1: 16 all_cnt: 16\n",
      "match_total_table: 3\n",
      "not_match_total_table: 5\n",
      "x_table: 0\n",
      "match_review_table: 3\n",
      "not_match_review_table: 13\n",
      "\n",
      "\n",
      "16 퍼플네스트 ['중구', '장교동', '73']\n",
      "{}\n",
      "shop이 1개입니다\n",
      "더케이트윈타워 2층 퍼플네스트 종로구 서울특별시 KR 4.0 3 3 not match\n",
      "cur_cnt 1\n",
      "k+1: 17 all_cnt: 17\n",
      "match_total_table: 3\n",
      "not_match_total_table: 6\n",
      "x_table: 0\n",
      "match_review_table: 3\n",
      "not_match_review_table: 16\n",
      "\n",
      "\n",
      "17 뚜리까까 ['성북구', '동소문동3가', '3']\n",
      "{}\n",
      "shop이 1개입니다\n",
      "서울특별시 성북구 동소문동3가 동소문로2길 79 0 0 0 match\n",
      "cur_cnt 1\n",
      "k+1: 18 all_cnt: 18\n",
      "match_total_table: 4\n",
      "not_match_total_table: 6\n",
      "x_table: 0\n",
      "match_review_table: 4\n",
      "not_match_review_table: 16\n",
      "\n",
      "\n",
      "18 도기랑냥이랑 정릉점 ['성북구', '정릉동', '109-2']\n",
      "{}\n",
      "shop이 1개입니다\n",
      "서울특별시 성북구 정릉동 아리랑로 115 5.0 2 2 not match\n",
      "cur_cnt 1\n",
      "k+1: 19 all_cnt: 19\n",
      "match_total_table: 4\n",
      "not_match_total_table: 7\n",
      "x_table: 0\n",
      "match_review_table: 4\n",
      "not_match_review_table: 16\n",
      "\n",
      "\n",
      "19 중앙애견 ['중구', '묵정동', '32-3']\n",
      "address_list 0 중앙애견광고광고4.3(3) 장충동 32-14\n",
      "address_list 1 중앙애견미용학원광고광고2.4(5) 충무로5가 88-3\n",
      "{}\n",
      "shop이 1개입니다\n",
      "X X 1 1 X\n",
      "cur_cnt 1\n",
      "k+1: 20 all_cnt: 20\n",
      "match_total_table: 4\n",
      "not_match_total_table: 7\n",
      "x_table: 0\n",
      "match_review_table: 4\n",
      "not_match_review_table: 16\n",
      "\n",
      "\n"
     ]
    }
   ],
   "source": [
    "SCROLL_PAUSE_TIME = 2\n",
    "all_cnt = 0\n",
    "for k in range( len(ordinary_table2)):\n",
    "    forpet_hash, address_name, place_name= ordinary_table.loc[k] \n",
    "  \n",
    "    shop_address =address_name.split(' ')[1:]\n",
    "    x_cnt, match_cnt, not_match_cnt =  start_crwarling(k, forpet_hash, place_name, shop_address)\n",
    "    cur_cnt = x_cnt + match_cnt + not_match_cnt\n",
    "    print('cur_cnt',cur_cnt)\n",
    "    all_cnt += cur_cnt\n",
    "    print('k+1:', k+1, 'all_cnt:',all_cnt)\n",
    "    print('match_total_table:',len(match_total_table))\n",
    "    print('not_match_total_table:',len(not_match_total_table))\n",
    "    print('x_table:', len(x_table))\n",
    "    print('match_review_table:',len(match_review_table))\n",
    "    print('not_match_review_table:',len(not_match_review_table))\n",
    "    print('\\n')\n",
    "    \n",
    "    try:\n",
    "        back_button = driver.find_element_by_xpath('//button[@class=\"ozj7Vb3wnYq__action-button-clickable\"]')\n",
    "        back_button.click()\n",
    "    except:\n",
    "        pass"
   ]
  },
  {
   "cell_type": "code",
   "execution_count": 54,
   "metadata": {
    "ExecuteTime": {
     "end_time": "2020-03-19T15:40:09.785568Z",
     "start_time": "2020-03-19T15:38:10.441Z"
    }
   },
   "outputs": [
    {
     "name": "stdout",
     "output_type": "stream",
     "text": [
      "match_total_table\n",
      "                                          forpet_hash shop_name  \\\n",
      "1  aa26d23f20a9b5642a6689f2a2761ca470703ebbd514eb...   펫클럽 청계점   \n",
      "2  2806f173e3a783ed14d74c9a83da2f62c34f45d470e893...    나니스펫푸드   \n",
      "3  aa18fd6e2328f00ac2567b7a37a4db308ceee03a01924c...      서촌양품   \n",
      "4  fb83c79c4e90759c7c48970c543e2f8671e1e39d3eb76d...      뚜리까까   \n",
      "\n",
      "                    shop_address total_score  match  \n",
      "1  서울특별시 종로구 창신동 436-64번지 일신파워빌딩         NaN  match  \n",
      "2   홍지동 103-24번지 1층 종로구 서울특별시 KR         NaN  match  \n",
      "3            서울특별시 종로구 필운동 137-5         NaN  match  \n",
      "4     서울특별시 성북구 동소문동3가 동소문로2길 79         NaN  match  \n",
      "not_match_total_table\n",
      "                                          forpet_hash    shop_name  \\\n",
      "1  f5169c15a126e4059f0a89bb80fccd236693d5056d24ae...     애견용품할인매장   \n",
      "2  8aa63cf25e3842284a45ab5d4f603e816dba32c9406b88...      푸드마스터그룹   \n",
      "3  bd8ce4fe5ec9031f0d986ac8e3091594a104e02d9e1d71...         도그스푼   \n",
      "4  ad85ca27faea5e1533bdd8873a5a366d237ffd1311f510...    스프링펫 서대문점   \n",
      "5  57eed23d445ca204e0ab28da0f58b1ef85121c92f469b3...  야옹아멍멍해봐 성북점   \n",
      "6  f53e28a28e233499899f56f7c2323b51b13b4745aae71a...        퍼플네스트   \n",
      "7  194e0e4587a9e9c80309199fdc774e55d719bc5b66e1ac...   도기랑냥이랑 정릉점   \n",
      "\n",
      "                    shop_address total_score      match  \n",
      "1    창신동 315-1번지 1층 종로구 서울특별시 KR         NaN  not match  \n",
      "2              서울특별시 종로구 이화동 191         NaN  not match  \n",
      "3   홍은동 36-70번지 1층 서대문구 서울특별시 KR         NaN  not match  \n",
      "4          서울특별시 마포구 서교동 양화로 189         NaN  not match  \n",
      "5            서울특별시 성북구 삼선교로24길 3         4.2  not match  \n",
      "6  더케이트윈타워 2층 퍼플네스트 종로구 서울특별시 KR         4.0  not match  \n",
      "7         서울특별시 성북구 정릉동 아리랑로 115         5.0  not match  \n",
      "match_review_table\n",
      "                                          forpet_hash num review score  match\n",
      "1  aa26d23f20a9b5642a6689f2a2761ca470703ebbd514eb...   1    NaN   NaN  match\n",
      "2  2806f173e3a783ed14d74c9a83da2f62c34f45d470e893...   1    NaN   NaN  match\n",
      "3  aa18fd6e2328f00ac2567b7a37a4db308ceee03a01924c...   1    NaN   NaN  match\n",
      "4  fb83c79c4e90759c7c48970c543e2f8671e1e39d3eb76d...   1    NaN   NaN  match\n",
      "not_match_review_table\n",
      "                                           forpet_hash num  \\\n",
      "1   f5169c15a126e4059f0a89bb80fccd236693d5056d24ae...   1   \n",
      "2   8aa63cf25e3842284a45ab5d4f603e816dba32c9406b88...   1   \n",
      "3   bd8ce4fe5ec9031f0d986ac8e3091594a104e02d9e1d71...   1   \n",
      "4   ad85ca27faea5e1533bdd8873a5a366d237ffd1311f510...   1   \n",
      "5   57eed23d445ca204e0ab28da0f58b1ef85121c92f469b3...   0   \n",
      "7   57eed23d445ca204e0ab28da0f58b1ef85121c92f469b3...   1   \n",
      "9   57eed23d445ca204e0ab28da0f58b1ef85121c92f469b3...   2   \n",
      "11  57eed23d445ca204e0ab28da0f58b1ef85121c92f469b3...   3   \n",
      "13  57eed23d445ca204e0ab28da0f58b1ef85121c92f469b3...   4   \n",
      "15  57eed23d445ca204e0ab28da0f58b1ef85121c92f469b3...   5   \n",
      "17  194e0e4587a9e9c80309199fdc774e55d719bc5b66e1ac...   0   \n",
      "19  57eed23d445ca204e0ab28da0f58b1ef85121c92f469b3...   7   \n",
      "21  57eed23d445ca204e0ab28da0f58b1ef85121c92f469b3...   8   \n",
      "14  f53e28a28e233499899f56f7c2323b51b13b4745aae71a...   0   \n",
      "16  f53e28a28e233499899f56f7c2323b51b13b4745aae71a...   1   \n",
      "18  194e0e4587a9e9c80309199fdc774e55d719bc5b66e1ac...   1   \n",
      "\n",
      "                                               review    score      match  \n",
      "1                                                 NaN      NaN  not match  \n",
      "2                                                 NaN      NaN  not match  \n",
      "3                                                 NaN      NaN  not match  \n",
      "4                                                 NaN      NaN  not match  \n",
      "5                    애견 및 고양이 관련 모든 제품을 손쉽게 구할 수 있어요.   별표 4개           n  \n",
      "7                         강아지 모든것이 있어서 좋아요 크로백도 구매했구요   별표 5개           o  \n",
      "9                    처음키우는 강아지라 여러가지로 잘 설명해주시고 친절합니다.   별표 5개           t  \n",
      "11  접객하는 푸들과 장모종 고양이가 있어 정겨운곳. 일부러 갸들보러 가고싶을때도 있슴....   별표 5개              \n",
      "13                                가격도 저렴하고 다양핫 상품이 있음   별표 4개           m  \n",
      "15                                   강아지 사료 종류가 많이있어요   별표 4개           a  \n",
      "17                        사장님하고 직원이 참 설명도  잘해주시고친절하셔요   별표 5개           n  \n",
      "19  집가는 길에 들려서 매번 간식사는데 종류가 많다! 처음에 강아지 분양하는데에 강아지...   별표 5개           c  \n",
      "21                              친절하고 다양한 품목이 있습니다~~^^   별표 5개           h  \n",
      "14                  이곳은 퍼플네스트 본사입니다. 직원분들이 열심히 일하시네요.   별표 5개           n  \n",
      "16                                                      별표 3개           o  \n",
      "18                        직원분들도 친절하고, 물건 가격도 저렴하게 팔아요   별표 5개           o  \n",
      "x_total_table\n",
      "                                          forpet_hash shop_name  \\\n",
      "1  bc5f725f3407b772ac23717515c498d34c6e2ecdfd2e34...      중앙애견   \n",
      "\n",
      "      shop_address total_score match  \n",
      "1  [중구, 묵정동, 32-3]           X     X  \n",
      "x_review_table\n",
      "                                          forpet_hash      shop_name num  \\\n",
      "1  4b793eb834462b029e435eaeb49433efc61755c9e15a24...          쿠나이앤티   0   \n",
      "2  c923e036035e04fc590dfe181702bdff963f7fe6e0d442...       스프링펫 창신점   0   \n",
      "3  275c9b2f484f215bf7da6e27c0f2ea8696469033657186...         다이렉트 펫   0   \n",
      "4  52f7350baf9645ba80f749b3d86f5e746cf46aaf1265ba...           스투키펫   0   \n",
      "5  8e35f7a0a73e558271ae3dbec0ad40322ed25b73045eb6...  반려동물용품사료 할인마트   0   \n",
      "6  d2f048b9ea45480dfefa2473a1c675f7be19c528c67b77...          강아지세상   0   \n",
      "7  26245c78c1cbed4eb1cc0fd1700e18be45314057179f72...     홈독애견마트 홍제점   0   \n",
      "8  d8d772d31c2687401796f0768d35a295a22569860ee710...          루미앤비비   0   \n",
      "9  bc5f725f3407b772ac23717515c498d34c6e2ecdfd2e34...           중앙애견   0   \n",
      "\n",
      "  review score match  \n",
      "1      X     X     X  \n",
      "2      X     X     X  \n",
      "3      X     X     X  \n",
      "4      X     X     X  \n",
      "5      X     X     X  \n",
      "6      X     X     X  \n",
      "7      X     X     X  \n",
      "8      X     X     X  \n",
      "9      X     X     X  \n"
     ]
    }
   ],
   "source": [
    "\n",
    "print('match_total_table\\n',match_total_table)\n",
    "print('not_match_total_table\\n',not_match_total_table)\n",
    "print('match_review_table\\n',match_review_table)\n",
    "print('not_match_review_table\\n',not_match_review_table)\n",
    "print('x_total_table\\n', x_total_table)\n",
    "print('x_review_table\\n', x_review_table)\n"
   ]
  },
  {
   "cell_type": "code",
   "execution_count": null,
   "metadata": {},
   "outputs": [],
   "source": []
  },
  {
   "cell_type": "code",
   "execution_count": null,
   "metadata": {},
   "outputs": [],
   "source": []
  },
  {
   "cell_type": "code",
   "execution_count": null,
   "metadata": {},
   "outputs": [],
   "source": []
  }
 ],
 "metadata": {
  "kernelspec": {
   "display_name": "Python 3",
   "language": "python",
   "name": "python3"
  },
  "language_info": {
   "codemirror_mode": {
    "name": "ipython",
    "version": 3
   },
   "file_extension": ".py",
   "mimetype": "text/x-python",
   "name": "python",
   "nbconvert_exporter": "python",
   "pygments_lexer": "ipython3",
   "version": "3.7.4"
  },
  "toc": {
   "base_numbering": 1,
   "nav_menu": {},
   "number_sections": false,
   "sideBar": true,
   "skip_h1_title": false,
   "title_cell": "Table of Contents",
   "title_sidebar": "Contents",
   "toc_cell": false,
   "toc_position": {
    "height": "calc(100% - 180px)",
    "left": "10px",
    "top": "150px",
    "width": "167.594px"
   },
   "toc_section_display": true,
   "toc_window_display": true
  }
 },
 "nbformat": 4,
 "nbformat_minor": 4
}
