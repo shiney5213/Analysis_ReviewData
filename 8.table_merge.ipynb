{
 "cells": [
  {
   "cell_type": "code",
   "execution_count": 3,
   "metadata": {
    "ExecuteTime": {
     "end_time": "2020-03-30T13:46:23.061293Z",
     "start_time": "2020-03-30T13:46:23.056253Z"
    }
   },
   "outputs": [],
   "source": [
    "import pandas as pd"
   ]
  },
  {
   "cell_type": "markdown",
   "metadata": {},
   "source": [
    "#### 1.match_review_table"
   ]
  },
  {
   "cell_type": "code",
   "execution_count": 20,
   "metadata": {
    "ExecuteTime": {
     "end_time": "2020-03-30T13:51:54.703379Z",
     "start_time": "2020-03-30T13:51:54.640844Z"
    }
   },
   "outputs": [],
   "source": [
    "table1 = pd.read_csv('data/match_review_table.csv',index_col = 0)\n",
    "table2 = pd.read_csv('data/match_review_table2.csv',index_col = 0)\n",
    "table3 = pd.read_csv('data/match_review_table3.csv',index_col = 0)\n",
    "table4 = pd.read_csv('data/match_review_table4.csv',index_col = 0)\n",
    "table5 = pd.read_csv('data/match_review_table5.csv',index_col = 0)\n",
    "table6 = pd.read_csv('data/match_review_table6.csv',index_col = 0)"
   ]
  },
  {
   "cell_type": "code",
   "execution_count": 23,
   "metadata": {
    "ExecuteTime": {
     "end_time": "2020-03-30T13:52:52.072480Z",
     "start_time": "2020-03-30T13:52:52.063485Z"
    }
   },
   "outputs": [
    {
     "name": "stdout",
     "output_type": "stream",
     "text": [
      "67 81 32 575 211 150\n",
      "1116\n"
     ]
    }
   ],
   "source": [
    "print(len(table1), len(table2), len(table3), len(table4), len(table5), len(table6))\n",
    "print(len(table1)+ len(table2)+ len(table3)+ len(table4)+ len(table5)+ len(table6))"
   ]
  },
  {
   "cell_type": "code",
   "execution_count": 24,
   "metadata": {
    "ExecuteTime": {
     "end_time": "2020-03-30T13:52:55.486484Z",
     "start_time": "2020-03-30T13:52:55.471378Z"
    }
   },
   "outputs": [
    {
     "data": {
      "text/plain": [
       "1116"
      ]
     },
     "execution_count": 24,
     "metadata": {},
     "output_type": "execute_result"
    }
   ],
   "source": [
    "table = pd.concat([table1, table2, table3, table4, table5, table6], axis = 0)\n",
    "len(table)"
   ]
  },
  {
   "cell_type": "code",
   "execution_count": 17,
   "metadata": {
    "ExecuteTime": {
     "end_time": "2020-03-30T13:50:55.718455Z",
     "start_time": "2020-03-30T13:50:55.689455Z"
    }
   },
   "outputs": [
    {
     "data": {
      "text/html": [
       "<div>\n",
       "<style scoped>\n",
       "    .dataframe tbody tr th:only-of-type {\n",
       "        vertical-align: middle;\n",
       "    }\n",
       "\n",
       "    .dataframe tbody tr th {\n",
       "        vertical-align: top;\n",
       "    }\n",
       "\n",
       "    .dataframe thead th {\n",
       "        text-align: right;\n",
       "    }\n",
       "</style>\n",
       "<table border=\"1\" class=\"dataframe\">\n",
       "  <thead>\n",
       "    <tr style=\"text-align: right;\">\n",
       "      <th></th>\n",
       "      <th>num</th>\n",
       "      <th>forpet_hash</th>\n",
       "      <th>shop_name</th>\n",
       "      <th>shop_address</th>\n",
       "      <th>address</th>\n",
       "      <th>num.1</th>\n",
       "      <th>review</th>\n",
       "      <th>score</th>\n",
       "      <th>match</th>\n",
       "    </tr>\n",
       "  </thead>\n",
       "  <tbody>\n",
       "    <tr>\n",
       "      <th>1</th>\n",
       "      <td>2</td>\n",
       "      <td>aa26d23f20a9b5642a6689f2a2761ca470703ebbd514eb...</td>\n",
       "      <td>펫클럽청계점</td>\n",
       "      <td>['종로구', '창신동', '436-64']</td>\n",
       "      <td>서울특별시 종로구 창신동 436-64번지 일신파워빌딩</td>\n",
       "      <td>1</td>\n",
       "      <td>0</td>\n",
       "      <td>0</td>\n",
       "      <td>match_all</td>\n",
       "    </tr>\n",
       "    <tr>\n",
       "      <th>2</th>\n",
       "      <td>3</td>\n",
       "      <td>2806f173e3a783ed14d74c9a83da2f62c34f45d470e893...</td>\n",
       "      <td>나니스펫푸드</td>\n",
       "      <td>['종로구', '홍지동', '103-24']</td>\n",
       "      <td>홍지동 103-24번지 1층 종로구 서울특별시 KR</td>\n",
       "      <td>1</td>\n",
       "      <td>0</td>\n",
       "      <td>0</td>\n",
       "      <td>match_all</td>\n",
       "    </tr>\n",
       "    <tr>\n",
       "      <th>3</th>\n",
       "      <td>4</td>\n",
       "      <td>aa18fd6e2328f00ac2567b7a37a4db308ceee03a01924c...</td>\n",
       "      <td>서촌양품</td>\n",
       "      <td>['종로구', '필운동', '137-5']</td>\n",
       "      <td>서울특별시 종로구 필운동 137-5</td>\n",
       "      <td>1</td>\n",
       "      <td>0</td>\n",
       "      <td>0</td>\n",
       "      <td>match_all</td>\n",
       "    </tr>\n",
       "    <tr>\n",
       "      <th>4</th>\n",
       "      <td>17</td>\n",
       "      <td>fb83c79c4e90759c7c48970c543e2f8671e1e39d3eb76d...</td>\n",
       "      <td>뚜리까까</td>\n",
       "      <td>['성북구', '동소문동3가', '3']</td>\n",
       "      <td>서울특별시 성북구 동소문동3가 동소문로2길 79</td>\n",
       "      <td>1</td>\n",
       "      <td>0</td>\n",
       "      <td>0</td>\n",
       "      <td>match_all</td>\n",
       "    </tr>\n",
       "    <tr>\n",
       "      <th>5</th>\n",
       "      <td>21</td>\n",
       "      <td>40241855d9e68898a415ad47812353ff7de9abcdbbc4c9...</td>\n",
       "      <td>요술강아지</td>\n",
       "      <td>['성북구', '정릉동', '285-10']</td>\n",
       "      <td>서울특별시 성북구 정릉동 285-10</td>\n",
       "      <td>1</td>\n",
       "      <td>0</td>\n",
       "      <td>0</td>\n",
       "      <td>match_all</td>\n",
       "    </tr>\n",
       "  </tbody>\n",
       "</table>\n",
       "</div>"
      ],
      "text/plain": [
       "   num                                        forpet_hash shop_name  \\\n",
       "1    2  aa26d23f20a9b5642a6689f2a2761ca470703ebbd514eb...    펫클럽청계점   \n",
       "2    3  2806f173e3a783ed14d74c9a83da2f62c34f45d470e893...    나니스펫푸드   \n",
       "3    4  aa18fd6e2328f00ac2567b7a37a4db308ceee03a01924c...      서촌양품   \n",
       "4   17  fb83c79c4e90759c7c48970c543e2f8671e1e39d3eb76d...      뚜리까까   \n",
       "5   21  40241855d9e68898a415ad47812353ff7de9abcdbbc4c9...     요술강아지   \n",
       "\n",
       "               shop_address                        address  num.1 review  \\\n",
       "1  ['종로구', '창신동', '436-64']  서울특별시 종로구 창신동 436-64번지 일신파워빌딩      1      0   \n",
       "2  ['종로구', '홍지동', '103-24']   홍지동 103-24번지 1층 종로구 서울특별시 KR      1      0   \n",
       "3   ['종로구', '필운동', '137-5']            서울특별시 종로구 필운동 137-5      1      0   \n",
       "4    ['성북구', '동소문동3가', '3']     서울특별시 성북구 동소문동3가 동소문로2길 79      1      0   \n",
       "5  ['성북구', '정릉동', '285-10']           서울특별시 성북구 정릉동 285-10      1      0   \n",
       "\n",
       "  score      match  \n",
       "1     0  match_all  \n",
       "2     0  match_all  \n",
       "3     0  match_all  \n",
       "4     0  match_all  \n",
       "5     0  match_all  "
      ]
     },
     "execution_count": 17,
     "metadata": {},
     "output_type": "execute_result"
    }
   ],
   "source": [
    "table.head()"
   ]
  },
  {
   "cell_type": "code",
   "execution_count": null,
   "metadata": {},
   "outputs": [],
   "source": []
  }
 ],
 "metadata": {
  "kernelspec": {
   "display_name": "Python 3",
   "language": "python",
   "name": "python3"
  },
  "language_info": {
   "codemirror_mode": {
    "name": "ipython",
    "version": 3
   },
   "file_extension": ".py",
   "mimetype": "text/x-python",
   "name": "python",
   "nbconvert_exporter": "python",
   "pygments_lexer": "ipython3",
   "version": "3.7.6"
  },
  "toc": {
   "base_numbering": 1,
   "nav_menu": {},
   "number_sections": false,
   "sideBar": true,
   "skip_h1_title": false,
   "title_cell": "Table of Contents",
   "title_sidebar": "Contents",
   "toc_cell": false,
   "toc_position": {},
   "toc_section_display": true,
   "toc_window_display": false
  }
 },
 "nbformat": 4,
 "nbformat_minor": 4
}
