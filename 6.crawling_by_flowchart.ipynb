{
 "cells": [
  {
   "cell_type": "markdown",
   "metadata": {},
   "source": [
    "# flowchart\n"
   ]
  },
  {
   "cell_type": "markdown",
   "metadata": {},
   "source": [
    "<img src = 'crawler_flowchart.png'>"
   ]
  },
  {
   "cell_type": "code",
   "execution_count": 1,
   "metadata": {
    "ExecuteTime": {
     "end_time": "2020-04-08T07:39:30.515749Z",
     "start_time": "2020-04-08T07:39:29.657741Z"
    }
   },
   "outputs": [],
   "source": [
    "# import mysql.connector\n",
    "import pandas as pd\n",
    "from selenium import webdriver\n",
    "from bs4 import BeautifulSoup\n",
    "import time\n",
    "from selenium.webdriver.common.keys import Keys\n",
    "#from selenium.webdriver.support.ui import WebDriverWait\n",
    "from selenium.webdriver.support.wait import WebDriverWait\n",
    "from selenium.webdriver.support import expected_conditions as EC\n",
    "from selenium.common.exceptions import TimeoutException\n",
    "import numpy as np\n",
    "import sys\n",
    "import re"
   ]
  },
  {
   "cell_type": "code",
   "execution_count": 2,
   "metadata": {
    "ExecuteTime": {
     "end_time": "2020-04-08T06:29:45.333806Z",
     "start_time": "2020-04-08T06:29:45.325819Z"
    }
   },
   "outputs": [],
   "source": [
    "sys.stdout = open('crawling_output.txt','w')"
   ]
  },
  {
   "cell_type": "markdown",
   "metadata": {},
   "source": [
    "### 1. crawrler "
   ]
  },
  {
   "cell_type": "code",
   "execution_count": null,
   "metadata": {
    "ExecuteTime": {
     "start_time": "2020-04-08T07:45:16.596Z"
    }
   },
   "outputs": [],
   "source": [
    "driver = webdriver.Chrome('chromedriver.exe')\n",
    "\n",
    "driver.get(\"http://www.google.com\")\n",
    "\n",
    "time.sleep(2)\n",
    "\n",
    "\n",
    "element = driver.find_element_by_name('q')\n",
    "\n",
    "element.clear()\n",
    "element.send_keys('google map')\n",
    "element.submit()\n",
    "\n",
    "element = driver.find_element_by_xpath('//h3[@class=\"LC20lb DKV0Md\"]')\n",
    "element.click()"
   ]
  },
  {
   "cell_type": "code",
   "execution_count": 3,
   "metadata": {
    "ExecuteTime": {
     "end_time": "2020-04-08T07:40:00.510515Z",
     "start_time": "2020-04-08T07:40:00.495518Z"
    }
   },
   "outputs": [],
   "source": [
    "def get_info(html, shop_name, shop_address):\n",
    "# shop 주소, 총 별점 갖고오기\n",
    "    search_name, address, total_score, match=get_totalScore(html,shop_name, shop_address)\n",
    "    \n",
    "    # shop info가 있는가(addrsss로 확인)\n",
    "    if address == '':\n",
    "        review_list = ''\n",
    "        score_list = ''\n",
    "        return search_name, address,total_score, review_list, score_list, match \n",
    "\n",
    "    # 리뷰가 없는 경우    \n",
    "    if  total_score == 0:\n",
    "        review_list = 0\n",
    "        score_list= 0\n",
    "        \n",
    "    # 리뷰가 있는 경우\n",
    "    else:\n",
    "        # 리뷰 text(버튼 )클릭\n",
    "        review_button = driver.find_element_by_xpath('//button[@class=\"jqnFjrOWMVU__button gm2-caption\"]')\n",
    "        review_button.click()\n",
    "\n",
    "        time.sleep(SCROLL_PAUSE_TIME)\n",
    "\n",
    "        # 스크롤 다운\n",
    "        try:\n",
    "            element = driver.find_element_by_xpath('//span[@class=\"section-review-text\"]')\n",
    "            element.click()\n",
    "\n",
    "        except Exception as err:\n",
    "            print(err)\n",
    "\n",
    "        i = 0\n",
    "        while  True:\n",
    "            i += 1\n",
    "            html = driver.find_element_by_tag_name('html')\n",
    "            time.sleep(SCROLL_PAUSE_TIME)\n",
    "\n",
    "            text1 = html.text\n",
    "            html.send_keys(Keys.END)\n",
    "            time.sleep(SCROLL_PAUSE_TIME)\n",
    "\n",
    "            html = driver.find_element_by_tag_name('html')\n",
    "            text2 = html.text\n",
    "\n",
    "            if text1 == text2:\n",
    "                break\n",
    "            else:\n",
    "                continue\n",
    "    \n",
    "        review_html = driver.page_source\n",
    "\n",
    "        review_list, score_list=get_review(review_html) \n",
    "        driver.back()\n",
    "\n",
    "    return search_name, address, total_score, review_list, score_list, match"
   ]
  },
  {
   "cell_type": "code",
   "execution_count": 4,
   "metadata": {
    "ExecuteTime": {
     "end_time": "2020-04-08T07:40:01.615786Z",
     "start_time": "2020-04-08T07:40:01.606778Z"
    }
   },
   "outputs": [],
   "source": [
    "def get_review(html):\n",
    "    soup = BeautifulSoup(html, 'html.parser')\n",
    "    # 개별 리뷰\n",
    "    total_review =soup.find_all('span',attrs = {'class': \"section-review-text\"} )\n",
    "\n",
    "    review_list=[]\n",
    "    for i, review in enumerate(total_review):\n",
    "        review_list.append(review.text)\n",
    "\n",
    "    #### 개별 별점\n",
    "    scores =soup.find_all('span',attrs = {'class': \"section-review-stars\", 'role': 'img'} )\n",
    "\n",
    "    score_list = []\n",
    "    for score in scores:\n",
    "        score_list.append(score.attrs['aria-label'])\n",
    "\n",
    "    return review_list, score_list"
   ]
  },
  {
   "cell_type": "code",
   "execution_count": 5,
   "metadata": {
    "ExecuteTime": {
     "end_time": "2020-04-08T07:40:02.464782Z",
     "start_time": "2020-04-08T07:40:02.444779Z"
    }
   },
   "outputs": [],
   "source": [
    "def start_crwarling(k, forpet_hash,shop_name, shop_address):\n",
    "    print(k, shop_name, shop_address)\n",
    "\n",
    "    # shop 이름 입력\n",
    "    element = driver.find_element_by_xpath('//input[@autofocus=\"autofocus\"]')\n",
    "    element.clear()\n",
    "    \n",
    "    search_word = shop_name + ' ' +shop_address[0]\n",
    "#     search_word = shop_name\n",
    "    element.send_keys(search_word)\n",
    "    element.submit()\n",
    "    \n",
    "    search_button = driver.find_element_by_xpath('//button[@class=\"searchbox-searchbutton\"]')\n",
    "    search_button.click()\n",
    "    \n",
    "    time.sleep(SCROLL_PAUSE_TIME)\n",
    "\n",
    "    # 키워드 입력 후, dict로 인덱스와 match 여부 받아오기\n",
    "    select_shop_html = driver.page_source\n",
    "    shop_select_dict= find_shop_by_name(select_shop_html, shop_name)\n",
    "    \n",
    "    # shoh이 여러개인 경우\n",
    "    if len(shop_select_dict) != 0:\n",
    "        print(f'shop이 {len(shop_select_dict)}개입니다')\n",
    "        for index, name in shop_select_dict.items():\n",
    "            shop_index =  2 * int(index) -1\n",
    "            \n",
    "            search_name = name\n",
    "#             \n",
    "            time.sleep(3)\n",
    "\n",
    "            try:\n",
    "                select_shop = driver.find_element_by_xpath(f'//div[@class = \"section-layout section-scrollbox scrollable-y scrollable-show section-layout-flex-vertical\"]/div/div[{shop_index}]/div[1]/div[1]')\n",
    "\n",
    "                select_shop.click()\n",
    "\n",
    "                time.sleep(SCROLL_PAUSE_TIME)\n",
    "\n",
    "                html = driver.page_source\n",
    "\n",
    "                search_name, address, total_score, review_list, score_list, match =get_info(html, shop_name, shop_address)\n",
    "                print(f'{index}번째 shop:', search_name, address, total_score, match )\n",
    "            except:\n",
    "                search_name = shop_name\n",
    "                address = ''\n",
    "                total_score = ''\n",
    "                match = 'not info'\n",
    "                address = ''\n",
    "                review_list = ''\n",
    "                score_list = ''\n",
    "           \n",
    "            save_dataframe(forpet_hash, search_name, shop_address, address, total_score, review_list, score_list, match)\n",
    "        \n",
    "            time.sleep(SCROLL_PAUSE_TIME)\n",
    "            driver.back()  \n",
    "     \n",
    "    # shop이 1개 인경우\n",
    "    else:\n",
    "        print('shop이 1개입니다')\n",
    "        html = driver.page_source\n",
    "        search_name, address, total_score, review_list, score_list, match =get_info(html, shop_name, shop_address)\n",
    "        print(f'shop 1개, {search_name}, {address}, {match} ')\n",
    "        \n",
    "        save_dataframe(forpet_hash, search_name, shop_address, address, total_score, review_list, score_list, match)\n",
    "    driver.back()  \n",
    "\n",
    "    "
   ]
  },
  {
   "cell_type": "code",
   "execution_count": 6,
   "metadata": {
    "ExecuteTime": {
     "end_time": "2020-04-08T07:40:03.609778Z",
     "start_time": "2020-04-08T07:40:03.597778Z"
    }
   },
   "outputs": [],
   "source": [
    "# 여러개의  shop 목록에서 주소로 찾기\n",
    "def find_shop_by_name(select_shop_html, shop_name):\n",
    "    soup = BeautifulSoup(select_shop_html, 'html.parser')\n",
    "#     print(select_shop_html)\n",
    "    all_shop_name = soup.find_all('div', attrs = {'class': \"section-result-title-container\"} )\n",
    "    \n",
    "    shop_select_dict = {}\n",
    "    for i, shop in enumerate(all_shop_name):\n",
    "        include_word = ['동물', '펫', '애견', 'dot','cat','도그','캣','pet','야옹','멍멍']\n",
    "        name_include_word = sum([ word in shop.text  for word in include_word]) \n",
    "        \n",
    "        # 이름이 같은 경우\n",
    "        if shop_name == shop.text :\n",
    "            shop_select_dict[str(i+1)] = [shop.text, 'same_name']  \n",
    "        # 이름이 비슷한 경우\n",
    "        elif name_include_word >= 1:\n",
    "            shop_select_dict[str(i+1)] = [shop.text,'simiral_name']\n",
    "        else:\n",
    "            pass\n",
    "#     print(shop_select_dict)\n",
    "    return shop_select_dict"
   ]
  },
  {
   "cell_type": "code",
   "execution_count": 7,
   "metadata": {
    "ExecuteTime": {
     "end_time": "2020-04-08T07:40:04.171778Z",
     "start_time": "2020-04-08T07:40:04.152776Z"
    }
   },
   "outputs": [],
   "source": [
    "# 주소와 total 별점 가져오기\n",
    "def get_totalScore(html,shop_name, shop_address):\n",
    "    \n",
    "    \n",
    "    soup = BeautifulSoup(html, 'html.parser')\n",
    "\n",
    "    time.sleep(SCROLL_PAUSE_TIME)\n",
    "    infos =soup.find_all('span',attrs = {'class': \"section-info-text\"} )\n",
    "    time.sleep(SCROLL_PAUSE_TIME)\n",
    "    \n",
    "    # 검색 결과가 있는 경우\n",
    "    try: \n",
    "        search_name = soup.find_all('div', attrs = {'class':'section-hero-header-title-description' })[0].text.replace(' ','')\n",
    "        if shop_name in search_name:\n",
    "            search_name = shop_name\n",
    "        else:\n",
    "            p = re.compile(\"[가-힣]\")\n",
    "            search_name = ''.join(p.findall(search_name)).replace('주','')\n",
    "        \n",
    "        print('serach_name', search_name, 'shop_name', shop_name)\n",
    "        \n",
    "        #  shop이름이 일치하는 경우\n",
    "        if shop_name in search_name:\n",
    "            # shop 정보가 없는 경우\n",
    "            if len(infos)== 0:\n",
    "                total_score = ''\n",
    "                match = 'not info'\n",
    "                address = ''\n",
    "\n",
    "                return address, total_score\n",
    "            # shop 정보가 있는 경우    \n",
    "            else:\n",
    "                address =infos[0].text\n",
    "\n",
    "                gu = shop_address[0] in address\n",
    "                dong = shop_address[1] in address\n",
    "                bungi = shop_address[2] in address\n",
    "\n",
    "\n",
    "                if (gu and dong and bungi) or (dong and bungi):\n",
    "                    match = 'match_all'\n",
    "                elif (gu and dong) or dong:\n",
    "                    match = 'match_dong'\n",
    "                elif gu:\n",
    "                    match = 'match_gu'\n",
    "                else:\n",
    "                    match = 'not_match' \n",
    "                    \n",
    "                    \n",
    "                    \n",
    "        #shop이름이 다른 경우\n",
    "        else:\n",
    "            address =infos[0].text\n",
    "            match = 'x'\n",
    "\n",
    "\n",
    "        total_score = soup.find_all('div',attrs = {'class': \"gm2-display-2\"} )\n",
    "\n",
    "        if len(total_score)!=0:\n",
    "            total_score = total_score[0].text\n",
    "        else:\n",
    "            total_score = 0\n",
    "    \n",
    "    # 검색 결과가 없는 경우\n",
    "    except:\n",
    "        total_score = ''\n",
    "        match = 'not info'\n",
    "        address = ''\n",
    "        search_name = shop_name\n",
    "    \n",
    "    return search_name, address, total_score, match"
   ]
  },
  {
   "cell_type": "code",
   "execution_count": 8,
   "metadata": {
    "ExecuteTime": {
     "end_time": "2020-04-08T07:40:04.931785Z",
     "start_time": "2020-04-08T07:40:04.920783Z"
    }
   },
   "outputs": [],
   "source": [
    "def save_dataframe(forpet_hash, search_name, shop_address, address, total_score, review_list, score_list, match):\n",
    "    \n",
    "    # shop 정보가 없는 경우\n",
    "    if address == '':\n",
    "        not_info_table_insert(not_info_table, forpet_hash, search_name, match)\n",
    "    \n",
    "    # shop 정보가 있는 경우\n",
    "    else:\n",
    "        # match 여부에 따라\n",
    "        if match == 'match_all':\n",
    "            table_total = match_total_table\n",
    "            table_review = match_review_table\n",
    "\n",
    "        elif match == 'x':\n",
    "            table_total = x_total_table\n",
    "            table_review = x_review_table\n",
    "\n",
    "        # shop 이름만 같은 경우, match = match_dong, match_gu, not_match\n",
    "        else:    \n",
    "            table_total = not_match_total_table\n",
    "            table_review = not_match_review_table\n",
    "\n",
    "        total_table_insert(table_total, forpet_hash, search_name, shop_address, address, total_score, review_list, match)\n",
    "        review_table_insert(table_review, forpet_hash, search_name, shop_address, address, review_list, score_list, match)   \n"
   ]
  },
  {
   "cell_type": "markdown",
   "metadata": {},
   "source": [
    "### 2. table\n",
    "#### 1. total table"
   ]
  },
  {
   "cell_type": "code",
   "execution_count": 12,
   "metadata": {
    "ExecuteTime": {
     "end_time": "2020-04-08T07:41:07.212347Z",
     "start_time": "2020-04-08T07:41:07.171346Z"
    }
   },
   "outputs": [
    {
     "data": {
      "text/html": [
       "<div>\n",
       "<style scoped>\n",
       "    .dataframe tbody tr th:only-of-type {\n",
       "        vertical-align: middle;\n",
       "    }\n",
       "\n",
       "    .dataframe tbody tr th {\n",
       "        vertical-align: top;\n",
       "    }\n",
       "\n",
       "    .dataframe thead th {\n",
       "        text-align: right;\n",
       "    }\n",
       "</style>\n",
       "<table border=\"1\" class=\"dataframe\">\n",
       "  <thead>\n",
       "    <tr style=\"text-align: right;\">\n",
       "      <th></th>\n",
       "      <th>forpet_hash</th>\n",
       "      <th>shop_name</th>\n",
       "      <th>shop_address</th>\n",
       "      <th>address</th>\n",
       "      <th>total_score</th>\n",
       "      <th>review_num</th>\n",
       "      <th>match</th>\n",
       "    </tr>\n",
       "  </thead>\n",
       "  <tbody>\n",
       "  </tbody>\n",
       "</table>\n",
       "</div>"
      ],
      "text/plain": [
       "Empty DataFrame\n",
       "Columns: [forpet_hash, shop_name, shop_address, address, total_score, review_num, match]\n",
       "Index: []"
      ]
     },
     "execution_count": 12,
     "metadata": {},
     "output_type": "execute_result"
    }
   ],
   "source": [
    "not_match_total_table= pd.DataFrame(columns = ['forpet_hash', 'shop_name', 'shop_address', 'address','total_score', 'review_num','match'])\n",
    "not_match_total_table"
   ]
  },
  {
   "cell_type": "code",
   "execution_count": 13,
   "metadata": {
    "ExecuteTime": {
     "end_time": "2020-04-08T07:41:07.463869Z",
     "start_time": "2020-04-08T07:41:07.440869Z"
    }
   },
   "outputs": [
    {
     "data": {
      "text/html": [
       "<div>\n",
       "<style scoped>\n",
       "    .dataframe tbody tr th:only-of-type {\n",
       "        vertical-align: middle;\n",
       "    }\n",
       "\n",
       "    .dataframe tbody tr th {\n",
       "        vertical-align: top;\n",
       "    }\n",
       "\n",
       "    .dataframe thead th {\n",
       "        text-align: right;\n",
       "    }\n",
       "</style>\n",
       "<table border=\"1\" class=\"dataframe\">\n",
       "  <thead>\n",
       "    <tr style=\"text-align: right;\">\n",
       "      <th></th>\n",
       "      <th>forpet_hash</th>\n",
       "      <th>shop_name</th>\n",
       "      <th>shop_address</th>\n",
       "      <th>address</th>\n",
       "      <th>total_score</th>\n",
       "      <th>review_num</th>\n",
       "      <th>match</th>\n",
       "    </tr>\n",
       "  </thead>\n",
       "  <tbody>\n",
       "  </tbody>\n",
       "</table>\n",
       "</div>"
      ],
      "text/plain": [
       "Empty DataFrame\n",
       "Columns: [forpet_hash, shop_name, shop_address, address, total_score, review_num, match]\n",
       "Index: []"
      ]
     },
     "execution_count": 13,
     "metadata": {},
     "output_type": "execute_result"
    }
   ],
   "source": [
    "match_total_table= pd.DataFrame(columns = ['forpet_hash', 'shop_name', 'shop_address', 'address','total_score', 'review_num','match'])\n",
    "match_total_table"
   ]
  },
  {
   "cell_type": "code",
   "execution_count": 14,
   "metadata": {
    "ExecuteTime": {
     "end_time": "2020-04-08T07:41:07.690868Z",
     "start_time": "2020-04-08T07:41:07.670870Z"
    }
   },
   "outputs": [
    {
     "data": {
      "text/html": [
       "<div>\n",
       "<style scoped>\n",
       "    .dataframe tbody tr th:only-of-type {\n",
       "        vertical-align: middle;\n",
       "    }\n",
       "\n",
       "    .dataframe tbody tr th {\n",
       "        vertical-align: top;\n",
       "    }\n",
       "\n",
       "    .dataframe thead th {\n",
       "        text-align: right;\n",
       "    }\n",
       "</style>\n",
       "<table border=\"1\" class=\"dataframe\">\n",
       "  <thead>\n",
       "    <tr style=\"text-align: right;\">\n",
       "      <th></th>\n",
       "      <th>forpet_hash</th>\n",
       "      <th>shop_name</th>\n",
       "      <th>shop_address</th>\n",
       "      <th>address</th>\n",
       "      <th>total_score</th>\n",
       "      <th>review_num</th>\n",
       "      <th>match</th>\n",
       "    </tr>\n",
       "  </thead>\n",
       "  <tbody>\n",
       "  </tbody>\n",
       "</table>\n",
       "</div>"
      ],
      "text/plain": [
       "Empty DataFrame\n",
       "Columns: [forpet_hash, shop_name, shop_address, address, total_score, review_num, match]\n",
       "Index: []"
      ]
     },
     "execution_count": 14,
     "metadata": {},
     "output_type": "execute_result"
    }
   ],
   "source": [
    "x_total_table= pd.DataFrame(columns = ['forpet_hash', 'shop_name', 'shop_address', 'address','total_score', 'review_num','match'])\n",
    "x_total_table"
   ]
  },
  {
   "cell_type": "code",
   "execution_count": 15,
   "metadata": {
    "ExecuteTime": {
     "end_time": "2020-04-08T07:41:07.922870Z",
     "start_time": "2020-04-08T07:41:07.907871Z"
    }
   },
   "outputs": [],
   "source": [
    "def total_table_insert(total_table, forpet_hash, search_name, shop_address, address, total_score, review_list, match):\n",
    "    if len(total_table[total_table['address']== address]) == 0:\n",
    "        # shop 정보가 없고, total_sclre가 없는 경우\n",
    "        if total_score == '':\n",
    "            total_table.loc[len(total_table)+1] = [forpet_hash, search_name, shop_address,  address, np.nan, np.nan, match]\n",
    "        # shop 정보가 있고, total_score가 있는 경우\n",
    "        elif total_score == 0:\n",
    "            total_table.loc[len(total_table)+1] = [forpet_hash, search_name, shop_address, address, 0, 0, match]\n",
    "\n",
    "        #total score이 없는 경우\n",
    "        else:\n",
    "            total_table.loc[len(total_table)+1] = [forpet_hash, search_name, shop_address, address,total_score, len(review_list), match]\n",
    "        print(f'total_table: {search_name}, {address} 등록완료')\n",
    "    else:\n",
    "        print(f'total_table: {search_name}, {address} 이미 있음')\n",
    "    return total_table"
   ]
  },
  {
   "cell_type": "markdown",
   "metadata": {
    "ExecuteTime": {
     "end_time": "2020-03-10T09:58:53.111871Z",
     "start_time": "2020-03-10T09:58:53.107873Z"
    }
   },
   "source": [
    "#### 2. review table"
   ]
  },
  {
   "cell_type": "code",
   "execution_count": 16,
   "metadata": {
    "ExecuteTime": {
     "end_time": "2020-04-08T07:41:08.378870Z",
     "start_time": "2020-04-08T07:41:08.355870Z"
    }
   },
   "outputs": [
    {
     "data": {
      "text/html": [
       "<div>\n",
       "<style scoped>\n",
       "    .dataframe tbody tr th:only-of-type {\n",
       "        vertical-align: middle;\n",
       "    }\n",
       "\n",
       "    .dataframe tbody tr th {\n",
       "        vertical-align: top;\n",
       "    }\n",
       "\n",
       "    .dataframe thead th {\n",
       "        text-align: right;\n",
       "    }\n",
       "</style>\n",
       "<table border=\"1\" class=\"dataframe\">\n",
       "  <thead>\n",
       "    <tr style=\"text-align: right;\">\n",
       "      <th></th>\n",
       "      <th>forpet_hash</th>\n",
       "      <th>shop_name</th>\n",
       "      <th>shop_address</th>\n",
       "      <th>address</th>\n",
       "      <th>num</th>\n",
       "      <th>review</th>\n",
       "      <th>score</th>\n",
       "      <th>match</th>\n",
       "    </tr>\n",
       "  </thead>\n",
       "  <tbody>\n",
       "  </tbody>\n",
       "</table>\n",
       "</div>"
      ],
      "text/plain": [
       "Empty DataFrame\n",
       "Columns: [forpet_hash, shop_name, shop_address, address, num, review, score, match]\n",
       "Index: []"
      ]
     },
     "execution_count": 16,
     "metadata": {},
     "output_type": "execute_result"
    }
   ],
   "source": [
    "not_match_review_table= pd.DataFrame(columns = ['forpet_hash', 'shop_name','shop_address','address', 'num', 'review', 'score', 'match'])\n",
    "not_match_review_table"
   ]
  },
  {
   "cell_type": "code",
   "execution_count": 17,
   "metadata": {
    "ExecuteTime": {
     "end_time": "2020-04-08T07:41:08.969443Z",
     "start_time": "2020-04-08T07:41:08.952440Z"
    }
   },
   "outputs": [
    {
     "data": {
      "text/html": [
       "<div>\n",
       "<style scoped>\n",
       "    .dataframe tbody tr th:only-of-type {\n",
       "        vertical-align: middle;\n",
       "    }\n",
       "\n",
       "    .dataframe tbody tr th {\n",
       "        vertical-align: top;\n",
       "    }\n",
       "\n",
       "    .dataframe thead th {\n",
       "        text-align: right;\n",
       "    }\n",
       "</style>\n",
       "<table border=\"1\" class=\"dataframe\">\n",
       "  <thead>\n",
       "    <tr style=\"text-align: right;\">\n",
       "      <th></th>\n",
       "      <th>forpet_hash</th>\n",
       "      <th>shop_name</th>\n",
       "      <th>shop_address</th>\n",
       "      <th>address</th>\n",
       "      <th>num</th>\n",
       "      <th>review</th>\n",
       "      <th>score</th>\n",
       "      <th>match</th>\n",
       "    </tr>\n",
       "  </thead>\n",
       "  <tbody>\n",
       "  </tbody>\n",
       "</table>\n",
       "</div>"
      ],
      "text/plain": [
       "Empty DataFrame\n",
       "Columns: [forpet_hash, shop_name, shop_address, address, num, review, score, match]\n",
       "Index: []"
      ]
     },
     "execution_count": 17,
     "metadata": {},
     "output_type": "execute_result"
    }
   ],
   "source": [
    "match_review_table= pd.DataFrame(columns = ['forpet_hash','shop_name','shop_address','address', 'num', 'review', 'score', 'match'])\n",
    "match_review_table"
   ]
  },
  {
   "cell_type": "code",
   "execution_count": 18,
   "metadata": {
    "ExecuteTime": {
     "end_time": "2020-04-08T07:41:09.231659Z",
     "start_time": "2020-04-08T07:41:09.215656Z"
    }
   },
   "outputs": [
    {
     "data": {
      "text/html": [
       "<div>\n",
       "<style scoped>\n",
       "    .dataframe tbody tr th:only-of-type {\n",
       "        vertical-align: middle;\n",
       "    }\n",
       "\n",
       "    .dataframe tbody tr th {\n",
       "        vertical-align: top;\n",
       "    }\n",
       "\n",
       "    .dataframe thead th {\n",
       "        text-align: right;\n",
       "    }\n",
       "</style>\n",
       "<table border=\"1\" class=\"dataframe\">\n",
       "  <thead>\n",
       "    <tr style=\"text-align: right;\">\n",
       "      <th></th>\n",
       "      <th>forpet_hash</th>\n",
       "      <th>shop_name</th>\n",
       "      <th>shop_address</th>\n",
       "      <th>address</th>\n",
       "      <th>num</th>\n",
       "      <th>review</th>\n",
       "      <th>score</th>\n",
       "      <th>match</th>\n",
       "    </tr>\n",
       "  </thead>\n",
       "  <tbody>\n",
       "  </tbody>\n",
       "</table>\n",
       "</div>"
      ],
      "text/plain": [
       "Empty DataFrame\n",
       "Columns: [forpet_hash, shop_name, shop_address, address, num, review, score, match]\n",
       "Index: []"
      ]
     },
     "execution_count": 18,
     "metadata": {},
     "output_type": "execute_result"
    }
   ],
   "source": [
    "x_review_table= pd.DataFrame(columns = ['forpet_hash', 'shop_name','shop_address','address', 'num', 'review', 'score', 'match'])\n",
    "x_review_table"
   ]
  },
  {
   "cell_type": "code",
   "execution_count": 19,
   "metadata": {
    "ExecuteTime": {
     "end_time": "2020-04-08T07:41:09.424724Z",
     "start_time": "2020-04-08T07:41:09.406727Z"
    }
   },
   "outputs": [],
   "source": [
    "def review_table_insert(review_table, forpet_hash, search_name, shop_address, address, review_list, score_list, match):\n",
    "    if len(review_table[review_table['address']== address]) == 0:\n",
    "        # shop 정보가 없고, total_sclre가 없는 경우\n",
    "        if review_list == '':\n",
    "            review_table.loc[len(review_table)+1] = [forpet_hash, search_name, shop_address, address, 1,  np.nan, np.nan, match]\n",
    "            print(f'review_table: {search_name}, {address} 등록완료')\n",
    "\n",
    "        # shop 정보가 있고, total_score가 있는 경우\n",
    "        elif review_list == 0:\n",
    "            review_table.loc[len(review_table)+1] = [forpet_hash, search_name, shop_address, address, 1, 0, 0, match]\n",
    "            print(f'review_table: {search_name}, {address} 등록완료')\n",
    "\n",
    "        #total score이 없는 경우\n",
    "        else:\n",
    "            for i, (review, score, match) in enumerate(zip(review_list, score_list, match)):\n",
    "                review_table.loc[i+1+len(review_table)] = [forpet_hash, search_name, shop_address, address, i, review, score, match]\n",
    "            print(f'review_table: {search_name}, {address}, {len(review_list)} 등록완료')\n",
    "    else:\n",
    "        print(f'review_table: {search_name}, {address} 이미 있음')\n",
    "\n",
    "    return review_table"
   ]
  },
  {
   "cell_type": "markdown",
   "metadata": {},
   "source": [
    "#### 3.not_info_table"
   ]
  },
  {
   "cell_type": "code",
   "execution_count": 20,
   "metadata": {
    "ExecuteTime": {
     "end_time": "2020-04-08T07:41:09.880725Z",
     "start_time": "2020-04-08T07:41:09.864723Z"
    }
   },
   "outputs": [
    {
     "data": {
      "text/html": [
       "<div>\n",
       "<style scoped>\n",
       "    .dataframe tbody tr th:only-of-type {\n",
       "        vertical-align: middle;\n",
       "    }\n",
       "\n",
       "    .dataframe tbody tr th {\n",
       "        vertical-align: top;\n",
       "    }\n",
       "\n",
       "    .dataframe thead th {\n",
       "        text-align: right;\n",
       "    }\n",
       "</style>\n",
       "<table border=\"1\" class=\"dataframe\">\n",
       "  <thead>\n",
       "    <tr style=\"text-align: right;\">\n",
       "      <th></th>\n",
       "      <th>forpet_hash</th>\n",
       "      <th>shop_name</th>\n",
       "      <th>match</th>\n",
       "    </tr>\n",
       "  </thead>\n",
       "  <tbody>\n",
       "  </tbody>\n",
       "</table>\n",
       "</div>"
      ],
      "text/plain": [
       "Empty DataFrame\n",
       "Columns: [forpet_hash, shop_name, match]\n",
       "Index: []"
      ]
     },
     "execution_count": 20,
     "metadata": {},
     "output_type": "execute_result"
    }
   ],
   "source": [
    "not_info_table = pd.DataFrame(columns = ['forpet_hash', 'shop_name', 'match'])\n",
    "not_info_table"
   ]
  },
  {
   "cell_type": "code",
   "execution_count": 21,
   "metadata": {
    "ExecuteTime": {
     "end_time": "2020-04-08T07:41:10.564009Z",
     "start_time": "2020-04-08T07:41:10.559002Z"
    }
   },
   "outputs": [],
   "source": [
    "def not_info_table_insert(not_info_table, forpet_hash, shop_name, match):\n",
    "    not_info_table.loc[1+len(not_info_table)] = [forpet_hash, shop_name, match]\n",
    "    print(f'not_info_table: {shop_name} 등록완료')\n",
    "    return not_info_table"
   ]
  },
  {
   "cell_type": "markdown",
   "metadata": {},
   "source": [
    "### 3. ordinary table"
   ]
  },
  {
   "cell_type": "code",
   "execution_count": 22,
   "metadata": {
    "ExecuteTime": {
     "end_time": "2020-04-08T07:41:11.626004Z",
     "start_time": "2020-04-08T07:41:11.559008Z"
    }
   },
   "outputs": [
    {
     "data": {
      "text/html": [
       "<div>\n",
       "<style scoped>\n",
       "    .dataframe tbody tr th:only-of-type {\n",
       "        vertical-align: middle;\n",
       "    }\n",
       "\n",
       "    .dataframe tbody tr th {\n",
       "        vertical-align: top;\n",
       "    }\n",
       "\n",
       "    .dataframe thead th {\n",
       "        text-align: right;\n",
       "    }\n",
       "</style>\n",
       "<table border=\"1\" class=\"dataframe\">\n",
       "  <thead>\n",
       "    <tr style=\"text-align: right;\">\n",
       "      <th></th>\n",
       "      <th>forpet_hash</th>\n",
       "      <th>address_name</th>\n",
       "      <th>place_name</th>\n",
       "    </tr>\n",
       "  </thead>\n",
       "  <tbody>\n",
       "    <tr>\n",
       "      <th>0</th>\n",
       "      <td>4b793eb834462b029e435eaeb49433efc61755c9e15a24...</td>\n",
       "      <td>서울 종로구 평창동 530-8</td>\n",
       "      <td>쿠나이앤티</td>\n",
       "    </tr>\n",
       "    <tr>\n",
       "      <th>1</th>\n",
       "      <td>f5169c15a126e4059f0a89bb80fccd236693d5056d24ae...</td>\n",
       "      <td>서울 종로구 창신동 468-1</td>\n",
       "      <td>애견용품할인매장</td>\n",
       "    </tr>\n",
       "    <tr>\n",
       "      <th>2</th>\n",
       "      <td>aa26d23f20a9b5642a6689f2a2761ca470703ebbd514eb...</td>\n",
       "      <td>서울 종로구 창신동 436-64</td>\n",
       "      <td>펫클럽 청계점</td>\n",
       "    </tr>\n",
       "    <tr>\n",
       "      <th>3</th>\n",
       "      <td>2806f173e3a783ed14d74c9a83da2f62c34f45d470e893...</td>\n",
       "      <td>서울 종로구 홍지동 103-24</td>\n",
       "      <td>나니스펫푸드</td>\n",
       "    </tr>\n",
       "    <tr>\n",
       "      <th>4</th>\n",
       "      <td>aa18fd6e2328f00ac2567b7a37a4db308ceee03a01924c...</td>\n",
       "      <td>서울 종로구 필운동 137-5</td>\n",
       "      <td>서촌양품</td>\n",
       "    </tr>\n",
       "  </tbody>\n",
       "</table>\n",
       "</div>"
      ],
      "text/plain": [
       "                                         forpet_hash       address_name  \\\n",
       "0  4b793eb834462b029e435eaeb49433efc61755c9e15a24...   서울 종로구 평창동 530-8   \n",
       "1  f5169c15a126e4059f0a89bb80fccd236693d5056d24ae...   서울 종로구 창신동 468-1   \n",
       "2  aa26d23f20a9b5642a6689f2a2761ca470703ebbd514eb...  서울 종로구 창신동 436-64   \n",
       "3  2806f173e3a783ed14d74c9a83da2f62c34f45d470e893...  서울 종로구 홍지동 103-24   \n",
       "4  aa18fd6e2328f00ac2567b7a37a4db308ceee03a01924c...   서울 종로구 필운동 137-5   \n",
       "\n",
       "  place_name  \n",
       "0      쿠나이앤티  \n",
       "1   애견용품할인매장  \n",
       "2    펫클럽 청계점  \n",
       "3     나니스펫푸드  \n",
       "4       서촌양품  "
      ]
     },
     "execution_count": 22,
     "metadata": {},
     "output_type": "execute_result"
    }
   ],
   "source": [
    "ordinary_table = pd.read_csv('data/mysql_forpet_shop.csv', index_col = 0)\n",
    "ordinary_table.head()"
   ]
  },
  {
   "cell_type": "code",
   "execution_count": 10,
   "metadata": {
    "ExecuteTime": {
     "end_time": "2020-04-08T07:40:21.098784Z",
     "start_time": "2020-04-08T07:40:21.093788Z"
    }
   },
   "outputs": [
    {
     "data": {
      "text/plain": [
       "8582"
      ]
     },
     "execution_count": 10,
     "metadata": {},
     "output_type": "execute_result"
    }
   ],
   "source": [
    "len(ordinary_table)"
   ]
  },
  {
   "cell_type": "code",
   "execution_count": 24,
   "metadata": {
    "ExecuteTime": {
     "end_time": "2020-04-08T07:44:49.161122Z",
     "start_time": "2020-04-08T07:44:49.072071Z"
    }
   },
   "outputs": [
    {
     "name": "stdout",
     "output_type": "stream",
     "text": [
      "6535 초이동물병원 ['성남시', '수정구', '신흥1동', '5168']\n"
     ]
    },
    {
     "ename": "InvalidElementStateException",
     "evalue": "Message: invalid element state: Element is not currently interactable and may not be manipulated\n  (Session info: chrome=80.0.3987.163)\n",
     "output_type": "error",
     "traceback": [
      "\u001b[1;31m---------------------------------------------------------------------------\u001b[0m",
      "\u001b[1;31mInvalidElementStateException\u001b[0m              Traceback (most recent call last)",
      "\u001b[1;32m<ipython-input-24-67e2e1639ada>\u001b[0m in \u001b[0;36m<module>\u001b[1;34m\u001b[0m\n\u001b[0;32m      6\u001b[0m     \u001b[0mshop_address\u001b[0m \u001b[1;33m=\u001b[0m\u001b[0maddress_name\u001b[0m\u001b[1;33m.\u001b[0m\u001b[0msplit\u001b[0m\u001b[1;33m(\u001b[0m\u001b[1;34m' '\u001b[0m\u001b[1;33m)\u001b[0m\u001b[1;33m[\u001b[0m\u001b[1;36m1\u001b[0m\u001b[1;33m:\u001b[0m\u001b[1;33m]\u001b[0m\u001b[1;33m\u001b[0m\u001b[1;33m\u001b[0m\u001b[0m\n\u001b[0;32m      7\u001b[0m     \u001b[0mshop_name\u001b[0m \u001b[1;33m=\u001b[0m \u001b[0mplace_name\u001b[0m\u001b[1;33m.\u001b[0m\u001b[0mreplace\u001b[0m\u001b[1;33m(\u001b[0m\u001b[1;34m' '\u001b[0m\u001b[1;33m,\u001b[0m\u001b[1;34m''\u001b[0m\u001b[1;33m)\u001b[0m\u001b[1;33m\u001b[0m\u001b[1;33m\u001b[0m\u001b[0m\n\u001b[1;32m----> 8\u001b[1;33m     \u001b[0mstart_crwarling\u001b[0m\u001b[1;33m(\u001b[0m\u001b[0mk\u001b[0m\u001b[1;33m,\u001b[0m \u001b[0mforpet_hash\u001b[0m\u001b[1;33m,\u001b[0m \u001b[0mshop_name\u001b[0m\u001b[1;33m,\u001b[0m \u001b[0mshop_address\u001b[0m\u001b[1;33m)\u001b[0m\u001b[1;33m\u001b[0m\u001b[1;33m\u001b[0m\u001b[0m\n\u001b[0m\u001b[0;32m      9\u001b[0m \u001b[1;33m\u001b[0m\u001b[0m\n\u001b[0;32m     10\u001b[0m     \u001b[0mprint\u001b[0m\u001b[1;33m(\u001b[0m\u001b[1;34m'\\n'\u001b[0m\u001b[1;33m)\u001b[0m\u001b[1;33m\u001b[0m\u001b[1;33m\u001b[0m\u001b[0m\n",
      "\u001b[1;32m<ipython-input-5-3fe17f539698>\u001b[0m in \u001b[0;36mstart_crwarling\u001b[1;34m(k, forpet_hash, shop_name, shop_address)\u001b[0m\n\u001b[0;32m      4\u001b[0m     \u001b[1;31m# shop 이름 입력\u001b[0m\u001b[1;33m\u001b[0m\u001b[1;33m\u001b[0m\u001b[1;33m\u001b[0m\u001b[0m\n\u001b[0;32m      5\u001b[0m     \u001b[0melement\u001b[0m \u001b[1;33m=\u001b[0m \u001b[0mdriver\u001b[0m\u001b[1;33m.\u001b[0m\u001b[0mfind_element_by_xpath\u001b[0m\u001b[1;33m(\u001b[0m\u001b[1;34m'//input[@autofocus=\"autofocus\"]'\u001b[0m\u001b[1;33m)\u001b[0m\u001b[1;33m\u001b[0m\u001b[1;33m\u001b[0m\u001b[0m\n\u001b[1;32m----> 6\u001b[1;33m     \u001b[0melement\u001b[0m\u001b[1;33m.\u001b[0m\u001b[0mclear\u001b[0m\u001b[1;33m(\u001b[0m\u001b[1;33m)\u001b[0m\u001b[1;33m\u001b[0m\u001b[1;33m\u001b[0m\u001b[0m\n\u001b[0m\u001b[0;32m      7\u001b[0m \u001b[1;33m\u001b[0m\u001b[0m\n\u001b[0;32m      8\u001b[0m     \u001b[0msearch_word\u001b[0m \u001b[1;33m=\u001b[0m \u001b[0mshop_name\u001b[0m \u001b[1;33m+\u001b[0m \u001b[1;34m' '\u001b[0m \u001b[1;33m+\u001b[0m\u001b[0mshop_address\u001b[0m\u001b[1;33m[\u001b[0m\u001b[1;36m0\u001b[0m\u001b[1;33m]\u001b[0m\u001b[1;33m\u001b[0m\u001b[1;33m\u001b[0m\u001b[0m\n",
      "\u001b[1;32mc:\\users\\shiney\\documents\\workspace\\crawling\\lib\\site-packages\\selenium\\webdriver\\remote\\webelement.py\u001b[0m in \u001b[0;36mclear\u001b[1;34m(self)\u001b[0m\n\u001b[0;32m     93\u001b[0m     \u001b[1;32mdef\u001b[0m \u001b[0mclear\u001b[0m\u001b[1;33m(\u001b[0m\u001b[0mself\u001b[0m\u001b[1;33m)\u001b[0m\u001b[1;33m:\u001b[0m\u001b[1;33m\u001b[0m\u001b[1;33m\u001b[0m\u001b[0m\n\u001b[0;32m     94\u001b[0m         \u001b[1;34m\"\"\"Clears the text if it's a text entry element.\"\"\"\u001b[0m\u001b[1;33m\u001b[0m\u001b[1;33m\u001b[0m\u001b[0m\n\u001b[1;32m---> 95\u001b[1;33m         \u001b[0mself\u001b[0m\u001b[1;33m.\u001b[0m\u001b[0m_execute\u001b[0m\u001b[1;33m(\u001b[0m\u001b[0mCommand\u001b[0m\u001b[1;33m.\u001b[0m\u001b[0mCLEAR_ELEMENT\u001b[0m\u001b[1;33m)\u001b[0m\u001b[1;33m\u001b[0m\u001b[1;33m\u001b[0m\u001b[0m\n\u001b[0m\u001b[0;32m     96\u001b[0m \u001b[1;33m\u001b[0m\u001b[0m\n\u001b[0;32m     97\u001b[0m     \u001b[1;32mdef\u001b[0m \u001b[0mget_property\u001b[0m\u001b[1;33m(\u001b[0m\u001b[0mself\u001b[0m\u001b[1;33m,\u001b[0m \u001b[0mname\u001b[0m\u001b[1;33m)\u001b[0m\u001b[1;33m:\u001b[0m\u001b[1;33m\u001b[0m\u001b[1;33m\u001b[0m\u001b[0m\n",
      "\u001b[1;32mc:\\users\\shiney\\documents\\workspace\\crawling\\lib\\site-packages\\selenium\\webdriver\\remote\\webelement.py\u001b[0m in \u001b[0;36m_execute\u001b[1;34m(self, command, params)\u001b[0m\n\u001b[0;32m    631\u001b[0m             \u001b[0mparams\u001b[0m \u001b[1;33m=\u001b[0m \u001b[1;33m{\u001b[0m\u001b[1;33m}\u001b[0m\u001b[1;33m\u001b[0m\u001b[1;33m\u001b[0m\u001b[0m\n\u001b[0;32m    632\u001b[0m         \u001b[0mparams\u001b[0m\u001b[1;33m[\u001b[0m\u001b[1;34m'id'\u001b[0m\u001b[1;33m]\u001b[0m \u001b[1;33m=\u001b[0m \u001b[0mself\u001b[0m\u001b[1;33m.\u001b[0m\u001b[0m_id\u001b[0m\u001b[1;33m\u001b[0m\u001b[1;33m\u001b[0m\u001b[0m\n\u001b[1;32m--> 633\u001b[1;33m         \u001b[1;32mreturn\u001b[0m \u001b[0mself\u001b[0m\u001b[1;33m.\u001b[0m\u001b[0m_parent\u001b[0m\u001b[1;33m.\u001b[0m\u001b[0mexecute\u001b[0m\u001b[1;33m(\u001b[0m\u001b[0mcommand\u001b[0m\u001b[1;33m,\u001b[0m \u001b[0mparams\u001b[0m\u001b[1;33m)\u001b[0m\u001b[1;33m\u001b[0m\u001b[1;33m\u001b[0m\u001b[0m\n\u001b[0m\u001b[0;32m    634\u001b[0m \u001b[1;33m\u001b[0m\u001b[0m\n\u001b[0;32m    635\u001b[0m     \u001b[1;32mdef\u001b[0m \u001b[0mfind_element\u001b[0m\u001b[1;33m(\u001b[0m\u001b[0mself\u001b[0m\u001b[1;33m,\u001b[0m \u001b[0mby\u001b[0m\u001b[1;33m=\u001b[0m\u001b[0mBy\u001b[0m\u001b[1;33m.\u001b[0m\u001b[0mID\u001b[0m\u001b[1;33m,\u001b[0m \u001b[0mvalue\u001b[0m\u001b[1;33m=\u001b[0m\u001b[1;32mNone\u001b[0m\u001b[1;33m)\u001b[0m\u001b[1;33m:\u001b[0m\u001b[1;33m\u001b[0m\u001b[1;33m\u001b[0m\u001b[0m\n",
      "\u001b[1;32mc:\\users\\shiney\\documents\\workspace\\crawling\\lib\\site-packages\\selenium\\webdriver\\remote\\webdriver.py\u001b[0m in \u001b[0;36mexecute\u001b[1;34m(self, driver_command, params)\u001b[0m\n\u001b[0;32m    319\u001b[0m         \u001b[0mresponse\u001b[0m \u001b[1;33m=\u001b[0m \u001b[0mself\u001b[0m\u001b[1;33m.\u001b[0m\u001b[0mcommand_executor\u001b[0m\u001b[1;33m.\u001b[0m\u001b[0mexecute\u001b[0m\u001b[1;33m(\u001b[0m\u001b[0mdriver_command\u001b[0m\u001b[1;33m,\u001b[0m \u001b[0mparams\u001b[0m\u001b[1;33m)\u001b[0m\u001b[1;33m\u001b[0m\u001b[1;33m\u001b[0m\u001b[0m\n\u001b[0;32m    320\u001b[0m         \u001b[1;32mif\u001b[0m \u001b[0mresponse\u001b[0m\u001b[1;33m:\u001b[0m\u001b[1;33m\u001b[0m\u001b[1;33m\u001b[0m\u001b[0m\n\u001b[1;32m--> 321\u001b[1;33m             \u001b[0mself\u001b[0m\u001b[1;33m.\u001b[0m\u001b[0merror_handler\u001b[0m\u001b[1;33m.\u001b[0m\u001b[0mcheck_response\u001b[0m\u001b[1;33m(\u001b[0m\u001b[0mresponse\u001b[0m\u001b[1;33m)\u001b[0m\u001b[1;33m\u001b[0m\u001b[1;33m\u001b[0m\u001b[0m\n\u001b[0m\u001b[0;32m    322\u001b[0m             response['value'] = self._unwrap_value(\n\u001b[0;32m    323\u001b[0m                 response.get('value', None))\n",
      "\u001b[1;32mc:\\users\\shiney\\documents\\workspace\\crawling\\lib\\site-packages\\selenium\\webdriver\\remote\\errorhandler.py\u001b[0m in \u001b[0;36mcheck_response\u001b[1;34m(self, response)\u001b[0m\n\u001b[0;32m    240\u001b[0m                 \u001b[0malert_text\u001b[0m \u001b[1;33m=\u001b[0m \u001b[0mvalue\u001b[0m\u001b[1;33m[\u001b[0m\u001b[1;34m'alert'\u001b[0m\u001b[1;33m]\u001b[0m\u001b[1;33m.\u001b[0m\u001b[0mget\u001b[0m\u001b[1;33m(\u001b[0m\u001b[1;34m'text'\u001b[0m\u001b[1;33m)\u001b[0m\u001b[1;33m\u001b[0m\u001b[1;33m\u001b[0m\u001b[0m\n\u001b[0;32m    241\u001b[0m             \u001b[1;32mraise\u001b[0m \u001b[0mexception_class\u001b[0m\u001b[1;33m(\u001b[0m\u001b[0mmessage\u001b[0m\u001b[1;33m,\u001b[0m \u001b[0mscreen\u001b[0m\u001b[1;33m,\u001b[0m \u001b[0mstacktrace\u001b[0m\u001b[1;33m,\u001b[0m \u001b[0malert_text\u001b[0m\u001b[1;33m)\u001b[0m\u001b[1;33m\u001b[0m\u001b[1;33m\u001b[0m\u001b[0m\n\u001b[1;32m--> 242\u001b[1;33m         \u001b[1;32mraise\u001b[0m \u001b[0mexception_class\u001b[0m\u001b[1;33m(\u001b[0m\u001b[0mmessage\u001b[0m\u001b[1;33m,\u001b[0m \u001b[0mscreen\u001b[0m\u001b[1;33m,\u001b[0m \u001b[0mstacktrace\u001b[0m\u001b[1;33m)\u001b[0m\u001b[1;33m\u001b[0m\u001b[1;33m\u001b[0m\u001b[0m\n\u001b[0m\u001b[0;32m    243\u001b[0m \u001b[1;33m\u001b[0m\u001b[0m\n\u001b[0;32m    244\u001b[0m     \u001b[1;32mdef\u001b[0m \u001b[0m_value_or_default\u001b[0m\u001b[1;33m(\u001b[0m\u001b[0mself\u001b[0m\u001b[1;33m,\u001b[0m \u001b[0mobj\u001b[0m\u001b[1;33m,\u001b[0m \u001b[0mkey\u001b[0m\u001b[1;33m,\u001b[0m \u001b[0mdefault\u001b[0m\u001b[1;33m)\u001b[0m\u001b[1;33m:\u001b[0m\u001b[1;33m\u001b[0m\u001b[1;33m\u001b[0m\u001b[0m\n",
      "\u001b[1;31mInvalidElementStateException\u001b[0m: Message: invalid element state: Element is not currently interactable and may not be manipulated\n  (Session info: chrome=80.0.3987.163)\n"
     ]
    }
   ],
   "source": [
    "SCROLL_PAUSE_TIME = 2\n",
    "all_cnt = 0\n",
    "for k in range(6535, len(ordinary_table)):\n",
    "    forpet_hash, address_name, place_name= ordinary_table.loc[k] \n",
    "  \n",
    "    shop_address =address_name.split(' ')[1:]\n",
    "    shop_name = place_name.replace(' ','')\n",
    "    start_crwarling(k, forpet_hash, shop_name, shop_address)\n",
    "    \n",
    "    print('\\n')\n",
    "    try:\n",
    "        back_button = driver.find_element_by_xpath('//button[@class=\"ozj7Vb3wnYq__action-button-clickable\"]')\n",
    "        back_button.click()\n",
    "    except:\n",
    "        pass\n",
    "    \n",
    "#     if k % 100 == 0:\n",
    "#         match_total_table.to_csv('match_total_table.csv')\n",
    "#         not_match_total_table.to_csv('not_match_total_table.csv')\n",
    "#         match_review_table.to_csv('match_review_table.csv')\n",
    "#         not_match_review_table.to_csv('not_match_review_table.csv')\n",
    "#         x_total_table.to_csv('x_total_table.csv')\n",
    "#         x_review_table.to_csv('x_review_table.csv')\n",
    "#         not_info_table.to_csv('not_info_table.csv')        "
   ]
  },
  {
   "cell_type": "code",
   "execution_count": 54,
   "metadata": {
    "ExecuteTime": {
     "end_time": "2020-03-19T15:40:09.785568Z",
     "start_time": "2020-03-19T15:38:10.441Z"
    }
   },
   "outputs": [
    {
     "name": "stdout",
     "output_type": "stream",
     "text": [
      "match_total_table\n",
      "                                          forpet_hash shop_name  \\\n",
      "1  aa26d23f20a9b5642a6689f2a2761ca470703ebbd514eb...   펫클럽 청계점   \n",
      "2  2806f173e3a783ed14d74c9a83da2f62c34f45d470e893...    나니스펫푸드   \n",
      "3  aa18fd6e2328f00ac2567b7a37a4db308ceee03a01924c...      서촌양품   \n",
      "4  fb83c79c4e90759c7c48970c543e2f8671e1e39d3eb76d...      뚜리까까   \n",
      "\n",
      "                    shop_address total_score  match  \n",
      "1  서울특별시 종로구 창신동 436-64번지 일신파워빌딩         NaN  match  \n",
      "2   홍지동 103-24번지 1층 종로구 서울특별시 KR         NaN  match  \n",
      "3            서울특별시 종로구 필운동 137-5         NaN  match  \n",
      "4     서울특별시 성북구 동소문동3가 동소문로2길 79         NaN  match  \n",
      "not_match_total_table\n",
      "                                          forpet_hash    shop_name  \\\n",
      "1  f5169c15a126e4059f0a89bb80fccd236693d5056d24ae...     애견용품할인매장   \n",
      "2  8aa63cf25e3842284a45ab5d4f603e816dba32c9406b88...      푸드마스터그룹   \n",
      "3  bd8ce4fe5ec9031f0d986ac8e3091594a104e02d9e1d71...         도그스푼   \n",
      "4  ad85ca27faea5e1533bdd8873a5a366d237ffd1311f510...    스프링펫 서대문점   \n",
      "5  57eed23d445ca204e0ab28da0f58b1ef85121c92f469b3...  야옹아멍멍해봐 성북점   \n",
      "6  f53e28a28e233499899f56f7c2323b51b13b4745aae71a...        퍼플네스트   \n",
      "7  194e0e4587a9e9c80309199fdc774e55d719bc5b66e1ac...   도기랑냥이랑 정릉점   \n",
      "\n",
      "                    shop_address total_score      match  \n",
      "1    창신동 315-1번지 1층 종로구 서울특별시 KR         NaN  not match  \n",
      "2              서울특별시 종로구 이화동 191         NaN  not match  \n",
      "3   홍은동 36-70번지 1층 서대문구 서울특별시 KR         NaN  not match  \n",
      "4          서울특별시 마포구 서교동 양화로 189         NaN  not match  \n",
      "5            서울특별시 성북구 삼선교로24길 3         4.2  not match  \n",
      "6  더케이트윈타워 2층 퍼플네스트 종로구 서울특별시 KR         4.0  not match  \n",
      "7         서울특별시 성북구 정릉동 아리랑로 115         5.0  not match  \n",
      "match_review_table\n",
      "                                          forpet_hash num review score  match\n",
      "1  aa26d23f20a9b5642a6689f2a2761ca470703ebbd514eb...   1    NaN   NaN  match\n",
      "2  2806f173e3a783ed14d74c9a83da2f62c34f45d470e893...   1    NaN   NaN  match\n",
      "3  aa18fd6e2328f00ac2567b7a37a4db308ceee03a01924c...   1    NaN   NaN  match\n",
      "4  fb83c79c4e90759c7c48970c543e2f8671e1e39d3eb76d...   1    NaN   NaN  match\n",
      "not_match_review_table\n",
      "                                           forpet_hash num  \\\n",
      "1   f5169c15a126e4059f0a89bb80fccd236693d5056d24ae...   1   \n",
      "2   8aa63cf25e3842284a45ab5d4f603e816dba32c9406b88...   1   \n",
      "3   bd8ce4fe5ec9031f0d986ac8e3091594a104e02d9e1d71...   1   \n",
      "4   ad85ca27faea5e1533bdd8873a5a366d237ffd1311f510...   1   \n",
      "5   57eed23d445ca204e0ab28da0f58b1ef85121c92f469b3...   0   \n",
      "7   57eed23d445ca204e0ab28da0f58b1ef85121c92f469b3...   1   \n",
      "9   57eed23d445ca204e0ab28da0f58b1ef85121c92f469b3...   2   \n",
      "11  57eed23d445ca204e0ab28da0f58b1ef85121c92f469b3...   3   \n",
      "13  57eed23d445ca204e0ab28da0f58b1ef85121c92f469b3...   4   \n",
      "15  57eed23d445ca204e0ab28da0f58b1ef85121c92f469b3...   5   \n",
      "17  194e0e4587a9e9c80309199fdc774e55d719bc5b66e1ac...   0   \n",
      "19  57eed23d445ca204e0ab28da0f58b1ef85121c92f469b3...   7   \n",
      "21  57eed23d445ca204e0ab28da0f58b1ef85121c92f469b3...   8   \n",
      "14  f53e28a28e233499899f56f7c2323b51b13b4745aae71a...   0   \n",
      "16  f53e28a28e233499899f56f7c2323b51b13b4745aae71a...   1   \n",
      "18  194e0e4587a9e9c80309199fdc774e55d719bc5b66e1ac...   1   \n",
      "\n",
      "                                               review    score      match  \n",
      "1                                                 NaN      NaN  not match  \n",
      "2                                                 NaN      NaN  not match  \n",
      "3                                                 NaN      NaN  not match  \n",
      "4                                                 NaN      NaN  not match  \n",
      "5                    애견 및 고양이 관련 모든 제품을 손쉽게 구할 수 있어요.   별표 4개           n  \n",
      "7                         강아지 모든것이 있어서 좋아요 크로백도 구매했구요   별표 5개           o  \n",
      "9                    처음키우는 강아지라 여러가지로 잘 설명해주시고 친절합니다.   별표 5개           t  \n",
      "11  접객하는 푸들과 장모종 고양이가 있어 정겨운곳. 일부러 갸들보러 가고싶을때도 있슴....   별표 5개              \n",
      "13                                가격도 저렴하고 다양핫 상품이 있음   별표 4개           m  \n",
      "15                                   강아지 사료 종류가 많이있어요   별표 4개           a  \n",
      "17                        사장님하고 직원이 참 설명도  잘해주시고친절하셔요   별표 5개           n  \n",
      "19  집가는 길에 들려서 매번 간식사는데 종류가 많다! 처음에 강아지 분양하는데에 강아지...   별표 5개           c  \n",
      "21                              친절하고 다양한 품목이 있습니다~~^^   별표 5개           h  \n",
      "14                  이곳은 퍼플네스트 본사입니다. 직원분들이 열심히 일하시네요.   별표 5개           n  \n",
      "16                                                      별표 3개           o  \n",
      "18                        직원분들도 친절하고, 물건 가격도 저렴하게 팔아요   별표 5개           o  \n",
      "x_total_table\n",
      "                                          forpet_hash shop_name  \\\n",
      "1  bc5f725f3407b772ac23717515c498d34c6e2ecdfd2e34...      중앙애견   \n",
      "\n",
      "      shop_address total_score match  \n",
      "1  [중구, 묵정동, 32-3]           X     X  \n",
      "x_review_table\n",
      "                                          forpet_hash      shop_name num  \\\n",
      "1  4b793eb834462b029e435eaeb49433efc61755c9e15a24...          쿠나이앤티   0   \n",
      "2  c923e036035e04fc590dfe181702bdff963f7fe6e0d442...       스프링펫 창신점   0   \n",
      "3  275c9b2f484f215bf7da6e27c0f2ea8696469033657186...         다이렉트 펫   0   \n",
      "4  52f7350baf9645ba80f749b3d86f5e746cf46aaf1265ba...           스투키펫   0   \n",
      "5  8e35f7a0a73e558271ae3dbec0ad40322ed25b73045eb6...  반려동물용품사료 할인마트   0   \n",
      "6  d2f048b9ea45480dfefa2473a1c675f7be19c528c67b77...          강아지세상   0   \n",
      "7  26245c78c1cbed4eb1cc0fd1700e18be45314057179f72...     홈독애견마트 홍제점   0   \n",
      "8  d8d772d31c2687401796f0768d35a295a22569860ee710...          루미앤비비   0   \n",
      "9  bc5f725f3407b772ac23717515c498d34c6e2ecdfd2e34...           중앙애견   0   \n",
      "\n",
      "  review score match  \n",
      "1      X     X     X  \n",
      "2      X     X     X  \n",
      "3      X     X     X  \n",
      "4      X     X     X  \n",
      "5      X     X     X  \n",
      "6      X     X     X  \n",
      "7      X     X     X  \n",
      "8      X     X     X  \n",
      "9      X     X     X  \n"
     ]
    }
   ],
   "source": [
    "\n",
    "\n",
    "\n",
    "print('match_total_table\\n',match_total_table)\n",
    "print('not_match_total_table\\n',not_match_total_table)\n",
    "print('match_review_table\\n',match_review_table)\n",
    "print('not_match_review_table\\n',not_match_review_table)\n",
    "print('x_total_table\\n', x_total_table)\n",
    "print('x_review_table\\n', x_review_table)\n"
   ]
  },
  {
   "cell_type": "code",
   "execution_count": null,
   "metadata": {},
   "outputs": [],
   "source": []
  },
  {
   "cell_type": "code",
   "execution_count": null,
   "metadata": {},
   "outputs": [],
   "source": []
  },
  {
   "cell_type": "code",
   "execution_count": null,
   "metadata": {},
   "outputs": [],
   "source": []
  }
 ],
 "metadata": {
  "kernelspec": {
   "display_name": "Python 3",
   "language": "python",
   "name": "python3"
  },
  "language_info": {
   "codemirror_mode": {
    "name": "ipython",
    "version": 3
   },
   "file_extension": ".py",
   "mimetype": "text/x-python",
   "name": "python",
   "nbconvert_exporter": "python",
   "pygments_lexer": "ipython3",
   "version": "3.7.6"
  },
  "toc": {
   "base_numbering": 1,
   "nav_menu": {},
   "number_sections": false,
   "sideBar": true,
   "skip_h1_title": false,
   "title_cell": "Table of Contents",
   "title_sidebar": "Contents",
   "toc_cell": false,
   "toc_position": {
    "height": "calc(100% - 180px)",
    "left": "10px",
    "top": "150px",
    "width": "167.594px"
   },
   "toc_section_display": true,
   "toc_window_display": true
  }
 },
 "nbformat": 4,
 "nbformat_minor": 4
}
