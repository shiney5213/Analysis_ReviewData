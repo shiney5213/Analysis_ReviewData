{
 "cells": [
  {
   "cell_type": "markdown",
   "metadata": {},
   "source": [
    "# flowchart\n"
   ]
  },
  {
   "cell_type": "code",
   "execution_count": 299,
   "metadata": {
    "ExecuteTime": {
     "end_time": "2020-03-20T03:51:15.047258Z",
     "start_time": "2020-03-20T03:51:00.884988Z"
    }
   },
   "outputs": [],
   "source": [
    "# import mysql.connector\n",
    "import pandas as pd\n",
    "from selenium import webdriver\n",
    "from bs4 import BeautifulSoup\n",
    "import time\n",
    "from selenium.webdriver.common.keys import Keys\n",
    "#from selenium.webdriver.support.ui import WebDriverWait\n",
    "from selenium.webdriver.support.wait import WebDriverWait\n",
    "from selenium.webdriver.support import expected_conditions as EC\n",
    "from selenium.common.exceptions import TimeoutException\n",
    "import numpy as np\n",
    "import sys\n",
    "import re"
   ]
  },
  {
   "cell_type": "markdown",
   "metadata": {},
   "source": [
    "### 1. crawrler "
   ]
  },
  {
   "cell_type": "code",
   "execution_count": 10,
   "metadata": {
    "ExecuteTime": {
     "end_time": "2020-03-19T15:00:10.118449Z",
     "start_time": "2020-03-19T14:59:50.555572Z"
    }
   },
   "outputs": [],
   "source": [
    "driver = webdriver.Chrome('chromedriver.exe')\n",
    "\n",
    "driver.get(\"http://www.google.com\")\n",
    "\n",
    "time.sleep(2)\n",
    "\n",
    "\n",
    "element = driver.find_element_by_name('q')\n",
    "\n",
    "element.clear()\n",
    "element.send_keys('google map')\n",
    "element.submit()\n",
    "\n",
    "element = driver.find_element_by_xpath('//h3[@class=\"LC20lb DKV0Md\"]')\n",
    "element.click()"
   ]
  },
  {
   "cell_type": "code",
   "execution_count": 132,
   "metadata": {
    "ExecuteTime": {
     "end_time": "2020-03-19T15:24:54.476760Z",
     "start_time": "2020-03-19T15:24:54.458761Z"
    }
   },
   "outputs": [],
   "source": [
    "def get_info(html, shop_name, shop_address):\n",
    "# shop 주소, 총 별점 갖고오기\n",
    "    search_name, address, total_score, match=get_totalScore(html,shop_name, shop_address)\n",
    "    \n",
    "    # shop info가 있는가(addrsss로 확인)\n",
    "    if address == '':\n",
    "        review_list = ''\n",
    "        score_list = ''\n",
    "        return search_name, address,total_score, review_list, score_list, match \n",
    "\n",
    "    # 리뷰가 없는 경우    \n",
    "    if  total_score == 0:\n",
    "        review_list = 0\n",
    "        score_list= 0\n",
    "        \n",
    "    # 리뷰가 있는 경우\n",
    "    else:\n",
    "        # 리뷰 text(버튼 )클릭\n",
    "        review_button = driver.find_element_by_xpath('//button[@class=\"jqnFjrOWMVU__button gm2-caption\"]')\n",
    "        review_button.click()\n",
    "\n",
    "        time.sleep(SCROLL_PAUSE_TIME)\n",
    "\n",
    "        # 스크롤 다운\n",
    "        try:\n",
    "            element = driver.find_element_by_xpath('//span[@class=\"section-review-text\"]')\n",
    "            element.click()\n",
    "\n",
    "        except Exception as err:\n",
    "            print(err)\n",
    "\n",
    "        i = 0\n",
    "        while  True:\n",
    "            i += 1\n",
    "            html = driver.find_element_by_tag_name('html')\n",
    "            time.sleep(SCROLL_PAUSE_TIME)\n",
    "\n",
    "            text1 = html.text\n",
    "            html.send_keys(Keys.END)\n",
    "            time.sleep(SCROLL_PAUSE_TIME)\n",
    "\n",
    "            html = driver.find_element_by_tag_name('html')\n",
    "            text2 = html.text\n",
    "\n",
    "            if text1 == text2:\n",
    "                break\n",
    "            else:\n",
    "                continue\n",
    "    \n",
    "        review_html = driver.page_source\n",
    "\n",
    "        review_list, score_list=get_review(review_html) \n",
    "        driver.back()\n",
    "\n",
    "    return search_name, address, total_score, review_list, score_list, match"
   ]
  },
  {
   "cell_type": "code",
   "execution_count": 133,
   "metadata": {
    "ExecuteTime": {
     "end_time": "2020-03-19T15:24:55.092217Z",
     "start_time": "2020-03-19T15:24:55.082194Z"
    }
   },
   "outputs": [],
   "source": [
    "def get_review(html):\n",
    "    soup = BeautifulSoup(html, 'html.parser')\n",
    "    # 개별 리뷰\n",
    "    total_review =soup.find_all('span',attrs = {'class': \"section-review-text\"} )\n",
    "\n",
    "    review_list=[]\n",
    "    for i, review in enumerate(total_review):\n",
    "        review_list.append(review.text)\n",
    "\n",
    "    #### 개별 별점\n",
    "    scores =soup.find_all('span',attrs = {'class': \"section-review-stars\", 'role': 'img'} )\n",
    "\n",
    "    score_list = []\n",
    "    for score in scores:\n",
    "        score_list.append(score.attrs['aria-label'])\n",
    "\n",
    "    return review_list, score_list"
   ]
  },
  {
   "cell_type": "code",
   "execution_count": 403,
   "metadata": {
    "ExecuteTime": {
     "end_time": "2020-03-19T15:35:04.464395Z",
     "start_time": "2020-03-19T15:35:04.436369Z"
    }
   },
   "outputs": [],
   "source": [
    "def start_crwarling(k, forpet_hash,shop_name, shop_address):\n",
    "    print(k, shop_name, shop_address)\n",
    "\n",
    "    # shop 이름 입력\n",
    "    element = driver.find_element_by_xpath('//input[@autofocus=\"autofocus\"]')\n",
    "    element.clear()\n",
    "    \n",
    "    search_word = shop_name + ' ' +shop_address[0]\n",
    "#     search_word = shop_name\n",
    "    element.send_keys(search_word)\n",
    "    element.submit()\n",
    "    \n",
    "    search_button = driver.find_element_by_xpath('//button[@class=\"searchbox-searchbutton\"]')\n",
    "    search_button.click()\n",
    "    \n",
    "    time.sleep(SCROLL_PAUSE_TIME)\n",
    "\n",
    "    # 키워드 입력 후, dict로 인덱스와 match 여부 받아오기\n",
    "    select_shop_html = driver.page_source\n",
    "    shop_select_dict= find_shop_by_name(select_shop_html, shop_name)\n",
    "    \n",
    "    # shoh이 여러개인 경우\n",
    "    if len(shop_select_dict) != 0:\n",
    "        print(f'shop이 {len(shop_select_dict)}개입니다')\n",
    "        for index, name in shop_select_dict.items():\n",
    "            shop_index =  2 * int(index) -1\n",
    "            \n",
    "            search_name = name\n",
    "#             \n",
    "            time.sleep(3)\n",
    "\n",
    "            try:\n",
    "                select_shop = driver.find_element_by_xpath(f'//div[@class = \"section-layout section-scrollbox scrollable-y scrollable-show section-layout-flex-vertical\"]/div/div[{shop_index}]/div[1]/div[1]')\n",
    "\n",
    "                select_shop.click()\n",
    "\n",
    "                time.sleep(SCROLL_PAUSE_TIME)\n",
    "\n",
    "                html = driver.page_source\n",
    "\n",
    "                search_name, address, total_score, review_list, score_list, match =get_info(html, shop_name, shop_address)\n",
    "                print(f'{index}번째 shop:', search_name, address, total_score, match )\n",
    "            except:\n",
    "                search_name = shop_name\n",
    "                address = ''\n",
    "                total_score = ''\n",
    "                match = 'not info'\n",
    "                address = ''\n",
    "                review_list = ''\n",
    "                score_list = ''\n",
    "           \n",
    "            save_dataframe(forpet_hash, search_name, shop_address, address, total_score, review_list, score_list, match)\n",
    "        \n",
    "            time.sleep(SCROLL_PAUSE_TIME)\n",
    "            driver.back()  \n",
    "     \n",
    "    # shop이 1개 인경우\n",
    "    else:\n",
    "        print('shop이 1개입니다')\n",
    "        html = driver.page_source\n",
    "        search_name, address, total_score, review_list, score_list, match =get_info(html, shop_name, shop_address)\n",
    "        print(f'shop 1개, {search_name}, {address}, {match} ')\n",
    "        \n",
    "        save_dataframe(forpet_hash, search_name, shop_address, address, total_score, review_list, score_list, match)\n",
    "    driver.back()  \n",
    "\n",
    "    "
   ]
  },
  {
   "cell_type": "code",
   "execution_count": null,
   "metadata": {},
   "outputs": [],
   "source": [
    "# 여러개의  shop 목록에서 주소로 찾기\n",
    "def find_shop_by_name(select_shop_html, shop_name):\n",
    "    soup = BeautifulSoup(select_shop_html, 'html.parser')\n",
    "#     print(select_shop_html)\n",
    "    all_shop_name = soup.find_all('div', attrs = {'class': \"section-result-title-container\"} )\n",
    "    \n",
    "    shop_select_dict = {}\n",
    "    for i, shop in enumerate(all_shop_name):\n",
    "        include_word = ['동물', '펫', '애견', 'dot','cat','도그','캣','pet','야옹','멍멍']\n",
    "        name_include_word = sum([ word in shop.text  for word in include_word]) \n",
    "        \n",
    "        # 이름이 같은 경우\n",
    "        if shop_name == shop.text :\n",
    "            shop_select_dict[str(i+1)] = [shop.text, 'same_name']  \n",
    "        # 이름이 비슷한 경우\n",
    "        elif name_include_word >= 1:\n",
    "            shop_select_dict[str(i+1)] = [shop.text,'simiral_name']\n",
    "        else:\n",
    "            pass\n",
    "#     print(shop_select_dict)\n",
    "    return shop_select_dict"
   ]
  },
  {
   "cell_type": "code",
   "execution_count": 405,
   "metadata": {
    "ExecuteTime": {
     "end_time": "2020-03-19T15:24:53.820886Z",
     "start_time": "2020-03-19T15:24:53.809790Z"
    }
   },
   "outputs": [],
   "source": [
    "# 주소와 total 별점 가져오기\n",
    "def get_totalScore(html,shop_name, shop_address):\n",
    "    \n",
    "    \n",
    "    soup = BeautifulSoup(html, 'html.parser')\n",
    "\n",
    "    time.sleep(SCROLL_PAUSE_TIME)\n",
    "    infos =soup.find_all('span',attrs = {'class': \"section-info-text\"} )\n",
    "    time.sleep(SCROLL_PAUSE_TIME)\n",
    "    \n",
    "    # 검색 결과가 있는 경우\n",
    "    try: \n",
    "        search_name = soup.find_all('div', attrs = {'class':'section-hero-header-title-description' })[0].text.replace(' ','')\n",
    "        if shop_name in search_name:\n",
    "            search_name = shop_name\n",
    "        else:\n",
    "            p = re.compile(\"[가-힣]\")\n",
    "            search_name = ''.join(p.findall(search_name)).replace('주','')\n",
    "        \n",
    "        print('serach_name', search_name, len(search_name))\n",
    "        print('shop_name', shop_name, len(shop_name))\n",
    "        \n",
    "        #  shop이름이 일치하는 경우\n",
    "        if shop_name in search_name:\n",
    "            # shop 정보가 없는 경우\n",
    "            if len(infos)== 0:\n",
    "                total_score = ''\n",
    "                match = 'not info'\n",
    "                address = ''\n",
    "\n",
    "                return address, total_score\n",
    "            # shop 정보가 있는 경우    \n",
    "            else:\n",
    "                address =infos[0].text\n",
    "\n",
    "                gu = shop_address[0] in address\n",
    "                dong = shop_address[1] in address\n",
    "                bungi = shop_address[2] in address\n",
    "\n",
    "\n",
    "                if (gu and dong and bungi) or (dong and bungi):\n",
    "                    match = 'match_all'\n",
    "                elif (gu and dong) or dong:\n",
    "                    match = 'match_dong'\n",
    "                elif gu:\n",
    "                    match = 'match_gu'\n",
    "                else:\n",
    "                    match = 'not_match' \n",
    "                    \n",
    "                    \n",
    "                    \n",
    "        #shop이름이 다른 경우\n",
    "        else:\n",
    "            address =infos[0].text\n",
    "            match = 'x'\n",
    "\n",
    "\n",
    "        total_score = soup.find_all('div',attrs = {'class': \"gm2-display-2\"} )\n",
    "\n",
    "        if len(total_score)!=0:\n",
    "            total_score = total_score[0].text\n",
    "        else:\n",
    "            total_score = 0\n",
    "    \n",
    "    # 검색 결과가 없는 경우\n",
    "    except:\n",
    "        total_score = ''\n",
    "        match = 'not info'\n",
    "        address = ''\n",
    "        search_name = shop_name\n",
    "    \n",
    "    return search_name, address, total_score, match"
   ]
  },
  {
   "cell_type": "code",
   "execution_count": 406,
   "metadata": {},
   "outputs": [],
   "source": [
    "def save_dataframe(forpet_hash, search_name, shop_address, address, total_score, review_list, score_list, match):\n",
    "    \n",
    "    # shop 정보가 없는 경우\n",
    "    if address == '':\n",
    "        not_info_table_insert(not_info_table, forpet_hash, search_name, match)\n",
    "    \n",
    "    # shop 정보가 있는 경우\n",
    "    else:\n",
    "        # match 여부에 따라\n",
    "        if match == 'match_all':\n",
    "            table_total = match_total_table\n",
    "            table_review = match_review_table\n",
    "\n",
    "        elif match == 'x':\n",
    "            table_total = x_total_table\n",
    "            table_review = x_review_table\n",
    "\n",
    "        # shop 이름만 같은 경우, match = match_dong, match_gu, not_match\n",
    "        else:    \n",
    "            table_total = not_match_total_table\n",
    "            table_review = not_match_review_table\n",
    "\n",
    "        total_table_insert(table_total, forpet_hash, search_name, shop_address, address, total_score, review_list, match)\n",
    "        review_table_insert(table_review, forpet_hash, search_name, shop_address, address, review_list, score_list, match)   \n"
   ]
  },
  {
   "cell_type": "code",
   "execution_count": 407,
   "metadata": {
    "scrolled": false
   },
   "outputs": [
    {
     "data": {
      "text/html": [
       "<div>\n",
       "<style scoped>\n",
       "    .dataframe tbody tr th:only-of-type {\n",
       "        vertical-align: middle;\n",
       "    }\n",
       "\n",
       "    .dataframe tbody tr th {\n",
       "        vertical-align: top;\n",
       "    }\n",
       "\n",
       "    .dataframe thead th {\n",
       "        text-align: right;\n",
       "    }\n",
       "</style>\n",
       "<table border=\"1\" class=\"dataframe\">\n",
       "  <thead>\n",
       "    <tr style=\"text-align: right;\">\n",
       "      <th></th>\n",
       "      <th>forpet_hash</th>\n",
       "      <th>address_name</th>\n",
       "      <th>place_name</th>\n",
       "    </tr>\n",
       "  </thead>\n",
       "  <tbody>\n",
       "    <tr>\n",
       "      <th>6178</th>\n",
       "      <td>7c6e1b90cbc5f712619cac8a94ce05f759df90bac2571a...</td>\n",
       "      <td>광주 북구 삼각동 780-1</td>\n",
       "      <td>이든동물병원</td>\n",
       "    </tr>\n",
       "    <tr>\n",
       "      <th>6432</th>\n",
       "      <td>3f0be225036eb3a9b0c713e6980bf983e43ea61b22d9d6...</td>\n",
       "      <td>경기 수원시 팔달구 화서동 743</td>\n",
       "      <td>이든동물병원</td>\n",
       "    </tr>\n",
       "  </tbody>\n",
       "</table>\n",
       "</div>"
      ],
      "text/plain": [
       "                                            forpet_hash        address_name  \\\n",
       "6178  7c6e1b90cbc5f712619cac8a94ce05f759df90bac2571a...     광주 북구 삼각동 780-1   \n",
       "6432  3f0be225036eb3a9b0c713e6980bf983e43ea61b22d9d6...  경기 수원시 팔달구 화서동 743   \n",
       "\n",
       "     place_name  \n",
       "6178     이든동물병원  \n",
       "6432     이든동물병원  "
      ]
     },
     "execution_count": 407,
     "metadata": {},
     "output_type": "execute_result"
    }
   ],
   "source": [
    "practice_table =ordinary_table[ordinary_table['place_name']=='이든동물병원']\n",
    "practice_table"
   ]
  },
  {
   "cell_type": "code",
   "execution_count": 358,
   "metadata": {},
   "outputs": [
    {
     "name": "stdout",
     "output_type": "stream",
     "text": [
      "0 이든동물병원 ['북구', '삼각동', '780-1']\n",
      "shop이 1개입니다\n",
      "serach_name 이든동물병원 6\n",
      "shop_name 이든동물병원 6\n",
      "shop 1개, 이든동물병원, 광주광역시 북구 삼각동 780-1, match_all \n",
      "match match_all\n",
      "total_table: 이든동물병원, 광주광역시 북구 삼각동 780-1 등록완료\n",
      "review_table: 이든동물병원, 광주광역시 북구 삼각동 780-1, 7 등록완료\n",
      "1 이든동물병원 ['수원시', '팔달구', '화서동', '743']\n",
      "shop이 1개입니다\n",
      "serach_name 이든동물병원 6\n",
      "shop_name 이든동물병원 6\n",
      "shop 1개, 이든동물병원, 경기도 수원시 팔달구 화서2동 349-4, match_dong \n",
      "match match_dong\n",
      "total_table: 이든동물병원, 경기도 수원시 팔달구 화서2동 349-4 등록완료\n",
      "review_table: 이든동물병원, 경기도 수원시 팔달구 화서2동 349-4 등록완료\n"
     ]
    }
   ],
   "source": [
    "SCROLL_PAUSE_TIME = 2\n",
    "all_cnt = 0\n",
    "for k in range(len(practice_table)):\n",
    "    forpet_hash, address_name, place_name= practice_table.iloc[k] \n",
    "  \n",
    "    shop_address =address_name.split(' ')[1:]\n",
    "    start_crwarling(k, forpet_hash, place_name, shop_address)\n",
    " \n",
    "    try:\n",
    "        back_button = driver.find_element_by_xpath('//button[@class=\"ozj7Vb3wnYq__action-button-clickable\"]')\n",
    "        back_button.click()\n",
    "    except:\n",
    "        pass"
   ]
  },
  {
   "cell_type": "code",
   "execution_count": 333,
   "metadata": {},
   "outputs": [
    {
     "name": "stdout",
     "output_type": "stream",
     "text": [
      "match_total_table 2\n",
      "match_review_table 2\n",
      "not_match_total_table 4\n",
      "not_match_review_table 4\n",
      "x_total_table 2\n",
      "x_review_table 2\n",
      "not_info_table 4\n"
     ]
    }
   ],
   "source": [
    "print('match_total_table',len(match_total_table))\n",
    "print('match_review_table',len(match_review_table))\n",
    "\n",
    "print('not_match_total_table',len(not_match_total_table))\n",
    "print('not_match_review_table',len(not_match_review_table))\n",
    "\n",
    "print('x_total_table', len(x_total_table))\n",
    "print('x_review_table', len(x_review_table))\n",
    "\n",
    "print('not_info_table', len(not_info_table))"
   ]
  },
  {
   "cell_type": "code",
   "execution_count": 306,
   "metadata": {},
   "outputs": [
    {
     "data": {
      "text/html": [
       "<div>\n",
       "<style scoped>\n",
       "    .dataframe tbody tr th:only-of-type {\n",
       "        vertical-align: middle;\n",
       "    }\n",
       "\n",
       "    .dataframe tbody tr th {\n",
       "        vertical-align: top;\n",
       "    }\n",
       "\n",
       "    .dataframe thead th {\n",
       "        text-align: right;\n",
       "    }\n",
       "</style>\n",
       "<table border=\"1\" class=\"dataframe\">\n",
       "  <thead>\n",
       "    <tr style=\"text-align: right;\">\n",
       "      <th></th>\n",
       "      <th>forpet_hash</th>\n",
       "      <th>shop_name</th>\n",
       "      <th>shop_address</th>\n",
       "      <th>address</th>\n",
       "      <th>num</th>\n",
       "      <th>review</th>\n",
       "      <th>score</th>\n",
       "      <th>match</th>\n",
       "    </tr>\n",
       "  </thead>\n",
       "  <tbody>\n",
       "  </tbody>\n",
       "</table>\n",
       "</div>"
      ],
      "text/plain": [
       "Empty DataFrame\n",
       "Columns: [forpet_hash, shop_name, shop_address, address, num, review, score, match]\n",
       "Index: []"
      ]
     },
     "execution_count": 306,
     "metadata": {},
     "output_type": "execute_result"
    }
   ],
   "source": [
    "not_match_review_table"
   ]
  },
  {
   "cell_type": "code",
   "execution_count": null,
   "metadata": {},
   "outputs": [],
   "source": []
  },
  {
   "cell_type": "code",
   "execution_count": null,
   "metadata": {},
   "outputs": [],
   "source": []
  },
  {
   "cell_type": "code",
   "execution_count": null,
   "metadata": {},
   "outputs": [],
   "source": []
  },
  {
   "cell_type": "code",
   "execution_count": null,
   "metadata": {},
   "outputs": [],
   "source": []
  },
  {
   "cell_type": "code",
   "execution_count": null,
   "metadata": {},
   "outputs": [],
   "source": []
  },
  {
   "cell_type": "code",
   "execution_count": null,
   "metadata": {},
   "outputs": [],
   "source": []
  },
  {
   "cell_type": "markdown",
   "metadata": {},
   "source": [
    "### 2. table\n",
    "#### 1. total table"
   ]
  },
  {
   "cell_type": "code",
   "execution_count": 408,
   "metadata": {
    "ExecuteTime": {
     "end_time": "2020-03-19T15:40:15.881314Z",
     "start_time": "2020-03-19T15:40:15.866335Z"
    }
   },
   "outputs": [
    {
     "data": {
      "text/html": [
       "<div>\n",
       "<style scoped>\n",
       "    .dataframe tbody tr th:only-of-type {\n",
       "        vertical-align: middle;\n",
       "    }\n",
       "\n",
       "    .dataframe tbody tr th {\n",
       "        vertical-align: top;\n",
       "    }\n",
       "\n",
       "    .dataframe thead th {\n",
       "        text-align: right;\n",
       "    }\n",
       "</style>\n",
       "<table border=\"1\" class=\"dataframe\">\n",
       "  <thead>\n",
       "    <tr style=\"text-align: right;\">\n",
       "      <th></th>\n",
       "      <th>forpet_hash</th>\n",
       "      <th>shop_name</th>\n",
       "      <th>shop_address</th>\n",
       "      <th>address</th>\n",
       "      <th>total_score</th>\n",
       "      <th>review_num</th>\n",
       "      <th>match</th>\n",
       "    </tr>\n",
       "  </thead>\n",
       "  <tbody>\n",
       "  </tbody>\n",
       "</table>\n",
       "</div>"
      ],
      "text/plain": [
       "Empty DataFrame\n",
       "Columns: [forpet_hash, shop_name, shop_address, address, total_score, review_num, match]\n",
       "Index: []"
      ]
     },
     "execution_count": 408,
     "metadata": {},
     "output_type": "execute_result"
    }
   ],
   "source": [
    "not_match_total_table= pd.DataFrame(columns = ['forpet_hash', 'shop_name', 'shop_address', 'address','total_score', 'review_num','match'])\n",
    "not_match_total_table"
   ]
  },
  {
   "cell_type": "code",
   "execution_count": 409,
   "metadata": {
    "ExecuteTime": {
     "end_time": "2020-03-19T15:40:16.080008Z",
     "start_time": "2020-03-19T15:40:16.067008Z"
    }
   },
   "outputs": [
    {
     "data": {
      "text/html": [
       "<div>\n",
       "<style scoped>\n",
       "    .dataframe tbody tr th:only-of-type {\n",
       "        vertical-align: middle;\n",
       "    }\n",
       "\n",
       "    .dataframe tbody tr th {\n",
       "        vertical-align: top;\n",
       "    }\n",
       "\n",
       "    .dataframe thead th {\n",
       "        text-align: right;\n",
       "    }\n",
       "</style>\n",
       "<table border=\"1\" class=\"dataframe\">\n",
       "  <thead>\n",
       "    <tr style=\"text-align: right;\">\n",
       "      <th></th>\n",
       "      <th>forpet_hash</th>\n",
       "      <th>shop_name</th>\n",
       "      <th>shop_address</th>\n",
       "      <th>address</th>\n",
       "      <th>total_score</th>\n",
       "      <th>review_num</th>\n",
       "      <th>match</th>\n",
       "    </tr>\n",
       "  </thead>\n",
       "  <tbody>\n",
       "  </tbody>\n",
       "</table>\n",
       "</div>"
      ],
      "text/plain": [
       "Empty DataFrame\n",
       "Columns: [forpet_hash, shop_name, shop_address, address, total_score, review_num, match]\n",
       "Index: []"
      ]
     },
     "execution_count": 409,
     "metadata": {},
     "output_type": "execute_result"
    }
   ],
   "source": [
    "match_total_table= pd.DataFrame(columns = ['forpet_hash', 'shop_name', 'shop_address', 'address','total_score', 'review_num','match'])\n",
    "match_total_table"
   ]
  },
  {
   "cell_type": "code",
   "execution_count": 410,
   "metadata": {},
   "outputs": [
    {
     "data": {
      "text/html": [
       "<div>\n",
       "<style scoped>\n",
       "    .dataframe tbody tr th:only-of-type {\n",
       "        vertical-align: middle;\n",
       "    }\n",
       "\n",
       "    .dataframe tbody tr th {\n",
       "        vertical-align: top;\n",
       "    }\n",
       "\n",
       "    .dataframe thead th {\n",
       "        text-align: right;\n",
       "    }\n",
       "</style>\n",
       "<table border=\"1\" class=\"dataframe\">\n",
       "  <thead>\n",
       "    <tr style=\"text-align: right;\">\n",
       "      <th></th>\n",
       "      <th>forpet_hash</th>\n",
       "      <th>shop_name</th>\n",
       "      <th>shop_address</th>\n",
       "      <th>address</th>\n",
       "      <th>total_score</th>\n",
       "      <th>review_num</th>\n",
       "      <th>match</th>\n",
       "    </tr>\n",
       "  </thead>\n",
       "  <tbody>\n",
       "  </tbody>\n",
       "</table>\n",
       "</div>"
      ],
      "text/plain": [
       "Empty DataFrame\n",
       "Columns: [forpet_hash, shop_name, shop_address, address, total_score, review_num, match]\n",
       "Index: []"
      ]
     },
     "execution_count": 410,
     "metadata": {},
     "output_type": "execute_result"
    }
   ],
   "source": [
    "x_total_table= pd.DataFrame(columns = ['forpet_hash', 'shop_name', 'shop_address', 'address','total_score', 'review_num','match'])\n",
    "x_total_table"
   ]
  },
  {
   "cell_type": "code",
   "execution_count": 411,
   "metadata": {
    "ExecuteTime": {
     "end_time": "2020-03-19T15:40:16.307909Z",
     "start_time": "2020-03-19T15:40:16.296876Z"
    }
   },
   "outputs": [],
   "source": [
    "def total_table_insert(total_table, forpet_hash, search_name, shop_address, address, total_score, review_list, match):\n",
    "    if len(total_table[total_table['address']== address]) == 0:\n",
    "        # shop 정보가 없고, total_sclre가 없는 경우\n",
    "        if total_score == '':\n",
    "            total_table.loc[len(total_table)+1] = [forpet_hash, search_name, shop_address,  address, np.nan, np.nan, match]\n",
    "        # shop 정보가 있고, total_score가 있는 경우\n",
    "        elif total_score == 0:\n",
    "            total_table.loc[len(total_table)+1] = [forpet_hash, search_name, shop_address, address, 0, 0, match]\n",
    "\n",
    "        #total score이 없는 경우\n",
    "        else:\n",
    "            total_table.loc[len(total_table)+1] = [forpet_hash, search_name, shop_address, address,total_score, len(review_list), match]\n",
    "        print(f'total_table: {search_name}, {address} 등록완료')\n",
    "    else:\n",
    "        print(f'total_table: {search_name}, {address} 이미 있음')\n",
    "    return total_table"
   ]
  },
  {
   "cell_type": "markdown",
   "metadata": {
    "ExecuteTime": {
     "end_time": "2020-03-10T09:58:53.111871Z",
     "start_time": "2020-03-10T09:58:53.107873Z"
    }
   },
   "source": [
    "#### 2. review table"
   ]
  },
  {
   "cell_type": "code",
   "execution_count": 412,
   "metadata": {
    "ExecuteTime": {
     "end_time": "2020-03-19T15:40:16.703246Z",
     "start_time": "2020-03-19T15:40:16.682246Z"
    }
   },
   "outputs": [
    {
     "data": {
      "text/html": [
       "<div>\n",
       "<style scoped>\n",
       "    .dataframe tbody tr th:only-of-type {\n",
       "        vertical-align: middle;\n",
       "    }\n",
       "\n",
       "    .dataframe tbody tr th {\n",
       "        vertical-align: top;\n",
       "    }\n",
       "\n",
       "    .dataframe thead th {\n",
       "        text-align: right;\n",
       "    }\n",
       "</style>\n",
       "<table border=\"1\" class=\"dataframe\">\n",
       "  <thead>\n",
       "    <tr style=\"text-align: right;\">\n",
       "      <th></th>\n",
       "      <th>forpet_hash</th>\n",
       "      <th>shop_name</th>\n",
       "      <th>shop_address</th>\n",
       "      <th>address</th>\n",
       "      <th>num</th>\n",
       "      <th>review</th>\n",
       "      <th>score</th>\n",
       "      <th>match</th>\n",
       "    </tr>\n",
       "  </thead>\n",
       "  <tbody>\n",
       "  </tbody>\n",
       "</table>\n",
       "</div>"
      ],
      "text/plain": [
       "Empty DataFrame\n",
       "Columns: [forpet_hash, shop_name, shop_address, address, num, review, score, match]\n",
       "Index: []"
      ]
     },
     "execution_count": 412,
     "metadata": {},
     "output_type": "execute_result"
    }
   ],
   "source": [
    "not_match_review_table= pd.DataFrame(columns = ['forpet_hash', 'shop_name','shop_address','address', 'num', 'review', 'score', 'match'])\n",
    "not_match_review_table"
   ]
  },
  {
   "cell_type": "code",
   "execution_count": 413,
   "metadata": {
    "ExecuteTime": {
     "end_time": "2020-03-19T15:40:16.884244Z",
     "start_time": "2020-03-19T15:40:16.862242Z"
    }
   },
   "outputs": [
    {
     "data": {
      "text/html": [
       "<div>\n",
       "<style scoped>\n",
       "    .dataframe tbody tr th:only-of-type {\n",
       "        vertical-align: middle;\n",
       "    }\n",
       "\n",
       "    .dataframe tbody tr th {\n",
       "        vertical-align: top;\n",
       "    }\n",
       "\n",
       "    .dataframe thead th {\n",
       "        text-align: right;\n",
       "    }\n",
       "</style>\n",
       "<table border=\"1\" class=\"dataframe\">\n",
       "  <thead>\n",
       "    <tr style=\"text-align: right;\">\n",
       "      <th></th>\n",
       "      <th>forpet_hash</th>\n",
       "      <th>shop_name</th>\n",
       "      <th>shop_address</th>\n",
       "      <th>address</th>\n",
       "      <th>num</th>\n",
       "      <th>review</th>\n",
       "      <th>score</th>\n",
       "      <th>match</th>\n",
       "    </tr>\n",
       "  </thead>\n",
       "  <tbody>\n",
       "  </tbody>\n",
       "</table>\n",
       "</div>"
      ],
      "text/plain": [
       "Empty DataFrame\n",
       "Columns: [forpet_hash, shop_name, shop_address, address, num, review, score, match]\n",
       "Index: []"
      ]
     },
     "execution_count": 413,
     "metadata": {},
     "output_type": "execute_result"
    }
   ],
   "source": [
    "match_review_table= pd.DataFrame(columns = ['forpet_hash','shop_name','shop_address','address', 'num', 'review', 'score', 'match'])\n",
    "match_review_table"
   ]
  },
  {
   "cell_type": "code",
   "execution_count": 414,
   "metadata": {},
   "outputs": [
    {
     "data": {
      "text/html": [
       "<div>\n",
       "<style scoped>\n",
       "    .dataframe tbody tr th:only-of-type {\n",
       "        vertical-align: middle;\n",
       "    }\n",
       "\n",
       "    .dataframe tbody tr th {\n",
       "        vertical-align: top;\n",
       "    }\n",
       "\n",
       "    .dataframe thead th {\n",
       "        text-align: right;\n",
       "    }\n",
       "</style>\n",
       "<table border=\"1\" class=\"dataframe\">\n",
       "  <thead>\n",
       "    <tr style=\"text-align: right;\">\n",
       "      <th></th>\n",
       "      <th>forpet_hash</th>\n",
       "      <th>shop_name</th>\n",
       "      <th>shop_address</th>\n",
       "      <th>address</th>\n",
       "      <th>num</th>\n",
       "      <th>review</th>\n",
       "      <th>score</th>\n",
       "      <th>match</th>\n",
       "    </tr>\n",
       "  </thead>\n",
       "  <tbody>\n",
       "  </tbody>\n",
       "</table>\n",
       "</div>"
      ],
      "text/plain": [
       "Empty DataFrame\n",
       "Columns: [forpet_hash, shop_name, shop_address, address, num, review, score, match]\n",
       "Index: []"
      ]
     },
     "execution_count": 414,
     "metadata": {},
     "output_type": "execute_result"
    }
   ],
   "source": [
    "x_review_table= pd.DataFrame(columns = ['forpet_hash', 'shop_name','shop_address','address', 'num', 'review', 'score', 'match'])\n",
    "x_review_table"
   ]
  },
  {
   "cell_type": "code",
   "execution_count": 415,
   "metadata": {
    "ExecuteTime": {
     "end_time": "2020-03-19T15:40:17.041243Z",
     "start_time": "2020-03-19T15:40:17.028246Z"
    }
   },
   "outputs": [],
   "source": [
    "def review_table_insert(review_table, forpet_hash, search_name, shop_address, address, review_list, score_list, match):\n",
    "    if len(review_table[review_table['address']== address]) == 0:\n",
    "        # shop 정보가 없고, total_sclre가 없는 경우\n",
    "        if review_list == '':\n",
    "            review_table.loc[len(review_table)+1] = [forpet_hash, search_name, shop_address, address, 1,  np.nan, np.nan, match]\n",
    "            print(f'review_table: {search_name}, {address} 등록완료')\n",
    "\n",
    "        # shop 정보가 있고, total_score가 있는 경우\n",
    "        elif review_list == 0:\n",
    "            review_table.loc[len(review_table)+1] = [forpet_hash, search_name, shop_address, address, 1, 0, 0, match]\n",
    "            print(f'review_table: {search_name}, {address} 등록완료')\n",
    "\n",
    "        #total score이 없는 경우\n",
    "        else:\n",
    "            for i, (review, score, match) in enumerate(zip(review_list, score_list, match)):\n",
    "                review_table.loc[i+1+len(review_table)] = [forpet_hash, search_name, shop_address, address, i, review, score, match]\n",
    "            print(f'review_table: {search_name}, {address}, {len(review_list)} 등록완료')\n",
    "    else:\n",
    "        print(f'review_table: {search_name}, {address} 이미 있음')\n",
    "\n",
    "    return review_table"
   ]
  },
  {
   "cell_type": "markdown",
   "metadata": {},
   "source": [
    "#### 3.not_info_table"
   ]
  },
  {
   "cell_type": "code",
   "execution_count": 416,
   "metadata": {
    "ExecuteTime": {
     "end_time": "2020-03-19T15:40:17.202235Z",
     "start_time": "2020-03-19T15:40:17.187275Z"
    }
   },
   "outputs": [
    {
     "data": {
      "text/html": [
       "<div>\n",
       "<style scoped>\n",
       "    .dataframe tbody tr th:only-of-type {\n",
       "        vertical-align: middle;\n",
       "    }\n",
       "\n",
       "    .dataframe tbody tr th {\n",
       "        vertical-align: top;\n",
       "    }\n",
       "\n",
       "    .dataframe thead th {\n",
       "        text-align: right;\n",
       "    }\n",
       "</style>\n",
       "<table border=\"1\" class=\"dataframe\">\n",
       "  <thead>\n",
       "    <tr style=\"text-align: right;\">\n",
       "      <th></th>\n",
       "      <th>forpet_hash</th>\n",
       "      <th>shop_name</th>\n",
       "      <th>match</th>\n",
       "    </tr>\n",
       "  </thead>\n",
       "  <tbody>\n",
       "  </tbody>\n",
       "</table>\n",
       "</div>"
      ],
      "text/plain": [
       "Empty DataFrame\n",
       "Columns: [forpet_hash, shop_name, match]\n",
       "Index: []"
      ]
     },
     "execution_count": 416,
     "metadata": {},
     "output_type": "execute_result"
    }
   ],
   "source": [
    "not_info_table = pd.DataFrame(columns = ['forpet_hash', 'shop_name', 'match'])\n",
    "not_info_table"
   ]
  },
  {
   "cell_type": "code",
   "execution_count": 417,
   "metadata": {
    "ExecuteTime": {
     "end_time": "2020-03-19T15:40:17.346613Z",
     "start_time": "2020-03-19T15:40:17.341611Z"
    }
   },
   "outputs": [],
   "source": [
    "def not_info_table_insert(not_info_table, forpet_hash, shop_name, match):\n",
    "    not_info_table.loc[1+len(not_info_table)] = [forpet_hash, shop_name, match]\n",
    "    print(f'not_info_table: {shop_name} 등록완료')\n",
    "    return not_info_table"
   ]
  },
  {
   "cell_type": "markdown",
   "metadata": {},
   "source": [
    "### 3. ordinary table"
   ]
  },
  {
   "cell_type": "code",
   "execution_count": 418,
   "metadata": {},
   "outputs": [
    {
     "data": {
      "text/html": [
       "<div>\n",
       "<style scoped>\n",
       "    .dataframe tbody tr th:only-of-type {\n",
       "        vertical-align: middle;\n",
       "    }\n",
       "\n",
       "    .dataframe tbody tr th {\n",
       "        vertical-align: top;\n",
       "    }\n",
       "\n",
       "    .dataframe thead th {\n",
       "        text-align: right;\n",
       "    }\n",
       "</style>\n",
       "<table border=\"1\" class=\"dataframe\">\n",
       "  <thead>\n",
       "    <tr style=\"text-align: right;\">\n",
       "      <th></th>\n",
       "      <th>forpet_hash</th>\n",
       "      <th>address_name</th>\n",
       "      <th>place_name</th>\n",
       "    </tr>\n",
       "  </thead>\n",
       "  <tbody>\n",
       "    <tr>\n",
       "      <th>0</th>\n",
       "      <td>4b793eb834462b029e435eaeb49433efc61755c9e15a24...</td>\n",
       "      <td>서울 종로구 평창동 530-8</td>\n",
       "      <td>쿠나이앤티</td>\n",
       "    </tr>\n",
       "    <tr>\n",
       "      <th>1</th>\n",
       "      <td>f5169c15a126e4059f0a89bb80fccd236693d5056d24ae...</td>\n",
       "      <td>서울 종로구 창신동 468-1</td>\n",
       "      <td>애견용품할인매장</td>\n",
       "    </tr>\n",
       "    <tr>\n",
       "      <th>2</th>\n",
       "      <td>aa26d23f20a9b5642a6689f2a2761ca470703ebbd514eb...</td>\n",
       "      <td>서울 종로구 창신동 436-64</td>\n",
       "      <td>펫클럽 청계점</td>\n",
       "    </tr>\n",
       "    <tr>\n",
       "      <th>3</th>\n",
       "      <td>2806f173e3a783ed14d74c9a83da2f62c34f45d470e893...</td>\n",
       "      <td>서울 종로구 홍지동 103-24</td>\n",
       "      <td>나니스펫푸드</td>\n",
       "    </tr>\n",
       "    <tr>\n",
       "      <th>4</th>\n",
       "      <td>aa18fd6e2328f00ac2567b7a37a4db308ceee03a01924c...</td>\n",
       "      <td>서울 종로구 필운동 137-5</td>\n",
       "      <td>서촌양품</td>\n",
       "    </tr>\n",
       "  </tbody>\n",
       "</table>\n",
       "</div>"
      ],
      "text/plain": [
       "                                         forpet_hash       address_name  \\\n",
       "0  4b793eb834462b029e435eaeb49433efc61755c9e15a24...   서울 종로구 평창동 530-8   \n",
       "1  f5169c15a126e4059f0a89bb80fccd236693d5056d24ae...   서울 종로구 창신동 468-1   \n",
       "2  aa26d23f20a9b5642a6689f2a2761ca470703ebbd514eb...  서울 종로구 창신동 436-64   \n",
       "3  2806f173e3a783ed14d74c9a83da2f62c34f45d470e893...  서울 종로구 홍지동 103-24   \n",
       "4  aa18fd6e2328f00ac2567b7a37a4db308ceee03a01924c...   서울 종로구 필운동 137-5   \n",
       "\n",
       "  place_name  \n",
       "0      쿠나이앤티  \n",
       "1   애견용품할인매장  \n",
       "2    펫클럽 청계점  \n",
       "3     나니스펫푸드  \n",
       "4       서촌양품  "
      ]
     },
     "execution_count": 418,
     "metadata": {},
     "output_type": "execute_result"
    }
   ],
   "source": [
    "ordinary_table = pd.read_csv('mysql_forpet_shop.csv', index_col = 0)\n",
    "ordinary_table.head()"
   ]
  },
  {
   "cell_type": "code",
   "execution_count": 419,
   "metadata": {},
   "outputs": [
    {
     "data": {
      "text/plain": [
       "8582"
      ]
     },
     "execution_count": 419,
     "metadata": {},
     "output_type": "execute_result"
    }
   ],
   "source": [
    "len(ordinary_table)"
   ]
  },
  {
   "cell_type": "code",
   "execution_count": null,
   "metadata": {
    "ExecuteTime": {
     "end_time": "2020-03-19T15:42:24.110958Z",
     "start_time": "2020-03-19T15:40:18.498832Z"
    }
   },
   "outputs": [
    {
     "name": "stdout",
     "output_type": "stream",
     "text": [
      "0 쿠나이앤티 ['종로구', '평창동', '530-8']\n",
      "shop이 1개입니다\n",
      "serach_name 쿠나이앤티 5\n",
      "shop_name 쿠나이앤티 5\n",
      "shop 1개, 쿠나이앤티, 서울특별시 종로구 평창동, match_dong \n",
      "total_table: 쿠나이앤티, 서울특별시 종로구 평창동 등록완료\n",
      "review_table: 쿠나이앤티, 서울특별시 종로구 평창동 등록완료\n",
      "\n",
      "\n",
      "1 애견용품할인매장 ['종로구', '창신동', '468-1']\n",
      "shop이 3개입니다\n",
      "serach_name 애견용품할인매장 8\n",
      "shop_name 애견용품할인매장 8\n",
      "1번째 shop: 애견용품할인매장 창신동 315-1번지 1층 종로구 서울특별시 KR 0 match_dong\n",
      "total_table: 애견용품할인매장, 창신동 315-1번지 1층 종로구 서울특별시 KR 등록완료\n",
      "review_table: 애견용품할인매장, 창신동 315-1번지 1층 종로구 서울특별시 KR 등록완료\n",
      "serach_name 애견용품할인마트 8\n",
      "shop_name 애견용품할인매장 8\n",
      "2번째 shop: 애견용품할인마트 서울특별시 종로구 창신동 436-64번지 0 x\n",
      "total_table: 애견용품할인마트, 서울특별시 종로구 창신동 436-64번지 등록완료\n",
      "review_table: 애견용품할인마트, 서울특별시 종로구 창신동 436-64번지 등록완료\n",
      "serach_name 애견용품할인매장 8\n",
      "shop_name 애견용품할인매장 8\n",
      "3번째 shop: 애견용품할인매장 금호동1가 513번지 성동구 서울특별시 KR 0 not_match\n",
      "total_table: 애견용품할인매장, 금호동1가 513번지 성동구 서울특별시 KR 등록완료\n",
      "review_table: 애견용품할인매장, 금호동1가 513번지 성동구 서울특별시 KR 등록완료\n",
      "\n",
      "\n",
      "2 펫클럽청계점 ['종로구', '창신동', '436-64']\n",
      "shop이 1개입니다\n",
      "serach_name 펫클럽청계점 6\n",
      "shop_name 펫클럽청계점 6\n",
      "shop 1개, 펫클럽청계점, 서울특별시 종로구 창신동 436-64번지 일신파워빌딩, match_all \n",
      "total_table: 펫클럽청계점, 서울특별시 종로구 창신동 436-64번지 일신파워빌딩 등록완료\n",
      "review_table: 펫클럽청계점, 서울특별시 종로구 창신동 436-64번지 일신파워빌딩 등록완료\n",
      "\n",
      "\n",
      "3 나니스펫푸드 ['종로구', '홍지동', '103-24']\n",
      "shop이 1개입니다\n",
      "serach_name 나니스펫푸드 6\n",
      "shop_name 나니스펫푸드 6\n",
      "shop 1개, 나니스펫푸드, 홍지동 103-24번지 1층 종로구 서울특별시 KR, match_all \n",
      "total_table: 나니스펫푸드, 홍지동 103-24번지 1층 종로구 서울특별시 KR 등록완료\n",
      "review_table: 나니스펫푸드, 홍지동 103-24번지 1층 종로구 서울특별시 KR 등록완료\n",
      "\n",
      "\n",
      "4 서촌양품 ['종로구', '필운동', '137-5']\n",
      "shop이 1개입니다\n",
      "serach_name 서촌양품 4\n",
      "shop_name 서촌양품 4\n",
      "shop 1개, 서촌양품, 서울특별시 종로구 필운동 137-5, match_all \n",
      "total_table: 서촌양품, 서울특별시 종로구 필운동 137-5 등록완료\n",
      "review_table: 서촌양품, 서울특별시 종로구 필운동 137-5 등록완료\n",
      "\n",
      "\n",
      "5 푸드마스터그룹 ['종로구', '이화동', '191-2']\n",
      "shop이 1개입니다\n",
      "serach_name 푸드마스터그룹 7\n",
      "shop_name 푸드마스터그룹 7\n",
      "shop 1개, 푸드마스터그룹, 서울특별시 종로구 이화동 191, match_dong \n",
      "total_table: 푸드마스터그룹, 서울특별시 종로구 이화동 191 등록완료\n",
      "review_table: 푸드마스터그룹, 서울특별시 종로구 이화동 191 등록완료\n",
      "\n",
      "\n",
      "6 스프링펫창신점 ['종로구', '창신동', '142-35']\n",
      "shop이 1개입니다\n",
      "shop 1개, 스프링펫창신점, , not info \n",
      "not_info_table: 스프링펫창신점 등록완료\n",
      "\n",
      "\n",
      "7 다이렉트펫 ['종로구', '창신동', '327-2']\n",
      "shop이 1개입니다\n",
      "shop 1개, 다이렉트펫, , not info \n",
      "not_info_table: 다이렉트펫 등록완료\n",
      "\n",
      "\n",
      "8 스투키펫 ['종로구', '인사동', '15']\n",
      "shop이 1개입니다\n",
      "shop 1개, 스투키펫, , not info \n",
      "not_info_table: 스투키펫 등록완료\n",
      "\n",
      "\n",
      "9 반려동물용품사료할인마트 ['서대문구', '홍제동', '279-27']\n",
      "shop이 4개입니다\n",
      "serach_name 펫마트홍은점애완동물용품점 13\n",
      "shop_name 반려동물용품사료할인마트 12\n",
      "1번째 shop: 펫마트홍은점애완동물용품점 서울특별시 서대문구 홍은동 368-7 0 x\n",
      "total_table: 펫마트홍은점애완동물용품점, 서울특별시 서대문구 홍은동 368-7 등록완료\n",
      "review_table: 펫마트홍은점애완동물용품점, 서울특별시 서대문구 홍은동 368-7 등록완료\n",
      "serach_name 아마존애견용품할인마트애완동물용품점 18\n",
      "shop_name 반려동물용품사료할인마트 12\n",
      "Message: element not interactable\n",
      "  (Session info: chrome=80.0.3987.149)\n",
      "\n",
      "2번째 shop: 아마존애견용품할인마트애완동물용품점 경기도 구리시 교문동 270-2 3.7 x\n",
      "total_table: 아마존애견용품할인마트애완동물용품점, 경기도 구리시 교문동 270-2 등록완료\n",
      "review_table: 아마존애견용품할인마트애완동물용품점, 경기도 구리시 교문동 270-2, 3 등록완료\n",
      "serach_name 산본팻애견용품할인마트애완동물용품점 18\n",
      "shop_name 반려동물용품사료할인마트 12\n",
      "3번째 shop: 산본팻애견용품할인마트애완동물용품점 경기도 군포시 산본1동 79-69 2.0 x\n",
      "total_table: 산본팻애견용품할인마트애완동물용품점, 경기도 군포시 산본1동 79-69 등록완료\n",
      "review_table: 산본팻애견용품할인마트애완동물용품점, 경기도 군포시 산본1동 79-69, 1 등록완료\n",
      "serach_name 반려동물용품사료할인마트 12\n",
      "shop_name 반려동물용품사료할인마트 12\n",
      "4번째 shop: 반려동물용품사료할인마트 의정부시 송산1동 0 not_match\n",
      "total_table: 반려동물용품사료할인마트, 의정부시 송산1동 등록완료\n",
      "review_table: 반려동물용품사료할인마트, 의정부시 송산1동 등록완료\n",
      "\n",
      "\n",
      "10 강아지세상 ['서대문구', '홍은동', '9-52']\n",
      "shop이 1개입니다\n",
      "shop 1개, 강아지세상, , not info \n",
      "not_info_table: 강아지세상 등록완료\n",
      "\n",
      "\n",
      "11 홈독애견마트홍제점 ['서대문구', '홍제동', '469']\n",
      "shop이 1개입니다\n",
      "not_info_table: 홈독애견마트홍제점 등록완료\n",
      "\n",
      "\n",
      "12 도그스푼 ['서대문구', '홍은동', '36-71']\n",
      "shop이 1개입니다\n",
      "serach_name 도그스푼 4\n",
      "shop_name 도그스푼 4\n",
      "shop 1개, 도그스푼, 홍은동 36-70번지 1층 서대문구 서울특별시 KR, match_dong \n",
      "total_table: 도그스푼, 홍은동 36-70번지 1층 서대문구 서울특별시 KR 등록완료\n",
      "review_table: 도그스푼, 홍은동 36-70번지 1층 서대문구 서울특별시 KR 등록완료\n",
      "\n",
      "\n",
      "13 스프링펫서대문점 ['서대문구', '영천동', '330']\n",
      "shop이 1개입니다\n",
      "serach_name 스프링펫애완동물용품점 11\n",
      "shop_name 스프링펫서대문점 8\n",
      "shop 1개, 스프링펫애완동물용품점, 서울특별시 마포구 서교동 양화로 189, x \n",
      "total_table: 스프링펫애완동물용품점, 서울특별시 마포구 서교동 양화로 189 등록완료\n",
      "review_table: 스프링펫애완동물용품점, 서울특별시 마포구 서교동 양화로 189 등록완료\n",
      "\n",
      "\n",
      "14 루미앤비비 ['서대문구', '홍제동', '155-6']\n",
      "shop이 1개입니다\n",
      "shop 1개, 루미앤비비, , not info \n",
      "not_info_table: 루미앤비비 등록완료\n",
      "\n",
      "\n",
      "15 야옹아멍멍해봐성북점 ['성북구', '삼선동5가', '299']\n",
      "shop이 1개입니다\n",
      "serach_name 야옹아멍멍해봐성북점 10\n",
      "shop_name 야옹아멍멍해봐성북점 10\n",
      "shop 1개, 야옹아멍멍해봐성북점, 서울특별시 성북구 삼선교로24길 3, match_gu \n",
      "total_table: 야옹아멍멍해봐성북점, 서울특별시 성북구 삼선교로24길 3 등록완료\n",
      "review_table: 야옹아멍멍해봐성북점, 서울특별시 성북구 삼선교로24길 3, 35 등록완료\n",
      "\n",
      "\n",
      "16 퍼플네스트 ['중구', '장교동', '73']\n",
      "shop이 1개입니다\n",
      "serach_name 퍼플네스트 5\n",
      "shop_name 퍼플네스트 5\n",
      "shop 1개, 퍼플네스트, 더케이트윈타워 2층 퍼플네스트 종로구 서울특별시 KR, not_match \n",
      "total_table: 퍼플네스트, 더케이트윈타워 2층 퍼플네스트 종로구 서울특별시 KR 등록완료\n",
      "review_table: 퍼플네스트, 더케이트윈타워 2층 퍼플네스트 종로구 서울특별시 KR, 3 등록완료\n",
      "\n",
      "\n",
      "17 뚜리까까 ['성북구', '동소문동3가', '3']\n",
      "shop이 1개입니다\n",
      "serach_name 뚜리까까 4\n",
      "shop_name 뚜리까까 4\n",
      "shop 1개, 뚜리까까, 서울특별시 성북구 동소문동3가 동소문로2길 79, match_all \n",
      "total_table: 뚜리까까, 서울특별시 성북구 동소문동3가 동소문로2길 79 등록완료\n",
      "review_table: 뚜리까까, 서울특별시 성북구 동소문동3가 동소문로2길 79 등록완료\n",
      "\n",
      "\n",
      "18 도기랑냥이랑정릉점 ['성북구', '정릉동', '109-2']\n",
      "shop이 1개입니다\n",
      "serach_name 도기랑냥이랑정릉점 9\n",
      "shop_name 도기랑냥이랑정릉점 9\n",
      "shop 1개, 도기랑냥이랑정릉점, 서울특별시 성북구 정릉동 아리랑로 115, match_dong \n",
      "total_table: 도기랑냥이랑정릉점, 서울특별시 성북구 정릉동 아리랑로 115 등록완료\n",
      "review_table: 도기랑냥이랑정릉점, 서울특별시 성북구 정릉동 아리랑로 115, 2 등록완료\n",
      "\n",
      "\n",
      "19 중앙애견 ['중구', '묵정동', '32-3']\n",
      "shop이 2개입니다\n",
      "serach_name 중앙애견 4\n",
      "shop_name 중앙애견 4\n",
      "1번째 shop: 중앙애견 서울특별시 중구 장충동 32-14 4.3 match_gu\n",
      "total_table: 중앙애견, 서울특별시 중구 장충동 32-14 등록완료\n",
      "review_table: 중앙애견, 서울특별시 중구 장충동 32-14, 3 등록완료\n",
      "serach_name 중앙애견 4\n",
      "shop_name 중앙애견 4\n",
      "2번째 shop: 중앙애견 서울특별시 중구 충무로5가 88-3 2.4 match_gu\n",
      "total_table: 중앙애견, 서울특별시 중구 충무로5가 88-3 등록완료\n",
      "review_table: 중앙애견, 서울특별시 중구 충무로5가 88-3, 5 등록완료\n",
      "\n",
      "\n",
      "20 토토팬시 ['중구', '남창동', '62-5']\n",
      "shop이 1개입니다\n",
      "shop 1개, 토토팬시, , not info \n",
      "not_info_table: 토토팬시 등록완료\n",
      "\n",
      "\n",
      "21 요술강아지 ['성북구', '정릉동', '285-10']\n",
      "shop이 1개입니다\n",
      "serach_name 요술강아지 5\n",
      "shop_name 요술강아지 5\n",
      "shop 1개, 요술강아지, 서울특별시 성북구 정릉동 285-10, match_all \n",
      "total_table: 요술강아지, 서울특별시 성북구 정릉동 285-10 등록완료\n",
      "review_table: 요술강아지, 서울특별시 성북구 정릉동 285-10 등록완료\n",
      "\n",
      "\n",
      "22 펫토맘 ['성북구', '삼선동2가', '123']\n",
      "shop이 1개입니다\n",
      "serach_name 펫토맘 3\n",
      "shop_name 펫토맘 3\n",
      "shop 1개, 펫토맘, 삼선동2가 123번지 4층 성북구 서울특별시 KR, match_all \n",
      "total_table: 펫토맘, 삼선동2가 123번지 4층 성북구 서울특별시 KR 등록완료\n",
      "review_table: 펫토맘, 삼선동2가 123번지 4층 성북구 서울특별시 KR 등록완료\n",
      "\n",
      "\n",
      "23 대주통상 ['서대문구', '홍제동', '294-1']\n",
      "shop이 1개입니다\n",
      "shop 1개, 대주통상, , not info \n",
      "not_info_table: 대주통상 등록완료\n",
      "\n",
      "\n",
      "24 펫네이처 ['중구', '저동1가', '48']\n",
      "shop이 1개입니다\n",
      "serach_name 펫네이처 4\n",
      "shop_name 펫네이처 4\n",
      "Message: element not interactable\n",
      "  (Session info: chrome=80.0.3987.149)\n",
      "\n",
      "1번째 shop: 펫네이처 1층, 40-1 운양동 김포시 경기도 4.3 not_match\n",
      "total_table: 펫네이처, 1층, 40-1 운양동 김포시 경기도 등록완료\n",
      "review_table: 펫네이처, 1층, 40-1 운양동 김포시 경기도, 3 등록완료\n",
      "\n",
      "\n",
      "25 밀리블리 ['성북구', '동소문동2가', '42']\n",
      "shop이 1개입니다\n",
      "shop 1개, 밀리블리, , not info \n",
      "not_info_table: 밀리블리 등록완료\n",
      "\n",
      "\n",
      "26 반값애견동소문점 ['성북구', '동소문동7가', '2-18']\n",
      "shop이 1개입니다\n",
      "shop 1개, 반값애견동소문점, , not info \n",
      "not_info_table: 반값애견동소문점 등록완료\n",
      "\n",
      "\n",
      "27 윤신근견묘애견백화점 ['중구', '충무로4가', '90-1']\n",
      "shop이 2개입니다\n",
      "serach_name 윤신근애견종합백화점애완동물용품점 17\n",
      "shop_name 윤신근견묘애견백화점 10\n",
      "1번째 shop: 윤신근애견종합백화점애완동물용품점 서울특별시 중구 충무로4가 95-1 4.0 x\n",
      "total_table: 윤신근애견종합백화점애완동물용품점, 서울특별시 중구 충무로4가 95-1 등록완료\n",
      "review_table: 윤신근애견종합백화점애완동물용품점, 서울특별시 중구 충무로4가 95-1, 9 등록완료\n",
      "serach_name 윤신근애견종합병원동물병원 13\n",
      "shop_name 윤신근견묘애견백화점 10\n",
      "2번째 shop: 윤신근애견종합병원동물병원 서울특별시 중구 필동2가 53 3.8 x\n",
      "total_table: 윤신근애견종합병원동물병원, 서울특별시 중구 필동2가 53 등록완료\n",
      "review_table: 윤신근애견종합병원동물병원, 서울특별시 중구 필동2가 53, 37 등록완료\n",
      "\n",
      "\n",
      "28 코지펫샵 ['중구', '신당동', '294-67']\n",
      "shop이 1개입니다\n",
      "serach_name 코지펫샵 4\n",
      "shop_name 코지펫샵 4\n",
      "Message: element not interactable\n",
      "  (Session info: chrome=80.0.3987.149)\n",
      "\n",
      "shop 1개, 코지펫샵, 02-2253-6686, not_match \n",
      "total_table: 코지펫샵, 02-2253-6686 등록완료\n",
      "review_table: 코지펫샵, 02-2253-6686, 1 등록완료\n",
      "\n",
      "\n",
      "29 올댓펫 ['중구', '신당동', '422-1']\n",
      "shop이 1개입니다\n",
      "shop 1개, 올댓펫, , not info \n",
      "not_info_table: 올댓펫 등록완료\n",
      "\n",
      "\n",
      "30 마이펫코리아 ['중구', '을지로6가', '31']\n",
      "shop이 2개입니다\n",
      "serach_name 마이펫코리아 6\n",
      "shop_name 마이펫코리아 6\n",
      "1번째 shop: 마이펫코리아 을지로6가 31번지 303호 중구 서울특별시 KR 0 match_all\n",
      "total_table: 마이펫코리아, 을지로6가 31번지 303호 중구 서울특별시 KR 등록완료\n",
      "review_table: 마이펫코리아, 을지로6가 31번지 303호 중구 서울특별시 KR 등록완료\n",
      "serach_name 마이펫코리아 6\n",
      "shop_name 마이펫코리아 6\n",
      "2번째 shop: 마이펫코리아 인천광역시 중구 운남동 328-4번지 1층 0 match_gu\n",
      "total_table: 마이펫코리아, 인천광역시 중구 운남동 328-4번지 1층 등록완료\n",
      "review_table: 마이펫코리아, 인천광역시 중구 운남동 328-4번지 1층 등록완료\n",
      "\n",
      "\n",
      "31 애견용품도매상가 ['중구', '남창동', '62-6']\n",
      "shop이 5개입니다\n",
      "serach_name 중앙애견애완동물전문점 11\n",
      "shop_name 애견용품도매상가 8\n",
      "2번째 shop: 중앙애견애완동물전문점 서울특별시 중구 장충동 32-14 4.3 x\n",
      "total_table: 중앙애견애완동물전문점, 서울특별시 중구 장충동 32-14 등록완료\n",
      "review_table: 중앙애견애완동물전문점, 서울특별시 중구 장충동 32-14, 3 등록완료\n"
     ]
    }
   ],
   "source": [
    "SCROLL_PAUSE_TIME = 2\n",
    "all_cnt = 0\n",
    "for k in range( len(ordinary_table)):\n",
    "    forpet_hash, address_name, place_name= ordinary_table.loc[k] \n",
    "  \n",
    "    shop_address =address_name.split(' ')[1:]\n",
    "    shop_name = place_name.replace(' ','')\n",
    "    start_crwarling(k, forpet_hash, shop_name, shop_address)\n",
    "    \n",
    "    print('\\n')\n",
    "    try:\n",
    "        back_button = driver.find_element_by_xpath('//button[@class=\"ozj7Vb3wnYq__action-button-clickable\"]')\n",
    "        back_button.click()\n",
    "    except:\n",
    "        pass"
   ]
  },
  {
   "cell_type": "code",
   "execution_count": 54,
   "metadata": {
    "ExecuteTime": {
     "end_time": "2020-03-19T15:40:09.785568Z",
     "start_time": "2020-03-19T15:38:10.441Z"
    }
   },
   "outputs": [
    {
     "name": "stdout",
     "output_type": "stream",
     "text": [
      "match_total_table\n",
      "                                          forpet_hash shop_name  \\\n",
      "1  aa26d23f20a9b5642a6689f2a2761ca470703ebbd514eb...   펫클럽 청계점   \n",
      "2  2806f173e3a783ed14d74c9a83da2f62c34f45d470e893...    나니스펫푸드   \n",
      "3  aa18fd6e2328f00ac2567b7a37a4db308ceee03a01924c...      서촌양품   \n",
      "4  fb83c79c4e90759c7c48970c543e2f8671e1e39d3eb76d...      뚜리까까   \n",
      "\n",
      "                    shop_address total_score  match  \n",
      "1  서울특별시 종로구 창신동 436-64번지 일신파워빌딩         NaN  match  \n",
      "2   홍지동 103-24번지 1층 종로구 서울특별시 KR         NaN  match  \n",
      "3            서울특별시 종로구 필운동 137-5         NaN  match  \n",
      "4     서울특별시 성북구 동소문동3가 동소문로2길 79         NaN  match  \n",
      "not_match_total_table\n",
      "                                          forpet_hash    shop_name  \\\n",
      "1  f5169c15a126e4059f0a89bb80fccd236693d5056d24ae...     애견용품할인매장   \n",
      "2  8aa63cf25e3842284a45ab5d4f603e816dba32c9406b88...      푸드마스터그룹   \n",
      "3  bd8ce4fe5ec9031f0d986ac8e3091594a104e02d9e1d71...         도그스푼   \n",
      "4  ad85ca27faea5e1533bdd8873a5a366d237ffd1311f510...    스프링펫 서대문점   \n",
      "5  57eed23d445ca204e0ab28da0f58b1ef85121c92f469b3...  야옹아멍멍해봐 성북점   \n",
      "6  f53e28a28e233499899f56f7c2323b51b13b4745aae71a...        퍼플네스트   \n",
      "7  194e0e4587a9e9c80309199fdc774e55d719bc5b66e1ac...   도기랑냥이랑 정릉점   \n",
      "\n",
      "                    shop_address total_score      match  \n",
      "1    창신동 315-1번지 1층 종로구 서울특별시 KR         NaN  not match  \n",
      "2              서울특별시 종로구 이화동 191         NaN  not match  \n",
      "3   홍은동 36-70번지 1층 서대문구 서울특별시 KR         NaN  not match  \n",
      "4          서울특별시 마포구 서교동 양화로 189         NaN  not match  \n",
      "5            서울특별시 성북구 삼선교로24길 3         4.2  not match  \n",
      "6  더케이트윈타워 2층 퍼플네스트 종로구 서울특별시 KR         4.0  not match  \n",
      "7         서울특별시 성북구 정릉동 아리랑로 115         5.0  not match  \n",
      "match_review_table\n",
      "                                          forpet_hash num review score  match\n",
      "1  aa26d23f20a9b5642a6689f2a2761ca470703ebbd514eb...   1    NaN   NaN  match\n",
      "2  2806f173e3a783ed14d74c9a83da2f62c34f45d470e893...   1    NaN   NaN  match\n",
      "3  aa18fd6e2328f00ac2567b7a37a4db308ceee03a01924c...   1    NaN   NaN  match\n",
      "4  fb83c79c4e90759c7c48970c543e2f8671e1e39d3eb76d...   1    NaN   NaN  match\n",
      "not_match_review_table\n",
      "                                           forpet_hash num  \\\n",
      "1   f5169c15a126e4059f0a89bb80fccd236693d5056d24ae...   1   \n",
      "2   8aa63cf25e3842284a45ab5d4f603e816dba32c9406b88...   1   \n",
      "3   bd8ce4fe5ec9031f0d986ac8e3091594a104e02d9e1d71...   1   \n",
      "4   ad85ca27faea5e1533bdd8873a5a366d237ffd1311f510...   1   \n",
      "5   57eed23d445ca204e0ab28da0f58b1ef85121c92f469b3...   0   \n",
      "7   57eed23d445ca204e0ab28da0f58b1ef85121c92f469b3...   1   \n",
      "9   57eed23d445ca204e0ab28da0f58b1ef85121c92f469b3...   2   \n",
      "11  57eed23d445ca204e0ab28da0f58b1ef85121c92f469b3...   3   \n",
      "13  57eed23d445ca204e0ab28da0f58b1ef85121c92f469b3...   4   \n",
      "15  57eed23d445ca204e0ab28da0f58b1ef85121c92f469b3...   5   \n",
      "17  194e0e4587a9e9c80309199fdc774e55d719bc5b66e1ac...   0   \n",
      "19  57eed23d445ca204e0ab28da0f58b1ef85121c92f469b3...   7   \n",
      "21  57eed23d445ca204e0ab28da0f58b1ef85121c92f469b3...   8   \n",
      "14  f53e28a28e233499899f56f7c2323b51b13b4745aae71a...   0   \n",
      "16  f53e28a28e233499899f56f7c2323b51b13b4745aae71a...   1   \n",
      "18  194e0e4587a9e9c80309199fdc774e55d719bc5b66e1ac...   1   \n",
      "\n",
      "                                               review    score      match  \n",
      "1                                                 NaN      NaN  not match  \n",
      "2                                                 NaN      NaN  not match  \n",
      "3                                                 NaN      NaN  not match  \n",
      "4                                                 NaN      NaN  not match  \n",
      "5                    애견 및 고양이 관련 모든 제품을 손쉽게 구할 수 있어요.   별표 4개           n  \n",
      "7                         강아지 모든것이 있어서 좋아요 크로백도 구매했구요   별표 5개           o  \n",
      "9                    처음키우는 강아지라 여러가지로 잘 설명해주시고 친절합니다.   별표 5개           t  \n",
      "11  접객하는 푸들과 장모종 고양이가 있어 정겨운곳. 일부러 갸들보러 가고싶을때도 있슴....   별표 5개              \n",
      "13                                가격도 저렴하고 다양핫 상품이 있음   별표 4개           m  \n",
      "15                                   강아지 사료 종류가 많이있어요   별표 4개           a  \n",
      "17                        사장님하고 직원이 참 설명도  잘해주시고친절하셔요   별표 5개           n  \n",
      "19  집가는 길에 들려서 매번 간식사는데 종류가 많다! 처음에 강아지 분양하는데에 강아지...   별표 5개           c  \n",
      "21                              친절하고 다양한 품목이 있습니다~~^^   별표 5개           h  \n",
      "14                  이곳은 퍼플네스트 본사입니다. 직원분들이 열심히 일하시네요.   별표 5개           n  \n",
      "16                                                      별표 3개           o  \n",
      "18                        직원분들도 친절하고, 물건 가격도 저렴하게 팔아요   별표 5개           o  \n",
      "x_total_table\n",
      "                                          forpet_hash shop_name  \\\n",
      "1  bc5f725f3407b772ac23717515c498d34c6e2ecdfd2e34...      중앙애견   \n",
      "\n",
      "      shop_address total_score match  \n",
      "1  [중구, 묵정동, 32-3]           X     X  \n",
      "x_review_table\n",
      "                                          forpet_hash      shop_name num  \\\n",
      "1  4b793eb834462b029e435eaeb49433efc61755c9e15a24...          쿠나이앤티   0   \n",
      "2  c923e036035e04fc590dfe181702bdff963f7fe6e0d442...       스프링펫 창신점   0   \n",
      "3  275c9b2f484f215bf7da6e27c0f2ea8696469033657186...         다이렉트 펫   0   \n",
      "4  52f7350baf9645ba80f749b3d86f5e746cf46aaf1265ba...           스투키펫   0   \n",
      "5  8e35f7a0a73e558271ae3dbec0ad40322ed25b73045eb6...  반려동물용품사료 할인마트   0   \n",
      "6  d2f048b9ea45480dfefa2473a1c675f7be19c528c67b77...          강아지세상   0   \n",
      "7  26245c78c1cbed4eb1cc0fd1700e18be45314057179f72...     홈독애견마트 홍제점   0   \n",
      "8  d8d772d31c2687401796f0768d35a295a22569860ee710...          루미앤비비   0   \n",
      "9  bc5f725f3407b772ac23717515c498d34c6e2ecdfd2e34...           중앙애견   0   \n",
      "\n",
      "  review score match  \n",
      "1      X     X     X  \n",
      "2      X     X     X  \n",
      "3      X     X     X  \n",
      "4      X     X     X  \n",
      "5      X     X     X  \n",
      "6      X     X     X  \n",
      "7      X     X     X  \n",
      "8      X     X     X  \n",
      "9      X     X     X  \n"
     ]
    }
   ],
   "source": [
    "\n",
    "\n",
    "\n",
    "print('match_total_table\\n',match_total_table)\n",
    "print('not_match_total_table\\n',not_match_total_table)\n",
    "print('match_review_table\\n',match_review_table)\n",
    "print('not_match_review_table\\n',not_match_review_table)\n",
    "print('x_total_table\\n', x_total_table)\n",
    "print('x_review_table\\n', x_review_table)\n"
   ]
  },
  {
   "cell_type": "code",
   "execution_count": null,
   "metadata": {},
   "outputs": [],
   "source": []
  },
  {
   "cell_type": "code",
   "execution_count": null,
   "metadata": {},
   "outputs": [],
   "source": []
  },
  {
   "cell_type": "code",
   "execution_count": null,
   "metadata": {},
   "outputs": [],
   "source": []
  }
 ],
 "metadata": {
  "kernelspec": {
   "display_name": "Python 3",
   "language": "python",
   "name": "python3"
  },
  "language_info": {
   "codemirror_mode": {
    "name": "ipython",
    "version": 3
   },
   "file_extension": ".py",
   "mimetype": "text/x-python",
   "name": "python",
   "nbconvert_exporter": "python",
   "pygments_lexer": "ipython3",
   "version": "3.7.4"
  },
  "toc": {
   "base_numbering": 1,
   "nav_menu": {},
   "number_sections": false,
   "sideBar": true,
   "skip_h1_title": false,
   "title_cell": "Table of Contents",
   "title_sidebar": "Contents",
   "toc_cell": false,
   "toc_position": {
    "height": "calc(100% - 180px)",
    "left": "10px",
    "top": "150px",
    "width": "167.594px"
   },
   "toc_section_display": true,
   "toc_window_display": true
  }
 },
 "nbformat": 4,
 "nbformat_minor": 4
}
