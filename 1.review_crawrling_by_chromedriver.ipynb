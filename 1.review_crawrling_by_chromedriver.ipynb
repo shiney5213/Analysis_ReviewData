{
 "cells": [
  {
   "cell_type": "markdown",
   "metadata": {},
   "source": [
    "# 1. google crawrling"
   ]
  },
  {
   "cell_type": "markdown",
   "metadata": {
    "ExecuteTime": {
     "end_time": "2020-03-09T05:03:45.861109Z",
     "start_time": "2020-03-09T05:03:45.857108Z"
    }
   },
   "source": [
    "## 1.1. google 접속, close"
   ]
  },
  {
   "cell_type": "code",
   "execution_count": 413,
   "metadata": {
    "ExecuteTime": {
     "end_time": "2020-03-09T12:28:37.818502Z",
     "start_time": "2020-03-09T12:28:37.812499Z"
    }
   },
   "outputs": [],
   "source": [
    "from selenium import webdriver\n",
    "from bs4 import BeautifulSoup\n",
    "import time\n",
    "from selenium.webdriver.common.keys import Keys\n"
   ]
  },
  {
   "cell_type": "code",
   "execution_count": 414,
   "metadata": {
    "ExecuteTime": {
     "end_time": "2020-03-09T12:28:54.053501Z",
     "start_time": "2020-03-09T12:28:38.759501Z"
    }
   },
   "outputs": [],
   "source": [
    "#https://chromedriver.storage.googleapis.com/index.html?path=80.0.3987.106/\n",
    "driver = webdriver.Chrome('chromedriver.exe')"
   ]
  },
  {
   "cell_type": "markdown",
   "metadata": {},
   "source": [
    "#### google 브라우저 열기"
   ]
  },
  {
   "cell_type": "code",
   "execution_count": 416,
   "metadata": {
    "ExecuteTime": {
     "end_time": "2020-03-09T12:29:05.425503Z",
     "start_time": "2020-03-09T12:29:04.653506Z"
    }
   },
   "outputs": [],
   "source": [
    "driver.get(\"http://www.google.com\")\n",
    "assert \"Google\" in driver.title"
   ]
  },
  {
   "cell_type": "markdown",
   "metadata": {},
   "source": [
    "#### google 검색창 클릭"
   ]
  },
  {
   "cell_type": "markdown",
   "metadata": {},
   "source": [
    "- 현재 열려있는 창의 element의 name이 'q'인 것을 찾아서 elem 변수에 할당하기\n",
    "- 검색창에 마우스 클릭하는 것과 같음."
   ]
  },
  {
   "cell_type": "code",
   "execution_count": 417,
   "metadata": {
    "ExecuteTime": {
     "end_time": "2020-03-09T12:29:11.393503Z",
     "start_time": "2020-03-09T12:29:11.335500Z"
    }
   },
   "outputs": [],
   "source": [
    "elem = driver.find_element_by_name('q')\n",
    "\n",
    "elem.clear()"
   ]
  },
  {
   "cell_type": "markdown",
   "metadata": {},
   "source": [
    "#### 검색어 입력"
   ]
  },
  {
   "cell_type": "code",
   "execution_count": 418,
   "metadata": {
    "ExecuteTime": {
     "end_time": "2020-03-09T12:29:13.932510Z",
     "start_time": "2020-03-09T12:29:13.788500Z"
    }
   },
   "outputs": [],
   "source": [
    "elem.send_keys('google map')"
   ]
  },
  {
   "cell_type": "markdown",
   "metadata": {},
   "source": [
    "#### 검색어 제출"
   ]
  },
  {
   "cell_type": "code",
   "execution_count": 419,
   "metadata": {
    "ExecuteTime": {
     "end_time": "2020-03-09T12:29:17.865500Z",
     "start_time": "2020-03-09T12:29:16.016500Z"
    }
   },
   "outputs": [],
   "source": [
    "elem.submit()"
   ]
  },
  {
   "cell_type": "markdown",
   "metadata": {},
   "source": [
    "#### 브라우저 닫기"
   ]
  },
  {
   "cell_type": "code",
   "execution_count": 420,
   "metadata": {
    "ExecuteTime": {
     "end_time": "2020-03-09T12:29:18.384502Z",
     "start_time": "2020-03-09T12:29:18.379500Z"
    }
   },
   "outputs": [],
   "source": [
    "#driver.close()"
   ]
  },
  {
   "cell_type": "markdown",
   "metadata": {},
   "source": [
    "## 1.2. google map site 들어가기"
   ]
  },
  {
   "cell_type": "code",
   "execution_count": 421,
   "metadata": {
    "ExecuteTime": {
     "end_time": "2020-03-09T12:29:19.840498Z",
     "start_time": "2020-03-09T12:29:19.820501Z"
    }
   },
   "outputs": [],
   "source": [
    "\n",
    "element = driver.find_element_by_xpath('//h3[@class=\"LC20lb DKV0Md\"]')\n"
   ]
  },
  {
   "cell_type": "code",
   "execution_count": 422,
   "metadata": {
    "ExecuteTime": {
     "end_time": "2020-03-09T12:29:23.415498Z",
     "start_time": "2020-03-09T12:29:20.832499Z"
    }
   },
   "outputs": [],
   "source": [
    "element.click()"
   ]
  },
  {
   "cell_type": "markdown",
   "metadata": {},
   "source": [
    "## 1.3. 원하는 장소 클릭\n",
    "#### 검색어 입력"
   ]
  },
  {
   "cell_type": "code",
   "execution_count": 423,
   "metadata": {
    "ExecuteTime": {
     "end_time": "2020-03-09T12:29:25.212503Z",
     "start_time": "2020-03-09T12:29:25.062504Z"
    }
   },
   "outputs": [],
   "source": [
    "element = driver.find_element_by_xpath('//input[@autofocus=\"autofocus\"]')\n",
    "element.clear()"
   ]
  },
  {
   "cell_type": "code",
   "execution_count": 424,
   "metadata": {
    "ExecuteTime": {
     "end_time": "2020-03-09T12:29:35.172520Z",
     "start_time": "2020-03-09T12:29:34.989503Z"
    }
   },
   "outputs": [],
   "source": [
    "element.send_keys('타임스퀘어')\n",
    "element.submit()\n"
   ]
  },
  {
   "cell_type": "code",
   "execution_count": 425,
   "metadata": {
    "ExecuteTime": {
     "end_time": "2020-03-09T12:29:36.429763Z",
     "start_time": "2020-03-09T12:29:36.333503Z"
    }
   },
   "outputs": [],
   "source": [
    "html = driver.page_source"
   ]
  },
  {
   "cell_type": "markdown",
   "metadata": {},
   "source": [
    "#### bs4로 html parser"
   ]
  },
  {
   "cell_type": "code",
   "execution_count": 426,
   "metadata": {
    "ExecuteTime": {
     "end_time": "2020-03-09T12:29:39.435499Z",
     "start_time": "2020-03-09T12:29:39.371499Z"
    },
    "scrolled": true
   },
   "outputs": [],
   "source": [
    "soup = BeautifulSoup(html, 'html.parser')"
   ]
  },
  {
   "cell_type": "code",
   "execution_count": 427,
   "metadata": {
    "ExecuteTime": {
     "end_time": "2020-03-09T12:29:39.637498Z",
     "start_time": "2020-03-09T12:29:39.622501Z"
    }
   },
   "outputs": [
    {
     "data": {
      "text/plain": [
       "[<span jstcache=\"685\"><span jsinstance=\"*0\" jstcache=\"695\">서울특별시 영등포구 영등포동 영중로</span></span>,\n",
       " <span jstcache=\"685\"><span jsinstance=\"*0\" jstcache=\"695\">서울특별시 영등포구 영등포동4가 영중로</span></span>,\n",
       " <span jstcache=\"685\"><span jsinstance=\"*0\" jstcache=\"695\">서울특별시 영등포구 시흥4동 영중로</span></span>,\n",
       " <span jstcache=\"685\"><span jsinstance=\"*0\" jstcache=\"695\">서울특별시 영등포동4가</span></span>,\n",
       " <span jstcache=\"685\"><span jsinstance=\"*0\" jstcache=\"695\">SEOUL YEONGDEUNGPO-GU 영등포동4가</span></span>]"
      ]
     },
     "execution_count": 427,
     "metadata": {},
     "output_type": "execute_result"
    }
   ],
   "source": [
    "all_address =soup.find_all('span',attrs = {'jstcache': \"685\"} )\n",
    "all_address\n",
    "\n"
   ]
  },
  {
   "cell_type": "code",
   "execution_count": 428,
   "metadata": {
    "ExecuteTime": {
     "end_time": "2020-03-09T12:29:41.717499Z",
     "start_time": "2020-03-09T12:29:41.710501Z"
    }
   },
   "outputs": [
    {
     "data": {
      "text/plain": [
       "5"
      ]
     },
     "execution_count": 428,
     "metadata": {},
     "output_type": "execute_result"
    }
   ],
   "source": [
    "len(all_address)"
   ]
  },
  {
   "cell_type": "code",
   "execution_count": 429,
   "metadata": {
    "ExecuteTime": {
     "end_time": "2020-03-09T12:29:43.226499Z",
     "start_time": "2020-03-09T12:29:43.219499Z"
    }
   },
   "outputs": [
    {
     "data": {
      "text/plain": [
       "'서울특별시 영등포구 영등포동 영중로'"
      ]
     },
     "execution_count": 429,
     "metadata": {},
     "output_type": "execute_result"
    }
   ],
   "source": [
    "all_address[0].string"
   ]
  },
  {
   "cell_type": "markdown",
   "metadata": {},
   "source": [
    "#### 실제 주소와 같은 장소 클릭"
   ]
  },
  {
   "cell_type": "code",
   "execution_count": 430,
   "metadata": {
    "ExecuteTime": {
     "end_time": "2020-03-09T12:29:55.763500Z",
     "start_time": "2020-03-09T12:29:55.756502Z"
    }
   },
   "outputs": [
    {
     "name": "stdout",
     "output_type": "stream",
     "text": [
      "3\n"
     ]
    }
   ],
   "source": [
    "real_address = '영등포동4가'\n",
    "linked_text=''\n",
    "for i,address in enumerate(all_address):\n",
    "#     print(address.contents[0], type(address.contents[0]))\n",
    "    if real_address in address:\n",
    "        print('있다')\n",
    "        linked_text =address.string\n",
    "        element_index=i+1 \n",
    "        \n",
    "print(element_index)"
   ]
  },
  {
   "cell_type": "code",
   "execution_count": 431,
   "metadata": {
    "ExecuteTime": {
     "end_time": "2020-03-09T12:29:56.722502Z",
     "start_time": "2020-03-09T12:29:56.697502Z"
    }
   },
   "outputs": [],
   "source": [
    "# element = driver.find_element_by_xpath(\"//ul[@class='sbsb_b']/li[2]\")\n",
    "element = driver.find_element_by_xpath(f\"//ul[@class='sbsb_b']/li[{element_index}]\")\n"
   ]
  },
  {
   "cell_type": "code",
   "execution_count": 432,
   "metadata": {
    "ExecuteTime": {
     "end_time": "2020-03-09T12:29:57.460762Z",
     "start_time": "2020-03-09T12:29:57.325537Z"
    }
   },
   "outputs": [],
   "source": [
    "element.click()"
   ]
  },
  {
   "cell_type": "markdown",
   "metadata": {},
   "source": [
    "## 1.4 리뷰 전체 보기"
   ]
  },
  {
   "cell_type": "code",
   "execution_count": 433,
   "metadata": {
    "ExecuteTime": {
     "end_time": "2020-03-09T12:30:03.332500Z",
     "start_time": "2020-03-09T12:30:03.312499Z"
    }
   },
   "outputs": [],
   "source": [
    "element = driver.find_element_by_xpath('//button[@class=\"jqnFjrOWMVU__button gm2-caption\"]')\n"
   ]
  },
  {
   "cell_type": "code",
   "execution_count": 434,
   "metadata": {
    "ExecuteTime": {
     "end_time": "2020-03-09T12:30:08.552499Z",
     "start_time": "2020-03-09T12:30:08.396498Z"
    }
   },
   "outputs": [],
   "source": [
    "element.click()"
   ]
  },
  {
   "cell_type": "markdown",
   "metadata": {
    "ExecuteTime": {
     "end_time": "2020-03-09T09:45:03.040033Z",
     "start_time": "2020-03-09T09:45:03.036034Z"
    }
   },
   "source": [
    "#### 리뷰 총점"
   ]
  },
  {
   "cell_type": "code",
   "execution_count": 384,
   "metadata": {
    "ExecuteTime": {
     "end_time": "2020-03-09T12:20:11.146530Z",
     "start_time": "2020-03-09T12:20:11.038502Z"
    }
   },
   "outputs": [],
   "source": [
    "html = driver.page_source"
   ]
  },
  {
   "cell_type": "markdown",
   "metadata": {},
   "source": [
    "#### bs4로 html parser"
   ]
  },
  {
   "cell_type": "code",
   "execution_count": 385,
   "metadata": {
    "ExecuteTime": {
     "end_time": "2020-03-09T12:20:13.775496Z",
     "start_time": "2020-03-09T12:20:13.694501Z"
    },
    "scrolled": true
   },
   "outputs": [],
   "source": [
    "soup = BeautifulSoup(html, 'html.parser')"
   ]
  },
  {
   "cell_type": "code",
   "execution_count": 387,
   "metadata": {
    "ExecuteTime": {
     "end_time": "2020-03-09T12:21:43.485500Z",
     "start_time": "2020-03-09T12:21:43.469537Z"
    }
   },
   "outputs": [
    {
     "data": {
      "text/plain": [
       "[<div class=\"gm2-display-2\" jsan=\"7.gm2-display-2\" jstcache=\"941\" style='font-family: \"Google Sans Display\", \"Google Sans\", Roboto, \"Noto Sans KR\", Arial, sans-serif;'>3.7</div>]"
      ]
     },
     "execution_count": 387,
     "metadata": {},
     "output_type": "execute_result"
    }
   ],
   "source": [
    "total_score =soup.find_all('div',attrs = {'jstcache': \"941\"} )\n",
    "total_score\n",
    "\n"
   ]
  },
  {
   "cell_type": "code",
   "execution_count": 388,
   "metadata": {
    "ExecuteTime": {
     "end_time": "2020-03-09T12:21:45.030498Z",
     "start_time": "2020-03-09T12:21:45.022502Z"
    }
   },
   "outputs": [
    {
     "data": {
      "text/plain": [
       "'3.7'"
      ]
     },
     "execution_count": 388,
     "metadata": {},
     "output_type": "execute_result"
    }
   ],
   "source": [
    "total_score[0].string"
   ]
  },
  {
   "cell_type": "markdown",
   "metadata": {},
   "source": [
    "#### 개별 리뷰"
   ]
  },
  {
   "cell_type": "code",
   "execution_count": 389,
   "metadata": {
    "ExecuteTime": {
     "end_time": "2020-03-09T12:21:49.378507Z",
     "start_time": "2020-03-09T12:21:49.342508Z"
    }
   },
   "outputs": [
    {
     "data": {
      "text/plain": [
       "[<div class=\"section-review-content\" jsan=\"7.section-review-content\" jstcache=\"977\"> <div jstcache=\"978\"> <a aria-label=\"산유수유 사진\" class=\"section-review-link\" data-redirect=\"1,AOvVaw0SzfhGAWat_ybQ1079cSNy,,0ahUKEwjRyd6jsI3oAhXKFIgKHeswDQYQ4h4IQygAMAA,,\" href=\"https://www.google.com/maps/contrib/114567739117150435040?hl=ko-KR\" jsaction=\"log.outbound;clickmod:log.outbound;contextmenu:log.outbound_contextmenu\" jsan=\"7.section-review-link,0.data-redirect,8.href,5.background-image,0.ved,0.aria-label,0.target,22.jsaction,t-ulS6GVkCn2o\" jstcache=\"1126\" style=\"background-image:url(https://lh3.googleusercontent.com/-79-mKJPqHDM/AAAAAAAAAAI/AAAAAAAAAAA/zjXFgDY9eA4/w45-h45-p-rp-mo-br100/photo.jpg)\" target=\"_blank\" ved=\"0ahUKEwiInOCjsI3oAhXKFIgKHeswDQYQ4h4IAygA\"> <span jstcache=\"1131\" style=\"display:none\"></span> </a> <span alt=\" 사진\" jsan=\"0.alt\" jstcache=\"1127\" style=\"display:none\"> </span> </div> <div class=\"section-review-line section-review-line-with-indent\" jsan=\"7.section-review-line,7.section-review-line-with-indent\" jstcache=\"979\"> <div style=\"position:relative\"> <div class=\"section-review-titles section-review-titles-with-menu\" jsan=\"7.section-review-titles,7.section-review-titles-with-menu,t-_FLNW9QkTD0\" jstcache=\"980\"> <a data-redirect=\"1,AOvVaw0SzfhGAWat_ybQ1079cSNy,,0ahUKEwjRyd6jsI3oAhXKFIgKHeswDQYQ4h4IQygAMAA,,\" href=\"https://www.google.com/maps/contrib/114567739117150435040?hl=ko-KR\" jsaction=\"log.outbound;clickmod:log.outbound;contextmenu:log.outbound_contextmenu\" jsan=\"0.data-redirect,8.href,0.ved,0.target,22.jsaction,t-tFSr5es4BxY\" jstcache=\"1133\" target=\"_blank\" ved=\"0ahUKEwiInOCjsI3oAhXKFIgKHeswDQYQ4h4IAygA\"> <div class=\"section-review-title\" jsan=\"7.section-review-title,t-nj2V4y-RWyo\" jstcache=\"1136\"> <span jstcache=\"1139\">산유수유</span> </div> <div class=\"section-review-subtitle\" jsan=\"7.section-review-subtitle,t-AmpbsS9OL2U\" jstcache=\"1137\"> <span jstcache=\"1141\">지역 가이드</span> <span jstcache=\"1142\">・리뷰 255개</span> </div> </a> <div jstcache=\"1134\" style=\"display:none\"></div> </div> <button aria-label=\"리뷰 액션\" class=\"section-review-action-menu\" data-review-id=\"ChZDSUhNMG9nS0VJQ0FnSURzOFB5YWNnEAEaFmRoWUNvREZibE9fbXNEOTFjQ1pIU3c\" data-tooltip=\"리뷰 액션\" jsaction=\"pane.review.actionMenu;keydown:pane.review.actionMenu;focus:pane.focusTooltip;blur:pane.blurTooltip\" jsan=\"7.section-review-action-menu,0.data-review-id,0.ved,0.aria-label,0.data-tooltip,0.vet,22.jsaction,t-DjGGGQWZC8c\" jstcache=\"981\" ved=\"1i:3,t:14326,e:2,p:0DNmXoD6Nsfm-Aak0q7QCw:103\" vet=\"14326\"> <div class=\"section-review-more-icon\"> </div> </button> </div> </div> <div class=\"section-review-line\" jstcache=\"982\"> <div class=\"section-review-metadata section-review-metadata-with-note\" jsan=\"7.section-review-metadata,7.section-review-metadata-with-note\" jstcache=\"986\"> <span jstcache=\"987\" style=\"display:none\"></span> <span aria-label=\" 별표 4개 \" class=\"section-review-stars\" jsan=\"7.section-review-stars,0.aria-label,0.role,t-1xcf3_7ROhA\" jstcache=\"988\" role=\"img\"> <span class=\"section-review-star section-review-star-active\" jsan=\"7.section-review-star,7.section-review-star-active\" jsinstance=\"0\" jstcache=\"1027\"></span><span class=\"section-review-star section-review-star-active\" jsan=\"7.section-review-star,7.section-review-star-active\" jsinstance=\"1\" jstcache=\"1027\"></span><span class=\"section-review-star section-review-star-active\" jsan=\"7.section-review-star,7.section-review-star-active\" jsinstance=\"2\" jstcache=\"1027\"></span><span class=\"section-review-star section-review-star-active\" jsan=\"7.section-review-star,7.section-review-star-active\" jsinstance=\"3\" jstcache=\"1027\"></span><span class=\"section-review-star\" jsan=\"7.section-review-star\" jsinstance=\"*4\" jstcache=\"1027\"></span> </span> <span class=\"section-review-publish-date\" jsan=\"t-72g3O_JHSEg,7.section-review-publish-date\" jstcache=\"989\">2주 전</span> </div> <div class=\"section-review-review-content\" jsinstance=\"*0\" jstcache=\"990\"> <span jsan=\"t-Q4-IM6ddV_o,5.display\" jstcache=\"991\" style=\"display:none\"></span> <span class=\"section-review-text\" jsan=\"7.section-review-text\" jstcache=\"992\">평일,소고기샤브,70g, 13,800원\n",
       " 주말, 소고기샤브, 100g, 17,800원\n",
       " 평일,한우불고기전골, 70g, 16,800원\n",
       " 주말,한우불고기전골, 100g, 20,800원\n",
       " 가격은 메뉴에 비해 싼 가격은 아닌듯.\n",
       " 롯데마트에서 장을 보고 난 후에 이용하는 편이지만, 9,900원에서 10,900원 정도 가격대라면, 더 자주 이용할듯 함\n",
       " 외에도 가격대가 다양함.  롯데마트 양평점 1층에는 이 외에도 여러 종류의 먹거리가 있음. 이용후에는 2시간 무료주차 할 수 있음</span> </div> <jsl jstcache=\"993\" style=\"display:none\"></jsl> <div jstcache=\"994\" style=\"display:none\"></div> <span jstcache=\"995\" style=\"display:none\"></span> <div jstcache=\"996\" style=\"display:none\"></div> <div class=\"section-review-photos section-review-photo-pack4\" jsan=\"7.section-review-photos,7.section-review-photo-pack4,t-OHhk6wkarjE\" jstcache=\"997\"> <button aria-label=\"사진\" class=\"section-review-photo\" data-photo-index=\"0\" data-review-id=\"ChZDSUhNMG9nS0VJQ0FnSURzOFB5YWNnEAEaFmRoWUNvREZibE9fbXNEOTFjQ1pIU3c\" data-tooltip=\"\" jsaction=\"pane.review.openPhoto;keydown:pane.review.openPhoto;focus:pane.focusTooltip;blur:pane.blurTooltip\" jsan=\"7.section-review-photo,0.data-photo-index,0.data-review-id,0.data-tooltip,5.background-image,0.jsaction,0.aria-label,t-VjZE1UQjUJ8\" jsinstance=\"0\" jstcache=\"1045\" style=\"background-image:url(https://lh5.googleusercontent.com/p/AF1QipMFDAczR04nnYdjJXBVDGlsMZDYX4oe6W5eCuM1=w750-h750-p-k-no)\"> <div jstcache=\"1050\" style=\"display:none\"></div> <div jstcache=\"1051\" style=\"display:none\"></div> </button><button aria-label=\"사진\" class=\"section-review-photo\" data-photo-index=\"1\" data-review-id=\"ChZDSUhNMG9nS0VJQ0FnSURzOFB5YWNnEAEaFmRoWUNvREZibE9fbXNEOTFjQ1pIU3c\" data-tooltip=\"\" jsaction=\"pane.review.openPhoto;keydown:pane.review.openPhoto;focus:pane.focusTooltip;blur:pane.blurTooltip\" jsan=\"7.section-review-photo,0.data-photo-index,0.data-review-id,0.data-tooltip,5.background-image,0.jsaction,0.aria-label,t-VjZE1UQjUJ8\" jsinstance=\"1\" jstcache=\"1045\" style=\"background-image:url(https://lh5.googleusercontent.com/p/AF1QipPRaqLYv_CJuquqVNDQtLt-rFHYb2mu85HjcZ_F=w750-h750-p-k-no)\"> <div jstcache=\"1050\" style=\"display:none\"></div> <div jstcache=\"1051\" style=\"display:none\"></div> </button><button aria-label=\"사진\" class=\"section-review-photo\" data-photo-index=\"2\" data-review-id=\"ChZDSUhNMG9nS0VJQ0FnSURzOFB5YWNnEAEaFmRoWUNvREZibE9fbXNEOTFjQ1pIU3c\" data-tooltip=\"\" jsaction=\"pane.review.openPhoto;keydown:pane.review.openPhoto;focus:pane.focusTooltip;blur:pane.blurTooltip\" jsan=\"7.section-review-photo,0.data-photo-index,0.data-review-id,0.data-tooltip,5.background-image,0.jsaction,0.aria-label,t-VjZE1UQjUJ8\" jsinstance=\"2\" jstcache=\"1045\" style=\"background-image:url(https://lh5.googleusercontent.com/p/AF1QipOODwrLlghtwWTqELeohm-zYsaO4yjOPQJCjeAZ=w750-h750-p-k-no)\"> <div jstcache=\"1050\" style=\"display:none\"></div> <div jstcache=\"1051\" style=\"display:none\"></div> </button><button aria-label=\"사진\" class=\"section-review-photo\" data-photo-index=\"3\" data-review-id=\"ChZDSUhNMG9nS0VJQ0FnSURzOFB5YWNnEAEaFmRoWUNvREZibE9fbXNEOTFjQ1pIU3c\" data-tooltip=\"\" jsaction=\"pane.review.showMorePhotos;keydown:pane.review.showMorePhotos;focus:pane.focusTooltip;blur:pane.blurTooltip\" jsan=\"7.section-review-photo,0.data-photo-index,0.data-review-id,0.data-tooltip,5.background-image,0.jsaction,0.aria-label,t-VjZE1UQjUJ8\" jsinstance=\"3\" jstcache=\"1045\" style=\"background-image:url(https://lh5.googleusercontent.com/p/AF1QipNbZs5VH5BL3KGKuIuDxEV7TRqlvlglxM-JdymO=w750-h750-p-k-no)\"> <div class=\"section-review-photo-overlay\" jsan=\"7.section-review-photo-overlay,t-6olzAaAX7Cs\" jstcache=\"1050\"><span jstcache=\"1053\">6</span>개 더보기</div> <div jstcache=\"1051\" style=\"display:none\"></div> </button><button aria-label=\"사진\" jsan=\"0.aria-label\" jsinstance=\"4\" jstcache=\"1045\" style=\"display:none\"></button><button aria-label=\"사진\" jsan=\"0.aria-label\" jsinstance=\"5\" jstcache=\"1045\" style=\"display:none\"></button><button aria-label=\"사진\" jsan=\"0.aria-label\" jsinstance=\"6\" jstcache=\"1045\" style=\"display:none\"></button><button aria-label=\"사진\" jsan=\"0.aria-label\" jsinstance=\"7\" jstcache=\"1045\" style=\"display:none\"></button><button aria-label=\"사진\" jsan=\"0.aria-label\" jsinstance=\"*8\" jstcache=\"1045\" style=\"display:none\"></button> </div> <div style=\"clear:both\"></div> <div class=\"section-review-interaction-bar section-review-interaction-bar-after-photos\" jsan=\"7.section-review-interaction-bar,7.section-review-interaction-bar-after-photos,t-6WsgiFzJjBI\" jstcache=\"998\"> <button jstcache=\"1055\" style=\"display:none\"></button> <button aria-label=\" 산유수유님의 리뷰가 유용했다고 표시해 주세요. \" aria-pressed=\"false\" class=\"section-review-interaction-button\" data-review-id=\"ChZDSUhNMG9nS0VJQ0FnSURzOFB5YWNnEAEaFmRoWUNvREZibE9fbXNEOTFjQ1pIU3c\" jsaction=\"pane.review.toggleThumbsUp;keydown:pane.review.toggleThumbsUp\" jsan=\"7.section-review-interaction-button,0.aria-pressed,0.data-review-id,0.ved,0.aria-label,0.vet,22.jsaction,t-i2tdRzS97_4\" jstcache=\"1056\" ved=\"1i:2,t:25807,e:1,p:0DNmXoD6Nsfm-Aak0q7QCw:103\" vet=\"25807\"> <span class=\"section-review-thumbs-up-gm2 section-review-interaction-icon section-review-interaction-icon-inactive\" jsan=\"7.section-review-thumbs-up-gm2,7.section-review-interaction-icon,7.section-review-interaction-icon-inactive\" jstcache=\"1062\"></span> <span class=\"section-review-interactions-label\" jstcache=\"1063\"><span jstcache=\"1064\">좋아요</span><span jstcache=\"1065\" style=\"display:none\"></span></span> </button> <button class=\"section-review-interaction-button\" data-review-id=\"ChZDSUhNMG9nS0VJQ0FnSURzOFB5YWNnEAEaFmRoWUNvREZibE9fbXNEOTFjQ1pIU3c\" jsaction=\"pane.review.share;keydown:pane.review.share\" jsan=\"7.section-review-interaction-button,0.data-review-id,0.vet,22.jsaction,t-xgS4YbLs0as\" jstcache=\"1057\" vet=\"32949\"> <span class=\"section-review-share-gm2 section-review-interaction-icon section-review-interaction-icon-inactive\" jsan=\"7.section-review-share-gm2,7.section-review-interaction-icon,7.section-review-interaction-icon-inactive\" jstcache=\"1067\"> </span> <span class=\"section-review-interactions-label\">공유</span> </button> </div> <div jstcache=\"999\" style=\"display:none\"></div> </div> </div>,\n",
       " <div class=\"section-review-content\" jsan=\"7.section-review-content\" jstcache=\"977\"> <div jstcache=\"978\"> <a aria-label=\"문성욱 사진\" class=\"section-review-link\" data-redirect=\"1,AOvVaw3R-lGNFvhTw_qc2eGiRTDi,,0ahUKEwjRyd6jsI3oAhXKFIgKHeswDQYQ4h4IYSgAMAA,,\" href=\"https://www.google.com/maps/contrib/116027335981095107925?hl=ko-KR\" jsaction=\"log.outbound;clickmod:log.outbound;contextmenu:log.outbound_contextmenu\" jsan=\"7.section-review-link,0.data-redirect,8.href,5.background-image,0.ved,0.aria-label,0.target,22.jsaction,t-ulS6GVkCn2o\" jstcache=\"1126\" style=\"background-image:url(https://lh6.googleusercontent.com/-0ILG5Ab6_F4/AAAAAAAAAAI/AAAAAAAAAAA/bEHVy_m3UQ8/w45-h45-p-rp-mo-br100/photo.jpg)\" target=\"_blank\" ved=\"0ahUKEwiInOCjsI3oAhXKFIgKHeswDQYQ4h4IISgA\"> <span jstcache=\"1131\" style=\"display:none\"></span> </a> <span alt=\" 사진\" jsan=\"0.alt\" jstcache=\"1127\" style=\"display:none\"> </span> </div> <div class=\"section-review-line section-review-line-with-indent\" jsan=\"7.section-review-line,7.section-review-line-with-indent\" jstcache=\"979\"> <div style=\"position:relative\"> <div class=\"section-review-titles section-review-titles-with-menu\" jsan=\"7.section-review-titles,7.section-review-titles-with-menu,t-_FLNW9QkTD0\" jstcache=\"980\"> <a data-redirect=\"1,AOvVaw3R-lGNFvhTw_qc2eGiRTDi,,0ahUKEwjRyd6jsI3oAhXKFIgKHeswDQYQ4h4IYSgAMAA,,\" href=\"https://www.google.com/maps/contrib/116027335981095107925?hl=ko-KR\" jsaction=\"log.outbound;clickmod:log.outbound;contextmenu:log.outbound_contextmenu\" jsan=\"0.data-redirect,8.href,0.ved,0.target,22.jsaction,t-tFSr5es4BxY\" jstcache=\"1133\" target=\"_blank\" ved=\"0ahUKEwiInOCjsI3oAhXKFIgKHeswDQYQ4h4IISgA\"> <div class=\"section-review-title\" jsan=\"7.section-review-title,t-nj2V4y-RWyo\" jstcache=\"1136\"> <span jstcache=\"1139\">문성욱</span> </div> <div class=\"section-review-subtitle\" jsan=\"7.section-review-subtitle,t-AmpbsS9OL2U\" jstcache=\"1137\"> <span jstcache=\"1141\">지역 가이드</span> <span jstcache=\"1142\">・리뷰 31개</span> </div> </a> <div jstcache=\"1134\" style=\"display:none\"></div> </div> <button aria-label=\"리뷰 액션\" class=\"section-review-action-menu\" data-review-id=\"ChZDSUhNMG9nS0VJQ0FnSUNNcTdHN1hnEAEaFnFlV2ZKWUwwS25RYWI5SmFOa1pzSnc\" data-tooltip=\"리뷰 액션\" jsaction=\"pane.review.actionMenu;keydown:pane.review.actionMenu;focus:pane.focusTooltip;blur:pane.blurTooltip\" jsan=\"7.section-review-action-menu,0.data-review-id,0.ved,0.aria-label,0.data-tooltip,0.vet,22.jsaction,t-DjGGGQWZC8c\" jstcache=\"981\" ved=\"1i:3,t:14326,e:2,p:0DNmXoD6Nsfm-Aak0q7QCw:104\" vet=\"14326\"> <div class=\"section-review-more-icon\"> </div> </button> </div> </div> <div class=\"section-review-line\" jstcache=\"982\"> <div class=\"section-review-metadata section-review-metadata-with-note\" jsan=\"7.section-review-metadata,7.section-review-metadata-with-note\" jstcache=\"986\"> <span jstcache=\"987\" style=\"display:none\"></span> <span aria-label=\" 별표 3개 \" class=\"section-review-stars\" jsan=\"7.section-review-stars,0.aria-label,0.role,t-1xcf3_7ROhA\" jstcache=\"988\" role=\"img\"> <span class=\"section-review-star section-review-star-active\" jsan=\"7.section-review-star,7.section-review-star-active\" jsinstance=\"0\" jstcache=\"1027\"></span><span class=\"section-review-star section-review-star-active\" jsan=\"7.section-review-star,7.section-review-star-active\" jsinstance=\"1\" jstcache=\"1027\"></span><span class=\"section-review-star section-review-star-active\" jsan=\"7.section-review-star,7.section-review-star-active\" jsinstance=\"2\" jstcache=\"1027\"></span><span class=\"section-review-star\" jsan=\"7.section-review-star\" jsinstance=\"3\" jstcache=\"1027\"></span><span class=\"section-review-star\" jsan=\"7.section-review-star\" jsinstance=\"*4\" jstcache=\"1027\"></span> </span> <span class=\"section-review-publish-date\" jsan=\"t-72g3O_JHSEg,7.section-review-publish-date\" jstcache=\"989\">3달 전</span> </div> <div class=\"section-review-review-content\" jsinstance=\"*0\" jstcache=\"990\"> <span jsan=\"t-Q4-IM6ddV_o,5.display\" jstcache=\"991\" style=\"display:none\"></span> <span class=\"section-review-text\" jsan=\"7.section-review-text\" jstcache=\"992\">딱히 좋다. 싫다가 구분 짓기 어렵네요. 그 가격에 불편한거나 거슬릴게 없이 무난합니다. 맛.시설.서비스도용</span> </div> <jsl jstcache=\"993\" style=\"display:none\"></jsl> <div jstcache=\"994\" style=\"display:none\"></div> <span jstcache=\"995\" style=\"display:none\"></span> <div jstcache=\"996\" style=\"display:none\"></div> <div jstcache=\"997\" style=\"display:none\"></div> <div style=\"clear:both\"></div> <div class=\"section-review-interaction-bar\" jsan=\"7.section-review-interaction-bar,t-6WsgiFzJjBI\" jstcache=\"998\"> <button jstcache=\"1055\" style=\"display:none\"></button> <button aria-label=\" 문성욱님의 리뷰가 유용했다고 표시해 주세요. \" aria-pressed=\"false\" class=\"section-review-interaction-button\" data-review-id=\"ChZDSUhNMG9nS0VJQ0FnSUNNcTdHN1hnEAEaFnFlV2ZKWUwwS25RYWI5SmFOa1pzSnc\" jsaction=\"pane.review.toggleThumbsUp;keydown:pane.review.toggleThumbsUp\" jsan=\"7.section-review-interaction-button,0.aria-pressed,0.data-review-id,0.ved,0.aria-label,0.vet,22.jsaction,t-i2tdRzS97_4\" jstcache=\"1056\" ved=\"1i:2,t:25807,e:1,p:0DNmXoD6Nsfm-Aak0q7QCw:104\" vet=\"25807\"> <span class=\"section-review-thumbs-up-gm2 section-review-interaction-icon section-review-interaction-icon-inactive\" jsan=\"7.section-review-thumbs-up-gm2,7.section-review-interaction-icon,7.section-review-interaction-icon-inactive\" jstcache=\"1062\"></span> <span class=\"section-review-interactions-label\" jstcache=\"1063\"><span jstcache=\"1064\">좋아요</span><span jstcache=\"1065\" style=\"display:none\"></span></span> </button> <button class=\"section-review-interaction-button\" data-review-id=\"ChZDSUhNMG9nS0VJQ0FnSUNNcTdHN1hnEAEaFnFlV2ZKWUwwS25RYWI5SmFOa1pzSnc\" jsaction=\"pane.review.share;keydown:pane.review.share\" jsan=\"7.section-review-interaction-button,0.data-review-id,0.vet,22.jsaction,t-xgS4YbLs0as\" jstcache=\"1057\" vet=\"32949\"> <span class=\"section-review-share-gm2 section-review-interaction-icon section-review-interaction-icon-inactive\" jsan=\"7.section-review-share-gm2,7.section-review-interaction-icon,7.section-review-interaction-icon-inactive\" jstcache=\"1067\"> </span> <span class=\"section-review-interactions-label\">공유</span> </button> </div> <div jstcache=\"999\" style=\"display:none\"></div> </div> </div>,\n",
       " <div class=\"section-review-content\" jsan=\"7.section-review-content\" jstcache=\"977\"> <div jstcache=\"978\"> <a aria-label=\"Christine Lim 사진\" class=\"section-review-link\" data-redirect=\"1,AOvVaw04nLmNhRf7IwIR1ylIhOmH,,0ahUKEwjRyd6jsI3oAhXKFIgKHeswDQYQ4h4IZCgAMAA,,\" href=\"https://www.google.com/maps/contrib/101766083068586219158?hl=ko-KR\" jsaction=\"log.outbound;clickmod:log.outbound;contextmenu:log.outbound_contextmenu\" jsan=\"7.section-review-link,0.data-redirect,8.href,5.background-image,0.ved,0.aria-label,0.target,22.jsaction,t-ulS6GVkCn2o\" jstcache=\"1126\" style=\"background-image:url(https://lh3.googleusercontent.com/-KtF5lSbUFyI/AAAAAAAAAAI/AAAAAAAAAAA/7h-FJNavKlM/w45-h45-p-rp-mo-br100/photo.jpg)\" target=\"_blank\" ved=\"0ahUKEwiInOCjsI3oAhXKFIgKHeswDQYQ4h4IJCgA\"> <span jstcache=\"1131\" style=\"display:none\"></span> </a> <span alt=\" 사진\" jsan=\"0.alt\" jstcache=\"1127\" style=\"display:none\"> </span> </div> <div class=\"section-review-line section-review-line-with-indent\" jsan=\"7.section-review-line,7.section-review-line-with-indent\" jstcache=\"979\"> <div style=\"position:relative\"> <div class=\"section-review-titles section-review-titles-with-menu\" jsan=\"7.section-review-titles,7.section-review-titles-with-menu,t-_FLNW9QkTD0\" jstcache=\"980\"> <a data-redirect=\"1,AOvVaw04nLmNhRf7IwIR1ylIhOmH,,0ahUKEwjRyd6jsI3oAhXKFIgKHeswDQYQ4h4IZCgAMAA,,\" href=\"https://www.google.com/maps/contrib/101766083068586219158?hl=ko-KR\" jsaction=\"log.outbound;clickmod:log.outbound;contextmenu:log.outbound_contextmenu\" jsan=\"0.data-redirect,8.href,0.ved,0.target,22.jsaction,t-tFSr5es4BxY\" jstcache=\"1133\" target=\"_blank\" ved=\"0ahUKEwiInOCjsI3oAhXKFIgKHeswDQYQ4h4IJCgA\"> <div class=\"section-review-title\" jsan=\"7.section-review-title,t-nj2V4y-RWyo\" jstcache=\"1136\"> <span jstcache=\"1139\">Christine Lim</span> </div> <div class=\"section-review-subtitle\" jsan=\"7.section-review-subtitle,t-AmpbsS9OL2U\" jstcache=\"1137\"> <span jstcache=\"1141\">지역 가이드</span> <span jstcache=\"1142\">・리뷰 211개</span> </div> </a> <div jstcache=\"1134\" style=\"display:none\"></div> </div> <button aria-label=\"리뷰 액션\" class=\"section-review-action-menu\" data-review-id=\"ChdDSUhNMG9nS0VJQ0FnSURNZ3J1NjNnRRABGhZhMm1sVHFQUThKUmJXcGR6SmtRUkh3\" data-tooltip=\"리뷰 액션\" jsaction=\"pane.review.actionMenu;keydown:pane.review.actionMenu;focus:pane.focusTooltip;blur:pane.blurTooltip\" jsan=\"7.section-review-action-menu,0.data-review-id,0.ved,0.aria-label,0.data-tooltip,0.vet,22.jsaction,t-DjGGGQWZC8c\" jstcache=\"981\" ved=\"1i:3,t:14326,e:2,p:0DNmXoD6Nsfm-Aak0q7QCw:105\" vet=\"14326\"> <div class=\"section-review-more-icon\"> </div> </button> </div> </div> <div class=\"section-review-line\" jstcache=\"982\"> <div class=\"section-review-metadata section-review-metadata-with-note\" jsan=\"7.section-review-metadata,7.section-review-metadata-with-note\" jstcache=\"986\"> <span jstcache=\"987\" style=\"display:none\"></span> <span aria-label=\" 별표 3개 \" class=\"section-review-stars\" jsan=\"7.section-review-stars,0.aria-label,0.role,t-1xcf3_7ROhA\" jstcache=\"988\" role=\"img\"> <span class=\"section-review-star section-review-star-active\" jsan=\"7.section-review-star,7.section-review-star-active\" jsinstance=\"0\" jstcache=\"1027\"></span><span class=\"section-review-star section-review-star-active\" jsan=\"7.section-review-star,7.section-review-star-active\" jsinstance=\"1\" jstcache=\"1027\"></span><span class=\"section-review-star section-review-star-active\" jsan=\"7.section-review-star,7.section-review-star-active\" jsinstance=\"2\" jstcache=\"1027\"></span><span class=\"section-review-star\" jsan=\"7.section-review-star\" jsinstance=\"3\" jstcache=\"1027\"></span><span class=\"section-review-star\" jsan=\"7.section-review-star\" jsinstance=\"*4\" jstcache=\"1027\"></span> </span> <span class=\"section-review-publish-date\" jsan=\"t-72g3O_JHSEg,7.section-review-publish-date\" jstcache=\"989\">2달 전</span> </div> <div class=\"section-review-review-content\" jsinstance=\"*0\" jstcache=\"990\"> <span jsan=\"t-Q4-IM6ddV_o,5.display\" jstcache=\"991\" style=\"display:none\"></span> <span class=\"section-review-text\" jsan=\"7.section-review-text\" jstcache=\"992\">장보고 한끼 해결하기에 그냥저냥 괜찮습니다</span> </div> <jsl jstcache=\"993\" style=\"display:none\"></jsl> <div jstcache=\"994\" style=\"display:none\"></div> <span jstcache=\"995\" style=\"display:none\"></span> <div jstcache=\"996\" style=\"display:none\"></div> <div class=\"section-review-photos section-review-photo-pack4\" jsan=\"7.section-review-photos,7.section-review-photo-pack4,t-OHhk6wkarjE\" jstcache=\"997\"> <button aria-label=\"사진\" class=\"section-review-photo\" data-photo-index=\"0\" data-review-id=\"ChdDSUhNMG9nS0VJQ0FnSURNZ3J1NjNnRRABGhZhMm1sVHFQUThKUmJXcGR6SmtRUkh3\" data-tooltip=\"\" jsaction=\"pane.review.openPhoto;keydown:pane.review.openPhoto;focus:pane.focusTooltip;blur:pane.blurTooltip\" jsan=\"7.section-review-photo,0.data-photo-index,0.data-review-id,0.data-tooltip,5.background-image,0.jsaction,0.aria-label,t-VjZE1UQjUJ8\" jsinstance=\"0\" jstcache=\"1045\" style=\"background-image:url(https://lh5.googleusercontent.com/p/AF1QipMl-lEec7eu0EylAPl9jbiOO2UcXm_zKjV0z2Zx=w750-h750-p-k-no)\"> <div jstcache=\"1050\" style=\"display:none\"></div> <div jstcache=\"1051\" style=\"display:none\"></div> </button><button aria-label=\"사진\" class=\"section-review-photo\" data-photo-index=\"1\" data-review-id=\"ChdDSUhNMG9nS0VJQ0FnSURNZ3J1NjNnRRABGhZhMm1sVHFQUThKUmJXcGR6SmtRUkh3\" data-tooltip=\"\" jsaction=\"pane.review.openPhoto;keydown:pane.review.openPhoto;focus:pane.focusTooltip;blur:pane.blurTooltip\" jsan=\"7.section-review-photo,0.data-photo-index,0.data-review-id,0.data-tooltip,5.background-image,0.jsaction,0.aria-label,t-VjZE1UQjUJ8\" jsinstance=\"1\" jstcache=\"1045\" style=\"background-image:url(https://lh5.googleusercontent.com/p/AF1QipNhUGISusRS-3GvZdzXjE28TM2hSD4z2bdmg4qi=w750-h750-p-k-no)\"> <div jstcache=\"1050\" style=\"display:none\"></div> <div jstcache=\"1051\" style=\"display:none\"></div> </button><button aria-label=\"사진\" class=\"section-review-photo\" data-photo-index=\"2\" data-review-id=\"ChdDSUhNMG9nS0VJQ0FnSURNZ3J1NjNnRRABGhZhMm1sVHFQUThKUmJXcGR6SmtRUkh3\" data-tooltip=\"\" jsaction=\"pane.review.openPhoto;keydown:pane.review.openPhoto;focus:pane.focusTooltip;blur:pane.blurTooltip\" jsan=\"7.section-review-photo,0.data-photo-index,0.data-review-id,0.data-tooltip,5.background-image,0.jsaction,0.aria-label,t-VjZE1UQjUJ8\" jsinstance=\"2\" jstcache=\"1045\" style=\"background-image:url(https://lh5.googleusercontent.com/p/AF1QipOBFB4n9ODezfa4Wbh-s6TG56iuDZjQnsi9tdol=w750-h750-p-k-no)\"> <div jstcache=\"1050\" style=\"display:none\"></div> <div jstcache=\"1051\" style=\"display:none\"></div> </button><button aria-label=\"사진\" class=\"section-review-photo\" data-photo-index=\"3\" data-review-id=\"ChdDSUhNMG9nS0VJQ0FnSURNZ3J1NjNnRRABGhZhMm1sVHFQUThKUmJXcGR6SmtRUkh3\" data-tooltip=\"\" jsaction=\"pane.review.showMorePhotos;keydown:pane.review.showMorePhotos;focus:pane.focusTooltip;blur:pane.blurTooltip\" jsan=\"7.section-review-photo,0.data-photo-index,0.data-review-id,0.data-tooltip,5.background-image,0.jsaction,0.aria-label,t-VjZE1UQjUJ8\" jsinstance=\"3\" jstcache=\"1045\" style=\"background-image:url(https://lh5.googleusercontent.com/p/AF1QipMHGnFQBZYzYPXGcOaWjhzpcl9-D7UqBMsjpwKv=w750-h750-p-k-no)\"> <div class=\"section-review-photo-overlay\" jsan=\"7.section-review-photo-overlay,t-6olzAaAX7Cs\" jstcache=\"1050\"><span jstcache=\"1053\">15</span>개 더보기</div> <div jstcache=\"1051\" style=\"display:none\"></div> </button><button aria-label=\"사진\" jsan=\"0.aria-label\" jsinstance=\"4\" jstcache=\"1045\" style=\"display:none\"></button><button aria-label=\"사진\" jsan=\"0.aria-label\" jsinstance=\"5\" jstcache=\"1045\" style=\"display:none\"></button><button aria-label=\"사진\" jsan=\"0.aria-label\" jsinstance=\"6\" jstcache=\"1045\" style=\"display:none\"></button><button aria-label=\"사진\" jsan=\"0.aria-label\" jsinstance=\"7\" jstcache=\"1045\" style=\"display:none\"></button><button aria-label=\"사진\" jsan=\"0.aria-label\" jsinstance=\"8\" jstcache=\"1045\" style=\"display:none\"></button><button aria-label=\"사진\" jsan=\"0.aria-label\" jsinstance=\"9\" jstcache=\"1045\" style=\"display:none\"></button><button aria-label=\"사진\" jsan=\"0.aria-label\" jsinstance=\"10\" jstcache=\"1045\" style=\"display:none\"></button><button aria-label=\"사진\" jsan=\"0.aria-label\" jsinstance=\"11\" jstcache=\"1045\" style=\"display:none\"></button><button aria-label=\"사진\" jsan=\"0.aria-label\" jsinstance=\"12\" jstcache=\"1045\" style=\"display:none\"></button><button aria-label=\"사진\" jsan=\"0.aria-label\" jsinstance=\"13\" jstcache=\"1045\" style=\"display:none\"></button><button aria-label=\"사진\" jsan=\"0.aria-label\" jsinstance=\"14\" jstcache=\"1045\" style=\"display:none\"></button><button aria-label=\"사진\" jsan=\"0.aria-label\" jsinstance=\"15\" jstcache=\"1045\" style=\"display:none\"></button><button aria-label=\"사진\" jsan=\"0.aria-label\" jsinstance=\"16\" jstcache=\"1045\" style=\"display:none\"></button><button aria-label=\"사진\" jsan=\"0.aria-label\" jsinstance=\"*17\" jstcache=\"1045\" style=\"display:none\"></button> </div> <div style=\"clear:both\"></div> <div class=\"section-review-interaction-bar section-review-interaction-bar-after-photos\" jsan=\"7.section-review-interaction-bar,7.section-review-interaction-bar-after-photos,t-6WsgiFzJjBI\" jstcache=\"998\"> <button jstcache=\"1055\" style=\"display:none\"></button> <button aria-label=\" Christine Lim님의 리뷰가 유용했다고 표시해 주세요. \" aria-pressed=\"false\" class=\"section-review-interaction-button\" data-review-id=\"ChdDSUhNMG9nS0VJQ0FnSURNZ3J1NjNnRRABGhZhMm1sVHFQUThKUmJXcGR6SmtRUkh3\" jsaction=\"pane.review.toggleThumbsUp;keydown:pane.review.toggleThumbsUp\" jsan=\"7.section-review-interaction-button,0.aria-pressed,0.data-review-id,0.ved,0.aria-label,0.vet,22.jsaction,t-i2tdRzS97_4\" jstcache=\"1056\" ved=\"1i:2,t:25807,e:1,p:0DNmXoD6Nsfm-Aak0q7QCw:105\" vet=\"25807\"> <span class=\"section-review-thumbs-up-gm2 section-review-interaction-icon section-review-interaction-icon-inactive\" jsan=\"7.section-review-thumbs-up-gm2,7.section-review-interaction-icon,7.section-review-interaction-icon-inactive\" jstcache=\"1062\"></span> <span class=\"section-review-interactions-label\" jstcache=\"1063\"><span jstcache=\"1064\">좋아요</span><span jstcache=\"1065\" style=\"display:none\"></span></span> </button> <button class=\"section-review-interaction-button\" data-review-id=\"ChdDSUhNMG9nS0VJQ0FnSURNZ3J1NjNnRRABGhZhMm1sVHFQUThKUmJXcGR6SmtRUkh3\" jsaction=\"pane.review.share;keydown:pane.review.share\" jsan=\"7.section-review-interaction-button,0.data-review-id,0.vet,22.jsaction,t-xgS4YbLs0as\" jstcache=\"1057\" vet=\"32949\"> <span class=\"section-review-share-gm2 section-review-interaction-icon section-review-interaction-icon-inactive\" jsan=\"7.section-review-share-gm2,7.section-review-interaction-icon,7.section-review-interaction-icon-inactive\" jstcache=\"1067\"> </span> <span class=\"section-review-interactions-label\">공유</span> </button> </div> <div jstcache=\"999\" style=\"display:none\"></div> </div> </div>,\n",
       " <div class=\"section-review-content\" jsan=\"7.section-review-content\" jstcache=\"977\"> <div jstcache=\"978\"> <a aria-label=\"jare Jeong 사진\" class=\"section-review-link\" data-redirect=\"1,AOvVaw0MiinkIPal_dcO_nXKVB8w,,0ahUKEwjRyd6jsI3oAhXKFIgKHeswDQYQ4h4InQEoADAA,,\" href=\"https://www.google.com/maps/contrib/108724655299631315947?hl=ko-KR\" jsaction=\"log.outbound;clickmod:log.outbound;contextmenu:log.outbound_contextmenu\" jsan=\"7.section-review-link,0.data-redirect,8.href,5.background-image,0.ved,0.aria-label,0.target,22.jsaction,t-ulS6GVkCn2o\" jstcache=\"1126\" style=\"background-image:url(https://lh6.googleusercontent.com/-gQfKdRCfFN8/AAAAAAAAAAI/AAAAAAAAAAA/4pTj8Z66-8U/w45-h45-p-rp-mo-br100/photo.jpg)\" target=\"_blank\" ved=\"0ahUKEwiInOCjsI3oAhXKFIgKHeswDQYQ4h4IXSgA\"> <span jstcache=\"1131\" style=\"display:none\"></span> </a> <span alt=\" 사진\" jsan=\"0.alt\" jstcache=\"1127\" style=\"display:none\"> </span> </div> <div class=\"section-review-line section-review-line-with-indent\" jsan=\"7.section-review-line,7.section-review-line-with-indent\" jstcache=\"979\"> <div style=\"position:relative\"> <div class=\"section-review-titles section-review-titles-with-menu\" jsan=\"7.section-review-titles,7.section-review-titles-with-menu,t-_FLNW9QkTD0\" jstcache=\"980\"> <a data-redirect=\"1,AOvVaw0MiinkIPal_dcO_nXKVB8w,,0ahUKEwjRyd6jsI3oAhXKFIgKHeswDQYQ4h4InQEoADAA,,\" href=\"https://www.google.com/maps/contrib/108724655299631315947?hl=ko-KR\" jsaction=\"log.outbound;clickmod:log.outbound;contextmenu:log.outbound_contextmenu\" jsan=\"0.data-redirect,8.href,0.ved,0.target,22.jsaction,t-tFSr5es4BxY\" jstcache=\"1133\" target=\"_blank\" ved=\"0ahUKEwiInOCjsI3oAhXKFIgKHeswDQYQ4h4IXSgA\"> <div class=\"section-review-title\" jsan=\"7.section-review-title,t-nj2V4y-RWyo\" jstcache=\"1136\"> <span jstcache=\"1139\">jare Jeong</span> </div> <div class=\"section-review-subtitle\" jsan=\"7.section-review-subtitle,t-AmpbsS9OL2U\" jstcache=\"1137\"> <span jstcache=\"1141\">지역 가이드</span> <span jstcache=\"1142\">・리뷰 121개</span> </div> </a> <div jstcache=\"1134\" style=\"display:none\"></div> </div> <button aria-label=\"리뷰 액션\" class=\"section-review-action-menu\" data-review-id=\"ChZDSUhNMG9nS0VJQ0FnSUNzcFBUaFpREAEaFnMxc1JHenk4akZlUTNKdDlrWFotMGc\" data-tooltip=\"리뷰 액션\" jsaction=\"pane.review.actionMenu;keydown:pane.review.actionMenu;focus:pane.focusTooltip;blur:pane.blurTooltip\" jsan=\"7.section-review-action-menu,0.data-review-id,0.ved,0.aria-label,0.data-tooltip,0.vet,22.jsaction,t-DjGGGQWZC8c\" jstcache=\"981\" ved=\"1i:3,t:14326,e:2,p:0DNmXoD6Nsfm-Aak0q7QCw:106\" vet=\"14326\"> <div class=\"section-review-more-icon\"> </div> </button> </div> </div> <div class=\"section-review-line\" jstcache=\"982\"> <div class=\"section-review-metadata section-review-metadata-with-note\" jsan=\"7.section-review-metadata,7.section-review-metadata-with-note\" jstcache=\"986\"> <span jstcache=\"987\" style=\"display:none\"></span> <span aria-label=\" 별표 4개 \" class=\"section-review-stars\" jsan=\"7.section-review-stars,0.aria-label,0.role,t-1xcf3_7ROhA\" jstcache=\"988\" role=\"img\"> <span class=\"section-review-star section-review-star-active\" jsan=\"7.section-review-star,7.section-review-star-active\" jsinstance=\"0\" jstcache=\"1027\"></span><span class=\"section-review-star section-review-star-active\" jsan=\"7.section-review-star,7.section-review-star-active\" jsinstance=\"1\" jstcache=\"1027\"></span><span class=\"section-review-star section-review-star-active\" jsan=\"7.section-review-star,7.section-review-star-active\" jsinstance=\"2\" jstcache=\"1027\"></span><span class=\"section-review-star section-review-star-active\" jsan=\"7.section-review-star,7.section-review-star-active\" jsinstance=\"3\" jstcache=\"1027\"></span><span class=\"section-review-star\" jsan=\"7.section-review-star\" jsinstance=\"*4\" jstcache=\"1027\"></span> </span> <span class=\"section-review-publish-date\" jsan=\"t-72g3O_JHSEg,7.section-review-publish-date\" jstcache=\"989\">1달 전</span> </div> <div class=\"section-review-review-content\" jsinstance=\"*0\" jstcache=\"990\"> <span jsan=\"t-Q4-IM6ddV_o,5.display\" jstcache=\"991\" style=\"display:none\"></span> <span class=\"section-review-text\" jsan=\"7.section-review-text\" jstcache=\"992\">가성비 좋고 아주 괜춘함 다만 가끔 위생이슈 있으니 잘 살피면서 드시길</span> </div> <jsl jstcache=\"993\" style=\"display:none\"></jsl> <div jstcache=\"994\" style=\"display:none\"></div> <span jstcache=\"995\" style=\"display:none\"></span> <div jstcache=\"996\" style=\"display:none\"></div> <div jstcache=\"997\" style=\"display:none\"></div> <div style=\"clear:both\"></div> <div class=\"section-review-interaction-bar\" jsan=\"7.section-review-interaction-bar,t-6WsgiFzJjBI\" jstcache=\"998\"> <button jstcache=\"1055\" style=\"display:none\"></button> <button aria-label=\" jare Jeong님의 리뷰가 유용했다고 표시해 주세요. \" aria-pressed=\"false\" class=\"section-review-interaction-button\" data-review-id=\"ChZDSUhNMG9nS0VJQ0FnSUNzcFBUaFpREAEaFnMxc1JHenk4akZlUTNKdDlrWFotMGc\" jsaction=\"pane.review.toggleThumbsUp;keydown:pane.review.toggleThumbsUp\" jsan=\"7.section-review-interaction-button,0.aria-pressed,0.data-review-id,0.ved,0.aria-label,0.vet,22.jsaction,t-i2tdRzS97_4\" jstcache=\"1056\" ved=\"1i:2,t:25807,e:1,p:0DNmXoD6Nsfm-Aak0q7QCw:106\" vet=\"25807\"> <span class=\"section-review-thumbs-up-gm2 section-review-interaction-icon section-review-interaction-icon-inactive\" jsan=\"7.section-review-thumbs-up-gm2,7.section-review-interaction-icon,7.section-review-interaction-icon-inactive\" jstcache=\"1062\"></span> <span class=\"section-review-interactions-label\" jstcache=\"1063\"><span jstcache=\"1064\">좋아요</span><span jstcache=\"1065\" style=\"display:none\"></span></span> </button> <button class=\"section-review-interaction-button\" data-review-id=\"ChZDSUhNMG9nS0VJQ0FnSUNzcFBUaFpREAEaFnMxc1JHenk4akZlUTNKdDlrWFotMGc\" jsaction=\"pane.review.share;keydown:pane.review.share\" jsan=\"7.section-review-interaction-button,0.data-review-id,0.vet,22.jsaction,t-xgS4YbLs0as\" jstcache=\"1057\" vet=\"32949\"> <span class=\"section-review-share-gm2 section-review-interaction-icon section-review-interaction-icon-inactive\" jsan=\"7.section-review-share-gm2,7.section-review-interaction-icon,7.section-review-interaction-icon-inactive\" jstcache=\"1067\"> </span> <span class=\"section-review-interactions-label\">공유</span> </button> </div> <div jstcache=\"999\" style=\"display:none\"></div> </div> </div>,\n",
       " <div class=\"section-review-content\" jsan=\"7.section-review-content\" jstcache=\"977\"> <div jstcache=\"978\"> <a aria-label=\"seon-ah Jang 사진\" class=\"section-review-link\" data-redirect=\"1,AOvVaw2eVDT2CXCHCdRzBElwegE5,,0ahUKEwjRyd6jsI3oAhXKFIgKHeswDQYQ4h4IoAEoADAA,,\" href=\"https://www.google.com/maps/contrib/115371496351822789521?hl=ko-KR\" jsaction=\"log.outbound;clickmod:log.outbound;contextmenu:log.outbound_contextmenu\" jsan=\"7.section-review-link,0.data-redirect,8.href,5.background-image,0.ved,0.aria-label,0.target,22.jsaction,t-ulS6GVkCn2o\" jstcache=\"1126\" style=\"background-image:url(https://lh5.googleusercontent.com/-osffP87yR5A/AAAAAAAAAAI/AAAAAAAAAAA/KGW_53CRIE8/w45-h45-p-rp-mo-br100/photo.jpg)\" target=\"_blank\" ved=\"0ahUKEwiInOCjsI3oAhXKFIgKHeswDQYQ4h4IYCgA\"> <span jstcache=\"1131\" style=\"display:none\"></span> </a> <span alt=\" 사진\" jsan=\"0.alt\" jstcache=\"1127\" style=\"display:none\"> </span> </div> <div class=\"section-review-line section-review-line-with-indent\" jsan=\"7.section-review-line,7.section-review-line-with-indent\" jstcache=\"979\"> <div style=\"position:relative\"> <div class=\"section-review-titles section-review-titles-with-menu\" jsan=\"7.section-review-titles,7.section-review-titles-with-menu,t-_FLNW9QkTD0\" jstcache=\"980\"> <a data-redirect=\"1,AOvVaw2eVDT2CXCHCdRzBElwegE5,,0ahUKEwjRyd6jsI3oAhXKFIgKHeswDQYQ4h4IoAEoADAA,,\" href=\"https://www.google.com/maps/contrib/115371496351822789521?hl=ko-KR\" jsaction=\"log.outbound;clickmod:log.outbound;contextmenu:log.outbound_contextmenu\" jsan=\"0.data-redirect,8.href,0.ved,0.target,22.jsaction,t-tFSr5es4BxY\" jstcache=\"1133\" target=\"_blank\" ved=\"0ahUKEwiInOCjsI3oAhXKFIgKHeswDQYQ4h4IYCgA\"> <div class=\"section-review-title\" jsan=\"7.section-review-title,t-nj2V4y-RWyo\" jstcache=\"1136\"> <span jstcache=\"1139\">seon-ah Jang</span> </div> <div class=\"section-review-subtitle\" jsan=\"7.section-review-subtitle,t-AmpbsS9OL2U\" jstcache=\"1137\"> <span jstcache=\"1141\">지역 가이드</span> <span jstcache=\"1142\">・리뷰 9개</span> </div> </a> <div jstcache=\"1134\" style=\"display:none\"></div> </div> <button aria-label=\"리뷰 액션\" class=\"section-review-action-menu\" data-review-id=\"ChdDSUhNMG9nS0VJQ0FnSUQwcE1TU3h3RRABGhZzY095YWNHbHJzUTdCZ3lMTVM5VVRB\" data-tooltip=\"리뷰 액션\" jsaction=\"pane.review.actionMenu;keydown:pane.review.actionMenu;focus:pane.focusTooltip;blur:pane.blurTooltip\" jsan=\"7.section-review-action-menu,0.data-review-id,0.ved,0.aria-label,0.data-tooltip,0.vet,22.jsaction,t-DjGGGQWZC8c\" jstcache=\"981\" ved=\"1i:3,t:14326,e:2,p:0DNmXoD6Nsfm-Aak0q7QCw:107\" vet=\"14326\"> <div class=\"section-review-more-icon\"> </div> </button> </div> </div> <div class=\"section-review-line\" jstcache=\"982\"> <div class=\"section-review-metadata section-review-metadata-with-note\" jsan=\"7.section-review-metadata,7.section-review-metadata-with-note\" jstcache=\"986\"> <span jstcache=\"987\" style=\"display:none\"></span> <span aria-label=\" 별표 4개 \" class=\"section-review-stars\" jsan=\"7.section-review-stars,0.aria-label,0.role,t-1xcf3_7ROhA\" jstcache=\"988\" role=\"img\"> <span class=\"section-review-star section-review-star-active\" jsan=\"7.section-review-star,7.section-review-star-active\" jsinstance=\"0\" jstcache=\"1027\"></span><span class=\"section-review-star section-review-star-active\" jsan=\"7.section-review-star,7.section-review-star-active\" jsinstance=\"1\" jstcache=\"1027\"></span><span class=\"section-review-star section-review-star-active\" jsan=\"7.section-review-star,7.section-review-star-active\" jsinstance=\"2\" jstcache=\"1027\"></span><span class=\"section-review-star section-review-star-active\" jsan=\"7.section-review-star,7.section-review-star-active\" jsinstance=\"3\" jstcache=\"1027\"></span><span class=\"section-review-star\" jsan=\"7.section-review-star\" jsinstance=\"*4\" jstcache=\"1027\"></span> </span> <span class=\"section-review-publish-date\" jsan=\"t-72g3O_JHSEg,7.section-review-publish-date\" jstcache=\"989\">4달 전</span> </div> <div class=\"section-review-review-content\" jsinstance=\"*0\" jstcache=\"990\"> <span jsan=\"t-Q4-IM6ddV_o,5.display\" jstcache=\"991\" style=\"display:none\"></span> <span class=\"section-review-text\" jsan=\"7.section-review-text\" jstcache=\"992\">마트 장보러 갔다가 한끼 즐기기 좋으나 가볍게 즐기는 점심치곤 자주가기엔 부담스런 런치가격 13800원.\n",
       " 가짓수를 줄이고 점심9900원 정도면 자주 갈듯</span> </div> <jsl jstcache=\"993\" style=\"display:none\"></jsl> <div jstcache=\"994\" style=\"display:none\"></div> <span jstcache=\"995\" style=\"display:none\"></span> <div jstcache=\"996\" style=\"display:none\"></div> <div jstcache=\"997\" style=\"display:none\"></div> <div style=\"clear:both\"></div> <div class=\"section-review-interaction-bar\" jsan=\"7.section-review-interaction-bar,t-6WsgiFzJjBI\" jstcache=\"998\"> <button jstcache=\"1055\" style=\"display:none\"></button> <button aria-label=\" seon-ah Jang님의 리뷰가 유용했다고 표시해 주세요. \" aria-pressed=\"false\" class=\"section-review-interaction-button\" data-review-id=\"ChdDSUhNMG9nS0VJQ0FnSUQwcE1TU3h3RRABGhZzY095YWNHbHJzUTdCZ3lMTVM5VVRB\" jsaction=\"pane.review.toggleThumbsUp;keydown:pane.review.toggleThumbsUp\" jsan=\"7.section-review-interaction-button,0.aria-pressed,0.data-review-id,0.ved,0.aria-label,0.vet,22.jsaction,t-i2tdRzS97_4\" jstcache=\"1056\" ved=\"1i:2,t:25807,e:1,p:0DNmXoD6Nsfm-Aak0q7QCw:107\" vet=\"25807\"> <span class=\"section-review-thumbs-up-gm2 section-review-interaction-icon section-review-interaction-icon-inactive\" jsan=\"7.section-review-thumbs-up-gm2,7.section-review-interaction-icon,7.section-review-interaction-icon-inactive\" jstcache=\"1062\"></span> <span class=\"section-review-interactions-label\" jstcache=\"1063\"><span jstcache=\"1064\">좋아요</span><span jstcache=\"1065\" style=\"display:none\"></span></span> </button> <button class=\"section-review-interaction-button\" data-review-id=\"ChdDSUhNMG9nS0VJQ0FnSUQwcE1TU3h3RRABGhZzY095YWNHbHJzUTdCZ3lMTVM5VVRB\" jsaction=\"pane.review.share;keydown:pane.review.share\" jsan=\"7.section-review-interaction-button,0.data-review-id,0.vet,22.jsaction,t-xgS4YbLs0as\" jstcache=\"1057\" vet=\"32949\"> <span class=\"section-review-share-gm2 section-review-interaction-icon section-review-interaction-icon-inactive\" jsan=\"7.section-review-share-gm2,7.section-review-interaction-icon,7.section-review-interaction-icon-inactive\" jstcache=\"1067\"> </span> <span class=\"section-review-interactions-label\">공유</span> </button> </div> <div jstcache=\"999\" style=\"display:none\"></div> </div> </div>,\n",
       " <div class=\"section-review-content\" jsan=\"7.section-review-content\" jstcache=\"977\"> <div jstcache=\"978\"> <a aria-label=\"Yong_hoon Choi 사진\" class=\"section-review-link\" data-redirect=\"1,AOvVaw3v7xR4-GdvQvICkUOYncMX,,0ahUKEwjRyd6jsI3oAhXKFIgKHeswDQYQ4h4IowEoADAA,,\" href=\"https://www.google.com/maps/contrib/106990139324763960482?hl=ko-KR\" jsaction=\"log.outbound;clickmod:log.outbound;contextmenu:log.outbound_contextmenu\" jsan=\"7.section-review-link,0.data-redirect,8.href,5.background-image,0.ved,0.aria-label,0.target,22.jsaction,t-ulS6GVkCn2o\" jstcache=\"1126\" style=\"background-image:url(https://lh5.googleusercontent.com/-p8c3w6YjQTI/AAAAAAAAAAI/AAAAAAAAAAA/tn7UQcEGSMo/w45-h45-p-rp-mo-br100/photo.jpg)\" target=\"_blank\" ved=\"0ahUKEwiInOCjsI3oAhXKFIgKHeswDQYQ4h4IYygA\"> <span jstcache=\"1131\" style=\"display:none\"></span> </a> <span alt=\" 사진\" jsan=\"0.alt\" jstcache=\"1127\" style=\"display:none\"> </span> </div> <div class=\"section-review-line section-review-line-with-indent\" jsan=\"7.section-review-line,7.section-review-line-with-indent\" jstcache=\"979\"> <div style=\"position:relative\"> <div class=\"section-review-titles section-review-titles-with-menu\" jsan=\"7.section-review-titles,7.section-review-titles-with-menu,t-_FLNW9QkTD0\" jstcache=\"980\"> <a data-redirect=\"1,AOvVaw3v7xR4-GdvQvICkUOYncMX,,0ahUKEwjRyd6jsI3oAhXKFIgKHeswDQYQ4h4IowEoADAA,,\" href=\"https://www.google.com/maps/contrib/106990139324763960482?hl=ko-KR\" jsaction=\"log.outbound;clickmod:log.outbound;contextmenu:log.outbound_contextmenu\" jsan=\"0.data-redirect,8.href,0.ved,0.target,22.jsaction,t-tFSr5es4BxY\" jstcache=\"1133\" target=\"_blank\" ved=\"0ahUKEwiInOCjsI3oAhXKFIgKHeswDQYQ4h4IYygA\"> <div class=\"section-review-title\" jsan=\"7.section-review-title,t-nj2V4y-RWyo\" jstcache=\"1136\"> <span jstcache=\"1139\">Yong_hoon Choi</span> </div> <div class=\"section-review-subtitle\" jsan=\"7.section-review-subtitle,t-AmpbsS9OL2U\" jstcache=\"1137\"> <span jstcache=\"1141\">지역 가이드</span> <span jstcache=\"1142\">・리뷰 35개</span> </div> </a> <div jstcache=\"1134\" style=\"display:none\"></div> </div> <button aria-label=\"리뷰 액션\" class=\"section-review-action-menu\" data-review-id=\"ChZDSUhNMG9nS0VJQ0FnSUMwM3JiTEhBEAEaFmg0ZzFncEs2Z1NnM282SVN6a01YcUE\" data-tooltip=\"리뷰 액션\" jsaction=\"pane.review.actionMenu;keydown:pane.review.actionMenu;focus:pane.focusTooltip;blur:pane.blurTooltip\" jsan=\"7.section-review-action-menu,0.data-review-id,0.ved,0.aria-label,0.data-tooltip,0.vet,22.jsaction,t-DjGGGQWZC8c\" jstcache=\"981\" ved=\"1i:3,t:14326,e:2,p:0DNmXoD6Nsfm-Aak0q7QCw:108\" vet=\"14326\"> <div class=\"section-review-more-icon\"> </div> </button> </div> </div> <div class=\"section-review-line\" jstcache=\"982\"> <div class=\"section-review-metadata section-review-metadata-with-note\" jsan=\"7.section-review-metadata,7.section-review-metadata-with-note\" jstcache=\"986\"> <span jstcache=\"987\" style=\"display:none\"></span> <span aria-label=\" 별표 4개 \" class=\"section-review-stars\" jsan=\"7.section-review-stars,0.aria-label,0.role,t-1xcf3_7ROhA\" jstcache=\"988\" role=\"img\"> <span class=\"section-review-star section-review-star-active\" jsan=\"7.section-review-star,7.section-review-star-active\" jsinstance=\"0\" jstcache=\"1027\"></span><span class=\"section-review-star section-review-star-active\" jsan=\"7.section-review-star,7.section-review-star-active\" jsinstance=\"1\" jstcache=\"1027\"></span><span class=\"section-review-star section-review-star-active\" jsan=\"7.section-review-star,7.section-review-star-active\" jsinstance=\"2\" jstcache=\"1027\"></span><span class=\"section-review-star section-review-star-active\" jsan=\"7.section-review-star,7.section-review-star-active\" jsinstance=\"3\" jstcache=\"1027\"></span><span class=\"section-review-star\" jsan=\"7.section-review-star\" jsinstance=\"*4\" jstcache=\"1027\"></span> </span> <span class=\"section-review-publish-date\" jsan=\"t-72g3O_JHSEg,7.section-review-publish-date\" jstcache=\"989\">5달 전</span> </div> <div class=\"section-review-review-content\" jsinstance=\"*0\" jstcache=\"990\"> <span jsan=\"t-Q4-IM6ddV_o,5.display\" jstcache=\"991\" style=\"display:none\"></span> <span class=\"section-review-text\" jsan=\"7.section-review-text\" jstcache=\"992\">샐러드바가 가성비대비 좋더나구요 쫌 추천</span> </div> <jsl jstcache=\"993\" style=\"display:none\"></jsl> <div jstcache=\"994\" style=\"display:none\"></div> <span jstcache=\"995\" style=\"display:none\"></span> <div jstcache=\"996\" style=\"display:none\"></div> <div jstcache=\"997\" style=\"display:none\"></div> <div style=\"clear:both\"></div> <div class=\"section-review-interaction-bar\" jsan=\"7.section-review-interaction-bar,t-6WsgiFzJjBI\" jstcache=\"998\"> <button jstcache=\"1055\" style=\"display:none\"></button> <button aria-label=\" Yong_hoon Choi님의 리뷰가 유용했다고 표시해 주세요. \" aria-pressed=\"false\" class=\"section-review-interaction-button\" data-review-id=\"ChZDSUhNMG9nS0VJQ0FnSUMwM3JiTEhBEAEaFmg0ZzFncEs2Z1NnM282SVN6a01YcUE\" jsaction=\"pane.review.toggleThumbsUp;keydown:pane.review.toggleThumbsUp\" jsan=\"7.section-review-interaction-button,0.aria-pressed,0.data-review-id,0.ved,0.aria-label,0.vet,22.jsaction,t-i2tdRzS97_4\" jstcache=\"1056\" ved=\"1i:2,t:25807,e:1,p:0DNmXoD6Nsfm-Aak0q7QCw:108\" vet=\"25807\"> <span class=\"section-review-thumbs-up-gm2 section-review-interaction-icon section-review-interaction-icon-inactive\" jsan=\"7.section-review-thumbs-up-gm2,7.section-review-interaction-icon,7.section-review-interaction-icon-inactive\" jstcache=\"1062\"></span> <span class=\"section-review-interactions-label\" jstcache=\"1063\"><span jstcache=\"1064\">좋아요</span><span jstcache=\"1065\" style=\"display:none\"></span></span> </button> <button class=\"section-review-interaction-button\" data-review-id=\"ChZDSUhNMG9nS0VJQ0FnSUMwM3JiTEhBEAEaFmg0ZzFncEs2Z1NnM282SVN6a01YcUE\" jsaction=\"pane.review.share;keydown:pane.review.share\" jsan=\"7.section-review-interaction-button,0.data-review-id,0.vet,22.jsaction,t-xgS4YbLs0as\" jstcache=\"1057\" vet=\"32949\"> <span class=\"section-review-share-gm2 section-review-interaction-icon section-review-interaction-icon-inactive\" jsan=\"7.section-review-share-gm2,7.section-review-interaction-icon,7.section-review-interaction-icon-inactive\" jstcache=\"1067\"> </span> <span class=\"section-review-interactions-label\">공유</span> </button> </div> <div class=\"section-review-owner-response\" jsan=\"7.section-review-owner-response,t-SyPpK9IYzx8\" jstcache=\"999\"> <div class=\"section-review-owner-response-header\"> <span class=\"section-review-owner-response-title\">업체 대표 응답</span> <span class=\"section-review-owner-response-subtitle\" jsan=\"7.section-review-owner-response-subtitle\" jstcache=\"1094\">5달 전</span> </div> <div class=\"section-review-text\" jsan=\"7.section-review-text\" jstcache=\"1095\">신선한 채소에 종류많은 품격있는 음식</div> <div jstcache=\"1096\" style=\"display:none\"></div> </div> </div> </div>,\n",
       " <div class=\"section-review-content\" jsan=\"7.section-review-content\" jstcache=\"977\"> <div jstcache=\"978\"> <a aria-label=\"junhee kim 사진\" class=\"section-review-link\" data-redirect=\"1,AOvVaw280RvQsiEJk08r5K8S_sAu,,0ahUKEwjRyd6jsI3oAhXKFIgKHeswDQYQ4h4IpgEoADAA,,\" href=\"https://www.google.com/maps/contrib/111223676957862979414?hl=ko-KR\" jsaction=\"log.outbound;clickmod:log.outbound;contextmenu:log.outbound_contextmenu\" jsan=\"7.section-review-link,0.data-redirect,8.href,5.background-image,0.ved,0.aria-label,0.target,22.jsaction,t-ulS6GVkCn2o\" jstcache=\"1126\" style=\"background-image:url(https://lh3.googleusercontent.com/-Ire-Ti35LNc/AAAAAAAAAAI/AAAAAAAAAAA/-OacslZcecg/w45-h45-p-rp-mo-br100/photo.jpg)\" target=\"_blank\" ved=\"0ahUKEwiInOCjsI3oAhXKFIgKHeswDQYQ4h4IZigA\"> <span jstcache=\"1131\" style=\"display:none\"></span> </a> <span alt=\" 사진\" jsan=\"0.alt\" jstcache=\"1127\" style=\"display:none\"> </span> </div> <div class=\"section-review-line section-review-line-with-indent\" jsan=\"7.section-review-line,7.section-review-line-with-indent\" jstcache=\"979\"> <div style=\"position:relative\"> <div class=\"section-review-titles section-review-titles-with-menu\" jsan=\"7.section-review-titles,7.section-review-titles-with-menu,t-_FLNW9QkTD0\" jstcache=\"980\"> <a data-redirect=\"1,AOvVaw280RvQsiEJk08r5K8S_sAu,,0ahUKEwjRyd6jsI3oAhXKFIgKHeswDQYQ4h4IpgEoADAA,,\" href=\"https://www.google.com/maps/contrib/111223676957862979414?hl=ko-KR\" jsaction=\"log.outbound;clickmod:log.outbound;contextmenu:log.outbound_contextmenu\" jsan=\"0.data-redirect,8.href,0.ved,0.target,22.jsaction,t-tFSr5es4BxY\" jstcache=\"1133\" target=\"_blank\" ved=\"0ahUKEwiInOCjsI3oAhXKFIgKHeswDQYQ4h4IZigA\"> <div class=\"section-review-title\" jsan=\"7.section-review-title,t-nj2V4y-RWyo\" jstcache=\"1136\"> <span jstcache=\"1139\">junhee kim</span> </div> <div class=\"section-review-subtitle\" jsan=\"7.section-review-subtitle,t-AmpbsS9OL2U\" jstcache=\"1137\"> <span jstcache=\"1141\">지역 가이드</span> <span jstcache=\"1142\">・리뷰 105개</span> </div> </a> <div jstcache=\"1134\" style=\"display:none\"></div> </div> <button aria-label=\"리뷰 액션\" class=\"section-review-action-menu\" data-review-id=\"ChdDSUhNMG9nS0VJQ0FnSUMwNTYtWjR3RRABGhZLSG1yYTczXzVSb1AtQ3laczNPLUtB\" data-tooltip=\"리뷰 액션\" jsaction=\"pane.review.actionMenu;keydown:pane.review.actionMenu;focus:pane.focusTooltip;blur:pane.blurTooltip\" jsan=\"7.section-review-action-menu,0.data-review-id,0.ved,0.aria-label,0.data-tooltip,0.vet,22.jsaction,t-DjGGGQWZC8c\" jstcache=\"981\" ved=\"1i:3,t:14326,e:2,p:0DNmXoD6Nsfm-Aak0q7QCw:109\" vet=\"14326\"> <div class=\"section-review-more-icon\"> </div> </button> </div> </div> <div class=\"section-review-line\" jstcache=\"982\"> <div class=\"section-review-metadata section-review-metadata-with-note\" jsan=\"7.section-review-metadata,7.section-review-metadata-with-note\" jstcache=\"986\"> <span jstcache=\"987\" style=\"display:none\"></span> <span aria-label=\" 별표 5개 \" class=\"section-review-stars\" jsan=\"7.section-review-stars,0.aria-label,0.role,t-1xcf3_7ROhA\" jstcache=\"988\" role=\"img\"> <span class=\"section-review-star section-review-star-active\" jsan=\"7.section-review-star,7.section-review-star-active\" jsinstance=\"0\" jstcache=\"1027\"></span><span class=\"section-review-star section-review-star-active\" jsan=\"7.section-review-star,7.section-review-star-active\" jsinstance=\"1\" jstcache=\"1027\"></span><span class=\"section-review-star section-review-star-active\" jsan=\"7.section-review-star,7.section-review-star-active\" jsinstance=\"2\" jstcache=\"1027\"></span><span class=\"section-review-star section-review-star-active\" jsan=\"7.section-review-star,7.section-review-star-active\" jsinstance=\"3\" jstcache=\"1027\"></span><span class=\"section-review-star section-review-star-active\" jsan=\"7.section-review-star,7.section-review-star-active\" jsinstance=\"*4\" jstcache=\"1027\"></span> </span> <span class=\"section-review-publish-date\" jsan=\"t-72g3O_JHSEg,7.section-review-publish-date\" jstcache=\"989\">4달 전</span> </div> <div class=\"section-review-review-content\" jsinstance=\"*0\" jstcache=\"990\"> <span jsan=\"t-Q4-IM6ddV_o,5.display\" jstcache=\"991\" style=\"display:none\"></span> <span class=\"section-review-text\" jsan=\"7.section-review-text\" jstcache=\"992\">아기 데리고 가기.좋아요</span> </div> <jsl jstcache=\"993\" style=\"display:none\"></jsl> <div jstcache=\"994\" style=\"display:none\"></div> <span jstcache=\"995\" style=\"display:none\"></span> <div jstcache=\"996\" style=\"display:none\"></div> <div jstcache=\"997\" style=\"display:none\"></div> <div style=\"clear:both\"></div> <div class=\"section-review-interaction-bar\" jsan=\"7.section-review-interaction-bar,t-6WsgiFzJjBI\" jstcache=\"998\"> <button jstcache=\"1055\" style=\"display:none\"></button> <button aria-label=\" junhee kim님의 리뷰가 유용했다고 표시해 주세요. \" aria-pressed=\"false\" class=\"section-review-interaction-button\" data-review-id=\"ChdDSUhNMG9nS0VJQ0FnSUMwNTYtWjR3RRABGhZLSG1yYTczXzVSb1AtQ3laczNPLUtB\" jsaction=\"pane.review.toggleThumbsUp;keydown:pane.review.toggleThumbsUp\" jsan=\"7.section-review-interaction-button,0.aria-pressed,0.data-review-id,0.ved,0.aria-label,0.vet,22.jsaction,t-i2tdRzS97_4\" jstcache=\"1056\" ved=\"1i:2,t:25807,e:1,p:0DNmXoD6Nsfm-Aak0q7QCw:109\" vet=\"25807\"> <span class=\"section-review-thumbs-up-gm2 section-review-interaction-icon section-review-interaction-icon-inactive\" jsan=\"7.section-review-thumbs-up-gm2,7.section-review-interaction-icon,7.section-review-interaction-icon-inactive\" jstcache=\"1062\"></span> <span class=\"section-review-interactions-label\" jstcache=\"1063\"><span jstcache=\"1064\">좋아요</span><span jstcache=\"1065\" style=\"display:none\"></span></span> </button> <button class=\"section-review-interaction-button\" data-review-id=\"ChdDSUhNMG9nS0VJQ0FnSUMwNTYtWjR3RRABGhZLSG1yYTczXzVSb1AtQ3laczNPLUtB\" jsaction=\"pane.review.share;keydown:pane.review.share\" jsan=\"7.section-review-interaction-button,0.data-review-id,0.vet,22.jsaction,t-xgS4YbLs0as\" jstcache=\"1057\" vet=\"32949\"> <span class=\"section-review-share-gm2 section-review-interaction-icon section-review-interaction-icon-inactive\" jsan=\"7.section-review-share-gm2,7.section-review-interaction-icon,7.section-review-interaction-icon-inactive\" jstcache=\"1067\"> </span> <span class=\"section-review-interactions-label\">공유</span> </button> </div> <div jstcache=\"999\" style=\"display:none\"></div> </div> </div>,\n",
       " <div class=\"section-review-content\" jsan=\"7.section-review-content\" jstcache=\"977\"> <div jstcache=\"978\"> <a aria-label=\"James Kim 사진\" class=\"section-review-link\" data-redirect=\"1,AOvVaw3OgkFtrNRlNC0Jxq-DuS3Q,,0ahUKEwjRyd6jsI3oAhXKFIgKHeswDQYQ4h4IqQEoADAA,,\" href=\"https://www.google.com/maps/contrib/100269138117740549986?hl=ko-KR\" jsaction=\"log.outbound;clickmod:log.outbound;contextmenu:log.outbound_contextmenu\" jsan=\"7.section-review-link,0.data-redirect,8.href,5.background-image,0.ved,0.aria-label,0.target,22.jsaction,t-ulS6GVkCn2o\" jstcache=\"1126\" style=\"background-image:url(https://lh3.googleusercontent.com/-zLtOv96Uag0/AAAAAAAAAAI/AAAAAAAAAAA/U7HWhK3oNvc/w45-h45-p-rp-mo-br100/photo.jpg)\" target=\"_blank\" ved=\"0ahUKEwiInOCjsI3oAhXKFIgKHeswDQYQ4h4IaSgA\"> <span jstcache=\"1131\" style=\"display:none\"></span> </a> <span alt=\" 사진\" jsan=\"0.alt\" jstcache=\"1127\" style=\"display:none\"> </span> </div> <div class=\"section-review-line section-review-line-with-indent\" jsan=\"7.section-review-line,7.section-review-line-with-indent\" jstcache=\"979\"> <div style=\"position:relative\"> <div class=\"section-review-titles section-review-titles-with-menu\" jsan=\"7.section-review-titles,7.section-review-titles-with-menu,t-_FLNW9QkTD0\" jstcache=\"980\"> <a data-redirect=\"1,AOvVaw3OgkFtrNRlNC0Jxq-DuS3Q,,0ahUKEwjRyd6jsI3oAhXKFIgKHeswDQYQ4h4IqQEoADAA,,\" href=\"https://www.google.com/maps/contrib/100269138117740549986?hl=ko-KR\" jsaction=\"log.outbound;clickmod:log.outbound;contextmenu:log.outbound_contextmenu\" jsan=\"0.data-redirect,8.href,0.ved,0.target,22.jsaction,t-tFSr5es4BxY\" jstcache=\"1133\" target=\"_blank\" ved=\"0ahUKEwiInOCjsI3oAhXKFIgKHeswDQYQ4h4IaSgA\"> <div class=\"section-review-title\" jsan=\"7.section-review-title,t-nj2V4y-RWyo\" jstcache=\"1136\"> <span jstcache=\"1139\">James Kim</span> </div> <div class=\"section-review-subtitle\" jsan=\"7.section-review-subtitle,t-AmpbsS9OL2U\" jstcache=\"1137\"> <span jstcache=\"1141\" style=\"display:none\">지역 가이드</span> <span jstcache=\"1142\">리뷰 1개</span> </div> </a> <div jstcache=\"1134\" style=\"display:none\"></div> </div> <button aria-label=\"리뷰 액션\" class=\"section-review-action-menu\" data-review-id=\"ChdDSUhNMG9nS0VJQ0FnSURvNnRQbzZRRRABGhZvWExraDNMTHFCWEJlOWk5WmtqZmZ3\" data-tooltip=\"리뷰 액션\" jsaction=\"pane.review.actionMenu;keydown:pane.review.actionMenu;focus:pane.focusTooltip;blur:pane.blurTooltip\" jsan=\"7.section-review-action-menu,0.data-review-id,0.ved,0.aria-label,0.data-tooltip,0.vet,22.jsaction,t-DjGGGQWZC8c\" jstcache=\"981\" ved=\"1i:3,t:14326,e:2,p:0DNmXoD6Nsfm-Aak0q7QCw:110\" vet=\"14326\"> <div class=\"section-review-more-icon\"> </div> </button> </div> </div> <div class=\"section-review-line\" jstcache=\"982\"> <div class=\"section-review-metadata section-review-metadata-with-note\" jsan=\"7.section-review-metadata,7.section-review-metadata-with-note\" jstcache=\"986\"> <span jstcache=\"987\" style=\"display:none\"></span> <span aria-label=\" 별표 3개 \" class=\"section-review-stars\" jsan=\"7.section-review-stars,0.aria-label,0.role,t-1xcf3_7ROhA\" jstcache=\"988\" role=\"img\"> <span class=\"section-review-star section-review-star-active\" jsan=\"7.section-review-star,7.section-review-star-active\" jsinstance=\"0\" jstcache=\"1027\"></span><span class=\"section-review-star section-review-star-active\" jsan=\"7.section-review-star,7.section-review-star-active\" jsinstance=\"1\" jstcache=\"1027\"></span><span class=\"section-review-star section-review-star-active\" jsan=\"7.section-review-star,7.section-review-star-active\" jsinstance=\"2\" jstcache=\"1027\"></span><span class=\"section-review-star\" jsan=\"7.section-review-star\" jsinstance=\"3\" jstcache=\"1027\"></span><span class=\"section-review-star\" jsan=\"7.section-review-star\" jsinstance=\"*4\" jstcache=\"1027\"></span> </span> <span class=\"section-review-publish-date\" jsan=\"t-72g3O_JHSEg,7.section-review-publish-date\" jstcache=\"989\">11달 전</span> </div> <div class=\"section-review-review-content\" jsinstance=\"*0\" jstcache=\"990\"> <span jsan=\"t-Q4-IM6ddV_o,5.display\" jstcache=\"991\" style=\"display:none\"></span> <span class=\"section-review-text\" jsan=\"7.section-review-text\" jstcache=\"992\">음식도 맛있고, 장소도 좋습니다!\n",
       " 그런데, 국수가 간이 너무 쎄서 짭니다..</span> </div> <jsl jstcache=\"993\" style=\"display:none\"></jsl> <div jstcache=\"994\" style=\"display:none\"></div> <span jstcache=\"995\" style=\"display:none\"></span> <div jstcache=\"996\" style=\"display:none\"></div> <div jstcache=\"997\" style=\"display:none\"></div> <div style=\"clear:both\"></div> <div class=\"section-review-interaction-bar\" jsan=\"7.section-review-interaction-bar,t-6WsgiFzJjBI\" jstcache=\"998\"> <button jstcache=\"1055\" style=\"display:none\"></button> <button aria-label=\" 사용자 1명이 James Kim님의 리뷰가 유용하다고 평가했습니다. 리뷰가 유용했다고 표시해 주세요. \" aria-pressed=\"false\" class=\"section-review-interaction-button\" data-review-id=\"ChdDSUhNMG9nS0VJQ0FnSURvNnRQbzZRRRABGhZvWExraDNMTHFCWEJlOWk5WmtqZmZ3\" jsaction=\"pane.review.toggleThumbsUp;keydown:pane.review.toggleThumbsUp\" jsan=\"7.section-review-interaction-button,0.aria-pressed,0.data-review-id,0.ved,0.aria-label,0.vet,22.jsaction,t-i2tdRzS97_4\" jstcache=\"1056\" ved=\"1i:2,t:25807,e:1,p:0DNmXoD6Nsfm-Aak0q7QCw:110\" vet=\"25807\"> <span class=\"section-review-thumbs-up-gm2 section-review-interaction-icon section-review-interaction-icon-inactive\" jsan=\"7.section-review-thumbs-up-gm2,7.section-review-interaction-icon,7.section-review-interaction-icon-inactive\" jstcache=\"1062\"></span> <span class=\"section-review-interactions-label\" jstcache=\"1063\"><span class=\"section-review-thumbs-up-like-hidden\" jsan=\"7.section-review-thumbs-up-like-hidden\" jstcache=\"1064\">좋아요</span><span class=\"section-review-thumbs-up-count\" jsan=\"7.section-review-thumbs-up-count\" jstcache=\"1065\">1</span></span> </button> <button class=\"section-review-interaction-button\" data-review-id=\"ChdDSUhNMG9nS0VJQ0FnSURvNnRQbzZRRRABGhZvWExraDNMTHFCWEJlOWk5WmtqZmZ3\" jsaction=\"pane.review.share;keydown:pane.review.share\" jsan=\"7.section-review-interaction-button,0.data-review-id,0.vet,22.jsaction,t-xgS4YbLs0as\" jstcache=\"1057\" vet=\"32949\"> <span class=\"section-review-share-gm2 section-review-interaction-icon section-review-interaction-icon-inactive\" jsan=\"7.section-review-share-gm2,7.section-review-interaction-icon,7.section-review-interaction-icon-inactive\" jstcache=\"1067\"> </span> <span class=\"section-review-interactions-label\">공유</span> </button> </div> <div jstcache=\"999\" style=\"display:none\"></div> </div> </div>]"
      ]
     },
     "execution_count": 389,
     "metadata": {},
     "output_type": "execute_result"
    }
   ],
   "source": [
    "total_review =soup.find_all('div',attrs = {'jstcache': \"977\"} )\n",
    "total_review"
   ]
  },
  {
   "cell_type": "code",
   "execution_count": 66,
   "metadata": {
    "ExecuteTime": {
     "end_time": "2020-03-09T09:57:55.474030Z",
     "start_time": "2020-03-09T09:57:55.466033Z"
    }
   },
   "outputs": [
    {
     "name": "stdout",
     "output_type": "stream",
     "text": [
      "  좀 비싼  편이지만...의사 선생님의 진심이 느껴지는 병원... \n",
      "  -청담24시동물병원 \n",
      "['  좀 비싼  편이지만...의사 선생님의 진심이 느껴지는 병원... ', '  -청담24시동물병원 ']\n"
     ]
    }
   ],
   "source": [
    "review=[]\n",
    "for i in total_review:\n",
    "    print(i.text)\n",
    "    review.append(i.text)\n",
    "print(review)"
   ]
  },
  {
   "cell_type": "markdown",
   "metadata": {},
   "source": [
    "#### 개별 별점"
   ]
  },
  {
   "cell_type": "code",
   "execution_count": 74,
   "metadata": {
    "ExecuteTime": {
     "end_time": "2020-03-09T10:14:03.045031Z",
     "start_time": "2020-03-09T10:14:03.025030Z"
    }
   },
   "outputs": [
    {
     "data": {
      "text/plain": [
       "['__bool__',\n",
       " '__call__',\n",
       " '__class__',\n",
       " '__contains__',\n",
       " '__copy__',\n",
       " '__delattr__',\n",
       " '__delitem__',\n",
       " '__dict__',\n",
       " '__dir__',\n",
       " '__doc__',\n",
       " '__eq__',\n",
       " '__format__',\n",
       " '__ge__',\n",
       " '__getattr__',\n",
       " '__getattribute__',\n",
       " '__getitem__',\n",
       " '__gt__',\n",
       " '__hash__',\n",
       " '__init__',\n",
       " '__init_subclass__',\n",
       " '__iter__',\n",
       " '__le__',\n",
       " '__len__',\n",
       " '__lt__',\n",
       " '__module__',\n",
       " '__ne__',\n",
       " '__new__',\n",
       " '__reduce__',\n",
       " '__reduce_ex__',\n",
       " '__repr__',\n",
       " '__setattr__',\n",
       " '__setitem__',\n",
       " '__sizeof__',\n",
       " '__str__',\n",
       " '__subclasshook__',\n",
       " '__unicode__',\n",
       " '__weakref__',\n",
       " '_all_strings',\n",
       " '_find_all',\n",
       " '_find_one',\n",
       " '_is_xml',\n",
       " '_lastRecursiveChild',\n",
       " '_last_descendant',\n",
       " '_should_pretty_print',\n",
       " 'append',\n",
       " 'attrs',\n",
       " 'can_be_empty_element',\n",
       " 'cdata_list_attributes',\n",
       " 'childGenerator',\n",
       " 'children',\n",
       " 'clear',\n",
       " 'contents',\n",
       " 'decode',\n",
       " 'decode_contents',\n",
       " 'decompose',\n",
       " 'descendants',\n",
       " 'encode',\n",
       " 'encode_contents',\n",
       " 'extend',\n",
       " 'extract',\n",
       " 'fetchNextSiblings',\n",
       " 'fetchParents',\n",
       " 'fetchPrevious',\n",
       " 'fetchPreviousSiblings',\n",
       " 'find',\n",
       " 'findAll',\n",
       " 'findAllNext',\n",
       " 'findAllPrevious',\n",
       " 'findChild',\n",
       " 'findChildren',\n",
       " 'findNext',\n",
       " 'findNextSibling',\n",
       " 'findNextSiblings',\n",
       " 'findParent',\n",
       " 'findParents',\n",
       " 'findPrevious',\n",
       " 'findPreviousSibling',\n",
       " 'findPreviousSiblings',\n",
       " 'find_all',\n",
       " 'find_all_next',\n",
       " 'find_all_previous',\n",
       " 'find_next',\n",
       " 'find_next_sibling',\n",
       " 'find_next_siblings',\n",
       " 'find_parent',\n",
       " 'find_parents',\n",
       " 'find_previous',\n",
       " 'find_previous_sibling',\n",
       " 'find_previous_siblings',\n",
       " 'format_string',\n",
       " 'formatter_for_name',\n",
       " 'get',\n",
       " 'getText',\n",
       " 'get_attribute_list',\n",
       " 'get_text',\n",
       " 'has_attr',\n",
       " 'has_key',\n",
       " 'hidden',\n",
       " 'index',\n",
       " 'insert',\n",
       " 'insert_after',\n",
       " 'insert_before',\n",
       " 'isSelfClosing',\n",
       " 'is_empty_element',\n",
       " 'known_xml',\n",
       " 'name',\n",
       " 'namespace',\n",
       " 'next',\n",
       " 'nextGenerator',\n",
       " 'nextSibling',\n",
       " 'nextSiblingGenerator',\n",
       " 'next_element',\n",
       " 'next_elements',\n",
       " 'next_sibling',\n",
       " 'next_siblings',\n",
       " 'parent',\n",
       " 'parentGenerator',\n",
       " 'parents',\n",
       " 'parserClass',\n",
       " 'parser_class',\n",
       " 'prefix',\n",
       " 'preserve_whitespace_tags',\n",
       " 'prettify',\n",
       " 'previous',\n",
       " 'previousGenerator',\n",
       " 'previousSibling',\n",
       " 'previousSiblingGenerator',\n",
       " 'previous_element',\n",
       " 'previous_elements',\n",
       " 'previous_sibling',\n",
       " 'previous_siblings',\n",
       " 'recursiveChildGenerator',\n",
       " 'renderContents',\n",
       " 'replaceWith',\n",
       " 'replaceWithChildren',\n",
       " 'replace_with',\n",
       " 'replace_with_children',\n",
       " 'select',\n",
       " 'select_one',\n",
       " 'setup',\n",
       " 'smooth',\n",
       " 'sourceline',\n",
       " 'sourcepos',\n",
       " 'string',\n",
       " 'strings',\n",
       " 'stripped_strings',\n",
       " 'text',\n",
       " 'unwrap',\n",
       " 'wrap']"
      ]
     },
     "execution_count": 74,
     "metadata": {},
     "output_type": "execute_result"
    }
   ],
   "source": [
    "score =soup.find_all('span',attrs = {'jstcache': \"975\", 'role': 'img'} )\n",
    "dir(score[0])"
   ]
  },
  {
   "cell_type": "code",
   "execution_count": 79,
   "metadata": {
    "ExecuteTime": {
     "end_time": "2020-03-09T10:15:56.747033Z",
     "start_time": "2020-03-09T10:15:56.742032Z"
    }
   },
   "outputs": [
    {
     "name": "stdout",
     "output_type": "stream",
     "text": [
      " 별표 4개 \n",
      " 별표 4개 \n"
     ]
    }
   ],
   "source": [
    "for i in score:\n",
    "    print(score[0].attrs['aria-label'])"
   ]
  },
  {
   "cell_type": "markdown",
   "metadata": {
    "ExecuteTime": {
     "end_time": "2020-03-09T10:20:25.858033Z",
     "start_time": "2020-03-09T10:20:25.854036Z"
    }
   },
   "source": [
    "## 1.5. review가 많은 경우(스크롤해야 하는 경우)"
   ]
  },
  {
   "cell_type": "markdown",
   "metadata": {},
   "source": [
    "#### 스크롤 다운\n",
    "- https://stackoverflow.com/questions/20986631/how-can-i-scroll-a-web-page-using-selenium-webdriver-in-python"
   ]
  },
  {
   "cell_type": "code",
   "execution_count": 435,
   "metadata": {
    "ExecuteTime": {
     "end_time": "2020-03-09T12:30:18.302503Z",
     "start_time": "2020-03-09T12:30:18.298498Z"
    }
   },
   "outputs": [],
   "source": [
    "SCROLL_PAUSE_TIME = 2\n"
   ]
  },
  {
   "cell_type": "code",
   "execution_count": 436,
   "metadata": {
    "ExecuteTime": {
     "end_time": "2020-03-09T12:30:21.789498Z",
     "start_time": "2020-03-09T12:30:19.243541Z"
    }
   },
   "outputs": [],
   "source": [
    "while  True:\n",
    "    html = driver.find_element_by_tag_name('html')\n",
    "    text1 = html.text\n",
    "    html.send_keys(Keys.END)\n",
    "    time.sleep(SCROLL_PAUSE_TIME)\n",
    "    \n",
    "    html = driver.find_element_by_tag_name('html')\n",
    "    text2 = html.text\n",
    "\n",
    "    if text1 == text2:\n",
    "        break\n",
    "    else:\n",
    "        continue"
   ]
  },
  {
   "cell_type": "code",
   "execution_count": 437,
   "metadata": {
    "ExecuteTime": {
     "end_time": "2020-03-09T12:30:25.164497Z",
     "start_time": "2020-03-09T12:30:25.024500Z"
    }
   },
   "outputs": [],
   "source": [
    "html = driver.page_source"
   ]
  },
  {
   "cell_type": "markdown",
   "metadata": {},
   "source": [
    "#### bs4로 html parser"
   ]
  },
  {
   "cell_type": "code",
   "execution_count": 438,
   "metadata": {
    "ExecuteTime": {
     "end_time": "2020-03-09T12:30:26.690532Z",
     "start_time": "2020-03-09T12:30:26.621500Z"
    },
    "scrolled": true
   },
   "outputs": [],
   "source": [
    "soup = BeautifulSoup(html, 'html.parser')"
   ]
  },
  {
   "cell_type": "code",
   "execution_count": 439,
   "metadata": {
    "ExecuteTime": {
     "end_time": "2020-03-09T12:30:27.447502Z",
     "start_time": "2020-03-09T12:30:27.432505Z"
    }
   },
   "outputs": [
    {
     "data": {
      "text/plain": [
       "[<div class=\"gm2-display-2\" jsan=\"7.gm2-display-2\" jstcache=\"837\" style='font-family: \"Google Sans Display\", \"Google Sans\", Roboto, \"Noto Sans KR\", Arial, sans-serif;'>3.8</div>]"
      ]
     },
     "execution_count": 439,
     "metadata": {},
     "output_type": "execute_result"
    }
   ],
   "source": [
    "total_score =soup.find_all('div',attrs = {'class': \"gm2-display-2\"} )\n",
    "total_score\n",
    "\n"
   ]
  },
  {
   "cell_type": "code",
   "execution_count": 440,
   "metadata": {
    "ExecuteTime": {
     "end_time": "2020-03-09T12:30:28.158502Z",
     "start_time": "2020-03-09T12:30:28.152498Z"
    }
   },
   "outputs": [
    {
     "data": {
      "text/plain": [
       "'3.8'"
      ]
     },
     "execution_count": 440,
     "metadata": {},
     "output_type": "execute_result"
    }
   ],
   "source": [
    "total_score[0].string"
   ]
  },
  {
   "cell_type": "markdown",
   "metadata": {},
   "source": [
    "#### 개별 리뷰"
   ]
  },
  {
   "cell_type": "code",
   "execution_count": 441,
   "metadata": {
    "ExecuteTime": {
     "end_time": "2020-03-09T12:30:29.381501Z",
     "start_time": "2020-03-09T12:30:29.367502Z"
    }
   },
   "outputs": [
    {
     "name": "stdout",
     "output_type": "stream",
     "text": [
      "3\n"
     ]
    }
   ],
   "source": [
    "total_review =soup.find_all('span',attrs = {'class': \"section-review-text\"} )\n",
    "print(len(total_review))"
   ]
  },
  {
   "cell_type": "code",
   "execution_count": 442,
   "metadata": {
    "ExecuteTime": {
     "end_time": "2020-03-09T12:30:30.499500Z",
     "start_time": "2020-03-09T12:30:30.491498Z"
    }
   },
   "outputs": [
    {
     "name": "stdout",
     "output_type": "stream",
     "text": [
      "0 멕시코 맛. 스테이크앤치킨 퀘사디아, 닭날개 보더윙, 스테이크 샐러드.  약간 맵콤.  상큼. 고소하고ㅠ바삭함.  가격 좋아요. 가족들과 함께.  강추.\n",
      "1 내가 가본 5개의 온더보더 지점 중 가장 친절하고 좋음\n",
      "2 없음\n",
      "2\n"
     ]
    }
   ],
   "source": [
    "review=[]\n",
    "for i, review in enumerate(total_review):\n",
    "    print(i, review.text)\n",
    "    review.append(review.text)\n",
    "print(len(review))"
   ]
  },
  {
   "cell_type": "markdown",
   "metadata": {},
   "source": [
    "#### 개별 별점"
   ]
  },
  {
   "cell_type": "code",
   "execution_count": 443,
   "metadata": {
    "ExecuteTime": {
     "end_time": "2020-03-09T12:30:35.608499Z",
     "start_time": "2020-03-09T12:30:35.598503Z"
    }
   },
   "outputs": [],
   "source": [
    "scores =soup.find_all('span',attrs = {'class': \"section-review-stars\", 'role': 'img'} )\n"
   ]
  },
  {
   "cell_type": "code",
   "execution_count": 445,
   "metadata": {
    "ExecuteTime": {
     "end_time": "2020-03-09T12:31:17.252500Z",
     "start_time": "2020-03-09T12:31:17.246538Z"
    },
    "scrolled": false
   },
   "outputs": [
    {
     "name": "stdout",
     "output_type": "stream",
     "text": [
      " 별표 4개 \n",
      " 별표 5개 \n",
      " 별표 1개 \n",
      "3\n"
     ]
    }
   ],
   "source": [
    "score_list = []\n",
    "for score in scores:\n",
    "    print(score.attrs['aria-label'])\n",
    "    score_list.append(score.attrs['aria-label'])\n",
    "    \n",
    "print(len(score_list))"
   ]
  },
  {
   "cell_type": "code",
   "execution_count": null,
   "metadata": {},
   "outputs": [],
   "source": []
  },
  {
   "cell_type": "code",
   "execution_count": 173,
   "metadata": {
    "ExecuteTime": {
     "end_time": "2020-03-09T10:59:11.651118Z",
     "start_time": "2020-03-09T10:58:35.185116Z"
    }
   },
   "outputs": [],
   "source": [
    "\n",
    "    "
   ]
  },
  {
   "cell_type": "code",
   "execution_count": null,
   "metadata": {},
   "outputs": [],
   "source": []
  }
 ],
 "metadata": {
  "kernelspec": {
   "display_name": "Python 3",
   "language": "python",
   "name": "python3"
  },
  "language_info": {
   "codemirror_mode": {
    "name": "ipython",
    "version": 3
   },
   "file_extension": ".py",
   "mimetype": "text/x-python",
   "name": "python",
   "nbconvert_exporter": "python",
   "pygments_lexer": "ipython3",
   "version": "3.7.6"
  },
  "toc": {
   "base_numbering": 1,
   "nav_menu": {},
   "number_sections": false,
   "sideBar": true,
   "skip_h1_title": false,
   "title_cell": "Table of Contents",
   "title_sidebar": "Contents",
   "toc_cell": false,
   "toc_position": {
    "height": "calc(100% - 180px)",
    "left": "10px",
    "top": "150px",
    "width": "136.432px"
   },
   "toc_section_display": true,
   "toc_window_display": true
  }
 },
 "nbformat": 4,
 "nbformat_minor": 4
}
