{
 "cells": [
  {
   "cell_type": "markdown",
   "metadata": {
    "ExecuteTime": {
     "end_time": "2020-03-10T02:36:05.434110Z",
     "start_time": "2020-03-10T02:36:05.430149Z"
    }
   },
   "source": [
    "# 함수로 만들기"
   ]
  },
  {
   "cell_type": "code",
   "execution_count": 1,
   "metadata": {
    "ExecuteTime": {
     "end_time": "2020-03-19T11:36:36.870219Z",
     "start_time": "2020-03-19T11:36:35.740238Z"
    }
   },
   "outputs": [],
   "source": [
    "from selenium import webdriver\n",
    "from bs4 import BeautifulSoup\n",
    "import time\n",
    "from selenium.webdriver.common.keys import Keys\n",
    "import pandas as pd\n",
    "#from selenium.webdriver.support.ui import WebDriverWait\n",
    "from selenium.webdriver.support.wait import WebDriverWait\n",
    "from selenium.webdriver.support import expected_conditions as EC\n",
    "from selenium.common.exceptions import TimeoutException\n",
    "import numpy as np"
   ]
  },
  {
   "cell_type": "markdown",
   "metadata": {},
   "source": [
    "## 1. chrome 브라우저 열기"
   ]
  },
  {
   "cell_type": "code",
   "execution_count": 2,
   "metadata": {
    "ExecuteTime": {
     "end_time": "2020-03-19T11:36:57.395146Z",
     "start_time": "2020-03-19T11:36:40.057200Z"
    }
   },
   "outputs": [],
   "source": [
    "driver = webdriver.Chrome('chromedriver.exe')\n",
    "\n",
    "driver.get(\"http://www.google.com\")\n",
    "#assert \"Google\" in driver.title\n",
    "\n",
    "\n",
    "time.sleep(2)\n",
    "\n",
    "\n",
    "element = driver.find_element_by_name('q')\n",
    "\n",
    "\n",
    "#element = WebDriverWait(driver, 10).until(lambda x: x.driver.find_element_by_name('q'))\n",
    "        \n",
    "\n",
    "#delay = 10\n",
    "#try:\n",
    "#    element=WebDriverWait(driver, delay).until(EC.presence_of_element_located(driver.find_element_by_name('q')))\n",
    "#except TimeoutException:\n",
    "#    print (\"Loading took too much time!-Try again\")\n",
    "\n",
    "\n",
    "element.clear()\n",
    "element.send_keys('google map')\n",
    "element.submit()\n",
    "\n",
    "\n",
    "#google map site 들어가기\n",
    "element = driver.find_element_by_xpath('//h3[@class=\"LC20lb DKV0Md\"]')\n",
    "element.click()"
   ]
  },
  {
   "cell_type": "markdown",
   "metadata": {},
   "source": [
    "## 2. data crawrling"
   ]
  },
  {
   "cell_type": "code",
   "execution_count": 262,
   "metadata": {
    "ExecuteTime": {
     "end_time": "2020-03-19T13:41:19.562137Z",
     "start_time": "2020-03-19T13:41:19.550136Z"
    }
   },
   "outputs": [],
   "source": [
    "# 여러개의  shop 목록에서 주소로 찾기\n",
    "def find_shop_by_address(select_shop_html, shop_address):\n",
    "    soup = BeautifulSoup(select_shop_html, 'html.parser')\n",
    "    all_address =soup.find_all('span', attrs = {'class': \"section-result-location\"} )\n",
    "    shop_index = 0\n",
    "    shop_select_dict = {}\n",
    "    for i, address in enumerate(all_address):\n",
    "        print(address.text)\n",
    "        gu = shop_address[0] in address.text\n",
    "        dong = shop_address[1] in address.text\n",
    "        bungi = shop_address[2] in address.text\n",
    "        if gu and dong and bungi:\n",
    "            shop_select_dict[str(i+1)] = 'match'\n",
    "        elif gu or dong:\n",
    "            shop_select_dict[str(i+1)] = 'not match'\n",
    "        else:\n",
    "            pass\n",
    "#     print(shop_select_dict)\n",
    "    return shop_select_dict\n"
   ]
  },
  {
   "cell_type": "code",
   "execution_count": 263,
   "metadata": {
    "ExecuteTime": {
     "end_time": "2020-03-19T13:41:20.163714Z",
     "start_time": "2020-03-19T13:41:20.151711Z"
    }
   },
   "outputs": [],
   "source": [
    "# 주소와 total 별점 가져오기\n",
    "def get_totalScore(html,shop_address):\n",
    "    gu = shop_address[0]\n",
    "    dong = shop_address[1] \n",
    "    bungi = shop_address[2]\n",
    "    \n",
    "    soup = BeautifulSoup(html, 'html.parser')\n",
    "\n",
    "    infos =soup.find_all('span',attrs = {'class': \"section-info-text\"} )\n",
    "    \n",
    "    address =infos[0].text\n",
    "#     print(address)\n",
    "\n",
    "    if gu in address and dong in address and bungi in address:\n",
    "        match = 'match'\n",
    "    else:\n",
    "        match = 'not match'\n",
    "\n",
    "    \n",
    "    total_score = soup.find_all('div',attrs = {'class': \"gm2-display-2\"} )\n",
    "\n",
    "    if len(total_score)!=0:\n",
    "        total_score = total_score[0].text\n",
    "    else:\n",
    "        total_score = np.nan\n",
    "    \n",
    "    return address, total_score, match"
   ]
  },
  {
   "cell_type": "code",
   "execution_count": 264,
   "metadata": {
    "ExecuteTime": {
     "end_time": "2020-03-19T13:41:20.875134Z",
     "start_time": "2020-03-19T13:41:20.859129Z"
    }
   },
   "outputs": [],
   "source": [
    "def get_info(html, shop_address):\n",
    "# shop 주소, 총 별점 갖고오기\n",
    "    address, total_score, match =get_totalScore(html,shop_address)\n",
    "    \n",
    "#     print('total_score',total_score)\n",
    "    # 리뷰가 없는 경우\n",
    "    if  np.isnan(total_score):\n",
    "        review_list = np.nan\n",
    "        score_list= np.nan\n",
    "        \n",
    "\n",
    "    # 리뷰가 있는 경우\n",
    "    else:\n",
    "        # 리뷰 text(버튼 )클릭\n",
    "        review_button = driver.find_element_by_xpath('//button[@class=\"jqnFjrOWMVU__button gm2-caption\"]')\n",
    "        review_button.click()\n",
    "\n",
    "        time.sleep(2)\n",
    "\n",
    "        # 스크롤 다운\n",
    "        try:\n",
    "            element = driver.find_element_by_xpath('//span[@class=\"section-review-text\"]')\n",
    "            element.click()\n",
    "\n",
    "        except Exception as err:\n",
    "            print(err)\n",
    "\n",
    "        i = 0\n",
    "        while  True:\n",
    "            i += 1\n",
    "            html = driver.find_element_by_tag_name('html')\n",
    "            time.sleep(SCROLL_PAUSE_TIME)\n",
    "\n",
    "            text1 = html.text\n",
    "            html.send_keys(Keys.END)\n",
    "            time.sleep(SCROLL_PAUSE_TIME)\n",
    "\n",
    "            html = driver.find_element_by_tag_name('html')\n",
    "            text2 = html.text\n",
    "\n",
    "            if text1 == text2:\n",
    "                break\n",
    "            else:\n",
    "                continue\n",
    "\n",
    "        review_html = driver.page_source\n",
    "\n",
    "        review_list, score_list=get_review(review_html)    \n",
    "\n",
    "    return address, total_score, review_list, score_list, match"
   ]
  },
  {
   "cell_type": "code",
   "execution_count": 265,
   "metadata": {
    "ExecuteTime": {
     "end_time": "2020-03-19T13:41:21.556274Z",
     "start_time": "2020-03-19T13:41:21.547294Z"
    }
   },
   "outputs": [],
   "source": [
    "def get_review(html):\n",
    "    soup = BeautifulSoup(html, 'html.parser')\n",
    "    # 개별 리뷰\n",
    "    total_review =soup.find_all('span',attrs = {'class': \"section-review-text\"} )\n",
    "\n",
    "    review_list=[]\n",
    "    for i, review in enumerate(total_review):\n",
    "        review_list.append(review.text)\n",
    "\n",
    "    #### 개별 별점\n",
    "    scores =soup.find_all('span',attrs = {'class': \"section-review-stars\", 'role': 'img'} )\n",
    "\n",
    "    score_list = []\n",
    "    for score in scores:\n",
    "        score_list.append(score.attrs['aria-label'])\n",
    "\n",
    "    return review_list, score_list"
   ]
  },
  {
   "cell_type": "code",
   "execution_count": 266,
   "metadata": {
    "ExecuteTime": {
     "end_time": "2020-03-19T13:41:22.255857Z",
     "start_time": "2020-03-19T13:41:22.235857Z"
    }
   },
   "outputs": [],
   "source": [
    "def srart_crwarling(forpet_hash,shop_name, shop_address):\n",
    "    print(shop_name, shop_address)\n",
    "\n",
    "    # shop 이름 입력\n",
    "    element = driver.find_element_by_xpath('//input[@autofocus=\"autofocus\"]')\n",
    "    element.clear()\n",
    "    \n",
    "    search_word = shop_name + ' ' +shop_address[0]\n",
    "    print(search_word)\n",
    "    element.send_keys(search_word)\n",
    "    element.submit()\n",
    "    \n",
    "    search_button = driver.find_element_by_xpath('//button[@class=\"searchbox-searchbutton\"]')\n",
    "    search_button.click()\n",
    "    \n",
    "    time.sleep(SCROLL_PAUSE_TIME)\n",
    "\n",
    "    # 키워드 입력 후, dict로 인덱스와 match 여부 받아오기\n",
    "    select_shop_html = driver.page_source\n",
    "    shop_select_dict= find_shop_by_address(select_shop_html, shop_address)\n",
    "    \n",
    "    # shoh이 여러개인 경우\n",
    "    if len(shop_select_dict) != 0:\n",
    "        print(f'shop이 {len(shop_select_dict)}개입니다')\n",
    "\n",
    "        for index, match in shop_select_dict.items():\n",
    "            shop_index =  2 * int(index) -1\n",
    "#             print('shop_index', shop_index)\n",
    "            match = match\n",
    "\n",
    "            time.sleep(SCROLL_PAUSE_TIME)\n",
    "\n",
    "            select_shop = driver.find_element_by_xpath(f'//div[@class = \"section-layout section-scrollbox scrollable-y scrollable-show section-layout-flex-vertical\"]/div/div[{shop_index}]/div[1]/div[1]')\n",
    "            \n",
    "            select_shop.click()\n",
    "\n",
    "            time.sleep(SCROLL_PAUSE_TIME)\n",
    "\n",
    "            html = driver.page_source\n",
    "\n",
    "            address, total_score, review_list, score_list, match =get_info(html, shop_address)\n",
    "            print(address, total_score, review_list, score_list, match )\n",
    "            \n",
    "            if match == 'match':\n",
    "                total_table_insert(match_total_table, forpet_hash, shop_name, address, total_score, match)\n",
    "                review_table_insert(match_review_table, forpet_hash, shop_name, review_list, score_list, match)\n",
    "            else:\n",
    "                total_table_insert(not_match_total_table, forpet_hash, shop_name, address, total_score, match)\n",
    "                review_table_insert(not_match_review_table, forpet_hash, shop_name, review_list, score_list, match)\n",
    "\n",
    "              \n",
    "            time.sleep(SCROLL_PAUSE_TIME)\n",
    "            driver.back()  \n",
    "\n",
    "\n",
    "    # shop이 1개 인경우\n",
    "    else:\n",
    "        print('shop이 1개입니다')\n",
    "        html = driver.page_source\n",
    "\n",
    "        address, total_score, review_list, score_list, match =get_info(html, shop_address)\n",
    "\n",
    "        print(address, total_score, review_list, score_list, match )\n",
    "        \n",
    "        if match == 'match':\n",
    "                total_table_insert(match_total_table, forpet_hash, shop_name, address, total_score, match)\n",
    "                review_table_insert(match_review_table, forpet_hash, shop_name, review_list, score_list, match)\n",
    "        else:\n",
    "            total_table_insert(not_match_total_table, forpet_hash, shop_name, address, total_score, match)\n",
    "            review_table_insert(not_match_review_table, forpet_hash, shop_name, review_list, score_list, match)\n",
    "\n",
    "    driver.back()  \n",
    "     \n",
    "#     try:\n",
    "#         back_button = driver.find_element_by_xpath('//button[@class=\"ozj7Vb3wnYq__action-button-clickable\"]')\n",
    "#         back_button.click()\n",
    "#     except:\n",
    "#         pass\n",
    "        \n",
    "    "
   ]
  },
  {
   "cell_type": "markdown",
   "metadata": {},
   "source": [
    "## 3. Dataframe"
   ]
  },
  {
   "cell_type": "markdown",
   "metadata": {
    "ExecuteTime": {
     "end_time": "2020-03-10T09:57:24.769380Z",
     "start_time": "2020-03-10T09:57:24.766382Z"
    }
   },
   "source": [
    "### 3.1 total_table"
   ]
  },
  {
   "cell_type": "code",
   "execution_count": 229,
   "metadata": {
    "ExecuteTime": {
     "end_time": "2020-03-19T13:28:14.665268Z",
     "start_time": "2020-03-19T13:28:14.652379Z"
    }
   },
   "outputs": [
    {
     "data": {
      "text/html": [
       "<div>\n",
       "<style scoped>\n",
       "    .dataframe tbody tr th:only-of-type {\n",
       "        vertical-align: middle;\n",
       "    }\n",
       "\n",
       "    .dataframe tbody tr th {\n",
       "        vertical-align: top;\n",
       "    }\n",
       "\n",
       "    .dataframe thead th {\n",
       "        text-align: right;\n",
       "    }\n",
       "</style>\n",
       "<table border=\"1\" class=\"dataframe\">\n",
       "  <thead>\n",
       "    <tr style=\"text-align: right;\">\n",
       "      <th></th>\n",
       "      <th>forpet_hash</th>\n",
       "      <th>shop_name</th>\n",
       "      <th>shop_address</th>\n",
       "      <th>total_score</th>\n",
       "      <th>match</th>\n",
       "    </tr>\n",
       "  </thead>\n",
       "  <tbody>\n",
       "  </tbody>\n",
       "</table>\n",
       "</div>"
      ],
      "text/plain": [
       "Empty DataFrame\n",
       "Columns: [forpet_hash, shop_name, shop_address, total_score, match]\n",
       "Index: []"
      ]
     },
     "execution_count": 229,
     "metadata": {},
     "output_type": "execute_result"
    }
   ],
   "source": [
    "not_match_total_table= pd.DataFrame(columns = ['forpet_hash', 'shop_name', 'shop_address', 'total_score', 'match'])\n",
    "not_match_total_table"
   ]
  },
  {
   "cell_type": "code",
   "execution_count": 230,
   "metadata": {
    "ExecuteTime": {
     "end_time": "2020-03-19T13:28:15.146096Z",
     "start_time": "2020-03-19T13:28:15.130160Z"
    }
   },
   "outputs": [
    {
     "data": {
      "text/html": [
       "<div>\n",
       "<style scoped>\n",
       "    .dataframe tbody tr th:only-of-type {\n",
       "        vertical-align: middle;\n",
       "    }\n",
       "\n",
       "    .dataframe tbody tr th {\n",
       "        vertical-align: top;\n",
       "    }\n",
       "\n",
       "    .dataframe thead th {\n",
       "        text-align: right;\n",
       "    }\n",
       "</style>\n",
       "<table border=\"1\" class=\"dataframe\">\n",
       "  <thead>\n",
       "    <tr style=\"text-align: right;\">\n",
       "      <th></th>\n",
       "      <th>forpet_hash</th>\n",
       "      <th>shop_name</th>\n",
       "      <th>shop_address</th>\n",
       "      <th>total_score</th>\n",
       "      <th>match</th>\n",
       "    </tr>\n",
       "  </thead>\n",
       "  <tbody>\n",
       "  </tbody>\n",
       "</table>\n",
       "</div>"
      ],
      "text/plain": [
       "Empty DataFrame\n",
       "Columns: [forpet_hash, shop_name, shop_address, total_score, match]\n",
       "Index: []"
      ]
     },
     "execution_count": 230,
     "metadata": {},
     "output_type": "execute_result"
    }
   ],
   "source": [
    "match_total_table= pd.DataFrame(columns = ['forpet_hash', 'shop_name', 'shop_address', 'total_score', 'match'])\n",
    "match_total_table"
   ]
  },
  {
   "cell_type": "code",
   "execution_count": 231,
   "metadata": {
    "ExecuteTime": {
     "end_time": "2020-03-19T13:28:15.584696Z",
     "start_time": "2020-03-19T13:28:15.578691Z"
    }
   },
   "outputs": [],
   "source": [
    "def total_table_insert(total_table, forpet_hash, shop_name, address, total_score, match):\n",
    "    print(len(total_table))\n",
    "    if total_score != None:\n",
    "        total_table.loc[len(total_table)+1] = [forpet_hash, shop_name, address, total_score, match]\n",
    "    else:\n",
    "        total_table.loc[len(total_table)+1] = [forpet_hash, shop_name, address,np.nan, match]\n",
    "    return total_table"
   ]
  },
  {
   "cell_type": "markdown",
   "metadata": {
    "ExecuteTime": {
     "end_time": "2020-03-10T09:58:53.111871Z",
     "start_time": "2020-03-10T09:58:53.107873Z"
    }
   },
   "source": [
    "### 3.2. review table"
   ]
  },
  {
   "cell_type": "code",
   "execution_count": 232,
   "metadata": {
    "ExecuteTime": {
     "end_time": "2020-03-19T13:28:16.538735Z",
     "start_time": "2020-03-19T13:28:16.523630Z"
    }
   },
   "outputs": [
    {
     "data": {
      "text/html": [
       "<div>\n",
       "<style scoped>\n",
       "    .dataframe tbody tr th:only-of-type {\n",
       "        vertical-align: middle;\n",
       "    }\n",
       "\n",
       "    .dataframe tbody tr th {\n",
       "        vertical-align: top;\n",
       "    }\n",
       "\n",
       "    .dataframe thead th {\n",
       "        text-align: right;\n",
       "    }\n",
       "</style>\n",
       "<table border=\"1\" class=\"dataframe\">\n",
       "  <thead>\n",
       "    <tr style=\"text-align: right;\">\n",
       "      <th></th>\n",
       "      <th>forpet_hash</th>\n",
       "      <th>shop_name</th>\n",
       "      <th>shop_address</th>\n",
       "      <th>total_score</th>\n",
       "      <th>match</th>\n",
       "    </tr>\n",
       "  </thead>\n",
       "  <tbody>\n",
       "  </tbody>\n",
       "</table>\n",
       "</div>"
      ],
      "text/plain": [
       "Empty DataFrame\n",
       "Columns: [forpet_hash, shop_name, shop_address, total_score, match]\n",
       "Index: []"
      ]
     },
     "execution_count": 232,
     "metadata": {},
     "output_type": "execute_result"
    }
   ],
   "source": [
    "not_match_review_table= pd.DataFrame(columns = ['forpet_hash', 'num', 'review', 'score', 'match'])\n",
    "not_match_total_table"
   ]
  },
  {
   "cell_type": "code",
   "execution_count": 233,
   "metadata": {
    "ExecuteTime": {
     "end_time": "2020-03-19T13:28:16.907434Z",
     "start_time": "2020-03-19T13:28:16.893397Z"
    }
   },
   "outputs": [
    {
     "data": {
      "text/html": [
       "<div>\n",
       "<style scoped>\n",
       "    .dataframe tbody tr th:only-of-type {\n",
       "        vertical-align: middle;\n",
       "    }\n",
       "\n",
       "    .dataframe tbody tr th {\n",
       "        vertical-align: top;\n",
       "    }\n",
       "\n",
       "    .dataframe thead th {\n",
       "        text-align: right;\n",
       "    }\n",
       "</style>\n",
       "<table border=\"1\" class=\"dataframe\">\n",
       "  <thead>\n",
       "    <tr style=\"text-align: right;\">\n",
       "      <th></th>\n",
       "      <th>forpet_hash</th>\n",
       "      <th>num</th>\n",
       "      <th>review</th>\n",
       "      <th>score</th>\n",
       "      <th>match</th>\n",
       "    </tr>\n",
       "  </thead>\n",
       "  <tbody>\n",
       "  </tbody>\n",
       "</table>\n",
       "</div>"
      ],
      "text/plain": [
       "Empty DataFrame\n",
       "Columns: [forpet_hash, num, review, score, match]\n",
       "Index: []"
      ]
     },
     "execution_count": 233,
     "metadata": {},
     "output_type": "execute_result"
    }
   ],
   "source": [
    "match_review_table= pd.DataFrame(columns = ['forpet_hash', 'num', 'review', 'score', 'match'])\n",
    "match_review_table"
   ]
  },
  {
   "cell_type": "code",
   "execution_count": 254,
   "metadata": {
    "ExecuteTime": {
     "end_time": "2020-03-19T13:34:19.722582Z",
     "start_time": "2020-03-19T13:34:19.711582Z"
    }
   },
   "outputs": [],
   "source": [
    "def review_table_insert(review_table, forpet_hash, shop_name, review_list, score_list, match):\n",
    "    print(len(review_table))\n",
    "    if np.isnan(review_list):\n",
    "        review_table.loc[1+len(review_table)] = [forpet_hash, 1, np.nan, np.nan , match]\n",
    "    else:\n",
    "        for i, (review, score) in enumerate(zip(review_list, score_list)):\n",
    "            review_table.loc[i+1+len(review_table)] = [forpet_hash, i, review, score, match]   \n",
    "    \n",
    "    return review_table"
   ]
  },
  {
   "cell_type": "markdown",
   "metadata": {},
   "source": [
    "## 4. 실행"
   ]
  },
  {
   "cell_type": "code",
   "execution_count": 259,
   "metadata": {
    "ExecuteTime": {
     "end_time": "2020-03-19T13:40:05.058189Z",
     "start_time": "2020-03-19T13:40:05.052161Z"
    }
   },
   "outputs": [],
   "source": [
    "forpet_hashes = ['4b793eb834462b029e435eaeb49433efc61755c9e15a24',\n",
    "     'f5169c15a126e4059f0a89bb80fccd236693d5056d24ae',\n",
    "     'aa26d23f20a9b5642a6689f2a2761ca470703ebbd514eb',\n",
    "     '2806f173e3a783ed14d74c9a83da2f62c34f45d470e893',\n",
    "     'aa18fd6e2328f00ac2567b7a37a4db308ceee03a01924c']\n",
    "\n",
    "address_names = ['서울 종로구 평창동 530-8',\n",
    "              '서울 종로구 창신동 468-1',\n",
    "              '서울 종로구 창신동 436-64',\n",
    "              '서울 종로구 홍지동 103-24',\n",
    "              '서울 종로구 필운동 137-5']\n",
    "\n",
    "place_names  = ['쿠나이앤티',\n",
    "               '애견용품할인매장',\n",
    "               '펫클럽 청계점',\n",
    "               '나니스펫푸드',\n",
    "               '서촌양품']"
   ]
  },
  {
   "cell_type": "code",
   "execution_count": 260,
   "metadata": {
    "ExecuteTime": {
     "end_time": "2020-03-19T13:40:05.817291Z",
     "start_time": "2020-03-19T13:40:05.811295Z"
    }
   },
   "outputs": [
    {
     "name": "stdout",
     "output_type": "stream",
     "text": [
      "['종로구', '창신동', '468-1'] 애견용품할인매장\n"
     ]
    }
   ],
   "source": [
    "num = 1\n",
    "forpet_hash = forpet_hashes[num]\n",
    "shop_address = address_names[num].split(' ')[1:]\n",
    "shop_name = place_names[num]\n",
    "print(shop_address, shop_name)"
   ]
  },
  {
   "cell_type": "code",
   "execution_count": 261,
   "metadata": {
    "ExecuteTime": {
     "end_time": "2020-03-19T13:40:22.561693Z",
     "start_time": "2020-03-19T13:40:06.500777Z"
    }
   },
   "outputs": [
    {
     "name": "stdout",
     "output_type": "stream",
     "text": [
      "애견용품할인매장 ['종로구', '창신동', '468-1']\n",
      "애견용품할인매장 종로구\n",
      "창신동 315-1번지 1층 종로구 서울특별시 KR\n",
      "창신동 436-64번지\n",
      "금호동1가 513번지 성동구 서울특별시 KR\n",
      "{'1': 'not match', '2': 'not match'}\n",
      "shop이 2개입니다\n",
      "shop_index 1\n",
      "창신동 315-1번지 1층 종로구 서울특별시 KR\n",
      "total_score nan\n",
      "창신동 315-1번지 1층 종로구 서울특별시 KR nan nan nan not match\n",
      "6\n",
      "4\n",
      "shop_index 3\n",
      "서울특별시 종로구 창신동 436-64번지\n",
      "total_score nan\n",
      "서울특별시 종로구 창신동 436-64번지 nan nan nan not match\n",
      "7\n",
      "5\n",
      "match_total_table\n",
      "                                       forpet_hash shop_name  \\\n",
      "1  aa18fd6e2328f00ac2567b7a37a4db308ceee03a01924c  영등포 동물병원   \n",
      "\n",
      "           shop_address total_score  match  \n",
      "1  서울특별시 영등포구 당산동1가 348         3.8  match  \n",
      "not_match_total_table\n",
      "                                       forpet_hash shop_name  \\\n",
      "1  4b793eb834462b029e435eaeb49433efc61755c9e15a24     쿠나이앤티   \n",
      "2  4b793eb834462b029e435eaeb49433efc61755c9e15a24     쿠나이앤티   \n",
      "3  4b793eb834462b029e435eaeb49433efc61755c9e15a24     쿠나이앤티   \n",
      "4  4b793eb834462b029e435eaeb49433efc61755c9e15a24     쿠나이앤티   \n",
      "5  f5169c15a126e4059f0a89bb80fccd236693d5056d24ae  애견용품할인매장   \n",
      "6  f5169c15a126e4059f0a89bb80fccd236693d5056d24ae  애견용품할인매장   \n",
      "7  f5169c15a126e4059f0a89bb80fccd236693d5056d24ae  애견용품할인매장   \n",
      "8  f5169c15a126e4059f0a89bb80fccd236693d5056d24ae  애견용품할인매장   \n",
      "\n",
      "                  shop_address total_score      match  \n",
      "1                서울특별시 종로구 평창동         NaN  not match  \n",
      "2                서울특별시 종로구 평창동         NaN  not match  \n",
      "3                서울특별시 종로구 평창동         NaN  not match  \n",
      "4                서울특별시 종로구 평창동         NaN  not match  \n",
      "5  창신동 315-1번지 1층 종로구 서울특별시 KR         NaN  not match  \n",
      "6       서울특별시 종로구 창신동 436-64번지         NaN  not match  \n",
      "7  창신동 315-1번지 1층 종로구 서울특별시 KR         NaN  not match  \n",
      "8       서울특별시 종로구 창신동 436-64번지         NaN  not match  \n",
      "match_review_table\n",
      "                                       forpet_hash num  \\\n",
      "1  aa18fd6e2328f00ac2567b7a37a4db308ceee03a01924c   0   \n",
      "3  aa18fd6e2328f00ac2567b7a37a4db308ceee03a01924c   1   \n",
      "5  aa18fd6e2328f00ac2567b7a37a4db308ceee03a01924c   2   \n",
      "7  aa18fd6e2328f00ac2567b7a37a4db308ceee03a01924c   3   \n",
      "9  aa18fd6e2328f00ac2567b7a37a4db308ceee03a01924c   4   \n",
      "\n",
      "                                              review    score  match  \n",
      "1  햄스터때문에 방문했는데요 전화로 문의드렸을 땐 당연히 해보셨다는 듯 할 수 있다고 ...   별표 1개   match  \n",
      "3      병원이 깔끔하고 직원분들 친절함, 남자 원장님 강아지 케어 좋으심 개인적으로 만족   별표 5개   match  \n",
      "5                      의사 선생님, 간호사 분들 모두 친절하시고 좋아요 😄   별표 5개   match  \n",
      "7                                                      별표 4개   match  \n",
      "9                                                      별표 4개   match  \n",
      "not_match_review_table\n",
      "                                       forpet_hash num review score      match\n",
      "1  4b793eb834462b029e435eaeb49433efc61755c9e15a24   1    NaN   NaN  not match\n",
      "2  4b793eb834462b029e435eaeb49433efc61755c9e15a24   1    NaN   NaN  not match\n",
      "3  f5169c15a126e4059f0a89bb80fccd236693d5056d24ae   1    NaN   NaN  not match\n",
      "4  f5169c15a126e4059f0a89bb80fccd236693d5056d24ae   1    NaN   NaN  not match\n",
      "5  f5169c15a126e4059f0a89bb80fccd236693d5056d24ae   1    NaN   NaN  not match\n",
      "6  f5169c15a126e4059f0a89bb80fccd236693d5056d24ae   1    NaN   NaN  not match\n"
     ]
    }
   ],
   "source": [
    "SCROLL_PAUSE_TIME = 2\n",
    "\n",
    "srart_crwarling(forpet_hash,shop_name,shop_address)\n",
    "\n",
    "print('match_total_table\\n',match_total_table)\n",
    "print('not_match_total_table\\n',not_match_total_table)\n",
    "print('match_review_table\\n',match_review_table)\n",
    "print('not_match_review_table\\n',not_match_review_table)"
   ]
  },
  {
   "cell_type": "code",
   "execution_count": 215,
   "metadata": {
    "ExecuteTime": {
     "end_time": "2020-03-19T13:22:22.248741Z",
     "start_time": "2020-03-19T13:22:22.244310Z"
    }
   },
   "outputs": [],
   "source": [
    "shop_address = ['영등포구', '당산동1가', '348']\n",
    "shop_name = '영등포 동물병원'"
   ]
  },
  {
   "cell_type": "code",
   "execution_count": null,
   "metadata": {},
   "outputs": [],
   "source": []
  },
  {
   "cell_type": "markdown",
   "metadata": {
    "ExecuteTime": {
     "end_time": "2020-03-10T06:44:50.511713Z",
     "start_time": "2020-03-10T06:44:50.504705Z"
    }
   },
   "source": [
    "> x-path 조절하기\n",
    "- http://blog.naver.com/PostView.nhn?blogId=kiddwannabe&logNo=221323738780&categoryNo=35&parentCategoryNo=0&viewDate=&currentPage=1&postListTopCurrentPage=1&from=postView\n",
    "\n",
    "> 스크롤 조절\n",
    "https://m.blog.naver.com/kiddwannabe/221310063239"
   ]
  },
  {
   "cell_type": "code",
   "execution_count": null,
   "metadata": {},
   "outputs": [],
   "source": []
  }
 ],
 "metadata": {
  "kernelspec": {
   "display_name": "Python 3",
   "language": "python",
   "name": "python3"
  },
  "language_info": {
   "codemirror_mode": {
    "name": "ipython",
    "version": 3
   },
   "file_extension": ".py",
   "mimetype": "text/x-python",
   "name": "python",
   "nbconvert_exporter": "python",
   "pygments_lexer": "ipython3",
   "version": "3.7.6"
  },
  "toc": {
   "base_numbering": 1,
   "nav_menu": {},
   "number_sections": false,
   "sideBar": true,
   "skip_h1_title": false,
   "title_cell": "Table of Contents",
   "title_sidebar": "Contents",
   "toc_cell": false,
   "toc_position": {
    "height": "calc(100% - 180px)",
    "left": "10px",
    "top": "150px",
    "width": "136.422px"
   },
   "toc_section_display": true,
   "toc_window_display": true
  }
 },
 "nbformat": 4,
 "nbformat_minor": 4
}
